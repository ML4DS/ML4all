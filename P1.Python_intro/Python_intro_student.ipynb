{
 "cells": [
  {
   "cell_type": "markdown",
   "metadata": {},
   "source": [
    "# A brief tutorial of basic python\n",
    "\n",
    "    Author: Jesús Fernández Bes\n",
    "            Jerónimo Arenas García (jeronimo.arenas@uc3m.es)\n",
    "            Jesús Cid Sueiro (jcid@tsc.uc3m.es)\n",
    "\n",
    "    Notebook version: 1.1 (Sep 20, 2017)\n",
    "\n",
    "    Changes: v.1.0 - First version.\n",
    "             v.1.1 - Compatibility with python 2 and python 3\n",
    "\n",
    "    Pending changes: test_helper does not work in python 3."
   ]
  },
  {
   "cell_type": "markdown",
   "metadata": {},
   "source": [
    "From the wikipedia: \"Python is a widely used general-purpose, high-level programming language. Its design philosophy emphasizes code readability, and its syntax allows programmers to express concepts in fewer lines of code than would be possible in languages such as C++ or Java. The language provides constructs intended to enable clear programs on both a small and large scale.\"\n",
    "\n",
    "Through this tutorial, students will learn some basic characteristics of the Python programming language, that will be useful for working with corpuses of text data."
   ]
  },
  {
   "cell_type": "markdown",
   "metadata": {},
   "source": [
    "## 1. Introduction to Strings"
   ]
  },
  {
   "cell_type": "markdown",
   "metadata": {},
   "source": [
    "Among the different native python types, we will focus on strings, since they will be the core type that we will recur to represent text. Essentially, a string is just a concatenation of characters."
   ]
  },
  {
   "cell_type": "code",
   "execution_count": null,
   "metadata": {
    "collapsed": true
   },
   "outputs": [],
   "source": [
    "str1 = '\"Hola\" is how we say \"hello\" in Spanish.'\n",
    "str2 = \"Strings can also be defined with quotes; try to be sistematic.\""
   ]
  },
  {
   "cell_type": "markdown",
   "metadata": {},
   "source": [
    "It is easy to check the type of a variable with the type() command:"
   ]
  },
  {
   "cell_type": "code",
   "execution_count": null,
   "metadata": {
    "collapsed": true
   },
   "outputs": [],
   "source": [
    "print(str1)\n",
    "print(type(str1))\n",
    "print(type(3))\n",
    "print(type(3.))"
   ]
  },
  {
   "cell_type": "markdown",
   "metadata": {},
   "source": [
    "The following commands implement some common operations with strings in Python. Have a look at them, and try to deduce what the result of each operation will be. Then, execute the commands and check what are the actual results."
   ]
  },
  {
   "cell_type": "code",
   "execution_count": null,
   "metadata": {
    "collapsed": true
   },
   "outputs": [],
   "source": [
    "print(str1[0:5])"
   ]
  },
  {
   "cell_type": "code",
   "execution_count": null,
   "metadata": {
    "collapsed": true
   },
   "outputs": [],
   "source": [
    "print(str1+str2)"
   ]
  },
  {
   "cell_type": "code",
   "execution_count": null,
   "metadata": {
    "collapsed": true
   },
   "outputs": [],
   "source": [
    "print(str1.lower())"
   ]
  },
  {
   "cell_type": "code",
   "execution_count": null,
   "metadata": {
    "collapsed": true
   },
   "outputs": [],
   "source": [
    "print(str1.upper())"
   ]
  },
  {
   "cell_type": "code",
   "execution_count": null,
   "metadata": {
    "collapsed": true
   },
   "outputs": [],
   "source": [
    "print(len(str1))"
   ]
  },
  {
   "cell_type": "code",
   "execution_count": null,
   "metadata": {
    "collapsed": true,
    "scrolled": true
   },
   "outputs": [],
   "source": [
    "print(str1.replace('h','H'))"
   ]
  },
  {
   "cell_type": "code",
   "execution_count": null,
   "metadata": {
    "collapsed": true
   },
   "outputs": [],
   "source": [
    "str3 = 'This is a question'\n",
    "str3 = str3.replace('i','o')\n",
    "str3 = str3.lower()\n",
    "print(str3[0:3])"
   ]
  },
  {
   "cell_type": "markdown",
   "metadata": {},
   "source": [
    "It is interesting to notice the difference in the use of commands 'lower' and 'len'. Python is an object-oriented language, and str1 is an instance of the Python class 'string'. Then, str1.lower() invokes the method lower() of the class string to which object str1 belongs, while len(str1) or type(str1) imply the use of external methods, not belonging to the class string. In any case, we will not pay (much) attention to these issues during the session."
   ]
  },
  {
   "cell_type": "markdown",
   "metadata": {},
   "source": [
    "Finally, we remark that there exist special characters that require special consideration. Apart from language-oriented characters or special symbols (e.g., \\euro), the following characters are commonly used to denote carriage return and the start of new lines"
   ]
  },
  {
   "cell_type": "code",
   "execution_count": null,
   "metadata": {
    "collapsed": true
   },
   "outputs": [],
   "source": [
    "print('This is just a carriage return symbol.\\r Second line will start on top of the first line.')"
   ]
  },
  {
   "cell_type": "code",
   "execution_count": null,
   "metadata": {
    "collapsed": true
   },
   "outputs": [],
   "source": [
    "print('If you wish to start a new line,\\r\\nthe line feed character should also be used.')"
   ]
  },
  {
   "cell_type": "code",
   "execution_count": null,
   "metadata": {
    "collapsed": true
   },
   "outputs": [],
   "source": [
    "print('But note that most environments are tolerant\\nto the use of \\'line feed\\' only.')"
   ]
  },
  {
   "cell_type": "markdown",
   "metadata": {},
   "source": [
    "## 2. Working with Python lists"
   ]
  },
  {
   "cell_type": "markdown",
   "metadata": {
    "collapsed": true
   },
   "source": [
    "Python lists are containers that hold a number of other objects, in a given order. To create a list, just put different comma-separated values between square brackets"
   ]
  },
  {
   "cell_type": "code",
   "execution_count": null,
   "metadata": {
    "collapsed": true
   },
   "outputs": [],
   "source": [
    "list1 = ['student', 'teacher', 1997, 2000]\n",
    "print(list1)\n",
    "list2 = [1, 2, 3, 4, 5 ]\n",
    "print(list2)\n",
    "list3 = [\"a\", \"b\", \"c\", \"d\"]\n",
    "print(list3)"
   ]
  },
  {
   "cell_type": "markdown",
   "metadata": {
    "collapsed": true
   },
   "source": [
    "To check the value of a list element, indicate between brackets the index (or indices) to obtain the value (or values) at that position (positions).\n",
    "\n",
    "Run the code fragment below, and try to guess what the output of each command will be.\n",
    "\n",
    "Note: Python indexing starts from 0!!!!"
   ]
  },
  {
   "cell_type": "code",
   "execution_count": null,
   "metadata": {
    "collapsed": true
   },
   "outputs": [],
   "source": [
    "print(list1[0])\n",
    "print(list2[2:4])\n",
    "print(list3[-1])"
   ]
  },
  {
   "cell_type": "markdown",
   "metadata": {
    "collapsed": true
   },
   "source": [
    "To add elements in a list you can use the method append() and to remove them the method remove()"
   ]
  },
  {
   "cell_type": "code",
   "execution_count": null,
   "metadata": {
    "collapsed": true
   },
   "outputs": [],
   "source": [
    "list1 = ['student', 'teacher', 1997, 2000]\n",
    "list1.append(3)\n",
    "print(list1)\n",
    "list1.remove('teacher')\n",
    "print(list1)"
   ]
  },
  {
   "cell_type": "markdown",
   "metadata": {
    "collapsed": true
   },
   "source": [
    "Other useful functions are:\n",
    "   \n",
    "    len(list): Gives the number of elements in a list.    \n",
    "    max(list): Returns item from the list with max value.  \n",
    "    min(list): Returns item from the list with min value."
   ]
  },
  {
   "cell_type": "code",
   "execution_count": null,
   "metadata": {
    "collapsed": true
   },
   "outputs": [],
   "source": [
    "list2 = [1, 2, 3, 4, 5 ]\n",
    "print(len(list2))\n",
    "print(max(list2))\n",
    "print(min(list2))"
   ]
  },
  {
   "cell_type": "markdown",
   "metadata": {},
   "source": [
    "## 3. Flow control (with 'for' and 'if')"
   ]
  },
  {
   "cell_type": "markdown",
   "metadata": {
    "collapsed": true
   },
   "source": [
    "As in other programming languages, python offers mechanisms to loop through a piece of code several times, or for conditionally executing a code fragment when certain conditions are satisfied. \n",
    "\n",
    "For conditional execution, you can we use the _if_, _elif_ and _else_ statements.\n",
    "\n",
    "Try to play with the following example:"
   ]
  },
  {
   "cell_type": "code",
   "execution_count": null,
   "metadata": {
    "collapsed": true
   },
   "outputs": [],
   "source": [
    "x = int(input(\"Please enter an integer: \"))\n",
    "if x < 0:\n",
    "    x = 0\n",
    "    print('Negative changed to zero')\n",
    "elif x == 0:\n",
    "    print('Zero')\n",
    "elif x == 1:\n",
    "    print('Single')\n",
    "else:\n",
    "    print('More')"
   ]
  },
  {
   "cell_type": "markdown",
   "metadata": {},
   "source": [
    "### Indentation\n",
    "The above fragment, allows us also to discuss some important characteristics of the Python language syntaxis:\n",
    "\n",
    "* Unlike other languages, Python does not require to use the 'end' keyword to indicate that a given code fragment finishes. Instead, Python recurs to **indentation**.\n",
    "\n",
    "* Indentation in Python is mandatory. A block is composed by statatements indented at same level and if it constains a nested block it is simply indented further to the right.\n",
    "* As a convention each indentation consists of 4 spaces (for each level of indentation).\n",
    "\n",
    "* The condition lines and loops end with ':', which are then followed by the indented blocks\n",
    "   \n",
    "\n",
    "\n",
    "The statement _for_ lets you iterate over the items of any sequence (a list or a string), in the order that they appear in the sequence"
   ]
  },
  {
   "cell_type": "code",
   "execution_count": null,
   "metadata": {
    "collapsed": true
   },
   "outputs": [],
   "source": [
    "words = ['cat', 'window', 'open-course']\n",
    "for w in words:\n",
    "     print(w, len(w))"
   ]
  },
  {
   "cell_type": "markdown",
   "metadata": {},
   "source": [
    "In combination with enumerate(), you can iterate over the elementes of the sequence and have a counter over them"
   ]
  },
  {
   "cell_type": "code",
   "execution_count": null,
   "metadata": {
    "collapsed": true
   },
   "outputs": [],
   "source": [
    "words = ['cat', 'window', 'open-course']\n",
    "for (i, w) in enumerate(words):\n",
    "     print('element', str(i), 'is', w)"
   ]
  },
  {
   "cell_type": "markdown",
   "metadata": {},
   "source": [
    "Note that the _print_ command can be called with several parameters, that are then printed with separating spaces."
   ]
  },
  {
   "cell_type": "markdown",
   "metadata": {},
   "source": [
    "## 4. Variables and assignments"
   ]
  },
  {
   "cell_type": "markdown",
   "metadata": {},
   "source": [
    "In python the equal \"=\" sign in the assignment shouldn't be seen as \"is equal to\". It should be \"read\" or interpreted as \"is set to\". Let's see an example:"
   ]
  },
  {
   "cell_type": "code",
   "execution_count": null,
   "metadata": {
    "collapsed": true
   },
   "outputs": [],
   "source": [
    "x = 42\n",
    "y = x\n",
    "y = 50\n",
    "print(x) \n",
    "print(y)"
   ]
  },
  {
   "cell_type": "markdown",
   "metadata": {},
   "source": [
    "The first two lines do not seem problematic. But when y is set to 50, what will it happen to the value of x C programmers will assume that x will be changed to 50 as well, because we said before that y \"points\" to the location of x. But this is not a C-pointer. Because x and y will not share the same value anymore, y gets his or her own memory location, containing 50 and x sticks to 42.\n",
    "\n",
    "If you are not a C programmer, the observable results of the assignments answer our expectations. But it can be problematic, if we copy mutable objects like lists and dictionaries.\n",
    "\n",
    "Python creates real copies only if it has to, i.e. if the user, the programmer, **explicitly demands it**. \n",
    "\n",
    "Let's see a couple of examples:"
   ]
  },
  {
   "cell_type": "code",
   "execution_count": null,
   "metadata": {
    "collapsed": true
   },
   "outputs": [],
   "source": [
    "colors1 = [\"red\", \"green\"]\n",
    "colors2 = colors1\n",
    "colors2 = [\"rouge\", \"vert\"]\n",
    "print(colors1)"
   ]
  },
  {
   "cell_type": "markdown",
   "metadata": {},
   "source": [
    "Ok. This is what we expected, _colors1_ is keeping its own values. \n",
    "Let's change one element of _colors2_ now:"
   ]
  },
  {
   "cell_type": "code",
   "execution_count": null,
   "metadata": {
    "collapsed": true
   },
   "outputs": [],
   "source": [
    "colors1 = [\"red\", \"green\"]\n",
    "colors2 = colors1\n",
    "colors2[1] = \"blue\"\n",
    "print(colors1)"
   ]
  },
  {
   "cell_type": "markdown",
   "metadata": {},
   "source": [
    "Ouch! That wasn't expected.\n",
    "\n",
    "The explanation is that there has been no new assignment to _colors2_, _colors2_ still points to _colors1_. Only one of its elements, and consequently an element of _colors1_ has been changed. \n",
    "\n",
    "\n",
    "It's possible to completely copy shallow list structures with the slice operator without having any of the side effects, which we have described above. But that will be a problem when having nested lists. In that case you should use import the module _copy_.\n"
   ]
  },
  {
   "cell_type": "code",
   "execution_count": null,
   "metadata": {
    "collapsed": true
   },
   "outputs": [],
   "source": [
    "list1 = ['a','b','c','d']\n",
    "list2 = list1[:]\n",
    "list2[1] = 'x'\n",
    "print(list2)\n",
    "print(list1)\n",
    "['a', 'b', 'c', 'd']\n",
    "list3 = ['a','b',['ab','ba']]\n",
    "list4 = list3[:]\n",
    "list4[0] = 'c'\n",
    "list4[2][1] = 'd'\n",
    "print(list3)"
   ]
  },
  {
   "cell_type": "markdown",
   "metadata": {},
   "source": [
    "Conclusion: Be very careful with list or dictionaries copying."
   ]
  },
  {
   "cell_type": "markdown",
   "metadata": {},
   "source": [
    "## 5. Functions, arguments and scopes\n",
    "In python a function is defined using the keyword _def_. As usual, they can take aguments and return results. Let's see an example:"
   ]
  },
  {
   "cell_type": "code",
   "execution_count": null,
   "metadata": {
    "collapsed": true
   },
   "outputs": [],
   "source": [
    "def my_sqrt(number):\n",
    "    \"\"\"Computes the square root of a number.\"\"\"\n",
    "    return number ** (0.5) #  In python ** is exponentiation (^ in other languages) \n",
    "\n",
    "x = my_sqrt(2)\n",
    "print(x)"
   ]
  },
  {
   "cell_type": "markdown",
   "metadata": {},
   "source": [
    "As we said, you must define a function using _def_, then the name of the function and in brackets ( ) the list of arguments of the function. The function will not return anything unless you specify it with a _return_ statement. \n",
    "The expresion under the name of the function in triple quotes is a _Documentation string_ or _DOCSTRING_ and, as expected, it is used to document your code. For example, it is printed if you type the help command:"
   ]
  },
  {
   "cell_type": "code",
   "execution_count": null,
   "metadata": {
    "collapsed": true
   },
   "outputs": [],
   "source": [
    "help(my_sqrt)"
   ]
  },
  {
   "cell_type": "markdown",
   "metadata": {},
   "source": [
    "Another interesting feature of python is that you can give default values to arguments in a function. For example, in the following code, when the second argument is undefined its value is 2."
   ]
  },
  {
   "cell_type": "code",
   "execution_count": null,
   "metadata": {
    "collapsed": true
   },
   "outputs": [],
   "source": [
    "def nth_root(base, exp=2):\n",
    "    \"\"\"Computes the nth root of a number.\"\"\"\n",
    "    return base ** (1.0/exp) #  In python ** is exponentiation (^ in other languages) \n",
    "\n",
    "print(nth_root(10000))\n",
    "print(nth_root(10000,4))"
   ]
  },
  {
   "cell_type": "markdown",
   "metadata": {},
   "source": [
    "One tricky feature in python is how it evaluates the arguments that you pass to a function call. The most common evaluation strategies when passing arguments to a function have been _call-by-value_ and _call-by-reference_. Python uses a mixture of these two, which is known as \"Call-by-Object\", sometimes also called \"Call by Object Reference\" or \"Call by Sharing\". Let's see it with an example:"
   ]
  },
  {
   "cell_type": "code",
   "execution_count": null,
   "metadata": {
    "collapsed": true
   },
   "outputs": [],
   "source": [
    "def add_square_to_list(x, my_list, dummy_list):\n",
    "    x = x ** 2\n",
    "    my_list.append(x)\n",
    "    dummy_list = [\"I\", \"am\", \"not\", \"a\" , \"dummy\", \"list\"]\n",
    "    \n",
    "x = 5\n",
    "my_list =[4, 9, 16]\n",
    "dummy_list = [\"I\", \"am\", \"a\" , \"dummy\", \"list\"]\n",
    "\n",
    "add_square_to_list(x, my_list, dummy_list)\n",
    "print(x)\n",
    "print(my_list)\n",
    "print(dummy_list)"
   ]
  },
  {
   "cell_type": "markdown",
   "metadata": {},
   "source": [
    "If you pass **immutable** arguments like integers, strings or tuples to a function, the passing acts like call-by-value. The object reference is passed to the function parameters. They can't be changed within the function, because they can't be changed at all, i.e. they are immutable. \n",
    "\n",
    "It's different, if we pass **mutable** arguments. They are also passed by object reference, but they can be changed in place in the function. If we pass a list to a function, we have to consider two cases: Elements of a list can be changed in place, i.e. the list will be changed even in the caller's scope. If a new list is assigned to the name, the old list will not be affected, i.e. the list in the caller's scope will remain untouched.\n",
    "\n",
    "So, be careful when modifing lists inside functions, and its side effects."
   ]
  },
  {
   "cell_type": "markdown",
   "metadata": {},
   "source": [
    "## 6. File input and output operations"
   ]
  },
  {
   "cell_type": "markdown",
   "metadata": {},
   "source": [
    "First of all, you need to open a file with the open() function (if it does not exist, it creates it). "
   ]
  },
  {
   "cell_type": "code",
   "execution_count": null,
   "metadata": {
    "collapsed": true
   },
   "outputs": [],
   "source": [
    "f = open('workfile', 'w')"
   ]
  },
  {
   "cell_type": "markdown",
   "metadata": {},
   "source": [
    "The first argument is a string containing the filename. The second argument defines the mode in which the file will be used:\n",
    "\n",
    "    'r' : only to be read,\n",
    "    'w' : for only writing (an existing file with the same name would be erased),\n",
    "    'a' : the file is opened for appending; any data written to the file is automatically appended to the end. \n",
    "    'r+': opens the file for both reading and writing. \n",
    "\n",
    "If the mode argument is not included, 'r' will be assumed."
   ]
  },
  {
   "cell_type": "markdown",
   "metadata": {},
   "source": [
    "Use f.write(string) to write  the contents of a string to the file.  When you are done, do not forget to close the file:"
   ]
  },
  {
   "cell_type": "code",
   "execution_count": null,
   "metadata": {
    "collapsed": true
   },
   "outputs": [],
   "source": [
    "f.write('This is a test\\nwith 2 lines')\n",
    "f.close()"
   ]
  },
  {
   "cell_type": "markdown",
   "metadata": {},
   "source": [
    "To read the content of a file, use the function f.read():"
   ]
  },
  {
   "cell_type": "code",
   "execution_count": null,
   "metadata": {
    "collapsed": true
   },
   "outputs": [],
   "source": [
    "f2 = open('workfile', 'r')\n",
    "text=f2.read()\n",
    "f2.close()\n",
    "print(text)"
   ]
  },
  {
   "cell_type": "markdown",
   "metadata": {},
   "source": [
    "You can also read line by line from the file identifier"
   ]
  },
  {
   "cell_type": "code",
   "execution_count": null,
   "metadata": {
    "collapsed": true
   },
   "outputs": [],
   "source": [
    "f2 = open('workfile', 'r')\n",
    "for line in f2:\n",
    "    print(line)\n",
    "\n",
    "f2.close()"
   ]
  },
  {
   "cell_type": "markdown",
   "metadata": {},
   "source": [
    "Finally, it is also quite common in python to use a different syntax for working with files that does not require explicitly closing the file. The file is automatically closed when the indented block is completed."
   ]
  },
  {
   "cell_type": "code",
   "execution_count": null,
   "metadata": {
    "collapsed": true
   },
   "outputs": [],
   "source": [
    "with open('workfile','r') as f2:\n",
    "    print(f2.read())"
   ]
  },
  {
   "cell_type": "markdown",
   "metadata": {},
   "source": [
    "## 7. Modules import"
   ]
  },
  {
   "cell_type": "markdown",
   "metadata": {},
   "source": [
    "Python lets you define modules which are files consisting of Python code. A module can define functions, classes and variables.\n",
    "\n",
    "Most Python distributions already include the most popular modules with predefined libraries which make our programmer lifes easier. Some well-known libraries are: time, sys, os, numpy, ...\n",
    "    \n",
    "There are several ways to import a library:"
   ]
  },
  {
   "cell_type": "markdown",
   "metadata": {},
   "source": [
    "1) Import all the contents of the library: import lib_name\n",
    "\n",
    "Note: You have to call these methods as part of the library"
   ]
  },
  {
   "cell_type": "code",
   "execution_count": null,
   "metadata": {
    "collapsed": true
   },
   "outputs": [],
   "source": [
    "import time\n",
    "print(time.time())  # returns the current processor time in seconds\n",
    "time.sleep(2) # suspends execution for the given number of seconds\n",
    "print(time.time()) # returns the current processor time in seconds again!!!"
   ]
  },
  {
   "cell_type": "markdown",
   "metadata": {},
   "source": [
    "2) Define a short name to use the library: import lib_name as lib\n"
   ]
  },
  {
   "cell_type": "code",
   "execution_count": null,
   "metadata": {
    "collapsed": true
   },
   "outputs": [],
   "source": [
    "import time as t\n",
    "print(t.time())"
   ]
  },
  {
   "cell_type": "markdown",
   "metadata": {},
   "source": [
    "3) Import only some elements of the library \n",
    "\n",
    "Note: now you have to use the methods directly"
   ]
  },
  {
   "cell_type": "code",
   "execution_count": null,
   "metadata": {
    "collapsed": true
   },
   "outputs": [],
   "source": [
    "from time import time, sleep\n",
    "print(time()) "
   ]
  },
  {
   "cell_type": "markdown",
   "metadata": {},
   "source": [
    "## 8. Exercise\n",
    "Program a function _primes_ that returns a list containing the _N_ first prime numbers. Then call that function with the value _1000_ and save this list in a _.txt_ file with one number per line. "
   ]
  },
  {
   "cell_type": "code",
   "execution_count": null,
   "metadata": {
    "collapsed": true
   },
   "outputs": [],
   "source": [
    "def primes(N):\n",
    "    \"\"\"This function returns a list with all prime\n",
    "    numbers smaller than the input parameter N\"\"\"\n",
    "    \n",
    "    pnumbers = []\n",
    "    \n",
    "    #<SOL>\n",
    "    #</SOL>\n",
    "        \n",
    "    return pnumbers"
   ]
  },
  {
   "cell_type": "code",
   "execution_count": null,
   "metadata": {
    "collapsed": true
   },
   "outputs": [],
   "source": [
    "pnumbers = primes(100)\n",
    "print(pnumbers)\n",
    "f = open('primes.txt', 'w')\n",
    "for number in pnumbers:\n",
    "    f.write(str(number)+\"\\n\")    \n",
    "f.close()"
   ]
  }
 ],
 "metadata": {
  "anaconda-cloud": {},
  "kernelspec": {
   "display_name": "Python 3",
   "language": "python",
   "name": "python3"
  },
  "language_info": {
   "codemirror_mode": {
    "name": "ipython",
    "version": 3
   },
   "file_extension": ".py",
   "mimetype": "text/x-python",
   "name": "python",
   "nbconvert_exporter": "python",
   "pygments_lexer": "ipython3",
   "version": "3.7.0"
  }
 },
 "nbformat": 4,
 "nbformat_minor": 1
}
