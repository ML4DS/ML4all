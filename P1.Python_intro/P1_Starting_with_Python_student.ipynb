{
  "nbformat": 4,
  "nbformat_minor": 0,
  "metadata": {
    "colab": {
      "name": "P1_Starting_with_python_professor.ipynb",
      "version": "0.3.2",
      "provenance": [],
      "collapsed_sections": []
    },
    "kernelspec": {
      "display_name": "Python 3",
      "language": "python",
      "name": "python3"
    },
    "language_info": {
      "codemirror_mode": {
        "name": "ipython",
        "version": 3
      },
      "file_extension": ".py",
      "mimetype": "text/x-python",
      "name": "python",
      "nbconvert_exporter": "python",
      "pygments_lexer": "ipython3",
      "version": "3.7.2"
    }
  },
  "cells": [
    {
      "cell_type": "markdown",
      "metadata": {
        "colab_type": "text",
        "id": "m6ZCShOpJpWT"
      },
      "source": [
        "# A Brief Tutorial of Basic Python\n",
        "\n",
        "    Author: Jesús Fernández Bes\n",
        "            Jerónimo Arenas García (jeronimo.arenas@uc3m.es)\n",
        "            Jesús Cid Sueiro (jcid@tsc.uc3m.es)\n",
        "            Vanessa Gómez Verdejo (vanessa@tsc.uc3m.es)\n",
        "            Óscar García Hinde (oghinnde@tsc.uc3m.es)\n",
        "            Simón Roca Sotelo (sroca@tsc.uc3m.es)\n",
        "\n",
        "    Notebook version: 1.1 (Sep 20, 2017)\n",
        "\n",
        "    Changes: v.1.0 - First version.\n",
        "             v.1.1 - Compatibility with python 2 and python 3\n",
        "             v.2.0 - (Sep 3, 2018) - Adapted to TMDE\n",
        "             v.2.1 - (Sep 2, 2019) - Dictionaries added\n",
        "             v.2.2 - (Sep 6, 2019) - Exercises"
      ]
    },
    {
      "cell_type": "markdown",
      "metadata": {
        "colab_type": "text",
        "id": "_U4XTaBiJpWW"
      },
      "source": [
        "From Wikipedia: \"Python is a widely used general-purpose, high-level programming language. Its design philosophy emphasizes code readability, and its syntax allows programmers to express concepts in fewer lines of code than would be possible in languages such as C++ or Java. The language provides constructs intended to enable clear programs on both a small and large scale.\"\n",
        "\n",
        "To easily work with Python from any computer you can use [Google Colaboratory tool](https://colab.research.google.com/notebooks/welcome.ipynb), which provides a free envoriment to run Python Jupyter notebooks.  \n",
        "\n",
        "Throughout this tutorial, students will learn some basic characteristics of the Python programming language, as well as the main characteristics of the Python notebooks."
      ]
    },
    {
      "cell_type": "markdown",
      "metadata": {
        "colab_type": "text",
        "id": "bwEJEbp8MBZn"
      },
      "source": [
        "# A Python Jupyter Notebook \n",
        "\n",
        "A python noteboook is an interactive web page made up of cells where each cell can contain text (like this one) or executable code. For instance, the next cell contains excutable code:"
      ]
    },
    {
      "cell_type": "code",
      "metadata": {
        "colab_type": "code",
        "id": "gmjVmN16OCuD",
        "colab": {}
      },
      "source": [
        "a = 'house'\n",
        "print(a)"
      ],
      "execution_count": 0,
      "outputs": []
    },
    {
      "cell_type": "markdown",
      "metadata": {
        "colab_type": "text",
        "id": "MH70i6FHOGZp"
      },
      "source": [
        "To run this code and check its output, you firstly have to be conected to a Python  runtime server (check the top right pannel) and then you can:\n",
        "* Select the cell to be run and click the Play button (on the left)\n",
        "* Select the cell to be run and type Cmd/Ctrl+Enter \n",
        "* Select the cell to be run and Type Shift+Enter to run the cell. In this case, you additionaly will be moved to the next cell.\n",
        "\n",
        "Besides, you can use the options of the Runtime (on the top menu) to run several cells at the same time or stop a execution."
      ]
    },
    {
      "cell_type": "markdown",
      "metadata": {
        "colab_type": "text",
        "id": "rcdx7N5bJpWY"
      },
      "source": [
        "# Introduction to Python\n",
        "\n",
        "## 1. Introduction to Strings"
      ]
    },
    {
      "cell_type": "markdown",
      "metadata": {
        "colab_type": "text",
        "id": "YFuxC8zVJpWb"
      },
      "source": [
        "Among the different native python types, we will focus on strings, since they will be the core type that we will recur to represent text. Essentially, a string is just a concatenation of characters."
      ]
    },
    {
      "cell_type": "code",
      "metadata": {
        "colab_type": "code",
        "id": "KANFMqSqJpWe",
        "colab": {}
      },
      "source": [
        "str1 = '\"Hola\" is how we say \"hello\" in Spanish.'\n",
        "str2 = \"Strings can also be defined with quotes; try to be sistematic and consistent.\""
      ],
      "execution_count": 0,
      "outputs": []
    },
    {
      "cell_type": "markdown",
      "metadata": {
        "colab_type": "text",
        "id": "5yarHqiMJpWm"
      },
      "source": [
        "It is easy to check the type of a variable with the type() command:"
      ]
    },
    {
      "cell_type": "code",
      "metadata": {
        "colab_type": "code",
        "id": "dRfBaiDCJpWn",
        "colab": {}
      },
      "source": [
        "print(str1)\n",
        "print(type(str1))\n",
        "print(type(3))\n",
        "print(type(3.))"
      ],
      "execution_count": 0,
      "outputs": []
    },
    {
      "cell_type": "markdown",
      "metadata": {
        "colab_type": "text",
        "id": "x-94okxWJpWu"
      },
      "source": [
        "The following commands implement some common operations with strings in Python. Take a look at them, and try to deduce what the result of each operation will be. Then, execute the commands and check what the actual results are."
      ]
    },
    {
      "cell_type": "code",
      "metadata": {
        "colab_type": "code",
        "id": "gna869bGJpWw",
        "colab": {}
      },
      "source": [
        "print(str1[0:5])"
      ],
      "execution_count": 0,
      "outputs": []
    },
    {
      "cell_type": "code",
      "metadata": {
        "colab_type": "code",
        "id": "kGjVP3QmJpW2",
        "colab": {}
      },
      "source": [
        "print(str1 + str2)"
      ],
      "execution_count": 0,
      "outputs": []
    },
    {
      "cell_type": "code",
      "metadata": {
        "colab_type": "code",
        "id": "pEv5Lj8hJpW8",
        "colab": {}
      },
      "source": [
        "print(str1.lower())"
      ],
      "execution_count": 0,
      "outputs": []
    },
    {
      "cell_type": "code",
      "metadata": {
        "colab_type": "code",
        "id": "-txasR63JpXC",
        "colab": {}
      },
      "source": [
        "print(str1.upper())"
      ],
      "execution_count": 0,
      "outputs": []
    },
    {
      "cell_type": "code",
      "metadata": {
        "colab_type": "code",
        "id": "iSTDsJ5FJpXJ",
        "colab": {}
      },
      "source": [
        "print(len(str1))"
      ],
      "execution_count": 0,
      "outputs": []
    },
    {
      "cell_type": "code",
      "metadata": {
        "colab_type": "code",
        "id": "CR5ve9tGJpXO",
        "colab": {}
      },
      "source": [
        "print(str1.replace('h','H'))"
      ],
      "execution_count": 0,
      "outputs": []
    },
    {
      "cell_type": "code",
      "metadata": {
        "colab_type": "code",
        "id": "EE4lK_ATJpXU",
        "colab": {}
      },
      "source": [
        "str3 = 'This is a question'\n",
        "str3 = str3.replace('i', 'o')\n",
        "str3 = str3.lower()\n",
        "print(str3[0:3])"
      ],
      "execution_count": 0,
      "outputs": []
    },
    {
      "cell_type": "markdown",
      "metadata": {
        "colab_type": "text",
        "id": "mxEQ1qsJJpXc"
      },
      "source": [
        "It is interesting to notice the difference in the use of commands 'lower' and 'len'. Python is an object-oriented language, and str1 is an instance of the Python class 'string'. Then, str1.lower() invokes the method lower() of the class string to which object str1 belongs, while len(str1) or type(str1) imply the use of external methods, not belonging to the class string. In any case, we will not pay (much) attention to these issues during the session."
      ]
    },
    {
      "cell_type": "markdown",
      "metadata": {
        "colab_type": "text",
        "id": "Fo0VZsxBJpXe"
      },
      "source": [
        "Finally, we remark that there exist special characters that require special consideration. Apart from language-oriented characters or special symbols (e.g., \\euro), the following characters are commonly used to denote carriage return and the start of new lines"
      ]
    },
    {
      "cell_type": "code",
      "metadata": {
        "colab_type": "code",
        "id": "6cm_3NYNJpXf",
        "colab": {}
      },
      "source": [
        "print('This is just a carriage return symbol.\\r Second line will start on top of the first line.')"
      ],
      "execution_count": 0,
      "outputs": []
    },
    {
      "cell_type": "code",
      "metadata": {
        "colab_type": "code",
        "id": "-909Wto_JpXk",
        "colab": {}
      },
      "source": [
        "print('If you wish to start a new line,\\r\\nthe line feed character should also be used.')"
      ],
      "execution_count": 0,
      "outputs": []
    },
    {
      "cell_type": "code",
      "metadata": {
        "colab_type": "code",
        "id": "dk_FvJt_JpXq",
        "colab": {}
      },
      "source": [
        "print('But note that most applications are tolerant\\nto the use of \\'line feed\\' only.')"
      ],
      "execution_count": 0,
      "outputs": []
    },
    {
      "cell_type": "markdown",
      "metadata": {
        "id": "i5VKChTGtAkM",
        "colab_type": "text"
      },
      "source": [
        "**Exercise 1**: *Define variables `str1` and `str2` containing strings \"The greatest glory in living lies not in never falling, \" and \"but in rising every time we fall\", respectively. Concatenate both strings to compose a sentence, transform it to capital letters and print the result.*"
      ]
    },
    {
      "cell_type": "code",
      "metadata": {
        "id": "Nw7oGHRMtAkO",
        "colab_type": "code",
        "colab": {}
      },
      "source": [
        "# Write your solution here\n",
        "# <SOL>\n",

        "# </SOL>"
      ],
      "execution_count": 0,
      "outputs": []
    },
    {
      "cell_type": "markdown",
      "metadata": {
        "colab_type": "text",
        "id": "GiGMYWtcJpXv"
      },
      "source": [
        "## 2. Working with Python lists and dictionaries"
      ]
    },
    {
      "cell_type": "markdown",
      "metadata": {
        "colab_type": "text",
        "id": "ZXaL2Q1EJpXw"
      },
      "source": [
        "### 2.1. Lists\n",
        "\n",
        "Python lists are iterable containers that hold a number of other objects, in a given order. To create a list, just put different comma-separated values between square brackets:"
      ]
    },
    {
      "cell_type": "code",
      "metadata": {
        "colab_type": "code",
        "id": "G0cjZ6YZJpXw",
        "colab": {}
      },
      "source": [
        "# A list of integers\n",
        "mylist0 = [1, 2, 3, 4, 5]\n",
        "print(mylist0)\n",
        "\n",
        "# A list of trings\n",
        "mylist1 = ['a', 'b', 'c', 'd']\n",
        "print(mylist1)\n",
        "\n",
        "# A list of strings, integers and float\n",
        "mylist2 = ['student', 'teacher', 1997, 2000, 8.9]\n",
        "print(mylist2)"
      ],
      "execution_count": 0,
      "outputs": []
    },
    {
      "cell_type": "markdown",
      "metadata": {
        "colab_type": "text",
        "id": "UKuwrT6HJpX0"
      },
      "source": [
        "#### 2.1.1. Indexing lists\n",
        "\n",
        "To check the value of a list element, indicate between brackets the index (or indices) to obtain the value (or values) at that position (positions).\n",
        "\n",
        "Run the code fragment below, and try to guess what the output of each command will be.\n",
        "\n",
        "**Note**: Python indexing starts from 0!!!!"
      ]
    },
    {
      "cell_type": "code",
      "metadata": {
        "colab_type": "code",
        "id": "GgkZdOBEJpX1",
        "colab": {}
      },
      "source": [
        "print(mylist0[0])\n",
        "print(mylist1[2:4])\n",
        "print(mylist2[-1])"
      ],
      "execution_count": 0,
      "outputs": []
    },
    {
      "cell_type": "markdown",
      "metadata": {
        "colab_type": "text",
        "id": "tbWWs6xUJpX9"
      },
      "source": [
        "#### 2.1.2. Modifying lists\n",
        "\n",
        "To add elements in a list you can use the method append() and to remove them the method remove()"
      ]
    },
    {
      "cell_type": "code",
      "metadata": {
        "colab_type": "code",
        "id": "nBOhUazuJpX_",
        "colab": {}
      },
      "source": [
        "mylist = ['student', 'teacher', 1997, 2000]\n",
        "mylist.append(3)\n",
        "print(mylist)\n",
        "mylist.remove('teacher')\n",
        "print(mylist)"
      ],
      "execution_count": 0,
      "outputs": []
    },
    {
      "cell_type": "markdown",
      "metadata": {
        "id": "BttcLSzLtAkm",
        "colab_type": "text"
      },
      "source": [
        "You can also concatenate lists by simple \"addition\""
      ]
    },
    {
      "cell_type": "code",
      "metadata": {
        "id": "dCamXPNetAkm",
        "colab_type": "code",
        "colab": {}
      },
      "source": [
        "fruits = ['apple', 'orange']\n",
        "drinks = ['water',  'juice']\n",
        "fruits_and_drinks = fruits + drinks\n",
        "print(fruits_and_drinks)"
      ],
      "execution_count": 0,
      "outputs": []
    },
    {
      "cell_type": "markdown",
      "metadata": {
        "colab_type": "text",
        "id": "PVlcdWQSJpYK"
      },
      "source": [
        "Other useful functions are:\n",
        "   \n",
        "    len(list):    Gives the number of elements in a list.    \n",
        "    max(list):    Returns item from the list with max value.  \n",
        "    min(list):    Returns item from the list with min value."
      ]
    },
    {
      "cell_type": "code",
      "metadata": {
        "colab_type": "code",
        "id": "YIe7kcuVJpYM",
        "colab": {}
      },
      "source": [
        "mylist = [1, 2, 3, 4, 5]\n",
        "print(len(mylist))\n",
        "print(max(mylist))\n",
        "print(min(mylist))"
      ],
      "execution_count": 0,
      "outputs": []
    },
    {
      "cell_type": "markdown",
      "metadata": {
        "id": "7wA9eK9FtAku",
        "colab_type": "text"
      },
      "source": [
        "**Exercise 2**: *Define variable `odds` containing all odd numbers betewen 1 and 9. Also, define variable `prime` containing all prime numbers between 1 and 9. Now, define variable `odd_or_prime` as the concatenation of `odd` and `prime`. Some numbers are repeated. User method `remove` to supress elements appearing twice. Print the result.*"
      ]
    },
    {
      "cell_type": "code",
      "metadata": {
        "id": "R_iCbKM1tAkv",
        "colab_type": "code",
        "colab": {}
      },
      "source": [
        "# Write your solution here\n",
        "# <SOL>\n",

        "# </SOL>"
      ],
      "execution_count": 0,
      "outputs": []
    },
    {
      "cell_type": "markdown",
      "metadata": {
        "colab_type": "text",
        "id": "pUKFZu4V-MjZ"
      },
      "source": [
        "## 2.2. Dictionaries\n",
        "\n",
        "Dictionaries are a different type of iterable in which data is stored with a ``key:value`` format. Creating dictionaries is similar to creating lists except that we use curly brackets: {}."
      ]
    },
    {
      "cell_type": "code",
      "metadata": {
        "colab_type": "code",
        "id": "X4BjczFi-Mjc",
        "colab": {}
      },
      "source": [
        "my_marks = {\"calculus\": 9.5, \"programming\": 7.5, \"statistics\": 4.5}\n",
        "print(my_marks)"
      ],
      "execution_count": 0,
      "outputs": []
    },
    {
      "cell_type": "markdown",
      "metadata": {
        "colab_type": "text",
        "id": "etd9pV9_-Mjo"
      },
      "source": [
        "In order to access a particular value in the dictionary we need to use the corresponding key:"
      ]
    },
    {
      "cell_type": "code",
      "metadata": {
        "colab_type": "code",
        "id": "i6yX4shn-Mjp",
        "colab": {}
      },
      "source": [
        "print(my_marks[\"programming\"])"
      ],
      "execution_count": 0,
      "outputs": []
    },
    {
      "cell_type": "markdown",
      "metadata": {
        "colab_type": "text",
        "id": "qO_Jny-P-Mjr"
      },
      "source": [
        "If we want to display all the keys in a dictionary we can use the ``.keys()`` method. Likewise we can view all the stored values in the dictionary by using  the ``.values()`` method:"
      ]
    },
    {
      "cell_type": "code",
      "metadata": {
        "colab_type": "code",
        "id": "QiY9P_f_-Mjz",
        "colab": {}
      },
      "source": [
        "print(my_marks.keys())\n",
        "print(my_marks.values())"
      ],
      "execution_count": 0,
      "outputs": []
    },
    {
      "cell_type": "markdown",
      "metadata": {
        "id": "GkRaG5VatAlF",
        "colab_type": "text"
      },
      "source": [
        "**Exercise 3**: *After the exam review, you teacher has updated your mark in Statistics to 7.0. Also, the scores of \"communication theory\" have been just published, and you've got 10.0. How would you modify your dictionary with the new marks?*"
      ]
    },
    {
      "cell_type": "code",
      "metadata": {
        "id": "vQcDM3EGtAlF",
        "colab_type": "code",
        "colab": {}
      },
      "source": [
        "# Write your solution here\n",
        "# <SOL>\n",

        "# </SOL>\n",
        "print(my_marks)"
      ],
      "execution_count": 0,
      "outputs": []
    },
    {
      "cell_type": "markdown",
      "metadata": {
        "colab_type": "text",
        "id": "B6hBxARxJpYS"
      },
      "source": [
        "## 3. Flow control (with 'for' and 'if')"
      ]
    },
    {
      "cell_type": "markdown",
      "metadata": {
        "colab_type": "text",
        "id": "cAgs0aYWJpYT"
      },
      "source": [
        "As in other programming languages, python offers mechanisms to loop through a piece of code several times, or for conditionally executing a code fragment when certain conditions are satisfied. \n",
        "\n",
        "### 3.1. Conditional execution\n",
        "\n",
        "For conditional execution, you can we use the 'if', 'elif' and 'else' statements.\n",
        "\n",
        "Try to play with the following example:"
      ]
    },
    {
      "cell_type": "code",
      "metadata": {
        "colab_type": "code",
        "id": "SFfp-TGAJpYV",
        "colab": {}
      },
      "source": [
        "x = int(input('Please enter an integer: '))\n",
        "if x < 0:\n",
        "    x = 0\n",
        "    print('Negative changed to zero')\n",
        "elif x == 0:\n",
        "    print('Zero')\n",
        "elif x == 1:\n",
        "    print('Single')\n",
        "else:\n",
        "    print('More')"
      ],
      "execution_count": 0,
      "outputs": []
    },
    {
      "cell_type": "markdown",
      "metadata": {
        "colab_type": "text",
        "id": "W6CuGBpEJpYb"
      },
      "source": [
        "The above fragment, allows us also to discuss some important characteristics of the Python language syntaxis:\n",
        "\n",
        "* Unlike other languages, Python does not require to use the 'end' keyword to indicate that a given code fragment finishes. Instead, Python recurs to indentation\n",
        "* **Indentation in Python is mandatory**, and consists of 4 spaces (for first level indentation)\n",
        "* The condition lines conclude with ':', which are then followed by the indented blocks that will be executed only when the indicated conditions are satisfied.\n",
        "   \n",
        "### 3.2. Loops\n",
        "\n",
        "The statement 'for' lets you iterate over the items of any iterable (a list, a string, a dictionary... ), in the order that they appear."
      ]
    },
    {
      "cell_type": "code",
      "metadata": {
        "colab_type": "code",
        "id": "0qNG65aMJpYc",
        "colab": {}
      },
      "source": [
        "words = ['cat', 'window', 'open-course']\n",
        "for w in words:\n",
        "     print (w, len(w))"
      ],
      "execution_count": 0,
      "outputs": []
    },
    {
      "cell_type": "code",
      "metadata": {
        "colab_type": "code",
        "id": "cG1hA2b0-MkF",
        "colab": {}
      },
      "source": [
        "my_dict = {\"key1\": 10, \"key2\": 25, \"key3\": 30}\n",
        "for key in my_dict.keys():\n",
        "     print (key, my_dict[key])"
      ],
      "execution_count": 0,
      "outputs": []
    },
    {
      "cell_type": "markdown",
      "metadata": {
        "colab_type": "text",
        "id": "j6frMLSzJpYh"
      },
      "source": [
        "In combination with enumerate(), you can iterate over the elements of the sequence and have a counter over them"
      ]
    },
    {
      "cell_type": "code",
      "metadata": {
        "colab_type": "code",
        "id": "m8rpqZd3JpYl",
        "colab": {}
      },
      "source": [
        "words = ['cat', 'window', 'open-course']\n",
        "for (i, w) in enumerate(words):\n",
        "     print ('element ' + str(i) + ' is ' + w)"
      ],
      "execution_count": 0,
      "outputs": []
    },
    {
      "cell_type": "markdown",
      "metadata": {
        "colab_type": "text",
        "id": "tWf5ct4k3CDz"
      },
      "source": [
        "Python is very expressive and flexible when it comes to list creation and manipulation. Check out this interesting block of code and try to figure out what it's doing:"
      ]
    },
    {
      "cell_type": "code",
      "metadata": {
        "colab_type": "code",
        "id": "lIWDact03HHX",
        "colab": {}
      },
      "source": [
        "# Python one-liners are great:\n",
        "x = [1, 2, 3, 4, 5]\n",
        "y = [i**2 for i in x]\n",
        "print('x = ', x, '\\ny = ', y)"
      ],
      "execution_count": 0,
      "outputs": []
    },
    {
      "cell_type": "markdown",
      "metadata": {
        "id": "wQJ0S36WtAld",
        "colab_type": "text"
      },
      "source": [
        "**Exercise 4**: *Create a list `powers2` of all powers of 2 between $2^0$ (`2**0`) and $2^{16}$ (`2**16`). Loop over the list to create a new list `y` with all powers of 2 that are greater than 100 and lower than 1000*"
      ]
    },
    {
      "cell_type": "code",
      "metadata": {
        "id": "m0iLk7lstAlf",
        "colab_type": "code",
        "colab": {}
      },
      "source": [
        "# Write your solution here\n",
        "# <SOL>\n",

        "# </SOL>\n",
        "print(y)"
      ],
      "execution_count": 0,
      "outputs": []
    },
    {
      "cell_type": "markdown",
      "metadata": {
        "colab_type": "text",
        "id": "JuTYztq7JpYo"
      },
      "source": [
        "## 4. File input and output operations"
      ]
    },
    {
      "cell_type": "markdown",
      "metadata": {
        "colab_type": "text",
        "id": "3-gsOU4FJpYp"
      },
      "source": [
        "First of all, you need to open a file with the open() function (if the file does not exist, the open() function will create it). "
      ]
    },
    {
      "cell_type": "code",
      "metadata": {
        "colab_type": "code",
        "id": "a5KvqplXJpYq",
        "colab": {}
      },
      "source": [
        "f = open('workfile', 'w')"
      ],
      "execution_count": 0,
      "outputs": []
    },
    {
      "cell_type": "markdown",
      "metadata": {
        "colab_type": "text",
        "id": "qu6CxTgbJpYw"
      },
      "source": [
        "The first argument is a string containing the filename. The second argument defines the mode in which the file will be used:\n",
        "\n",
        "    'r' : only to be read,\n",
        "    'w' : for only writing (an existing file with the same name would be erased),\n",
        "    'a' : the file is opened for appending; any data written to the file is automatically appended to the end. \n",
        "    'r+': opens the file for both reading and writing. \n",
        "\n",
        "If the mode argument is not included, 'r' will be assumed."
      ]
    },
    {
      "cell_type": "markdown",
      "metadata": {
        "colab_type": "text",
        "id": "g3EsbVk2JpYw"
      },
      "source": [
        "Use f.write(string) to write  the contents of a string to the file.  When you are done, do not forget to close the file:"
      ]
    },
    {
      "cell_type": "code",
      "metadata": {
        "colab_type": "code",
        "id": "Kd2R3qQZJpYy",
        "colab": {}
      },
      "source": [
        "f.write('This is a test\\n with 2 lines')\n",
        "f.close()"
      ],
      "execution_count": 0,
      "outputs": []
    },
    {
      "cell_type": "markdown",
      "metadata": {
        "colab_type": "text",
        "id": "YuqJ05c-JpY4"
      },
      "source": [
        "To read the content of a file, use the function f.read():"
      ]
    },
    {
      "cell_type": "code",
      "metadata": {
        "colab_type": "code",
        "id": "UIKH9WZIJpY4",
        "colab": {}
      },
      "source": [
        "f2 = open('workfile', 'r')\n",
        "text = f2.read()\n",
        "f2.close()\n",
        "print(text)"
      ],
      "execution_count": 0,
      "outputs": []
    },
    {
      "cell_type": "markdown",
      "metadata": {
        "colab_type": "text",
        "id": "x6k7eYGtJpY7"
      },
      "source": [
        "You can also read line by line from the file identifier"
      ]
    },
    {
      "cell_type": "code",
      "metadata": {
        "colab_type": "code",
        "id": "4NWi8fRGJpY8",
        "colab": {}
      },
      "source": [
        "f2 = open('workfile', 'r')\n",
        "for line in f2:\n",
        "    print(line)\n",
        "\n",
        "f2.close()"
      ],
      "execution_count": 0,
      "outputs": []
    },
    {
      "cell_type": "markdown",
      "metadata": {
        "colab_type": "text",
        "id": "ezs1cI4UJpY-"
      },
      "source": [
        "## 5. Importing modules"
      ]
    },
    {
      "cell_type": "markdown",
      "metadata": {
        "colab_type": "text",
        "id": "JcZJr_Z-JpY_"
      },
      "source": [
        "Python lets you define modules which are files consisting of Python code. A module can define functions, classes and variables.\n",
        "\n",
        "Most Python distributions already include the most popular modules with predefined libraries which make our programmer lives easier. Some well-known libraries are: time, sys, os, numpy, etc.\n",
        "    \n",
        "There are several ways to import a library:"
      ]
    },
    {
      "cell_type": "markdown",
      "metadata": {
        "colab_type": "text",
        "id": "f0oqiJfgJpZA"
      },
      "source": [
        "1) Import all the contents of the library: import lib_name\n",
        "\n",
        "Note: You have to call these methods as part of the library"
      ]
    },
    {
      "cell_type": "code",
      "metadata": {
        "colab_type": "code",
        "id": "MOeihKoGJpZB",
        "colab": {}
      },
      "source": [
        "import time\n",
        "print(time.time())  # returns the current processor time in seconds\n",
        "time.sleep(2) # suspends execution for the given number of seconds\n",
        "print(time.time()) # returns the current processor time in seconds again!!!"
      ],
      "execution_count": 0,
      "outputs": []
    },
    {
      "cell_type": "markdown",
      "metadata": {
        "colab_type": "text",
        "id": "wiMG-7eeJpZE"
      },
      "source": [
        "2) Define a short name to use the library: import lib_name as lib\n"
      ]
    },
    {
      "cell_type": "code",
      "metadata": {
        "colab_type": "code",
        "id": "VznvoUmiJpZH",
        "colab": {}
      },
      "source": [
        "import time as t\n",
        "print(t.time())"
      ],
      "execution_count": 0,
      "outputs": []
    },
    {
      "cell_type": "markdown",
      "metadata": {
        "colab_type": "text",
        "id": "eA5Sn_7CJpZJ"
      },
      "source": [
        "3) Import only some elements of the library \n",
        "\n",
        "Note: now you have to use the methods directly"
      ]
    },
    {
      "cell_type": "code",
      "metadata": {
        "colab_type": "code",
        "id": "j1RhwBmwJpZK",
        "colab": {}
      },
      "source": [
        "from time import time, sleep\n",
        "print(time())\n",
        "sleep(2)\n",
        "print(time())"
      ],
      "execution_count": 0,
      "outputs": []
    },
    {
      "cell_type": "markdown",
      "metadata": {
        "colab_type": "text",
        "id": "ibvKIbQIu_Ca"
      },
      "source": [
        "## 6. User defined functions"
      ]
    },
    {
      "cell_type": "markdown",
      "metadata": {
        "colab_type": "text",
        "id": "x3RpGkZLvFs3"
      },
      "source": [
        "A function is a block of organized, reusable code that is used to perform a single, related action. Functions provide better modularity and a high degree of code reusing.\n",
        "\n",
        "As we have seen, Python gives us many built-in functions like print(), etc. but you can also create your own functions.\n",
        "\n",
        "### Defining a function:\n",
        "\n",
        "-  Function blocks begin with the keyword `def` followed by the function name and parentheses ( ( ) ).\n",
        "\n",
        "-  Any input parameters or arguments should be placed within these parentheses. You can also define parameters inside these parentheses.\n",
        "\n",
        "-  The first statement of a function can be an optional statement - the documentation string of the function or docstring. Docstring blocks start and ed with triple quotes (`\"\"\"`).\n",
        "\n",
        "-  The code block within every function starts with a colon (`:`) and is indented.\n",
        "\n",
        "-  The statement `return [expression]` exits a function, optionally passing back an expression to the caller. A return statement with no arguments is the same as `return None`."
      ]
    },
    {
      "cell_type": "code",
      "metadata": {
        "colab_type": "code",
        "id": "nNQ408lXw6Pg",
        "colab": {}
      },
      "source": [
        "# Example of a function:\n",
        "\n",
        "def add_five(a):\n",
        "  \"\"\"This function adds the number five to its input argument.\"\"\"\n",
        "  return a + 5\n",
        "\n",
        "# Let's try it out!\n",
        "x = int(input('Please enter an integer: '))\n",
        "print('Our add_five function is super effective at adding fives:')\n",
        "print(x, '+ 5 =', add_five(x))"
      ],
      "execution_count": 0,
      "outputs": []
    },
    {
      "cell_type": "markdown",
      "metadata": {
        "colab_type": "text",
        "id": "h7ndVcC7fpns"
      },
      "source": [
        "**Exercise 5**: *Now try it yourself! Write a function called my_factorial that computes the fatorial of a given number. If you're feeling brave today, you can try writing it recursively since Python obviously supports recursion. Remember that the factorial of 0 is 1 and the factorial of a negative number is undefined.*"
      ]
    },
    {
      "cell_type": "code",
      "metadata": {
        "colab_type": "code",
        "id": "MNWzDaxkfo5Y",
        "colab": {}
      },
      "source": [
        "# Write your solution here\n",
        "# <SOL>\n",

        "# </SOL>"
      ],
      "execution_count": 0,
      "outputs": []
    },
    {
      "cell_type": "code",
      "metadata": {
        "id": "5Lp_LL-etAmJ",
        "colab_type": "code",
        "colab": {}
      },
      "source": [
        "# Let's try it out!\n",
        "from math import factorial\n",
        "x = int(input('Please enter an integer: '))\n",
        "if my_factorial(x) == factorial(x):\n",
        "  print(x, '! = ', my_factorial(x))\n",
        "  print('It works!')\n",
        "else:\n",
        "  print(\"Something's not working...\" )"
      ],
      "execution_count": 0,
      "outputs": []
    },
    {
      "cell_type": "code",
      "metadata": {
        "id": "NCm8T70UtAmL",
        "colab_type": "code",
        "colab": {}
      },
      "source": [
        ""
      ],
      "execution_count": 0,
      "outputs": []
    }
  ]
}