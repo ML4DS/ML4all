{
 "cells": [
  {
   "cell_type": "markdown",
   "metadata": {
    "slideshow": {
     "slide_type": "slide"
    }
   },
   "source": [
    "# Text Analysis with NLTK"
   ]
  },
  {
   "cell_type": "markdown",
   "metadata": {
    "slideshow": {
     "slide_type": "notes"
    }
   },
   "source": [
    "Author: Jesús Cid-Sueiro\n",
    "\n",
    "Date: 2016/04/03\n",
    "\n",
    "Last review: 2017/04/21"
   ]
  },
  {
   "cell_type": "code",
   "execution_count": 1,
   "metadata": {
    "collapsed": false
   },
   "outputs": [],
   "source": [
    "# %matplotlib inline\n",
    "\n",
    "import numpy as np\n",
    "import matplotlib.pyplot as plt\n",
    "# import pylab\n",
    "\n",
    "# Required imports\n",
    "from wikitools import wiki\n",
    "from wikitools import category\n",
    "\n",
    "import nltk\n",
    "from nltk.tokenize import word_tokenize\n",
    "from nltk.corpus import stopwords\n",
    "from nltk.stem import WordNetLemmatizer\n",
    "\n",
    "from time import time\n",
    "from sklearn.feature_extraction.text import TfidfVectorizer, CountVectorizer\n",
    "\n",
    "from test_helper import Test\n",
    "\n",
    "import gensim"
   ]
  },
  {
   "cell_type": "markdown",
   "metadata": {},
   "source": [
    "## 1. Corpus acquisition.\n",
    "In this notebook we will explore some tools for text analysis available from Python toolboxes.\n",
    "\n",
    "To do so, we will explore and analyze collections of Wikipedia articles from a given category, using `wikitools`, that makes the capture of content from wikimedia sites very easy.\n",
    "\n",
    "(*As a side note, there are many other available text collections to work with. In particular, the NLTK library has many examples, that you can explore using the `nltk.download()` tool*.\n",
    "\n",
    "    import nltk\n",
    "    nltk.download()\n",
    "\n",
    "*for instance, you can take the gutemberg dataset*\n",
    "\n",
    "    Mycorpus = nltk.corpus.gutenberg\n",
    "    text_name = Mycorpus.fileids()[0]\n",
    "    raw = Mycorpus.raw(text_name)\n",
    "    Words = Mycorpus.words(text_name)\n",
    "\n",
    "*Also, tools like Gensim or Sci-kit learn include text databases to work with*).\n",
    "\n",
    "In order to use Wikipedia data, we will select a single category of articles:"
   ]
  },
  {
   "cell_type": "code",
   "execution_count": 2,
   "metadata": {
    "collapsed": false
   },
   "outputs": [
    {
     "name": "stdout",
     "output_type": "stream",
     "text": [
      "Pseudoscience\n"
     ]
    }
   ],
   "source": [
    "site = wiki.Wiki(\"https://en.wikipedia.org/w/api.php\")\n",
    "# Select a category with a reasonable number of articles (>100)\n",
    "# cat = \"Economics\"\n",
    "cat = \"Pseudoscience\"\n",
    "print cat"
   ]
  },
  {
   "cell_type": "markdown",
   "metadata": {},
   "source": [
    "You can try with any other categories, but take into account that some categories may contain very few articles. Select a category with at least 100 articles. You can browse the wikipedia category tree here, https://en.wikipedia.org/wiki/Category:Contents, for instance, and select the appropriate one.\n",
    "\n",
    "We start downloading the text collection."
   ]
  },
  {
   "cell_type": "code",
   "execution_count": 3,
   "metadata": {
    "collapsed": false
   },
   "outputs": [
    {
     "name": "stdout",
     "output_type": "stream",
     "text": [
      "Loading category data. This may take a while...\n",
      "Loading article 2 Server lag, sleeping for 120 seconds\n",
      "Loading article 360 \n",
      "Loaded 360 articles from category Pseudoscience\n"
     ]
    }
   ],
   "source": [
    "# Loading category data. This may take a while\n",
    "print \"Loading category data. This may take a while...\"\n",
    "cat_data = category.Category(site, cat)\n",
    "\n",
    "corpus_titles = []\n",
    "corpus_text = []\n",
    "\n",
    "for n, page in enumerate(cat_data.getAllMembersGen()):\n",
    "    print \"\\rLoading article {0}\".format(n + 1),\n",
    "    corpus_titles.append(page.title)\n",
    "    corpus_text.append(page.getWikiText())\n",
    "\n",
    "n_art = len(corpus_titles)\n",
    "print \"\\nLoaded \" + str(n_art) + \" articles from category \" + cat"
   ]
  },
  {
   "cell_type": "markdown",
   "metadata": {},
   "source": [
    "Now, we have stored the whole text collection in two lists:\n",
    "\n",
    "* `corpus_titles`, which contains the titles of the selected articles\n",
    "* `corpus_text`, with the text content of the selected wikipedia articles\n",
    "\n",
    "You can browse the content of the wikipedia articles to get some intuition about the kind of documents that will be processed."
   ]
  },
  {
   "cell_type": "code",
   "execution_count": 6,
   "metadata": {
    "collapsed": false
   },
   "outputs": [
    {
     "name": "stdout",
     "output_type": "stream",
     "text": [
      "Alternative medicine\n",
      "{{see also|Quackery|Pseudoscience|Pseudomedicine}}\n",
      "{{pp-pc1|small=yes}}\n",
      "{{infobox alternative medicine\n",
      "| name        = \n",
      "| synonyms    =<!--Please do not remove any synonym without prior consensus, seek consensus on the talk page--> complimentary & alternative medicine (CAM), complementary medicine, heterodox medicine, integrative medicine, new-age medicine, unconventional medicine, unorthodox medicine<!--Please do not remove any synonym without prior consensus, seek consensus on the talk page-->\n",
      "| image       = A person discovering that they have been transformed into se Wellcome V0011124.jpg\n",
      "| image_size  = \n",
      "| alt         = \n",
      "| caption     = \"''They told me if I took 1000 pills at night I should be quite another thing in the morning''\", an early 19th-century satire on [[Morison's Vegetable Pills]], an alternative medicine supplement.\n",
      "| classification =\n",
      "| modality    =\n",
      "| claims      = \n",
      "| topics      = \n",
      "| origyear    = \n",
      "| origprop    = \n",
      "| laterprop   = \n",
      "| seealso     = \n",
      "| MeshID      = \n",
      "}}\n",
      "{{Alternative medical systems}}\n",
      "'''Alternative medicine''' or '''fringe medicine''' are practices claimed to have the [[healing]] effects of [[medicine]] but which are disproven, unproven, or impossible to prove, or are excessively harmful in relation to their effect;<!--{{refn|name=Harrisonquote|group=n}}{{refn|name=NSFquote|group=n|}}{{refn|name=Angellquote|group=n}}--><!--{{refn|group=n|According to the Tzu Chi Institute, a Canadian centre established to evaluate complementary and alternative therapies, \"alternative therapies are those lacking scientific validation that are excluded from medical school training programs and uninsured by health plans.\"<ref name=IGPIAMAYP/>}}<ref name=ATRAMM/><ref name=NSF_2002/><ref name=Angell1998/><ref name=NP/>--> and where the [[scientific consensus]] is that the therapy does not, or can not, work because the known [[Scientific law|laws of nature]] are violated by its basic claims; or where it is considered so much worse than conventional treatment that it would be [[medical ethics|unethical]] to offer as treatment.<!--Clarification, for those that can not work see homeopathy which does not abide by the laws of physics--> Alternative therapies or diagnoses are not part of [[medicine]]<!--{{refn|name=Harrisonquote|group=n}}{{refn|group=n|name=IOMquote}}{{refn|group=n|name=WebMD2014quote}}{{refn|group=n|name=NCCIH2quote}}--> or [[science|science-based]] healthcare systems.<!--<ref name=NCCIH1/><ref name=Zollman1999/>{{sfn|IOM Report|2005|p=16–20}}<ref name=WHO/>--> Alternative medicine consists of a wide variety of practices, products, and therapies—ranging from those that are [[biologically plausible]] but not well tested, to those with known harmful and [[Toxicity|toxic]] effects.<!--{{refn|group=n|name=IOMquote}}<ref name=ATRAMM/><ref name=Hines_Sampson_Coulter_Sagan/><ref name=\"CAM_Sointu_Nissen_Eisenberg\"/><ref name=DaguptaHStabler2011/><ref name=FDA_regulatory/>--> Contrary to popular belief, significant expense is paid to test alternative medicine, including over $2.5 billion spent by the United States government. Almost none show any effect beyond that of [[Placebo|false treatment]].<!--<ref name=\"$2.5 billion\"/><ref name=Abdulla1999>{{cite journal|last1=Abdulla|first1=Sara|title=Phytotherapy - good science or big business?|journal=Nature|date=May 13, 1999|doi=10.1038/news990513-8|quote=Science-based medicine, with its emphasis on controlled study, proof, evidence, statistical significance and safety is being rejected in favour of 'alternative medicine'—an atavistic portmanteau of anecdote, hearsay, rumour and hokum.... Probably the most commercially successful and widely used branch of alternative or complementary medicine is 'phytotherapy'. These are the tablets, powders and elixirs, otherwise known as herbal medicine, that are sold in most countries, through health shops and pharmacies as 'nutritional supplements'.... Only a tiny minority of these remedies have been shown to have mild-to moderately beneficial health effects... So why are affluent, otherwise rational, highly educated people (for this is the average user profile) so hungry for phytotherapy?... people still believe that 'natural' equals good and safe despite plenty of evidence to the contrary.\" ... as far as the human body is concerned, 'natural' is meaningless... Equally, what's so safe about consuming substances that need meet no standards of contents? ...}}</ref>--> Perceived effects of alternative medicine may be caused by [[placebo]]; decreased effect of functional treatment (and therefore potentially decreased [[side effects]]);<!--<ref name=\":0\">{{Cite journal|last=Zeller|first=T.|last2=Muenstedt|first2=K.|last3=Stoll|first3=C.|last4=Schweder|first4=J.|last5=Senf|first5=B.|last6=Ruckhaeberle|first6=E.|last7=Becker|first7=S.|last8=Serve|first8=H.|last9=Huebner|first9=J.|date=2013-03-01|title=Potential interactions of complementary and alternative medicine with cancer therapy in outpatients with gynecological cancer in a comprehensive cancer center|journal=Journal of Cancer Research and Clinical Oncology|volume=139|issue=3|pages=357–365|doi=10.1007/s00432-012-1336-6|issn=1432-1335|pmid=23099993}}</ref>--> and [[regression toward the mean]] where improvement that would have occurred anyway is [[Regression fallacy|credited]] to alternative therapies; or any combination of the above. Alternative treatments are neither the same as [[Medical research|experimental medicine]], nor [[traditional medicine]] — although the latter, when used today may be considered alternative.\n",
      "\n",
      "Alternative medicine has grown in popularity and is used by a significant percentage of the population in many countries.<!-- --> While it has extensively rebranded itself: from quackery to complementary or integrative medicine—it promotes essentially the same practices. Newer proponents often suggest alternative medicine be used together with functional medical treatment, in a [[belief]] that it \"complements\" (improves the effect of, or mitigates the side effects of) the treatment.<!--{{refn|group=n|name=FinalReport|The ''Final Report'' (2002) of the White House Commission on Complementary and Alternative Medicine Policy states: \"The Commissioners believe and have repeatedly stated in this Report that our response should be to hold all systems of health and healing, including conventional and CAM, to the same rigorous standards of good science and health services research. Although the Commissioners support the provision of the most accurate information about the state of the science of all CAM modalities, they believe that it is premature to advocate the wide implementation and reimbursement of CAM modalities that are yet unproven.\"<ref name=\"whccamp.hhs.gov\"/>}}<ref name=NSF_2002/><ref name=Ernst_1995/><ref name=Joyce_1994/><ref name=BMJ_May/>--> There is no evidence showing they do so, and significant [[drug interaction]]s caused by alternative therapies may instead negatively influence treatments, making them less effective, notably [[Treatment of cancer|cancer therapy]].<!--<ref name=\":0\"/><ref name=\"Arye13\">{{Cite journal|last=Ben-Arye|first=Eran|last2=Polliack|first2=Aaron|last3=Schiff|first3=Elad|last4=Tadmor|first4=Tamar|last5=Samuels|first5=Noah|date=2013-12-01|title=Advising patients on the use of non-herbal nutritional supplements during cancer therapy: a need for doctor-patient communication|journal=Journal of Pain and Symptom Management|volume=46|issue=6|pages=887–896|doi=10.1016/j.jpainsymman.2013.02.010|issn=1873-6513}}</ref>--> Despite being illegal to market alternative therapies for cancer treatment in most of the developed world, many cancer patients use them.<!--<ref>http://www.cancerresearchuk.org/about-cancer/cancers-in-general/treatment/complementary-alternative/</ref><ref>https://www.uclh.nhs.uk/OurServices/ServiceA-Z/INTMED/IMCAN/Pages/Home.aspx</ref>-->\n",
      "\n",
      "[[:Category:Alternative medical diagnostic methods|Alternative medical diagnoses]] and treatments are not taught as part of science-based curricula in [[medical schools]], and are not used in any practice where treatment is based on scientific knowledge or proven experience. Alternative therapies are often based on [[religion]], tradition, [[superstition]], belief in [[supernatural]] energies, [[pseudoscience]], [[fallacy|errors in reasoning]], propaganda, fraud, or lies.<!--<ref name=ATRAMM/><ref name=Hines_Sampson_Coulter_Sagan/><ref name=NSF_2002/><ref name=AMCER/>--> Regulation and licensing of alternative medicine and [[health care provider]]s varies between and within countries.\n",
      "\n",
      "Alternative medicine is criticized for being based on misleading statements, [[quackery]], [[pseudoscience]], [[antiscience]], [[fraud]], or poor [[scientific method]]ology. Promoting alternative medicine has been called dangerous and [[ethics|unethical]].<!--{{refn|name=Groopmanquote|group=n|\"Kessler refers to a lack of efficacy but never pushes back at Hatch by enumerating the dangers that unregulated products pose to the public, the dangers that fill the pages of Offit’s book.\"<ref name=Groopman/>}}<ref name=Weisleder/>--> Testing alternative medicine that has no scientific basis has been called a waste of scarce research resources.<!--<ref name=Wadman/><ref>{{cite journal|last1=Gorski|first1=DH|last2=Novella|first2=SP|title=Clinical trials of integrative medicine: testing whether magic works?|journal=Trends in Molecular Medicine|date=September 2014|volume=20|issue=9|pages=473–6|doi=10.1016/j.molmed.2014.06.007|pmid=25150944}}</ref>--> Critics state \"there is really no such thing as alternative medicine, just medicine that works and medicine that doesn't\",<!--<ref name=Dawkins2003a/>--> and the problem with the idea of \"alternative\" treatments in this sense is that the \"underlying logic is magical, childish or downright absurd\".<!--<ref>{{Cite journal|last=Fisken|first=Roger A.|date=2014-05-19|title=Teach evidence based, not alternative, medicine|url=http://www.bmj.com/content/348/bmj.g3218|journal=BMJ|language=en|volume=348|pages=g3218|doi=10.1136/bmj.g3218|issn=1756-1833}}</ref>--> It has been strongly suggested that the very idea of any alternative treatment that works is [[paradox]]ical, as any treatment proven to work is by definition \"medicine\".<!--<ref name=Helmuth/>-->\n",
      "{{TOC limit|3}}\n",
      "\n",
      "==Appeal==\n",
      "[[File:\"Miracle Cure!\" Health Fraud Scams (8528312890).jpg|thumb|Alternative therapies often make bombastic claims, and frequently include anecdotes from healthy-looking individuals claiming successful treatment.]]\n",
      "Practitioners of complementary medicine usually discuss and advise patients as to available alternative therapies. Patients often express interest in mind-body complementary therapies because they offer a non-drug approach to treating some health conditions.<ref name=\"Sobel2000\"/>{{Clarify|date=November 2016}}\n",
      "\n",
      "In addition to the social-cultural underpinnings of the popularity of alternative medicine, there are several psychological issues that are critical to its growth. One of the most critical is the placebo effect—a well-established observation in medicine.<ref name=\"van_Deventer2008\"/>  Related to it are similar psychological effects, such as the will to believe,<ref name=Beyerstein /> [[cognitive bias]]es that help maintain self-esteem and promote harmonious social functioning,<ref name=Beyerstein /> and the ''[[post hoc, ergo propter hoc]]'' fallacy.<ref name=Beyerstein />\n",
      "\n",
      "===Marketing===\n",
      "[[File:Edzard ernst.jpg|thumb|right|[[Edzard Ernst]], a leading authority on scientific study of alternative treatments and diagnoses, and the first university professor of ''Complementary and Alternative Medicine''. Here in 2012, promoting his book [[Trick or Treatment]] co-written with [[Simon Singh]].]]\n",
      "CAM's popularity may be related to other factors that [[Edzard Ernst]] mentioned in an interview in ''[[The Independent]]'':\n",
      "\n",
      "<blockquote>Why is it so popular, then? Ernst blames the providers, customers and the doctors whose neglect, he says, has created the opening into which alternative therapists have stepped. \"People are told lies. There are 40 million websites and 39.9 million tell lies, sometimes outrageous lies. They mislead cancer patients, who are encouraged not only to pay their last penny but to be treated with something that shortens their lives. \"At the same time, people are gullible. It needs gullibility for the industry to succeed. It doesn't make me popular with the public, but it's the truth.<ref name=\"Con?\"/></blockquote>\n",
      "\n",
      "[[Paul Offit]] proposed that \"alternative medicine becomes quackery\" in four ways: by recommending against conventional therapies that are helpful, promoting potentially harmful therapies without adequate warning, draining patients' bank accounts, or by promoting \"magical thinking.\"<ref name=Offit2013/>\n",
      "\n",
      "=== A failure of mainstream medicine ===\n",
      "[[File:Lemon-906141.jpg|thumb|Friendly and colorful images of herbal treatments may look less threatening or dangerous when compared to conventional medicine. This is an intentional marketing strategy.]]\n",
      "In a paper published in October 2010 entitled ''The public's enthusiasm for complementary and alternative medicine amounts to a critique of mainstream medicine'', Ernst described these views in greater detail and concluded:\n",
      "\n",
      "<blockquote>[CAM] is popular. An analysis of the reasons why this is so points towards the therapeutic relationship as a key factor. Providers of CAM tend to build better therapeutic relationships than mainstream healthcare professionals. In turn, this implies that much of the popularity of CAM is a poignant criticism of the failure of mainstream healthcare. We should consider it seriously with a view of improving our service to patients.<ref name=Ernst2010/></blockquote>\n",
      "\n",
      "===Social factors===\n",
      "\n",
      "Authors have speculated on the socio-cultural and psychological reasons for the appeal of alternative medicines among the minority using them ''in lieu'' of conventional medicine. There are several socio-cultural reasons for the interest in these treatments centered on the low level of [[scientific literacy]] among the public at large and a concomitant increase in [[antiscience|antiscientific]] attitudes and [[new age]] [[mysticism]].<ref name=\"Beyerstein\" /> Related to this are vigorous [[marketing]]<ref name=\"Weber\"/> of extravagant claims by the alternative medical community combined with inadequate media scrutiny and attacks on critics.<ref name=\"Beyerstein\" /><ref name=\"Beyerstein2001\"/>\n",
      "\n",
      "There is also an increase in [[conspiracy theory|conspiracy theories]] toward conventional medicine and pharmaceutical companies, mistrust of traditional authority figures, such as the physician, and a dislike of the current delivery methods of scientific biomedicine, all of which have led patients to seek out alternative medicine to treat a variety of ailments.<ref name=Beyerstein2001/> Many patients lack access to contemporary medicine, due to a lack of private or public [[health insurance]], which leads them to seek out lower-cost alternative medicine.<ref name=Barnes2004/> Medical doctors are also aggressively marketing alternative medicine to profit from this market.<ref name=Weber/>\n",
      "\n",
      "Patients can be averse to the painful, unpleasant, and sometimes-dangerous [[adverse effect|side effects]] of biomedical treatments. Treatments for severe diseases such as [[cancer]] and [[HIV]] infection have well-known, significant side-effects. Even low-risk medications such as [[antibiotics]] can have potential to cause life-threatening [[anaphylactic]] reactions in a very few individuals. Many medications may cause minor but bothersome symptoms such as cough or upset stomach. In all of these cases, patients may be seeking out alternative treatments to avoid the adverse effects of conventional treatments.<ref name=Beyerstein/><ref name=Beyerstein2001/>\n",
      "\n",
      "== Definitions and terminology ==\n",
      "\n",
      "=== Alternative medicine ===\n",
      "It is loosely as a defined set of products, practices, and theories that are believed or perceived by their users to have the healing effects of [[medicine]],{{refn|name=NSFquote|group=n|\"[A]lternative medicine refers to all treatments that have not been proven effective using scientific methods.\"<ref name=NSF_2002/>}}{{refn|\"Complementary and alternative medicine (CAM) is a broad domain of resources that encompasses health systems, modalities, and practices and their accompanying theories and beliefs, other than those intrinsic to the dominant health system of a particular society or culture in a given historical period. CAM includes such resources perceived by their users as associated with positive health outcomes. Boundaries within CAM and between the CAM domain and the domain of the dominant system are not always sharp or fixed.\"{{sfn|IOM Report|2005|p=19}}|name=IOMquote|group=n}} but whose [[efficacy|effectiveness]] has not been clearly established using [[scientific method]]s,{{refn|name=NSFquote|group=n}}{{refn|name=Angellquote|group=n|\"It is time for the scientific community to stop giving alternative medicine a free ride. There cannot be two kinds of medicine – conventional and alternative. There is only medicine that has been adequately tested and medicine that has not, medicine that works and medicine that may or may not work... speculation, and testimonials do not substitute for evidence.\"<ref name=Angell1998/>}}<ref name=\"ATRAMM\"/><ref name=\"Hines_Sampson_Coulter_Sagan\"/><ref name=\"IGPIAMAYP\"/><ref name=\"NP\"/> or whose theory and practice is not part of [[biomedicine]],{{refn|group=n|name=IOMquote}}{{refn|group=n|name=Harrisonquote|\"The phrase complementary and alternative medicine is used to describe a group of diverse medical and health care systems, practices, and products that have historic origins outside mainstream medicine. Most of these practices are used together with conventional therapies and therefore have been called complementary to distinguish them from alternative practices, those used as a substitute for standard care. ... Until a decade ago or so, \"complementary and alternative medicine\" could be defined as practices that are neither taught in medical schools nor reimbursed, but this definition is no longer workable, since medical students increasingly seek and receive some instruction about complementary health practices, and some practices are reimbursed by third-party payers. Another definition, practices that lack an evidence base, is also not useful, since there is a growing body of research on some of these modalities, and some aspects of standard care do not have a strong evidence base.\"{{sfn|Harrison's Principles of Internal Medicine|2015|loc=chpt. 14-E|p=1}}}}{{refn|name=WebMD2014quote|group=n|\"An alternative medical system is a set of practices based on a philosophy different from Western biomedicine.\"<ref name=WebMD2014/>}}{{refn|group=n|name=NCCIH2quote|\"CAM is a group of diverse medical and health care systems, practices, and products that are not generally considered part of conventional medicine.\"<ref name=NCCIH2/>}} or whose theories or practices are directly contradicted by [[scientific evidence]] or [[science|scientific principles]] used in biomedicine.<ref name=\"ATRAMM\" /><ref name=\"Hines_Sampson_Coulter_Sagan\" /><ref name=\"AMCER\" /> \"Biomedicine\" or \"medicine\" is that part of [[medical science]] that applies principles of [[biology]], [[physiology]], [[molecular biology]], [[biophysics]], and other [[natural science]]s to [[clinical practice]], using scientific methods to establish the effectiveness of that practice. Unlike medicine,{{refn|name=Harrisonquote|group=n}} an alternative product or practice does not originate from using scientific methodology, but may instead be based on [[testimonial]]s, [[religion]], tradition, [[superstition]], belief in [[supernatural]] energies, [[pseudoscience]], [[fallacy|errors in reasoning]], [[propaganda]], [[fraud]], or other unscientific sources.{{refn|name=Angellquote|group=n}}<ref name=\"NSF_2002\" /><ref name=\"ATRAMM\" /><ref name=\"Hines_Sampson_Coulter_Sagan\" />\n",
      "\n",
      "In ''General Guidelines for Methodologies on Research and Evaluation of Traditional Medicine'', published in 2000 by the [[World Health Organization]] (WHO), complementary and alternative medicine were defined as a broad set of health care practices that are not part of that country's own tradition and are not integrated into the dominant health care system.<ref name=\"WHO_Trad_Med_Defs\" />{{sfn|WHO|2000}}\n",
      "\n",
      "The expression also refers to a diverse range of related and unrelated products, practices, and theories ranging from biologically plausible practices and products and practices with some evidence, to practices and theories that are directly contradicted by basic science or clear evidence, and products that have been conclusively proven to be ineffective or even toxic and harmful.{{refn|group=n|name=IOMquote}}<ref name=\"CAM_Sointu_Nissen_Eisenberg\" /><ref name=\"DaguptaHStabler2011\" />\n",
      "\n",
      "The terms''-Alternative medicine'', ''complementary medicine'', ''integrative medicine,'' ''holistic medicine'', ''natural medicine'', ''unorthodox medicine'', ''fringe medicine'', ''unconventional medicine'', and ''[[new age]] medicine'' are used interchangeably as having the same meaning and are almost synonymous in some contexts,<ref name=\"Shapiro 08\">{{Cite book|url=https://books.google.com/books?id=Ib_IbOu_d9gC&pg=PA1&lpg=PA1&dq|title=Suckers: How Alternative Medicine Makes Fools of Us All|last=Shapiro|first=Rose|date=2010-09-30|publisher=Random House|isbn=9781409059165|language=en}}</ref><ref name=\"Bombardieri2000\" /><ref name=\"Shuval2012\" /><ref name=\"Freedman2011\" /> but may have different meanings in some rare cases.\n",
      "[[File:Marcia.angell.jpg|thumb|[[Marcia Angell]]: \"There cannot be two kinds of medicine — conventional and alternative\".]]\n",
      "The meaning of the term \"alternative\" in the expression \"alternative medicine\", is not that it is an effective alternative to [[medical science]], although some alternative medicine promoters may use the loose terminology to give the appearance of effectiveness.<ref name=\"ATRAMM\" /><ref name=\"Kolata\">{{Citation|last=Kolata|first=Gina|title=On Fringes of Health Care, Untested Therapies Thrive|date=June 17, 1996|url=https://www.nytimes.com/1996/06/17/us/on-fringes-of-health-care-untested-therapies-thrive.html?pagewanted=all|author-link=Gina Kolata|publisher=''[[The New York Times]]''|accessdate=December 22, 2015}}</ref> Loose terminology may also be used to suggest meaning that a dichotomy exists when it does not, e.g., the use of the expressions \"western medicine\" and \"eastern medicine\" to suggest that the difference is a cultural difference between the Asiatic east and the European west, rather than that the difference is between [[evidence-based medicine]] and treatments that don't work.<ref name=\"ATRAMM\" />\n",
      "\n",
      "=== Complementary/integrative medicine {{anchor|Complementary medicine|Integrative medicine}} ===\n",
      "'''Complementary medicine''' ('''CM''') or '''integrative medicine''' ('''IM''') is when alternative medicine is used together with functional medical treatment, in a [[belief]] that it improves the effect of treatments.{{refn|group=n|name=FinalReport|The ''Final Report'' (2002) of the White House Commission on Complementary and Alternative Medicine Policy states: \"The Commissioners believe and have repeatedly stated in this Report that our response should be to hold all systems of health and healing, including conventional and CAM, to the same rigorous standards of good science and health services research. Although the Commissioners support the provision of the most accurate information about the state of the science of all CAM modalities, they believe that it is premature to advocate the wide implementation and reimbursement of CAM modalities that are yet unproven.\"<ref name=\"whccamp.hhs.gov\"/>}}<ref name=NSF_2002/><ref name=Ernst_1995/><ref name=Joyce_1994/><ref name=BMJ_May/> However, significant [[drug interaction]]s caused by alternative therapies may instead negatively influence treatment, making treatments less effective, notably [[Treatment of cancer|cancer therapy]].<ref name=autogenerated2>{{Cite journal|last=Zeller|first=T.|last2=Muenstedt|first2=K.|last3=Stoll|first3=C.|last4=Schweder|first4=J.|last5=Senf|first5=B.|last6=Ruckhaeberle|first6=E.|last7=Becker|first7=S.|last8=Serve|first8=H.|last9=Huebner|first9=J.|date=2013-03-01|title=Potential interactions of complementary and alternative medicine with cancer therapy in outpatients with gynecological cancer in a comprehensive cancer center|journal=Journal of Cancer Research and Clinical Oncology|volume=139|issue=3|pages=357–365|doi=10.1007/s00432-012-1336-6|issn=1432-1335|pmid=23099993}}</ref><ref name=\"Arye13\">{{Cite journal|last=Ben-Arye|first=Eran|last2=Polliack|first2=Aaron|last3=Schiff|first3=Elad|last4=Tadmor|first4=Tamar|last5=Samuels|first5=Noah|date=2013-12-01|title=Advising patients on the use of non-herbal nutritional supplements during cancer therapy: a need for doctor-patient communication|journal=Journal of Pain and Symptom Management|volume=46|issue=6|pages=887–896|doi=10.1016/j.jpainsymman.2013.02.010|issn=1873-6513}}</ref> Both terms refer to use of alternative medical treatments alongside conventional medicine,<ref name=\"NCI_PDQ_CAM\" /><ref name=\"Borkan2012\" /><ref name=\"whatiscam\" /> an example of which is use of [[acupuncture]] (sticking needles in the body to influence the flow of a supernatural energy), along with using science-based medicine, in the belief that the acupuncture increases the effectiveness or \"complements\" the science-based medicine.<ref name=\"whatiscam\" />\n",
      "\n",
      "===Allopathic medicine {{anchor|Allopathic medicine|Allopathy}}===\n",
      "'''Allopathic medicine''' or '''allopathy''' is an expression commonly used by [[Homeopathy|homeopaths]] and proponents of other forms of alternative medicine to refer to [[medicine|mainstream medicine]]. Specifically it refers to the use of pharmacologically active [[Active ingredient|agents]] or [[Surgery|physical interventions]] to treat or suppress [[symptoms]] or [[pathophysiology|pathophysiologic]] processes of diseases or conditions.<ref name=FREEDICT>{{cite web|url=http://medical-dictionary.thefreedictionary.com/allopathy |website=The Free Dictionary |publisher=Farlex |title=Definition {{ndash}} allopathy |accessdate=25 October 2013}} Citing: ''Gale Encyclopedia of Medicine'' (2008) and ''Mosby's Medical Dictionary'', 8th ed. (2009).</ref>  The expression was coined in 1810 by the creator of [[homeopathy]], [[Samuel Hahnemann]] (1755–1843).<ref name=Whorton2003/> In such circles, the expression \"allopathic medicine\" is still used to refer to \"the broad category of medical practice that is sometimes called Western medicine, [[biomedicine]], [[evidence-based medicine]], or modern medicine\" (see the article on [[scientific medicine]]).<ref name=WHO>{{cite web|url=http://whqlibdoc.who.int/hq/2001/WHO_EDM_TRM_2001.2.pdf|title=Legal Status of Traditional Medicine and Complementary/Alternative Medicine: A Worldwide Review|accessdate=2007-09-12|year=2001|author=Xiaorui Zhang|publisher=| archiveurl= https://web.archive.org/web/20070926083307/http://whqlibdoc.who.int/hq/2001/WHO_EDM_TRM_2001.2.pdf| archivedate= 26 September 2007 | deadurl= no}}</ref>\n",
      "\n",
      "Use of the term remains common among homeopaths and has spread to other alternative medicine practices. The meaning implied by the label has never been accepted by conventional medicine and is considered pejorative.<ref name=Atwood2004>{{cite journal |author=Atwood KC |title=Naturopathy, pseudoscience, and medicine: myths and fallacies vs truth |journal=Medscape General Medicine |volume=6|issue=1|pages=33|year=2004|pmid=15208545|pmc=1140750 }}</ref> More recently, some sources have used the term \"allopathic\", particularly American sources wishing to distinguish between [[Comparison of MD and DO in the United States|Doctors of Medicine (MD) and Doctors of Osteopathic Medicine (DO) in the United States]].<ref name=Whorton2003>{{cite web |author=Whorton JC |url=http://www.pbs.org/wgbh/pages/frontline/shows/altmed/clash/history.html |title=Counterculture healing: A brief history of alternative medicine in America |date=4 Nov 2003 |publisher=WGBH Educational Foundation |accessdate=25 Dec 2007}}</ref><ref name=NRMP>[http://www.nrmp.org//res_match/special_part/ind_app/registration.html National Resident Matching Program]</ref> William Jarvis, an expert on alternative medicine and public health,<ref name=\"Closer to Truth Participants| PBS\">{{cite web|url=http://www.pbs.org/kcet/closertotruth/participants/index3.html|work=Closer to Truth |title=Participants |accessdate=2008-03-22 |archiveurl=https://web.archive.org/web/20080420042924/http://www.pbs.org/kcet/closertotruth/participants/index3.html |archivedate=20 April 2008 |deadurl=no}}</ref> states that \"although many modern therapies can be construed to conform to an allopathic rationale (e.g., using a laxative to relieve constipation), standard medicine has never paid allegiance to an allopathic principle\" and that the label \"allopath\" was from the start \"considered highly derisive by regular medicine\".<ref name=Jarvis>{{cite web |url=http://www.ncahf.org/articles/a-b/allopathy.html |title=Misuse of the term \"Allopathy\" |accessdate=2013-02-07 |last=Jarvis |first=William T. |year=1996 |publisher=[[National Council Against Health Fraud]]}}</ref>\n",
      "\n",
      "Many conventional medical treatments clearly do not fit the nominal definition of allopathy, as they seek to prevent illness, or remove it's cause.<ref name=Berkenwald1998>{{cite journal|title=In the name of medicine|journal=[[Annals of Internal Medicine]]|year=1998|first=AD|last=Berkenwald|volume=128|pages=246–50|url=http://www.annals.org/cgi/content/full/128/3/246|issue=3|doi=10.7326/0003-4819-128-3-199802010-00023 }}</ref><ref name=Federspil2003>{{cite journal|author=Federspil G|author2=Presotto F |author3=Vettor R |year=2003|title=A critical overview of homeopathy|journal=Annals of Internal Medicine|volume=139|issue=8|url=http://annals.highwire.org/cgi/content/full/139/8/W-75 | doi = 10.7326/0003-4819-139-8-200310210-00026-w3 }}</ref>\n",
      "\n",
      "===CAM===\n",
      "CAM is an abbreviation of complementary and alternative medicine.<ref name=ernstinterview/><ref name=CassilethDeng2004/> It has also been called sCAM or SCAM with the addition of \"so-called\" or \"supplements\".<ref>{{Cite web|url=http://skepdic.com/refuge/sdshort.html|title=The short and irreverant e-dition of The Skeptic's Dictionary - part 1 - sCAM - so-called complementary and alternative medicine - Skepdic.com|website=skepdic.com|access-date=2016-10-15}}</ref><ref>{{Cite journal|last=Tyreman|first=Stephen|date=2011-05-01|title=Values in complementary and alternative medicine|journal=Medicine, Health Care, and Philosophy|volume=14|issue=2|pages=209–217|doi=10.1007/s11019-010-9297-5|issn=1572-8633|pmid=21104324}}</ref> The words balance and holism are often used, claiming to take into account a \"whole\" person, in contrast to the supposed reductionism of medicine. Due to its many names the field has been criticized for intense [[rebranding]] of what are essentially the same practices: as soon as one name is declared synonymous with [[quackery]], a new name is chosen.<ref name=\"Shapiro 08\" />\n",
      "\n",
      "===Traditional medicine===\n",
      "{{main article|Traditional medicine}}\n",
      "'''Traditional medicine''' refers to the pre-scientific practices of a certain culture, contrary to what is typically practiced in other cultures where medical science dominates.\n",
      "\n",
      "\"[[Eastern medicine]]\" typically refers to the traditional medicines of Asia where conventional bio-medicine penetrated much later.\n",
      "\n",
      "=== Problems with definition ===\n",
      "\n",
      "Prominent members of the science<ref name=\"Offit2013\" /><ref name=\"Dawkins2003a\" /> and biomedical science community<ref name=\"Angell1998\" /> say that it is not meaningful to define an alternative medicine that is separate from a conventional medicine, that the expressions \"conventional medicine\", \"alternative medicine\", \"complementary medicine\", \"integrative medicine\",  and \"holistic medicine\" do not refer to any medicine at all.<ref name=\"Offit2013\" /><ref name=\"Angell1998\" /><ref name=\"Dawkins2003a\" /><ref name=\"Fontanarosa1998\" />\n",
      "\n",
      "Others in both the biomedical and CAM communities say that CAM ''cannot'' be precisely defined because of the diversity of theories and practices it includes, and because the boundaries between CAM and biomedicine overlap, are porous, and change.{{sfn|Harrison's Principles of Internal Medicine|2015|loc=chpt. 14-E|p=1}}{{sfn|IOM Report|2005|p=14–20}} The expression \"complementary and alternative medicine\" (CAM) resists easy definition because the health systems and practices it refers to are diffuse, and its boundaries poorly defined.<ref name=\"CAM_Sointu_Nissen_Eisenberg\" />{{sfn|Ruggie|2004|p=[https://books.google.com/books?id=ViDwi7s2VvMC&pg=PA20 20]}}{{refn|group=n|Mary Ruggie in Chapter 2 of ''Marginal to Mainstream: Alternative Medicine in America'' said, \"By the mid-1990s, the notion that some alternative therapies could be complementary to conventional medicine began to change the status of...alternative medicine. The 21st century is witnessing yet another terminological innovation, in which CAM and conventional medicine are becoming integrative.\"{{sfn|Ruggie|2004}}}}\n",
      "Healthcare practices categorized as alternative may differ in their historical origin, theoretical basis, [[medical diagnosis|diagnostic technique]], [[therapy|therapeutic practice]] and in their relationship to the medical mainstream.{{sfn|Sointu|2012|p=[https://books.google.com/books?id=XC2UUP36bjAC&pg=PA13 13]}} Some alternative therapies, including [[traditional Chinese medicine|traditional Chinese medicine (TCM)]] and [[Ayurveda]], have antique origins in East or South Asia and are entirely alternative medical systems;<ref>{{harvnb|Sointu|2012|p=[https://books.google.com/books?id=XC2UUP36bjAC&pg=PA13 13]}}.<br>\n",
      "{{harvnb|IOM Report|2005|p=[http://books.nap.edu/openbook.php?record_id=11182&page=18 18]}}.</ref> others, such as homeopathy and chiropractic, have origins in Europe or the United States and emerged in the eighteenth and nineteenth centuries.{{sfn|Gevitz|1997|pp=[https://books.google.com/books?id=ZIqk31BXpksC&pg=PA603 603–33]}} Some, such as [[osteopathy]] and chiropractic, employ manipulative physical methods of treatment; others, such as [[meditation]] and [[prayer]], are based on [[mind-body intervention]]s.{{sfn|IOM Report|2005|p=[http://books.nap.edu/openbook.php?record_id=11182&page=18 18]}} Treatments considered alternative in one location may be considered conventional in another.<ref name=\"Nissen2013\" /> Thus, chiropractic is not considered alternative in Denmark and likewise [[Osteopathic medicine in the United States|osteopathic medicine]] is no longer thought of as an alternative therapy in the United States.<ref name=\"Nissen2013\" />\n",
      "\n",
      "Critics say the expression is deceptive because it implies there is an effective alternative to science-based medicine, and that ''complementary'' is deceptive because it implies that the treatment increases the effectiveness of (complements) science-based medicine, while alternative medicines that have been tested nearly always have no measurable positive effect compared to a [[placebo]].<ref name=ATRAMM/><ref name=Skep_Dic_comp_med/><ref name=Novella2010/><ref name=Gorski2010/>\n",
      "\n",
      "===Different types of definitions===\n",
      "\n",
      "One common feature of all definitions of alternative medicine is its designation as \"other than\" conventional medicine.{{sfn|IOM Report|2005|p=[http://books.nap.edu/openbook.php?record_id=11182&page=14 14]}} For example, the widely referenced{{sfn|IOM Report|2005|p=[http://books.nap.edu/openbook.php?record_id=11182&page=19 19]}} descriptive definition of complementary and alternative medicine devised by the [[National Center for Complementary and Alternative Medicine|US National Center for Complementary and Integrative Health (NCCIH)]] of the [[National Institutes of Health|National Institutes of Health (NIH)]], states that it is \"a group of diverse medical and health care systems, practices, and products that are not generally considered part of conventional medicine\".<ref name=\"NCCIH1\" /> For conventional medical practitioners, it does not necessarily follow that either it or its practitioners would no longer be considered alternative.{{refn|group=n|As David J. Hufford, Professor and Director at the Doctors Kienle Center for Humanistic Medicine at the [[Penn State Milton S. Hershey Medical Center|Penn State College of Medicine]],<ref name=HuffordUPenn/> has argued: \"Simply because an herbal remedy comes to be used by physicians does not mean that herbalists cease to practice, or that the practice of the one becomes like that of the other.\"<ref name=Hufford2004a/>}}\n",
      "\n",
      "Some definitions seek to specify alternative medicine in terms of its social and political marginality to mainstream healthcare.<ref name=\"Saks1992\" /> This can refer to the lack of support that alternative therapies receive from the medical establishment and related bodies regarding access to [[Medical research#Funding|research funding]], sympathetic coverage in the [[Medical literature|medical press]], or inclusion in the standard [[Medical education|medical curriculum]].<ref name=\"Saks1992\" /> In 1993, the [[British Medical Association|British Medical Association (BMA)]], one among many professional organizations who have attempted to define alternative medicine, stated that it{{refn|group=n|The BMA used the term non-conventional medicine instead of alternative medicine.<ref name=BMA_1993_1st/>}} referred to \"...those forms of treatment which are not widely used by the conventional healthcare professions, and the skills of which are not taught as part of the undergraduate curriculum of conventional medical and paramedical healthcare courses\".<ref name=\"BMA_1993_1st\" /> In a US context, an influential definition coined in 1993 by the Harvard-based physician,<ref name=\"Artus2007\" /> David M. Eisenberg,<ref name=\"Eisenberg_Bio\" /> characterized alternative medicine \"as interventions neither taught widely in medical schools nor generally available in US hospitals\".<ref>{{harvnb|Eisenberg et al.|1993}}.<br>\n",
      "{{harvnb|Eisenberg et al.|1998}}.</ref> These descriptive definitions are inadequate in the present-day when some conventional doctors offer alternative medical treatments and CAM introductory courses or modules can be offered as part of standard undergraduate medical training;<ref name=\"HOL_Kopelman_Wieland_Astin_Pelletier\" /> alternative medicine is taught in more than 50 per cent of [[Medical school in the United States|US medical schools]] and increasingly [[Health insurance in the United States|US health insurers]] are willing to provide reimbursement for CAM therapies.{{sfn|IOM Report|2005|pp=[http://books.nap.edu/openbook.php?record_id=11182&page=17 17], [http://books.nap.edu/openbook.php?record_id=11182&page=196 196–252]}} In 1999, 7.7% of US hospitals reported using some form of CAM therapy; this proportion had risen to 37.7% by 2008.<ref name=\"Salomonsen_AHA\" />\n",
      "\n",
      "An expert panel at a conference hosted in 1995 by the US Office for Alternative Medicine (OAM),<ref name=\"Wieland2011\" />{{refn|group=n|The Office for Alternative Medicine, part of the National Institutes of Health, was renamed NCCAM in 1998.<ref name=FDA_regulatory/>}} devised a [[theoretical definition]]<ref name=\"Wieland2011\" /> of alternative medicine as \"a broad domain of healing resources&nbsp;... other than those intrinsic to the politically dominant health system of a particular society or culture in a given historical period\".<ref name=\"CAM_RMC1997\" /> This definition has been widely adopted by CAM researchers,<ref name=\"Wieland2011\" /> cited by official government bodies such as the UK Department of Health,<ref name=\"UKDoH_CAM\" /> attributed as the definition used by the [[Cochrane Collaboration]],<ref name=\"ZollChanCoulRobeAdamArtu\" /> and, with some modification,{{dubious|date=June 2015}} was preferred in the 2005 consensus report of the [[Institute of Medicine|US Institute of Medicine]], ''Complementary and Alternative Medicine in the United States''.{{refn|group=n|name=IOMquote}}\n",
      "\n",
      "The 1995 OAM conference definition, an expansion of Eisenberg's 1993 formulation, is silent regarding questions of the medical effectiveness of alternative therapies.<ref name=\"Hufford2004\" /> Its proponents hold that it thus avoids [[relativism]] about differing forms of medical knowledge and, while it is an essentially political definition, this should not imply that the dominance of mainstream [[biomedicine]] is solely due to political forces.<ref name=\"Hufford2004\" /> According to this definition, alternative and [[medicine|mainstream medicine]] can only be differentiated with reference to what is \"intrinsic to the politically dominant health system of a particular society of culture\".<ref name=\"Kopelman2004\" /> However, there is neither a reliable method to distinguish between cultures and [[subculture]]s, nor to attribute them as dominant or subordinate, nor any accepted criteria to determine the dominance of a cultural entity.<ref name=\"Kopelman2004\" /> If the culture of a politically dominant healthcare system is held to be equivalent to the perspectives of those charged with the medical management of leading healthcare institutions and programs, the definition fails to recognize the potential for division either within such an elite or between a healthcare elite and the wider population.<ref name=\"Kopelman2004\" />\n",
      "\n",
      "[[Normative]] definitions distinguish alternative medicine from the biomedical mainstream in its provision of therapies that are unproven, unvalidated, or ineffective and support of theories with no recognized scientific basis.{{sfn|IOM Report|2005|p=[http://books.nap.edu/openbook.php?record_id=11182&page=17 17]}} These definitions characterize practices as constituting alternative medicine when, used independently or in place of [[evidence-based medicine]], they are put forward as having the healing effects of medicine, but are not based on [[evidence]] gathered with the [[scientific method]].<ref name=\"NSF_2002\" /><ref name=\"Angell1998\" /><ref name=\"NCI_PDQ_CAM\" /><ref name=\"Borkan2012\" /><ref name=\"NCCIH1\" /><ref name=\"Kong2005\" /> Exemplifying this perspective, a 1998 editorial co-authored by [[Marcia Angell]], a former editor of the ''[[The New England Journal of Medicine|New England Journal of Medicine]]'', argued that:\n",
      "\n",
      ": \"It is time for the scientific community to stop giving alternative medicine a free ride. There cannot be two kinds of medicine – conventional and alternative. There is only medicine that has been adequately tested and medicine that has not, medicine that works and medicine that may or may not work. Once a treatment has been tested rigorously, it no longer matters whether it was considered alternative at the outset. If it is found to be reasonably safe and effective, it will be accepted. But assertions, speculation, and testimonials do not substitute for evidence. Alternative treatments should be subjected to scientific testing no less rigorous than that required for conventional treatments.\"<ref name=\"Angell1998\" />\n",
      "\n",
      "This line of division has been subject to criticism, however, as not all forms of standard medical practice have adequately demonstrated evidence of benefit,{{refn|name=Harrisonquote|group=n}}<ref name=\"Ezzo2001\" />{{sfn|IOM Report|2005|p=17–18}} and it is also unlikely in most instances that conventional therapies, if proven to be ineffective, would ever be classified as CAM.<ref name=\"Wieland2011\" />\n",
      "\n",
      "Similarly, the public information website maintained by the [[National Health and Medical Research Council]] (NHMRC) of the Commonwealth of Australia uses the acronym \"CAM\" for a wide range of health care practices, therapies, procedures and devices not within the domain of conventional medicine. In the Australian context this is stated to include acupuncture; aromatherapy; chiropractic; homeopathy; massage; meditation and relaxation therapies; naturopathy; osteopathy; reflexology, traditional Chinese medicine; and the use of vitamin supplements.<ref name=\"NHMRC_CAM\" />\n",
      "\n",
      "The [[National Board of Health (Denmark)|Danish National Board of Health's]] \"Council for Alternative Medicine\" (Sundhedsstyrelsens Råd for Alternativ Behandling (SRAB)), an independent institution under the National Board of Health (Danish: ''Sundhedsstyrelsen''), uses the term \"alternative medicine\" for:\n",
      "\n",
      "* Treatments performed by therapists that are not authorized healthcare professionals.\n",
      "* Treatments performed by authorized healthcare professionals, but those based on methods otherwise used mainly outside the healthcare system. People without a healthcare authorisation are [also] allowed to perform the treatments.<ref name=\"VIFAB_definition\" />\n",
      "\n",
      "Proponents of an [[Evidence-based medicine|evidence-base for medicine]]{{refn|group=n|\"Evidence based medicine is the conscientious, explicit, and judicious use of current best evidence in making decisions about the care of individual patients\";<ref name=Sackett1996/> \"Evidence based medicine, whose philosophical origins extend back to mid-19th century Paris and earlier, remains a hot topic for clinicians, public health practitioners, purchasers, planners, and the public. British centres for evidence based practice have been established or planned in adult medicine, child health, surgery, pathology, pharmacotherapy, nursing, general practice, and dentistry; the Cochrane Collaboration and Britain's Centre for Review and Dissemination in York are providing systematic reviews of the effects of health care\".<ref name=Sackett1996/>}}<ref name=Nuffield_Trust/><ref name=Belsey2009/><ref name=Nuffield2/><ref name=Bardsley2011/> such as the Cochrane Collaboration (founded in 1993 and from 2011 providing input for WHO resolutions) take a position that ''all'' systematic reviews of treatments, whether \"mainstream\" or \"alternative\", ought to be held to the current standards of scientific method.<ref name=UM_CAM_Field/> In a study titled ''Development and classification of an operational definition of complementary and alternative medicine for the Cochrane Collaboration'' (2011) it was proposed that indicators that a therapy is accepted include government licensing of practitioners, coverage by [[health insurance]], statements of approval by government agencies, and recommendation as part of a practice guideline; and that if something is currently a standard, accepted therapy, then it is not likely to be widely considered as CAM.<ref name=Wieland2011/>\n",
      "\n",
      "=== NCCIH classification ===\n",
      "A United States government agency, the National Center on Complementary and Integrative Health ([[NCCIH]]), created its own classification system for branches of complementary and alternative medicine that divides them into five major groups. These groups have some overlap, and distinguish  two types of energy medicine: ''veritable'' which involves scientifically observable [[energy]] (including [[magnet therapy]], [[colorpuncture]] and [[light therapy]]) and ''putative'', which invokes physically undetectable or unverifiable energy.<ref name=\"NCCIH_EMed\" />\n",
      "\n",
      "The NCCIH classification system is - \n",
      "# Whole medical systems: Cut across more than one of the other groups; examples include traditional Chinese medicine, naturopathy, homeopathy, and ayurveda\n",
      "# Mind-body interventions: Explore the interconnection between the mind, body, and spirit, under the premise that the mind can affect \"bodily functions and symptoms\"\n",
      "# \"Biology\"-based practices: Use substances found in nature such as herbs, foods, vitamins, and other natural substances. (Note that as used here, \"biology\" does ''not'' refer to the science of [[biology]], but is a usage newly coined by NCCIH in the primary source used for this article. \"Biology-based\" as coined by NCCIH may refer to chemicals from a nonbiological source, such as use of the poison [[lead]] in traditional Chinese medicine, and to other nonbiological substances.)\n",
      "# Manipulative and body-based practices: feature manipulation or movement of body parts, such as is done in bodywork, chiropractic, and osteopathic manipulation\n",
      "# Energy medicine: is a domain that deals with putative and verifiable energy fields:\n",
      "#* [[Energy (spirituality)#Biofields|Biofield]] therapies are intended to influence energy fields that are purported to surround and penetrate the body. No empirical evidence has been found to support the existence of the putative energy fields on which these therapies are predicated.\n",
      "#* [[Bioelectromagnetism|Bioelectromagnetic]]-based therapies use verifiable electromagnetic fields, such as pulsed fields, alternating-current, or direct-current fields in an unconventional manner.\n",
      "\n",
      "== Types==\n",
      "\n",
      "{{see also|List of forms of alternative medicine|Pseudomedicine#List of fields characterized as pseudomedicine}}\n",
      "[[File:Xi'an traditionnal medecine market (18).JPG|thumb|Ready-to-drink [[traditional Chinese medicine]] mixture|left|200x200px]]Alternative medicine consists of a wide range of health care practices, products, and therapies. The shared feature is a claim to heal that is not based on the scientific method. Alternative medicine practices are diverse in their foundations and methodologies.<ref name=\"NCCIH1\" /> Alternative medicine practices may be classified by their cultural origins or by the types of beliefs upon which they are based.<ref name=\"NSF_2002\" /><ref name=\"ATRAMM\" /><ref name=\"AMCER\" /><ref name=\"NCCIH1\" /> Methods may incorporate or be based on traditional medicinal practices of a particular culture, folk knowledge, superstition,{{sfn|O'Connor|1995|p=[https://books.google.com/books?id=JXFPb88KLZQC&pg=PA2 2]}} spiritual beliefs, belief in [[supernatural]] energies ([[antiscience]]), [[pseudoscience]], [[fallacy|errors in reasoning]], propaganda, fraud, new or different concepts of health and disease, and any bases other than being proven by scientific methods.<ref name=\"NSF_2002\" /><ref name=\"ATRAMM\" /><ref name=\"Hines_Sampson_Coulter_Sagan\" /><ref name=\"AMCER\" /> Different cultures may have their own unique traditional or belief based practices developed recently or over thousands of years, and specific practices or entire systems of practices.\n",
      "{{Clear}}\n",
      "\n",
      "===Unscientific belief systems===\n",
      "\n",
      "Alternative medicine, such as using [[naturopathy]] or [[homeopathy]] in place of [[conventional medicine]], is based on belief systems not grounded in science.<ref name=\"NCCIH1\" />\n",
      "\n",
      "{| class=\"wikitable\"\n",
      "!\n",
      "!Proposed mechanism\n",
      "!Issues\n",
      "|-\n",
      "![[Naturopathy]]\n",
      "|Naturopathic medicine is based on a belief that the body heals itself using a supernatural [[vitalism|vital energy]] that guides bodily processes.<ref name=\"SarrisWardle2010\" />\n",
      "|In conflict with the paradigm of [[evidence-based medicine]].<ref name=\"Jagtenberg2006\" /> Many naturopaths have opposed [[vaccination]],<ref name=\"Ernst2001\" /> and \"scientific evidence does not support claims that naturopathic medicine can cure [[cancer]] or any other disease\".<ref name=\"ACS\" />\n",
      "|-\n",
      "![[Homeopathy]]\n",
      "|A belief that a substance that causes the symptoms of a disease in healthy people cures similar symptoms in sick people.{{refn|In his book ''The Homœopathic Medical Doctrine'' [[Samuel Hahnemann]] the creator of homeopathy wrote: \"Observation, reflection, and experience have unfolded to me that the best and true method of cure is founded on the principle, ''[[similia similibus curentur]].'' To cure in a mild, prompt, safe, and durable manner, it is necessary to choose in each case a medicine that will excite an affection similar (''{{lang|el|ὅμοιος πάθος}}'') to that against which it is employed.\"{{sfn|Hahnemann|1833|p=[https://books.google.com/books?id=EnEFAAAAQAAJ&pg=PR3 iii], [https://books.google.com/books?id=EnEFAAAAQAAJ&pg=PA48 48–49]}}|name=Hahnemannquote|group=n}}\n",
      "|Developed before knowledge of [[atom]]s and [[molecule]]s, or of basic chemistry, which shows that repeated dilution as practiced in homeopathy produces only water, and that homeopathy is not scientifically valid.<ref name=\"Ernst2002\" /><ref name=\"HCReport2010\" /><ref name=\"shang\" /><ref name=\"NCCIH_homeopathy\" />\n",
      "|}\n",
      "\n",
      "===Traditional ethnic systems===\n",
      "Alternative medical systems may be based on [[traditional medicine]] practices, such as [[traditional Chinese medicine]] (TCM), [[Ayurveda]] in India, or practices of other cultures around the world.<ref name=\"NCCIH1\" /> Some useful applications of traditional medicines have been researched and accepted within ordinary medicine, however the underlying belief systems are seldom scientific and are not accepted.\n",
      "{| class=\"wikitable\"\n",
      "!\n",
      "!Claims\n",
      "!Issues\n",
      "|-\n",
      "|[[Traditional Chinese medicine]]\n",
      "|Traditional practices and beliefs from China, together with modifications made by the Communist party make up TCM. Common practices include herbal medicine, [[acupuncture]] (insertion of needles in the body at specified points), massage (Tui na), exercise ([[qigong]]), and dietary therapy.\n",
      "|The practices are based on belief in a supernatural energy called [[qi]], considerations of [[Chinese Astrology]] and [[Numerology#Chinese numerology|Chinese numerology]], traditional use of herbs and other substances found in China—a belief that the tongue contains a map of the body that reflects changes in the body, and an incorrect model of the anatomy and physiology of internal organs.<ref name=\"ATRAMM\" /><ref name=\"BeyersteinSampson1996\" /><ref name=\"LuNeedham1980\" /><ref name=\"Maciocia1995\" /><ref name=\"Matuk2006\" /><ref name=\"Deshpande1987\" />\n",
      "|-\n",
      "|[[Ayurveda]]\n",
      "|Traditional medicine of India. Ayurveda believes in the existence of three elemental substances, the [[doshas]] (called Vata, Pitta and Kapha), and states that a balance of the doshas results in health, while imbalance results in disease. Such disease-inducing imbalances can be adjusted and balanced using traditional herbs, minerals and heavy metals. Ayurveda stresses the use of plant-based medicines and treatments, with some animal products, and added minerals, including [[sulfur]], [[arsenic]], lead, [[copper sulfate]].\n",
      "|Safety concerns have been raised about Ayurveda, with two U.S. studies finding about 20 percent of Ayurvedic Indian-manufactured [[patent medicine]]s contained toxic levels of heavy metals such as [[lead]], [[Mercury (element)|mercury]] and [[arsenic]]. Other concerns include the use of herbs containing toxic compounds and the lack of quality control in Ayurvedic facilities. Incidents of [[heavy metal poisoning]] have been attributed to the use of these compounds in the United States.{{sfn|Wujastyk|2003|p=xviii}}{{sfn|Mishra|2004|p=8}}<ref name=\"DaguptaHStabler2011\" /><ref name=\"Valiathan2006\" /><ref name=\"CDC\" /><ref name=\"Saper2008\" />\n",
      "|}\n",
      "\n",
      "===Supernatural energies===\n",
      "\n",
      "Bases of belief may include belief in existence of supernatural energies undetected by the science of physics, as in biofields, or in belief in properties of the energies of physics that are inconsistent with the laws of physics, as in energy medicine.<ref name=\"NCCIH1\" />\n",
      "{| class=\"wikitable\"\n",
      "!\n",
      "!Claims\n",
      "!Issues\n",
      "|-\n",
      "|[[Energy medicine|Biofield therapy]]\n",
      "|Intended to influence energy fields that, it is purported, surround and penetrate the body.<ref name=\"NCCIH1\" />\n",
      "|Writers such as noted astrophysicist and advocate of skeptical thinking ([[Scientific skepticism]]) [[Carl Sagan]] (1934-1996) have described the lack of empirical evidence to support the existence of the putative energy fields on which these therapies are predicated.{{sfn|Sagan|1996}}\n",
      "|-\n",
      "|[[Bioelectromagnetism|Bioelectromagnetic]] therapy\n",
      "|Use verifiable electromagnetic fields, such as pulsed fields, alternating-current, or direct-current fields in an unconventional manner.<ref name=\"NCCIH1\" /> \n",
      "|Asserts that magnets can be used to defy the laws of [[physics]] to influence health and disease.\n",
      "|-\n",
      "|[[Chiropractic]]\n",
      "|[[Spinal manipulation]] aims to treat \"[[vertebral subluxation]]s\" which are claimed to put pressure on nerves.\n",
      "|Chiropractic was developed in the belief that manipulating the spine affects the flow of a supernatural [[vital energy]] and thereby affects health and disease. Vertebral subluxation is a pseudoscientific concept and has not been proven to exist.\n",
      "|-\n",
      "|Reiki\n",
      "|Practitioners place their palms on the patient near [[Chakras]] that they believe are centers of supernatural energies in the belief that these supernatural energies can transfer from the practitioner's palms to heal the patient.\n",
      "|Lacks credible scientific evidence.<ref>{{cite journal | doi = 10.1001/jama.279.13.1005 | pmid=9533499 | volume=279 | title=A close look at therapeutic touch | date=April 1998 | author=Rosa L, Rosa E, Sarner L, Barrett S | journal=JAMA | pages=1005–10}}</ref>\n",
      "|}\n",
      "[[File:Acupuncture1-1.jpg|thumb|left|[[Acupuncture]] involves insertion of needles in the body.]]\n",
      "\n",
      "===Holistic therapy===\n",
      "{| class=\"wikitable\"\n",
      "!\n",
      "!Claims\n",
      "!Issues\n",
      "|-\n",
      "|[[Mind-body medicine]]\n",
      "|The mind can affect \"bodily functions and symptoms\" and there is an interconnection between the mind, body, and spirit.\n",
      "|\n",
      "|}\n",
      "\n",
      "===Herbal remedies and other substances used===\n",
      "{{See also|Phytotherapy}}\n",
      "Substance based practices use substances found in nature such as herbs, foods, non-vitamin supplements and megavitamins, animal and fungal products, and minerals, including use of these products in traditional medical practices that may also incorporate other methods.<ref name=\"NCCIH1\" /><ref name=Abdulla1999>{{cite journal|last1=Abdulla|first1=Sara|title=Phytotherapy - good science or big business?|journal=Nature|date=May 13, 1999|doi=10.1038/news990513-8|quote=Science-based medicine, with its emphasis on controlled study, proof, evidence, statistical significance and safety is being rejected in favour of 'alternative medicine'—an atavistic portmanteau of anecdote, hearsay, rumour and hokum.... Probably the most commercially successful and widely used branch of alternative or complementary medicine is 'phytotherapy'. These are the tablets, powders and elixirs, otherwise known as herbal medicine, that are sold in most countries, through health shops and pharmacies as 'nutritional supplements'.... Only a tiny minority of these remedies have been shown to have mild-to moderately beneficial health effects... So why are affluent, otherwise rational, highly educated people (for this is the average user profile) so hungry for phytotherapy?... people still believe that 'natural' equals good and safe despite plenty of evidence to the contrary.\" ... as far as the human body is concerned, 'natural' is meaningless... Equally, what's so safe about consuming substances that need meet no standards of contents? ...}}</ref><ref>{{cite journal|last1=De Smet|first1=Peter A.G.M.|title=The Role of Plant-Derived Drugs and Herbal Medicines in Healthcare|journal=Drugs|date=December 1997|volume=54|issue=6|pages=801–840|doi=10.2165/00003495-199754060-00003|pmid=9421691}}</ref> Examples include healing claims for nonvitamin supplements, [[fish oil]], [[Omega-3 fatty acid]], [[glucosamine]], [[echinacea]], [[flaxseed oil]], and [[ginseng]].<ref name=\"NCCIHSurvey\" /> [[Herbal medicine]], or [[phytotherapy]], includes not just the use of plant products, but may also include the use of animal and mineral products.<ref name=\"Abdulla1999\" /> It is among the most commercially successful branches of alternative medicine, and includes the tablets, powders and elixirs that are sold as \"nutritional supplements\".<ref name=\"Abdulla1999\" /> Only a very small percentage of these have been shown to have any efficacy, and there is little regulation as to standards and safety of their contents.<ref name=\"Abdulla1999\" /> This may include use of known toxic substances, such as use of the poison [[lead]] in traditional Chinese medicine.<ref name=\"NCCIHSurvey\" />[[File:Chiropractic spinal adjustment.jpg|thumb|right|A [[chiropractor]] \"[[Spinal adjustment|adjusting]]\" the spine.]]\n",
      "\n",
      "===Religion, faith healing, and prayer===\n",
      "{| class=\"wikitable\"\n",
      "!\n",
      "!Claims\n",
      "!Issues\n",
      "|-\n",
      "|[[Christian]] [[faith healing]]\n",
      "|There is a divine or spiritual intervention in healing.\n",
      "|\n",
      "|-\n",
      "\n",
      "|[[Shamanism]]\n",
      "|A practitioner can reach an [[altered state of consciousness|altered states of consciousness]] in order to encounter and interact with the spirit world or channel supernatural energies in the belief that they can heal.\n",
      "|\n",
      "|}\n",
      "\n",
      "==History==\n",
      "The [[history of alternative medicine]] may refer to the history of a group of diverse medical practices that were collectively promoted as \"alternative medicine\" beginning in the 1970s, to the collection of individual histories of members of that group, or to the history of western medical practices that were labeled \"irregular practices\" by the western medical establishment.<ref name=ATRAMM/><ref name=QMHCHF/><ref name=CHBHAMA>Countercultural Healing: A brief History of Alternavie Medicine in America, James Whorton, [[PBS]], Nov 4 2003, [http://www.pbs.org/wgbh/pages/frontline/shows/altmed/clash/history.html]</ref><ref name=NCHAMA>Nature Cures - The History of Alternative Medicine in America, James C. Whorton, Oxford University Press, 2002, [http://ir.nmu.org.ua/bitstream/handle/123456789/130555/400a3b078ea853dd93607611eb31561f.pdf?sequence=1]</ref><ref name=RRCAM>The Rise and Rise of Complementary and Alternative Medicine: a Sociological Perspective, Ian D Coulter and Evan M Willis, Medical Journal of Australia, 2004; 180 (11): 587-589</ref> It includes the histories of [[complementary medicine]] and of [[integrative medicine]]. Before the 1970s, western practitioners that were not part of the increasingly science-based medical establishment were referred to \"irregular practitioners\", and were dismissed by the medical establishment as unscientific and as practicing [[quackery]].<ref name=QMHCHF/><ref name=CHBHAMA/> Until the 1970's, irregular practice became increasingly marginalized as [[quackery]] and fraud, as western medicine increasingly incorporated scientific methods and discoveries, and had a corresponding increase in success of its treatments.<ref name=NCHAMA/> In the 1970s, irregular practices were grouped with traditional practices of nonwestern cultures and with other unproven or disproven practices that were not part of biomedicine, with the entire group collectively marketed and promoted under the single expression \"alternative medicine\".<ref name=ATRAMM/><ref name=QMHCHF>Quack Medicine: A History of Combating Health Fraud in Twentieth-Century America, Eric W. Boyle, [https://books.google.com/books?id=X2YCTohiBpYC&pg=PA170&lpg=PA170&dq=%22Office+for+the+Study+of+Unconventional+Medical+Practices%22+oam&source=bl&ots=Es7Lb5W-ox&sig=ZBCKfmB2eaxCnwSEL6EmSlwFJmo&hl=en&sa=X&ei=WSCPVebnOcywyAS9rK8Y&ved=0CCUQ6AEwAQ#v=onepage&q=%22Office%20for%20the%20Study%20of%20Unconventional%20Medical%20Practices%22%20oam&f=false]</ref><ref name=CHBHAMA/><ref name=NCHAMA/><ref name=FrontlineAF/>\n",
      "\n",
      "Use of alternative medicine in the west began to rise following the [[counterculture movement]] of the 1960s, as part of the rising [[new age movement]] of the 1970s.<ref name=ATRAMM/><ref>The New Age of Alternative Medicine, Why New Age Medicine Is Catching On, Claudia Wallis, Time Magazine, 11-4-1991, [http://content.time.com/time/covers/0,16641,19911104,00.html]</ref><ref name=ENAB/> This was due to misleading [[mass marketing]] of \"alternative medicine\" being an effective \"alternative\" to biomedicine, changing social attitudes about not using [[chemicals]] and challenging [[the establishment]] and [[authority]] of any kind, sensitivity to giving equal measure to beliefs and practices of other cultures ([[cultural relativism]]), and growing frustration and desperation by patients about limitations and [[side effect]]s of [[science-based medicine]].<ref name=ATRAMM/><ref name=CHBHAMA/><ref name=NCHAMA/><ref name=RRCAM/><ref name=FrontlineAF/><ref name=ENAB/><ref name=AMBMJ/> At the same time, in 1975, the [[American Medical Association]], which played the central role in fighting quackery in the United States, abolished its quackery committee and closed down its Department of Investigation.<ref name=QMHCHF/>{{rp|xxi}}<ref name=AMBMJ>{{cite journal |quote=One of the few growth industries in contemporary Britain is alternative medicine. An apparently endless stream of books, articles, and radio and television programmes urge on the public the virtues of treatments ranging from meditation to drilling a hole in the skull to let in more oxygen. |pmc=1548588|year=1983|author1=Smith|first1=T|title=Alternative medicine|journal=British Medical Journal (Clinical research ed.)|volume=287|issue=6388|pages=307–308|pmid=6307462|doi=10.1136/bmj.287.6388.307}}</ref> By the early to mid 1970s the expression \"alternative medicine\" came into widespread use, and the expression became mass marketed as a collection of \"natural\" and effective treatment \"alternatives\" to science-based biomedicine.<ref name=ATRAMM/><ref name=AMBMJ/><ref>Other healers, other cures: A guide to alternative medicine, Helen Kruger, 1974, [http://www.amazon.com/Other-healers-other-cures-alternative/dp/0672517086]</ref><ref>[http://www.amazon.com/Guide-Alternative-Medicine-Donald-Law/dp/B002K530DM/ref=la_B001KIZL82_1_6?s=books&ie=UTF8&qid=1433799261&sr=1-6 \"A Guide to Alternative Medicine\", Donald Law (1975)]</ref> By 1983, mass marketing of \"alternative medicine\" was so pervasive that the [[British Medical Journal]] (BMJ) pointed to \"an apparently endless stream of books, articles, and radio and television programmes urge on the public the virtues of (alternative medicine) treatments ranging from meditation to drilling a hole in the skull to let in more oxygen\".<ref name=AMBMJ/> In this 1983 article, the BMJ wrote, \"one of the few growth industries in contemporary Britain is alternative medicine\", noting that by 1983, \"33% of patients with rheumatoid arthritis and 39% of those with backache admitted to having consulted an alternative practitioner\".<ref name=AMBMJ/>\n",
      "\n",
      "By about 1990, the American alternative medicine industry had grown to a $27 billion per year, with polls showing 30% of Americans were using it.<ref name=ENAB/><ref name=PAMNIH/> Moreover, polls showed that Americans made more visits for alternative therapies than the total number of visits to primary care doctors, and American out-of-pocket spending (non-insurance spending) on alternative medicine was about equal to spending on biomedical doctors.<ref name=QMHCHF/>{{rp|172}} In 1991, [[Time magazine]] ran a cover story, \"The New Age of Alternative Medicine: Why New Age Medicine Is Catching On\".<ref name=ENAB>New Age Medicine, Encyclopedia of New Age Beliefs; John Ankerberg, John Weldon, 1996, p. 470-508, [https://books.google.com/books?id=SghdYBbMds0C&pg=PA479&lpg=PA479&dq=%E2%80%9CNew+Age+of+Alternative+Medicine%E2%80%9D&source=bl&ots=n_Lnk2l9fR&sig=DSm5k8pVSHBlvTJRt1qJgWicXJI&hl=en&sa=X&ei=U9uOVb2zLov5yASd56Ao&ved=0CB8Q6AEwAA#v=onepage&q=%E2%80%9CNew%20Age%20of%20Alternative%20Medicine%E2%80%9D&f=false]</ref><ref name=PAMNIH/> In 1993, the [[New England Journal of Medicine]] reported one in three Americans as using alternative medicine.<ref name=ENAB/> In 1993, the [[Public Broadcasting System]] ran a [[Bill Moyers]] special, [[Healing and the Mind]], with Moyers commenting that \"...people by the tens of millions are using alternative medicine. If established medicine does not understand that, they are going to lose their clients.\"<ref name=ENAB/>\n",
      "\n",
      "Another explosive growth began in the 1990s, when senior level political figures began promoting alternative medicine, investing large sums of government medical research funds into testing alternative medicine, including testing of scientifically implausible treatments, and relaxing government regulation of alternative medicine products as compared to biomedical products.<ref name=ATRAMM/><ref name=QMHCHF/>{{rp|xxi}}<ref name=CHBHAMA/><ref name=NCHAMA/><ref name=RRCAM/><ref name=FrontlineAF>[http://www.pbs.org/wgbh/pages/frontline/shows/altmed/etc/synopsis.html The Alternative Fix, Frontline, Public Broadcasting System]</ref><ref name=TAMUUS>Trends in alternative medicine use in the United States, 1990-1997: results of a follow-up national survey. Eisenberg DM1, Davis RB, Ettner SL, Appel S, Wilkey S, Van Rompay M, Kessler RC., JAMA. 1998 Nov 11;280(18):1569-75, [http://www.anatomyfacts.com/Research/trends.pdf]</ref><ref name=TT>{{cite book |last= Singh |first= Simon. |authorlink1= Simon Singh |first2= Edzard |last2= Ernst |authorlink2= Edzard Ernst |year= 2008 |title= [[Trick or Treatment|Trick or Treatment : the undeniable facts about alternative medicine]] |isbn= 9780393066616 |oclc= 181139440 |publisher= W. W. Norton & Company}} [https://books.google.com/books?id=bZjlC2LELlIC preview] via [[Google Book Search|Google Books]].</ref> Beginning with a 1991 appropriation of $2 million for funding research of alternative medicine research, federal spending grew to a cumulative total of about $2.5 billion by 2009, with 50% of Americans using alternative medicine by 2013.<ref name=\"$2.5 billion\"/><ref name=BRAUSAToday/>\n",
      "\n",
      "In 1993, Britain's [[Prince Charles]], who claimed that homeopathy and other alternative medicine was an effective alternative to biomedicine, established [[The Prince's Foundation for Integrated Health]] (FIH), as a charity to explore \"how safe, proven complementary therapies can work in conjunction with mainstream medicine\".<ref name=Booth>{{cite news| title=Prince Charles's aide at homeopathy charity arrested on suspicion of fraud | author=Robert Booth | publisher=guardian.co.uk |date=26 April 2010| url=https://www.theguardian.com/uk/2010/apr/26/prince-charles-aide-homeopathy-charity-arrested | location=London}}</ref> The FIH received government funding through grants from Britain's [[Department of Health (United Kingdom)|Department of Health]].<ref name=Booth/> In 2008, London's ''[[The Times]]'' published a letter from [[Edzard Ernst]] that asked the FIH to recall two guides promoting alternative medicine, saying: \"the majority of alternative therapies appear to be clinically ineffective, and many are downright dangerous.\" In 2010, the FIH closed after allegations of fraud and money laundering led to arrests of its officials.<ref name=Booth/>\n",
      "\n",
      "In 2001, [[MEDLINE]] introduced a [[MeSH]] term to index scientific publications in alternative medicine.<ref>{{cite book|last1=Institute of Medicine (US) Committee on the Use of Complementary and Alternative Medicine by the American Public.|title=Complementary and Alternative Medicine in the United States.|date=2005|publisher=National Academies Press (US)|url=https://www.ncbi.nlm.nih.gov/books/NBK83790/|chapter=State of Emerging Evidence on CAM}}</ref><ref>{{cite web|title=Complementary Therapies - MeSH - NCBI|url=https://www.ncbi.nlm.nih.gov/mesh/68000529|publisher=NCBI|accessdate=10 January 2017}}</ref>\n",
      "\n",
      "In 2004, modifications of the [[European Parliament]]'s 2001 [[Directive 2001/83/EC]], regulating all medicine products, were made with the expectation of influencing development of the European market for alternative medicine products.<ref name=RFCAME/> Regulation of alternative medicine in Europe was loosened with \"a simplified registration procedure\" for traditional herbal medicinal products.<ref name=RFCAME/><ref name=D200183EC/> Plausible \"efficacy\" for traditional medicine was redefined to be based on long term popularity and testimonials (\"the pharmacological effects or efficacy of the medicinal product are plausible on the basis of long-standing use and experience.\"), without scientific testing.<ref name=RFCAME/><ref name=D200183EC>Directive 2001/83/EC of the European Parliament and of the Council, 11-6-2001 with later amendments, [http://ec.europa.eu/health/files/eudralex/vol-1/dir_2001_83_consol_2012/dir_2001_83_cons_2012_en.pdf]</ref> The [[Committee on Herbal Medicinal Products]] (HMPC) was created within the [[European Medicines Agency]] in London (EMEA). A special working group was established for homeopathic remedies under the [[Heads of Medicines Agencies]].<ref name=RFCAME/>\n",
      "\n",
      "Through 2004, alternative medicine that was traditional to Germany continued to be a regular part of the health care system, including [[homeopathy]] and [[anthroposophic medicine]].<ref name=RFCAME>The regulatory framework for complementary and alternative medicines in Europe, Knöss W1, Stolte F, Reh K., Bundesgesundheitsblatt Gesundheitsforschung Gesundheitsschutz. 2008 Jul;51(7):771-8. doi: 10.1007/s00103-008-0584-8, [http://www.ncbi.nlm.nih.gov/pubmed/18584103]</ref> The [[German Medicines Act]] mandated that science-based medical authorities consider the \"particular characteristics\" of complementary and alternative medicines.<ref name=RFCAME/> By 2004, homeopathy had grown to be the most used alternative therapy in France, growing from 16% of the population using homeopathic medicine in 1982, to 29% by 1987, 36% percent by 1992, and 62% of French mothers using homeopathic medicines by 2004, with 94.5% of French pharmacists advising pregnant women to use homeopathic remedies.<ref name=HME1>Homeopathic Medicine: Europe's #1 Alternative for Doctors, Dana Ullman, Huffington Post, 11-17-2011, [http://www.huffingtonpost.com/dana-ullman/homeopathic-medicine-euro_b_402490.html]</ref> {{as of|2004}}, 100 million people in [[India]] depended solely on traditional German homeopathic remedies for their medical care.<ref name=HBI>Homoeopathy booming in India, Prasad R\" ''Lancet'' 370:November 17, 2007,1679-80</ref> {{as of|2010}}, homeopathic remedies continued to be the leading alternative treatment used by European physicians.<ref name=HME1/> By 2005, sales of [[homeopathic remedies]] and [[anthroposophical medicine]] had grown to $930 million Euros, a 60% increase from 1995.<ref name=HME1/><ref>[http://www.echamp.eu ECHAMP, Facts and Figures, 2nd edition, 2007]</ref>\n",
      "\n",
      "Since 2009, according to Art. 118a of the [[Swiss Federal Constitution]], the Swiss Confederation and the [[Cantons of Switzerland]] shall within the scope of their powers ensure that consideration is given to complementary medicine.<ref>{{cite web |url= https://www.admin.ch/opc/en/classified-compilation/19995395/index.html#a118a/ |title= Federal Constitution of the Swiss Confederation |at=Art. 118a Complementary medicine |location= CH }}</ref>\n",
      "\n",
      "By 2013, 50% of Americans were using CAM.<ref name=BRAUSAToday>Book raises alarms about alternative medicine, Liz Szabo, USA TODAY, July 2, 2013, [http://www.usatoday.com/story/news/nation/2013/06/18/book-raises-alarms-about-alternative-medicine/2429385/]</ref> {{as of|2013}}, CAM medicinal products in Europe continued to be exempted from documented efficacy standards required of other medicinal products.<ref name=LSRCAME>Legal Status and Regulation of Complementary andAlternative Medicine in Europe; Solveig Wiesener, Torkel Falkenberg, Gabriella Hegyid, Johanna Hök, Paolo Roberti di Sarsina, Vinjar Fønnebø; Forsch Komplementmed 2012; 19(suppl 2):29–36, Nov. 2012, [http://www.researchgate.net/profile/Paolo_Roberti_di_Sarsina/publication/259647305_Legal_Status_and_Regulation_of_Complementary_and_Alternative_Medicine_in_Europe/links/5405d72c0cf23d9765a76427.pdf]</ref>\n",
      "\n",
      "===Individual systems and practices===\n",
      "\n",
      "Much of what is now categorized as alternative medicine was developed as independent, complete medical systems. These were developed long before biomedicine and use of scientific methods. Each system was developed in relatively isolated regions of the world where there was little or no medical contact with pre-scientific western medicine, or with each other's systems. Examples are [[traditional Chinese medicine]] and the [[Ayurvedic medicine]] of [[India]].\n",
      "\n",
      "Other alternative medicine practices, such as [[homeopathy]], were developed in western Europe and in opposition to western medicine, at a time when western medicine was based on unscientific theories that were dogmatically imposed by western religious authorities. Homeopathy was developed prior to discovery of the basic principles of [[chemistry]], which proved homeopathic remedies contained nothing but water. But homeopathy, with its remedies made of water, was harmless compared to the unscientific and dangerous orthodox western medicine practiced at that time, which included use of [[toxin]]s and [[bloodletting|draining of blood]], often resulting in permanent disfigurement or death.<ref name=CHBHAMA/>\n",
      "\n",
      "Other alternative practices such as [[chiropractic]] and [[osteopathic manipulative medicine]] were developed in the United States at a time that western medicine was beginning to incorporate scientific methods and theories, but the biomedical model was not yet totally dominant. Practices such as chiropractic and osteopathic, each considered to be irregular practices by the western medical establishment, also opposed each other, both rhetorically and politically with licensing legislation. Osteopathic practitioners added the courses and training of biomedicine to their licensing, and licensed Doctor of Osteopathic Medicine holders began diminishing use of the unscientific origins of the field. Without the original nonscientific practices and theories, osteopathic medicine is now considered the same as biomedicine.\n",
      "\n",
      "===\"Irregular practitioners\" ===\n",
      "\n",
      "{{main article|History of alternative medicine}}\n",
      "''Further information: [[History of medicine|Rise of modern medicine]]''\n",
      "\n",
      "Until the 1970s, western practitioners that were not part of the medical establishment were referred to \"irregular practitioners\", and were dismissed by the medical establishment as unscientific, as practicing [[quackery]].<ref name=CHBHAMA/> The Irregular practice became increasingly marginalized as [[quackery]] and fraud, as western medicine increasingly incorporated scientific methods and discoveries, and had a corresponding increase in success of its treatments.\n",
      "\n",
      "Dating from the 1970s, medical professionals, sociologists, anthropologists and other commentators noted the increasing visibility of a wide variety of health practices that had neither derived directly from nor been verified by [[medical research|biomedical science]].<ref name=Bivins2011/> Since that time, those who have analyzed this trend have deliberated over the most apt language with which to describe this emergent health field.<ref name=Bivins2011/> A variety of terms have been used, including heterodox, irregular, fringe and alternative medicine while others, particularly medical commentators, have been satisfied to label them as instances of quackery.<ref name=Bivins2011/> The most persistent term has been alternative medicine but its use is problematic as it assumes a value-laden dichotomy between a medical fringe, implicitly of borderline acceptability at best, and a privileged medical orthodoxy, associated with validated medico-scientific norms.<ref name=Jutte2001/> The use of the category of alternative medicine has also been criticized as it cannot be studied as an independent entity but must be understood in terms of a regionally and temporally specific medical orthodoxy.<ref name=DeBlecourt1999/> Its use can also be misleading as it may erroneously imply that a real medical alternative exists.<ref name=Jutte1999/> As with near-synonymous expressions, such as unorthodox, complementary, marginal, or quackery, these linguistic devices have served, in the context of processes of professionalisation and market competition, to establish the authority of official medicine and police the boundary between it and its unconventional rivals.<ref name=Jutte2001/>\n",
      "[[File:Peking Union 1.jpg|thumb|[[Peking Union Medical College]]]]\n",
      "\n",
      "An early instance of the influence of this modern, or western,  scientific medicine outside Europe and North America is [[Peking Union Medical College]].<ref name=Bullock1980/>{{refn|group=n|[[Peking University Health Science Center]] (formerly Beijing Medical University) was the first of the kind in China to teach western medicine and train medical professionals.{{citation needed|date=November 2013}}}}{{refn|group=n|For an encyclopaedic account of the development of \"western\" medicine in the period leading up to the reforms in the medical schools of US resulting from the Flexner Report, published at the time of that report, see the article, {{cite EB1911 |first=Thomas Clifford |last=Allbutt |authorlink=Clifford Allbutt |wstitle=Medicine |volume=18}} }}\n",
      "\n",
      "From a historical perspective, the emergence of alternative medicine, if not the term itself, is typically dated to the 19th century.<ref name=\"Porter_Ramsey_Loudon\"/> This is despite the fact that there are variants of Western non-conventional medicine that arose in the late-eighteenth century or earlier and some non-Western medical traditions, currently considered alternative in the West and elsewhere, which boast extended historical pedigrees.<ref name=Jutte2001/> Alternative medical systems, however, can only be said to exist when there is an identifiable, regularized and authoritative standard medical practice, such as arose in the West during the nineteenth century, to which they can function as an alternative.{{sfn|Bivins|2007|p=171}}\n",
      "\n",
      "During the late eighteenth and nineteenth centuries regular and irregular medical practitioners became more clearly differentiated throughout much of Europe and,<ref name=\"Brunton_Brown\"/> as the nineteenth century progressed, most Western states converged in the creation of legally delimited and semi-protected medical markets.<ref name=Pickstone2006/> It is at this point that an \"official\" medicine, created in cooperation with the state and employing a scientific rhetoric of [[Legitimation|legitimacy]], emerges as a recognizable entity and that the concept of alternative medicine as a historical category becomes tenable.<ref name=Ramsey1999/>\n",
      "\n",
      "As part of this process, professional adherents of mainstream medicine in countries such as Germany, France, and Britain increasingly invoked the scientific basis of their discipline as a means of engendering internal professional unity and of external differentiation in the face of sustained market competition from homeopaths, naturopaths, mesmerists and other nonconventional medical practitioners, finally achieving a degree of imperfect dominance through alliance with the state and the passage of regulatory legislation.<ref name=Jutte2001/><ref name=Jutte1999/> In the US the [[Johns Hopkins School of Medicine|Johns Hopkins University School of Medicine]], based in Baltimore, Maryland, opened in 1893, with [[William H. Welch]] and [[William Osler]] among the founding physicians, and was the first medical school devoted to teaching \"German scientific medicine\".<ref name=Silverman2011/>\n",
      "\n",
      "Buttressed by increased authority arising from significant advances in the medical sciences of the late 19th century onwards—including development and application of the [[germ theory of disease]] by the chemist [[Louis Pasteur]] and the surgeon [[Joseph Lister, 1st Baron Lister|Joseph Lister]], of [[microbiology]] co-founded by [[Robert Koch]] (in 1885 appointed professor of [[hygiene]] at the [[University of Berlin]]), and of the use of [[X-ray]]s ([[Röntgen ray]]s)—the 1910 [[Flexner Report]] called upon [[Medical school in the United States|American medical schools]] to follow the model of the Johns Hopkins School of Medicine, and adhere to mainstream science in their teaching and research. This was in a belief, mentioned in the Report's introduction, that the preliminary and professional training then prevailing in medical schools should be reformed, in view of the new means for diagnosing and combating disease made available the sciences on which medicine depended.{{refn|group=n|In his introduction to the Flexner Report, Henry S. Pritchett stated, \"The fundamental sciences upon which medicine depends have been greatly extended. The laboratory has come to furnish alike to the physician and to the surgeon a new means for diagnosing and combating disease. The education of the medical practitioner under these changed conditions makes entirely different demands in respect of both preliminary and professional training.\"<ref name=Pritchett1910/>}}<ref name=Hiatt2003/>\n",
      "\n",
      "Putative medical practices at the time that later became known as \"alternative medicine\" included homeopathy (founded in Germany in the early 19c.) and chiropractic (founded in North America in the late 19c.). These conflicted in principle with the developments in medical science upon which the Flexner reforms were based, and they have not become compatible with further advances of medical science such as listed in [[Timeline of medicine and medical technology]], 1900–1999 and 2000–present, nor have Ayurveda, acupuncture or other kinds of alternative medicine.{{citation needed|date=June 2015}}\n",
      "\n",
      "At the same time \"[[Tropical medicine]]\" was being developed as a specialist branch of western medicine in research establishments such as [[Liverpool School of Tropical Medicine]] founded in 1898 by [[Alfred Lewis Jones]], [[London School of Hygiene & Tropical Medicine]], founded in 1899 by [[Patrick Manson]] and [[Tulane University School of Public Health and Tropical Medicine]], instituted in 1912. A distinction was being made between western scientific medicine and indigenous systems. An example is given by an official report about indigenous systems of medicine in India, including Ayurveda, submitted by [[Mohammad Usman of Madras]] and others in 1923. This stated that the first question the Committee considered was \"to decide whether the indigenous systems of medicine were scientific or not\".<ref name=Usman1925/><ref name=Madras1984/>{{sfn|Bivins|2007|pp=164–170}}\n",
      "\n",
      "By the later twentieth century the term 'alternative medicine' entered public discourse,{{refn|group=n|The earliest occurrence of the term \"alternative medicine\" in an English language publication was only in 1974, according to the [[Oxford English Dictionary]].<ref name=OED/>}}<ref name=BMA_Cant_Saks/> but it was not always being used with the same meaning by all parties. [[Arnold S. Relman]] remarked in 1998 that in the best kind of medical practice, all proposed treatments must be tested objectively, and that in the end there will only be treatments that pass and those that do not, those that are proven worthwhile and those that are not. He asked 'Can there be any reasonable \"alternative\"?'<ref name=Relman1998/> But also in 1998 the then [[Surgeon General of the United States]], [[David Satcher]],<ref name=HistoryMakers_HHS_Satcher_Bio/> issued public information about eight common alternative treatments (including acupuncture, holistic and massage), together with information about common diseases and conditions, on nutrition, diet, and lifestyle changes, and about helping consumers to decipher fraud and quackery, and to find healthcare centers and doctors who practiced alternative medicine.<ref name=New_Millennium/>\n",
      "\n",
      "By 1990, approximately 60 million Americans had used one or more complementary or alternative therapies to address health issues, according to a nationwide survey in the US published in 1993 by David Eisenberg.<ref name=Eisenberg1993/> A study published in the November 11, 1998 issue of the [[Journal of the American Medical Association]] reported that 42% of Americans had used complementary and alternative therapies, up from 34% in 1990.<ref name=Eisenberg1998/> However, despite the growth in patient demand for complementary medicine, most of the early alternative/complementary medical centers failed.<ref name=Bravewell2007/>\n",
      "\n",
      "===Medical education===\n",
      "\n",
      "Mainly as a result of reforms following the Flexner Report of 1910<ref name=Flexner_Report/> [[medical education]] in established [[medical schools]] in the US has generally not included alternative medicine as a teaching topic.{{refn|group=n|As the medical professor [[Kenneth Ludmerer|Kenneth M. Ludmerer]] noted in 2010: \"Flexner pointed out that the scientific method of thinking applied to medical practice. By scientific method, he meant testing ideas with well-planned experiments to establish accurate facts. The clinician's diagnosis was equivalent to the scientist's hypothesis: both [[medical diagnosis]] and hypothesis required the test of an experiment. Flexner argued that mastery of the scientific method of problem solving was the key for physicians to manage medical uncertainty and to practice in the most cost-effective way.\"<ref name=Ludmerer2010/>}} Typically, their teaching is based on current practice and scientific knowledge about: anatomy, physiology, histology, embryology, neuroanatomy, pathology, pharmacology, microbiology and immunology.<ref name=Bianco/> Medical schools' teaching includes such topics as doctor-patient communication, ethics, the art of medicine,<ref name=Stanford_Curriculum/> and engaging in complex clinical reasoning (medical decision-making).<ref name=Yale_Curriculum/> Writing in 2002, Snyderman and Weil remarked that by the early twentieth century the Flexner model had helped to create the 20th-century academic health center, in which education, research, and practice were inseparable. While this had much improved medical practice by defining with increasing certainty the [[pathophysiological]] basis of disease, a single-minded focus on the pathophysiological had diverted much of mainstream American medicine from clinical conditions that were not well understood in mechanistic terms, and were not effectively treated by conventional therapies.<ref name=Snyderman2002/>\n",
      "\n",
      "By 2001 some form of CAM training was being offered by at least 75 out of 125 medical schools in the US.<ref name=Berman2001/> Exceptionally, the School of Medicine of the [[University of Maryland, Baltimore]] includes a research institute for integrative medicine (a member entity of the Cochrane Collaboration).<ref name=UM_CAM_Field/><ref name=UM_CIM/> Medical schools are responsible for conferring medical degrees, but a physician typically may not legally practice medicine until licensed by the local government authority. Licensed [[physicians in the United States|physicians in the US]] who have attended one of the established medical schools there have usually graduated Doctor of Medicine (MD).<ref name=Medline_MD/> All states require that applicants for MD licensure be graduates of an approved medical school and complete the [[United States Medical Licensing Examination|United States Medical Licensing Exam (USMLE)]].<ref name=Medline_MD/>\n",
      "\n",
      "The British Medical Association, in its publication ''Complementary Medicine, New Approach to Good Practice'' (1993), gave as a working definition of non-conventional therapies (including acupuncture, chiropractic and homeopathy): \"...those forms of treatment which are not widely used by the orthodox health-care professions, and the skills of which are not part of the undergraduate curriculum of orthodox medical and paramedical health-care courses.\"{{sfn|BMA|1993}} By 2000 some medical schools in the UK were offering CAM familiarisation courses to undergraduate medical students while some were also offering modules specifically on CAM.<ref name=\"Walton_Science_and_Technology_Committee\"/>\n",
      "\n",
      "===United States government===\n",
      "{{main article|National Center for Complementary and Integrative Health}}\n",
      "\n",
      "[[File:HARKINEAT.jpg|thumb|right|Sen. [[Tom Harkin]] at a press conference.]]\n",
      "In 1991, pointing to a need for testing because of the widespread use of alternative medicine without authoritative information on its efficacy, United States Senator [[Tom Harkin]] used $2 million of his discretionary funds to create the [[Office for the Study of Unconventional Medical Practices]] (OSUMP), later renamed to be the [[Office of Alternative Medicine]] (OAM).<ref name=QMHCHF/>{{rp|170}}<ref name=NC/><ref name=NCCAME/> The OAM was created to be within the [[National Institute of Health]] (NIH), the scientifically prestigious primary agency of the United States government responsible for biomedical and health-related research.<ref name=QMHCHF/>{{rp|170}}<ref name=NC/><ref name=NCCAME/> The mandate was to investigate, evaluate, and validate effective alternative medicine treatments, and alert the public as the results of testing its efficacy.<ref name=PAMNIH>The Politics of Alternative Medicine at the National Institutes of Health, Eric W. Boyle, Presentation to the conference of the Society for History in the Federal Government, College Park, Maryland, March 5, 2010, [http://shfg.org/shfg/wp-content/uploads/2012/01/2%E2%80%93Boyle_Layout-11-final-2.pdf]</ref><ref name=NC/><ref name=NCCAME>[http://www.nih.gov/about/almanac/organization/NCCAM.htm#events Important Events in NCCAM History]</ref><ref>\"OAM’s Legislative History,\" Office of Alternative Medicine Series (OAMS), Office of NIH History Archives, National Institutes of Health, Box 4, Folder 7</ref>\n",
      "\n",
      "Sen. Harkin had become convinced his allergies were cured by taking [[bee pollen]] pills, and was urged to make the spending by two of his influential constituents.<ref name=PAMNIH/><ref name=NC/><ref name=NCCAME/> Bedell, a longtime friend of Sen. Harkin, was a former member of the [[United States House of Representatives]] who believed that alternative medicine had twice cured him of diseases after mainstream medicine had failed, claiming that cow's milk [[colostrum]] cured his [[Lyme disease]], and an herbal derivative from [[camphor]] had prevented post surgical recurrence of his [[prostate cancer]].<ref name=QMHCHF/><ref name=PAMNIH/> Wiewel was a promoter of unproven cancer treatments involving a mixture of blood sera that the [[Food and Drug Administration]] had banned from being imported.<ref name=PAMNIH/> Both Bedell and Wiewel became members of the advisory panel for the OAM. The company that sold the bee pollen was later fined by the [[Federal Trade Commission]] for making false health claims about their bee-pollen products reversing the aging process, curing allergies, and helping with weight loss.<ref>\"Arizona company agrees to pay $200,000 to settle FTC charges it made false health claims about bee-pollen products,\" FTC News Notes, December 30, 1992.</ref>\n",
      "\n",
      "In 1994, Sen. Harkin (D) and Senator [[Orrin Hatch]] (R) introduced the [[Dietary Supplement Health and Education Act]] ([[DSHEA]]).<ref name=NCDLP2000/><ref name=1993SOPA/> The act reduced authority of the FDA to monitor products sold as \"natural\" treatments.<ref name=NCDLP2000/> Labeling standards were reduced to allow health claims for supplements based only on unconfirmed preliminary studies that were not subjected to scientific peer review, and the act made it more difficult for the FDA to promptly seize products or demand proof of safety where there was evidence of a product being dangerous.<ref name=1993SOPA>[https://www.nytimes.com/1993/10/05/opinion/the-1993-snake-oil-protection-act.html#h&#91;&#93; The 1993 Snake Oil Protection Act, New York Times, 10-5-1993]</ref> The Act became known as the \"[[The 1993 Snake Oil Protection Act]]\" following a [[New York Times]] editorial under that name.<ref name=NCDLP2000/>\n",
      "\n",
      "Senator Harkin complained about the \"unbendable rules of [[randomized clinical trials]]\", citing his use of bee pollen to treat his allergies, which he claimed to be effective even though it was biologically implausible and efficacy was not established using scientific methods.<ref name=NC>{{cite book | title = Natural causes: death, lies, and politics in America's vitamin and herbal supplement industry | author=Dan Hurley | publisher = [[Broadway Books]] | year = 2006 | location = New York | isbn = 978-0-7679-2042-1}}</ref><ref name=SMPCAT/> Sen. Harkin asserted that claims for alternative medicine efficacy be allowed not only without conventional scientific testing, even when they are biologically implausible, \"It is not necessary for the scientific community to understand the process before the American public can benefit from these therapies.\"<ref name=NCDLP2000/> Following passage of the act, sales rose from about $4 billion in 1994, to $20 billion by the end of 2000, at the same time as evidence of their lack of efficacy or harmful effects grew.<ref name=NCDLP2000>Book Review, ''Natural Causes: Death, Lies, and Politics in America's Vitamin and Herbal Supplement Industry'', Donald Marcus, M.D., New England Journal of Medicine,  6-21-2007; 356:2659, DOI: 10.1056/NEJMbkrev57733, [http://www.nejm.org/doi/full/10.1056/NEJMbkrev57733]</ref> Senator Harkin came into open public conflict with the first OAM Director [[Joseph M. Jacobs]] and OAM board members from the scientific and biomedical community.<ref name=NCCAME/> Jacobs' insistence on rigorous scientific methodology caused friction with Senator Harkin.<ref name=NC/><ref name=SMPCAT>Shadow Medicine: The Placebo in Conventional and Alternative Therapies, John S. Halle, [https://books.google.com/books?id=_nfeAwAAQBAJ&pg=PA90&lpg=PA90&dq=%22Office+for+the+Study+of+Unconventional+Medical+Practices%22+oam&source=bl&ots=4cHIY0PwBP&sig=nOJQ0POSeVxOMt2aADbo-IvMF18&hl=en&sa=X&ei=WSCPVebnOcywyAS9rK8Y&ved=0CDIQ6AEwAw#v=onepage&q=%22Office%20for%20the%20Study%20of%20Unconventional%20Medical%20Practices%22%20oam&f=false]</ref><ref>Toward an Integrative Medicine: Merging Alternative Therapies with Biomedicine, Hans A. Baer, [https://books.google.com/books?id=XGA3rfJt2iMC&pg=PA139&lpg=PA139&dq=Wayne+Jonas,+OAM&source=bl&ots=UPw1Bmor0I&sig=7AIadPO_LaaATj2YzSgkRaUXVNU&hl=en&sa=X&ei=8SSOVY3_LIf7tQWbi5XIDQ&ved=0CCMQ6AEwAQ#v=onepage&q=Wayne%20Jonas%2C%20OAM&f=false]</ref> Increasing political resistance to the use of scientific methodology was publicly criticized by Dr. Jacobs and another OAM board member complained that \"nonsense has trickled down to every aspect of this office...It's the only place where opinions are counted as equal to data.\"<ref name=NC/><ref name=SMPCAT/> In 1994, Senator Harkin appeared on television with cancer patients who blamed Dr. Jacobs for blocking their access to untested cancer treatment, leading Jacobs to resign in frustration.<ref name=NC/><ref name=SMPCAT/>\n",
      "\n",
      "In 1995, [[Wayne Jonas]], a promoter of [[homeopathy]] and political ally of Senator Harkin, became the director of the OAM, and continued in that role until 1999.<ref>National Center for Complementary and Integrative Health (NCCIH), Skeptics Dictionary, [http://skepdic.com/NCCAM.html]</ref> In 1997, the NCCAM budget was increased from $12 million to $20 million annually.<ref name=OAMGUB/> From 1990 to 1997, use of alternative medicine in the US increased by 25%, with a corresponding 50% increase in expenditures.<ref name=Eisenberg1998>{{cite journal |title= Trends in alternative medicine use in the United States, 1990-1997: Results of a follow-up national survey |url= http://jama.jamanetwork.com/article.aspx?articleid=188148 |journal= JAMA |last1= Eisenberg |first1= D.M.|last2= Davis |first2= R.B. |last3= Ettner |first3= S.L. |last4= Appel |first4= S. |last5= Wilkey |first5= S. |last6= Van Rompay |first6= M. |last7= Kessler |first7= R.C. |volume= 280 |issue= 18 |pages= 1569–75 |pmid= 9820257 |doi= 10.1001/jama.280.18.1569 |year= 1998 |ref={{harvid|Eisenberg et al.|1998}}|displayauthors= 1 }}</ref> The OAM drew increasing criticism from eminent members of the scientific community with letters to the Senate Appropriations Committee when discussion of renewal of funding OAM came up.<ref name=QMHCHF/>{{rp|175}} Nobel laureate [[Paul Berg]] wrote that prestigious NIH should not be degraded to act as a cover for quackery, calling the OAM \"an embarrassment to serious scientists.\"<ref name=QMHCHF/>{{rp|175}}<ref name=OAMGUB/> The president of the [[American Physical Society]] wrote complaining that the government was spending money on testing products and practices that \"violate basic laws of physics and more clearly resemble witchcraft\".<ref name=QMHCHF/>{{rp|175}}<ref name=OAMGUB>Office Of Alternative Medicine Gets Unexpected Boost, Paul Smaglik, The Scientist, 11-10-1997, [http://www.the-scientist.com/?articles.view/articleNo/18695/title/Office-Of-Alternative-Medicine-Gets-Unexpected-Boost/]</ref> In 1998, the President of the North Carolina Medical Association publicly called for shutting down the OAM.<ref name=WNCCAMSBD>Why the National Center for Complementary and Alternative Medicine (NCCAM) Should Be Defunded, Wallace I. Sampson, M.D, Quackwatch, [http://www.quackwatch.org/01QuackeryRelatedTopics/nccam.html]</ref>\n",
      "\n",
      "In 1998, NIH director and Nobel laureate [[Harold Varmus]] came into conflict with Senator Harkin by pushing to have more NIH control of alternative medicine research.<ref name=SSOAGGRAM/> The NIH Director placed the OAM under more strict scientific NIH control.<ref name=OAMGUB/><ref name=SSOAGGRAM/> Senator Harkin responded by elevating OAM into an independent NIH \"center\", just short of being its own \"institute\", and renamed to be the [[National Center for Complementary and Alternative Medicine]] (NCCAM). NCCAM had a mandate to promote a more rigorous and scientific approach to the study of alternative medicine, research training and career development, outreach, and \"integration\". In 1999, the NCCAM budget was increased from $20 million to $50 million.<ref name=WNCCAMSBD/><ref name=SSOAGGRAM/> The United States Congress approved the appropriations without dissent. In 2000, the budget was increased to about $68 million, in 2001 to $90 million, in 2002 to $104 million, and in 2003, to $113 million.<ref name=WNCCAMSBD/>\n",
      "\n",
      "In 2009, after a history of 17 years of government testing and spending of nearly $2.5 billion on research had produced almost no clearly proven efficacy of alternative therapies, Senator Harkin complained, \"One of the purposes of this center was to investigate and validate alternative approaches. Quite frankly, I must say publicly that it has fallen short. It think quite frankly that in this center and in the office previously before it, most of its focus has been on disproving things rather than seeking out and approving.\"<ref name=SSOAGGRAM/><ref>Full Committee Hearing, Integrative Care: A Pathway to a Healthier Nation, SD 4-30 (Feb. 26, 2009), United States Senate, [http://help.senate.gov/hearings/hearing/?id=03629575-0924-cb2e-13cb-68a8065ababb]</ref><ref name=THWS>Tom Harkin’s War on Science, Peter Lipson, Discover Magazine editor's opinion in New York Times, 3-2-2009, [https://www.sciencebasedmedicine.org/tom-harkins-war-on-science-or-meet-the-new-boss/]</ref> Members of the scientific community criticized this comment as showing Senator Harkin did not understand the basics of scientific inquiry, which tests hypotheses, but never intentionally attempts to \"validate approaches\".<ref name=SSOAGGRAM/> Members of the scientific and biomedical communities complained that after a history of 17 years of being tested, at a cost of over $2.5 Billion on testing scientifically and biologically implausible practices, almost no alternative therapy showed clear efficacy.<ref name=\"$2.5 billion\"/> In 2009, the NCCAM's budget was increased to about $122 million.<ref name=SSOAGGRAM>Scientists Speak Out Against Federal Funds for Research on Alternative Medicine, David Brown, Washington Post,  3-17-2009, [http://www.washingtonpost.com/wp-dyn/content/article/2009/03/16/AR2009031602139.html]</ref> Overall NIH funding for CAM research increased to $300 Million by 2009.<ref name=SSOAGGRAM/> By 2009, Americans were spending $34 Billion annually on CAM.<ref>[http://www.nbcnews.com/id/32219873/ns/health-alternative_medicine/t/billion-spent-yearly-alternative-medicine/#.VY418K_bLIU $34 billion spent yearly on alternative medicine, NBC News, 7-30-2009]</ref>\n",
      "\n",
      "In 2012, the [[Journal of the American Medical Association]] (JAMA) published a criticism that study after study had been funded by NCCAM, but \"failed to prove that complementary or alternative therapies are anything more than placebos\".<ref name=ITPWS/> The JAMA criticism pointed to large wasting of research money on testing scientifically implausible treatments, citing \"NCCAM officials spending $374,000 to find that inhaling lemon and lavender scents does not promote wound healing; $750,000 to find that prayer does not cure AIDS or hasten recovery from breast-reconstruction surgery; $390,000 to find that ancient Indian remedies do not control type 2 diabetes; $700,000 to find that magnets do not treat arthritis, carpal tunnel syndrome, or migraine headaches; and $406,000 to find that coffee enemas do not cure pancreatic cancer.\"<ref name=ITPWS>Is taxpayer money well spent or wasted on alternative-medicine research?, Susan Perry, 5-8-2012, [[MinnPost]], [https://www.minnpost.com/second-opinion/2012/05/taxpayer-money-well-spent-or-wasted-alternative-medicine-research]</ref> It was pointed out that negative results from testing were generally ignored by the public, that people continue to \"believe what they want to believe, arguing that it does not matter what the data show: They know what works for them\".<ref name=ITPWS/> Continued increasing use of CAM products was also blamed on the lack of FDA ability to regulate alternative products, where negative studies do not result in FDA warnings or FDA-mandated changes on labeling, whereby few consumers are aware that many claims of many supplements were found not to have not to be supported.<ref name=ITPWS/>\n",
      "\n",
      "In 2014 the NCCAM was renamed to the [[National Center for Complementary and Integrative Health]] (NCCIH) with a new charter requiring that 12 of the 18 council members shall be selected with a preference to selecting leading representatives of complementary and alternative medicine, 9 of the members must be licensed practitioners of alternative medicine, 6 members must be general public leaders in the fields of public policy, law, health policy, economics, and management, and 3 members must represent the interests of individual consumers of complementary and alternative medicine.<ref name=NCCIHC>[https://nccih.nih.gov/about/naccih/charter NACCIH Charter]</ref>\n",
      "\n",
      "== Efficacy ==\n",
      "There is a general scientific consensus that Alternative Therapies lack the requisite [[scientific validation]], and their [[efficacy|effectiveness]] is either [[Scientific method|unproved]] or [[Scientific evidence|disproved]].<ref name=\"NSF_2002\" /><ref name=\"ATRAMM\" /><ref name=\"Kent1997\" /><ref name=\"Goldrosen2004\" /> Many of the claims regarding the efficacy of alternative medicines are controversial, since research on them is frequently of low quality and methodologically flawed.{{sfn|IOM Report|2005}} [[Publication bias|Selective publication bias]] , marked differences in product quality and standardisation, and some companies making unsubstantiated claims, call into question the claims of efficacy of isolated examples where there is evidence for alternative therapies.<ref name=\"Sarris2012\" />\n",
      "\n",
      "''The Scientific Review of Alternative Medicine'' points to confusions in the general population -  a person may attribute symptomatic relief to an otherwise-ineffective therapy just because they are taking something (the placebo effect); the natural recovery from or the cyclical nature of an illness (the [[regression fallacy]]) gets misattributed to an alternative medicine being taken; a person not diagnosed with science-based medicine may never originally have had a true illness diagnosed as an alternative disease category.<ref name=\"Alcock1999\" />\n",
      "\n",
      "[[Edzard Ernst]] characterized the evidence for many alternative techniques as weak, nonexistent, or negative<ref name=\"goodbadugly\" /> and in 2011 published his estimate that about 7.4% were based on \"sound evidence\", although he believes that may be an overestimate.<ref name=\"Ernst2011\" /> Ernst has concluded that 95% of the alternative treatments he and his team studied, including acupuncture, herbal medicine, homeopathy, and reflexology, are \"statistically indistinguishable from placebo treatments\", but he also believes there is something that conventional doctors can usefully learn from the chiropractors and homeopath: this is the therapeutic value of the placebo effect, one of the strangest phenomena in medicine.<ref name=\"Economist2011\" /><ref name=\"HHH2008\" />\n",
      "\n",
      "In 2003, a project funded by the CDC identified 208 condition-treatment pairs, of which 58% had been studied by at least one [[randomized controlled trial]] (RCT), and 23% had been assessed with a [[meta-analysis]].<ref name=\"Katz2003\" /> According to a 2005 book by a US [[Institute of Medicine]] panel, the number of RCTs focused on CAM has risen dramatically.\n",
      "\n",
      "{{as of|2005}}, the [[Cochrane Library]] had 145 CAM-related Cochrane systematic reviews and 340 non-Cochrane systematic reviews. An analysis of the conclusions of only the 145 Cochrane reviews was done by two readers. In 83% of the cases, the readers agreed. In the 17% in which they disagreed, a third reader agreed with one of the initial readers to set a rating. These studies found that, for CAM, 38.4% concluded positive effect or possibly positive (12.4%), 4.8% concluded no effect, 0.69% concluded harmful effect, and 56.6% concluded insufficient evidence. An assessment of conventional treatments found that 41.3% concluded positive or possibly positive effect, 20% concluded no effect, 8.1% concluded net harmful effects, and 21.3% concluded insufficient evidence. However, the CAM review used the more developed 2004 Cochrane database, while the conventional review used the initial 1998 Cochrane database.{{sfn|IOM Report|2005|pp=[http://books.nap.edu/openbook.php?record_id=11182&page=135 135-136]}}\n",
      "\n",
      "In the same way as for conventional therapies, drugs, and interventions, it can be difficult to test the efficacy of alternative medicine in [[clinical trial]]s. In instances where an established, effective, treatment for a condition is already available, the [[Helsinki Declaration]] states that withholding such treatment is unethical in most circumstances. Use of standard-of-care treatment in addition to an alternative technique being tested may produce confounded or difficult-to-interpret results.<ref name=\"Bodeker2002\" />\n",
      "\n",
      "Cancer researcher [[Andrew J. Vickers]] has stated:\n",
      "\n",
      ": \"Contrary to much popular and scientific writing, many [[alternative cancer treatments]] have been investigated in good-quality clinical trials, and they have been shown to be ineffective. The label 'unproven' is inappropriate for such therapies; it is time to assert that many alternative cancer therapies have been 'disproven'.\"<ref name=\"Vickers\" />\n",
      "\n",
      "==Criticism, legitimacy and effects==\n",
      "{{Reduced pull quote|1=right\n",
      "|2=There is no alternative medicine. There is only scientifically proven, evidence-based medicine supported by solid data or unproven medicine, for which scientific evidence is lacking.\n",
      "|3=P.B. Fontanarosa|4=''[[JAMA (journal)|Journal of the American Medical Association]]'' (1998)<ref name=Fontanarosa1998/>\n",
      "}}\n",
      "\n",
      "\"CAM\", meaning \"complementary and alternative medicine\", is not as well researched as conventional medicine, which undergoes intense research before release to the public.<ref name=Ernst_Cohen/> Funding for research is also sparse making it difficult to do further research for effectiveness of CAM.<ref name=Ernst4/> Most funding for CAM is funded by government agencies.<ref name=Ernst_Cohen/> Proposed research for CAM are rejected by most private funding agencies because the results of research are not reliable.<ref name=Ernst_Cohen/>  The research for CAM has to meet certain standards from research ethics committees, which most CAM researchers find almost impossible to meet.<ref name=Ernst_Cohen/> Even with the little research done on it, CAM has not been proven to be effective.<ref name=Ernst3/>\n",
      "\n",
      "[[Steven Novella]], a neurologist at Yale School of Medicine, wrote that government funded studies of integrating alternative medicine techniques into the mainstream are \"used to lend an appearance of legitimacy to treatments that are not legitimate.\"<ref name=\"Brown2009\" /> Marcia Angell considered that critics felt that healthcare practices should be classified based solely on [[evidence-based medicine|scientific evidence]], and if a treatment had been rigorously tested and found safe and effective, science-based medicine will adopt it regardless of whether it was considered \"alternative\" to begin with.<ref name=Angell1998 /> It is possible for a method to change categories (proven vs. unproven), based on increased knowledge of its effectiveness or lack thereof. A prominent supporter of this position is [[George D. Lundberg]], former editor of the [[Journal of the American Medical Association]] (JAMA).<ref name=Fontanarosa1998/>\n",
      "\n",
      "Writing in 1999 in ''CA: A Cancer Journal for Clinicians'' [[Barrie R. Cassileth]] mentioned a 1997 letter to the [[US Senate]] Subcommittee on Public Health and Safety, which had deplored the lack of critical thinking and scientific rigor in OAM-supported research, had been signed by four Nobel Laureates and other prominent scientists. (This was supported by the [[National Institutes of Health]] (NIH).)<ref name=\"Cassileth1999\"/>\n",
      "\n",
      "In March 2009 a staff writer for ''[[the Washington Post]]'' reported that the impending national discussion about broadening access to health care, improving medical practice and saving money was giving a group of scientists an opening to propose shutting down the [[National Center for Complementary and Alternative Medicine]]. They quoted one of these scientists, [[Steven Salzberg]], a genome researcher and computational biologist at the University of Maryland, as saying \"One of our concerns is that NIH is funding pseudoscience.\"  They noted that the vast majority of studies were based on fundamental misunderstandings of [[physiology]] and [[disease]], and had shown little or no effect.<ref name=\"Brown2009\"/>\n",
      "\n",
      "Writers such as [[Carl Sagan]] (1934-1996), a noted astrophysicist, advocate of [[scientific skepticism]] and the author of ''[[The Demon-Haunted World|The demon–haunted world: science as a candle in the dark]]'' (1996), have lambasted the lack of empirical evidence to support the existence of the putative energy fields on which these therapies are predicated.{{sfn|Sagan|1996}}\n",
      "\n",
      "Sampson has also pointed out that CAM tolerated [[fallacy|contradiction]] without thorough reason and experiment.<ref name=\"SampsonAtwood2005\"/> Barrett has pointed out that there is a policy at the NIH of never saying something doesn't work only that a different version or dose might give different results.<ref name=\"$2.5 billion\"/> Barrett also expressed concern that, just because some \"alternatives\" have merit, there is the impression that the rest deserve equal consideration and respect even though most are worthless, since they are all classified under the one heading of alternative medicine.<ref name=\"Quackwatch_wary\"/>\n",
      "\n",
      "Some critics of alternative medicine are focused upon health fraud, misinformation, and quackery as public health problems, notably [[Wallace Sampson]] and [[Paul Kurtz]] founders of [[Scientific Review of Alternative Medicine]] and [[Stephen Barrett]], co-founder of [[The National Council Against Health Fraud]] and webmaster of [[Quackwatch]].<ref name=NCAHF_mission/> Grounds for opposing alternative medicine include that:\n",
      "* It is usually based on [[religion]], tradition, [[superstition]], belief in [[supernatural]] energies, [[pseudoscience]], [[fallacy|errors in reasoning]], propaganda, or fraud.<ref name=Beyerstein2001/><ref name=NSF_2002/><ref name=ATRAMM/><ref name=Other_sources/>\n",
      "* Alternative therapies typically lack any [[scientific validation]], and their effectiveness is either [[Scientific method|unproved]] or [[Scientific evidence|disproved]].<ref name=ATRAMM/><ref name=Kent1997/><ref name=Goldrosen2004/>{{dubious|date=January 2013}}\n",
      "* Treatments are not part of the conventional, science-based healthcare system.<ref name=\"WHO_Trad_Med_Defs\"/><ref name=NCCIH1/>{{sfn|IOM Report|2005|pp=[http://books.nap.edu/openbook.php?record_id=11182&page=17 17-19]}}<ref name=Zollman1999/>\n",
      "*Research on alternative medicine is frequently of low quality and methodologically flawed.{{sfn|IOM Report|2005}}{{Full citation needed|date=September 2013}}\n",
      "* Where alternative treatments have replaced conventional science-based medicine, even with the safest alternative medicines, failure to use or delay in using conventional science-based medicine has caused deaths.<ref name=Lilienfeld2002/><ref name=Hughes2010/>\n",
      "* Methods may incorporate or base themselves on [[traditional medicine]], [[Home remedy|folk knowledge]], spiritual beliefs, ignorance or misunderstanding of scientific principles, errors in reasoning, or newly conceived approaches claiming to heal.<ref name=Beyerstein2001/><ref name=ATRAMM/><ref name=Acharya2008/>\n",
      "\n",
      "Many alternative medical treatments are not [[patent]]able,{{citation needed|date=June 2015}}, which may lead to less research funding from the private sector. In addition, in most countries, alternative treatments (in contrast to pharmaceuticals) can be marketed without any proof of efficacy—also a disincentive for manufacturers to fund scientific research.<ref name=\"Ernst2005\" />\n",
      "\n",
      "English evolutionary biologist [[Richard Dawkins]], in his 2003 book ''[[A Devil's Chaplain]]'', defined alternative medicine as a \"set of practices that cannot be tested, refuse to be tested, or consistently fail tests.\"<ref name=Dawkins2003/> Dawkins argued that if a technique is demonstrated effective in properly performed trials then it ceases to be alternative and simply becomes medicine.<ref name=\"Holloway2003\"/>\n",
      "\n",
      "CAM is also often less regulated than conventional medicine.<ref name=\"Ernst_Cohen\" /> There are ethical concerns about whether people who perform CAM have the proper knowledge to treat patients.<ref name=\"Ernst_Cohen\" /> CAM is often done by non-physicians who do not operate with the same medical licensing laws which govern conventional medicine,<ref name=\"Ernst_Cohen\" /> and it is often described as an issue of [[non-maleficence]].<ref name=\"Ernst2\" />\n",
      "\n",
      "According to two writers, Wallace Sampson and K. Butler, marketing is part of the training required in alternative medicine, and propaganda methods in alternative medicine have been traced back to those used by [[Hitler]] and [[Goebels]] in their promotion of pseudoscience in medicine.<ref name=\"ATRAMM\" /><ref name=\"ButlerBarrett1992\" />\n",
      "\n",
      "In November 2011 [[Edzard Ernst]] stated that the \"level of misinformation about alternative medicine has now reached the point where it has become dangerous and unethical. So far, alternative medicine has remained an ethics-free zone. It is time to change this.\"<ref name=\"Ernst_Guardian\" />\n",
      "\n",
      "== Placebo effect ==\n",
      "A research methods expert and author of \"Snake Oil Science\", [[R. Barker Bausell]], has stated that \"it's become politically correct to investigate nonsense.\"<ref name=\"$2.5 billion\"/> There are concerns that just having NIH support is being used to give unfounded \"legitimacy to treatments that are not legitimate.\"<ref name=\"Brown2009\"/>\n",
      "\n",
      "Use of placebos to achieve a [[placebo effect]] in integrative medicine has been criticized as, \"...diverting research time, money, and other resources from more fruitful lines of investigation in order to pursue a theory that has no basis in biology.\"<ref name=Novella2010/><ref name=Gorski2010/>\n",
      "\n",
      "Another critic has argued that academic proponents of [[integrative medicine]] sometimes recommend misleading patients by using known placebo treatments to achieve a placebo effect.{{refn|group=n|As a 2010 article in the ''New England Journal of Medicine'' concluded: <blockquote>real acupuncture treatments were no more effective than sham acupuncture treatments. There was, nevertheless, evidence that both real acupuncture and sham acupuncture were more effective than no treatment, and that acupuncture can be a useful supplement to other forms of conventional therapy for low back pain.<ref name=\"Berman2010\"/></blockquote>}} However, a 2010 survey of family physicians found that 56% of respondents said they had used a placebo in clinical practice as well. Eighty-five percent of respondents believed placebos can have both psychological and physical benefits.<ref name=Kerman2010/>\n",
      "\n",
      "[[Integrative medicine]] has been criticized in that its practitioners, trained in science-based medicine, deliberately mislead patients by pretending [[placebo]]s are not. \"[[Quackery#Criticism of quackery in academia|quackademic medicine]]\" is a pejorative term used for ''[[integrative medicine]]'', which medical professionals consider an infiltration of quackery into academic [[science-based medicine]].<ref name=Gorski2010/>\n",
      "\n",
      "An analysis of trends in the criticism of complementary and alternative medicine (CAM) in five prestigious American medical journals during the period of reorganization within medicine (1965–1999) was reported as showing that the medical profession had responded to the growth of CAM in three phases, and that in each phase, changes in the medical marketplace had influenced the type of response in the journals.<ref name=\"Winnick2005_2009\"/> Changes included relaxed medical licensing, the development of managed care, rising consumerism, and the establishment of the USA Office of Alternative Medicine (now [[National Center for Complementary and Alternative Medicine]]).{{refn|group=n|According to the medical historian [[James Harvey Young]]:<blockquote>In 1991 the Senate Appropriations Committee responsible for funding the National Institutes of Health (NIH) declared itself \"not satisfied that the conventional medical community as symbolized at the NIH has fully explored the potential that exists in unconventional medical practices.<ref>{{Cite journal |last1= Young |first1= J.H. |title= The Development of the Office of Alternative Medicine in the National Institutes of Health, 1991-1996 |doi= 10.1353/bhm.1998.0110 |journal= Bulletin of the History of Medicine |volume= 72 |issue= 2 |pages= 279–98 |year= 1998 |pmid=  9628052 |pmc= |ref= harv }}</ref></blockquote>}} In the \"condemnation\" phase, from the late 1960s to the early 1970s, authors had ridiculed, exaggerated the risks, and petitioned the state to contain CAM; in the \"reassessment\" phase (mid-1970s through early 1990s), when increased consumer utilization of CAM was prompting concern, authors had pondered whether patient dissatisfaction and shortcomings in conventional care contributed to the trend; in the \"integration\" phase of the 1990s physicians began learning to work around or administer CAM, and the subjugation of CAM to scientific scrutiny had become the primary means of control.\n",
      "\n",
      "==Use and regulation==\n",
      "\n",
      "===Prevalence of use===\n",
      "\n",
      "'''Complementary and alternative medicine''' (CAM) has been described as a broad domain of healing resources that encompasses all health systems, modalities, and practices and their accompanying theories and beliefs, other than those intrinsic to the politically dominant health system of a particular society or culture in a given historical period. CAM includes all such practices and ideas self-defined by their users as preventing or treating illness or promoting health and well-being. Boundaries within CAM and between the CAM domain and that of the dominant system are not always sharp or fixed.<ref name=Wieland2011/>{{dubious|date=February 2013}}\n",
      "\n",
      "According to recent research, the increasing popularity of the CAM needs to be explained by moral convictions or lifestyle choices rather than by economic reasoning.<ref>{{cite book|last1=Martin|first1=Hélène|last2=Debons|first2=Jérôme|title=CAM and conventional medicine in Switzerland : divided in theory, united in practice. In N. K. Gale & J. V. McHale, Routledge Handbook of Complementary and Alternative Medecine. Perspectives from social science and law|date=2015|publisher=Routledge|location=London and New York|pages=271–291}}</ref>\n",
      "\n",
      "About 50% of people in developed countries use some kind of complementary and alternative medicine other than prayer for health.<ref name=Barnes2004/><ref name=Ernst2003/><ref name=Astin1998/> A British telephone survey by the BBC of 1209 adults in 1998 shows that around 20% of adults in Britain had used alternative medicine in the past 12 months.<ref name=\"Thomas2001\"/> About 40% of cancer patients use some form of CAM.<ref name=\"Horneber2011\"/>\n",
      "\n",
      "In [[developing country|developing nations]], access to essential medicines is severely restricted by lack of resources and [[poverty]]. [[Traditional medicine|Traditional remedies]], often closely resembling or forming the basis for alternative remedies, may comprise primary healthcare or be integrated into the healthcare system. In Africa, traditional medicine is used for 80% of primary healthcare, and in developing nations as a whole over one-third of the population lack access to essential medicines.<ref name=\"WHO_tradmed_fact\"/>\n",
      "\n",
      "Some have proposed adopting a [[prize]] system to reward medical research.<ref name=\"Horrobin1986\" /> However, public funding for research exists. Increasing the funding for research on alternative medicine techniques is the purpose of the [[US National Center for Complementary and Alternative Medicine]]. NCCIH and its predecessor, the Office of Alternative Medicine, have spent more than $2.5 billion on such research since 1992; this research has largely not demonstrated the efficacy of alternative treatments.<ref name=\"$2.5 billion\" /><ref name=\"nccih_$\" /><ref name=\"Atwood2003\" /><ref>{{cite journal|year=2001|title=Stated goals and grants of the Office of Alternative Medicine/National Center for Complementary and Alternative Medicine|url=|journal=Scientific Review of Alternative Medicine|volume=5|issue=4|pages=205–207|author=Green S}}</ref>\n",
      "\n",
      "That alternative medicine has been on the rise \"in countries where Western science and scientific method generally are accepted as the major foundations for healthcare, and 'evidence-based' practice is the dominant paradigm\" was described as an \"[[wikt:enigma|enigma]]\" in the Medical Journal of Australia.<ref name=Coulter2004/>\n",
      "\n",
      "====In the US====\n",
      "\n",
      "In the United States, the 1974 [[Child Abuse Prevention and Treatment Act]] (CAPTA) required that for states to receive federal money, they had to grant religious exemptions to [[child neglect]] and [[child abuse|abuse]] laws regarding religion-based healing practices.<ref>{{Cite journal|last=Merrick |first=Janna | date=June 2003 |title=Spiritual Healing, Sick Kids and the Law: Inequities in the American Healthcare System |journal=American Journal of Law & Medicine |volume=29 |issue=2 |pages=269–299}}</ref> Thirty-one states have child-abuse religious exemptions.<ref>{{Cite web|url=http://www.childwelfare.gov/systemwide/laws_policies/statutes/define.pdf |title=Definitions of Child Abuse and Neglect |accessdate=2009-02-27 |publisher=Child Welfare Information Gateway |year=2007 |deadurl=yes |archiveurl=https://web.archive.org/web/20071011062659/http://www.childwelfare.gov/systemwide/laws_policies/statutes/define.pdf |archivedate=11 October 2007 }}</ref>\n",
      "\n",
      "The use of alternative medicine in the US has increased,<ref name=NSF_2002/><ref name=Eisenberg1998/> with a 50 percent increase in expenditures and a 25 percent increase in the use of alternative therapies between 1990 and 1997 in America.<ref name=Eisenberg1998/> Americans spend many billions on the therapies annually.<ref name=Eisenberg1998/> Most Americans used CAM to treat and/or prevent musculoskeletal conditions or other conditions associated with chronic or recurring pain.<ref name=\"Barnes2004\"/> In America, women were more likely than men to use CAM, with the biggest difference in use of [[Terms and concepts in alternative medicine#Mind-body interventions|mind-body therapies]] including prayer specifically for health reasons\".<ref name=\"Barnes2004\"/> In 2008, more than 37% of American hospitals offered alternative therapies, up from 26.5 percent in 2005, and 25% in 2004.<ref name=\"Warner2006\"/><ref name=\"AHA2008\"/> More than 70% of the hospitals offering CAM were in urban areas.<ref name=\"AHA2008\"/>\n",
      "\n",
      "A survey of Americans found that 88 percent thought that \"there are some good ways of treating sickness that medical science does not recognize\".<ref name=NSF_2002/> Use of magnets was the most common tool in [[energy medicine]] in America, and among users of it, 58 percent described it as at least \"sort of [[scientific method|scientific]]\", when it is not at all scientific.<ref name=NSF_2002/> In 2002, at least 60 percent of US medical schools have at least some class time spent teaching alternative therapies.<ref name=NSF_2002/> \"Therapeutic touch\", was taught at more than 100 colleges and universities in 75 countries before the practice was debunked by a nine-year-old child for a school science project.<ref name=NSF_2002/><ref name=\"Rosa1998\"/>\n",
      "\n",
      "====Prevalence of use of specific therapies====\n",
      "\n",
      "The most common CAM therapies used in the US in 2002 were prayer (45.2%), [[herbalism]] (18.9%), [[Terms and concepts in alternative medicine#Breathing Meditation|breathing meditation]] (11.6%), [[meditation (alternative medicine)|meditation]] (7.6%), [[chiropractic medicine]] (7.5%), [[yoga (alternative medicine)|yoga]] (5.1%-6.1%), [[body work (alternative medicine)|body work]] (5.0%), [[Terms and concepts in alternative medicine#Diet-based therapy|diet-based therapy]] (3.5%), [[Terms and concepts in alternative medicine#Progressive Relaxation|progressive relaxation]] (3.0%), [[Orthomolecular medicine|mega-vitamin therapy]] (2.8%) and [[Visualization (cam)|Visualization]] (2.1%)<ref name=\"Barnes2004\"/><ref name=\"Barnes2008\"/>\n",
      "\n",
      "In Britain, the most often used alternative therapies were [[Alexander technique]], [[Aromatherapy]], Bach and other flower remedies, Body work therapies including massage, Counseling stress therapies, [[hypnotherapy]], [[Meditation]], [[Reflexology]], [[Shiatsu]], [[Ayurvedic medicine]], Nutritional medicine, and [[Yoga]].{{sfn|Sir Walton: Science and Technology Committee|2000}} Ayurvedic medicine remedies are mainly plant based with some use of animal materials.{{sfn|Wujastyk|2003}} Safety concerns include the use of herbs containing toxic compounds and the lack of quality control in Ayurvedic facilities.<ref name=Valiathan2006/><ref name=Saper2008/>\n",
      "\n",
      "According to the [[National Health Service (England)]], the most commonly used complementary and alternative medicines (CAM) supported by the NHS in the UK are: acupuncture, aromatherapy, chiropractic, homeopathy, massage, osteopathy and clinical hypnotherapy.<ref name=NHS_Careers_CAM/>\n",
      "\n",
      "====In palliative care====\n",
      "\n",
      "Complementary therapies are often used in [[palliative care]] or by practitioners attempting to manage chronic pain in patients. Integrative medicine is considered more acceptable in the interdisciplinary approach used in palliative care than in other areas of medicine. \"From its early experiences of care for the dying, palliative care took for granted the necessity of placing patient values and lifestyle habits at the core of any design and delivery of quality care at the end of life. If the patient desired complementary therapies, and as long as such treatments provided additional support and did not endanger the patient, they were considered acceptable.\"<ref name=Kellhear2003/> The non-pharmacologic interventions of complementary medicine can employ [[mind-body intervention|mind-body]] interventions designed to \"reduce pain and concomitant mood disturbance and increase quality of life.\"<ref name=\"Menefee2005\"/>\n",
      "\n",
      "===Regulation===\n",
      "\n",
      "{{Further information|Regulation of alternative medicine | Regulation and prevalence of homeopathy}}\n",
      "\n",
      "[[File:Use Caution With Ayurvedic Products (FDA October 16, 2008).djvu|thumb|Health campaign flyers, as in this example from the [[Food and Drug Administration]], warn the public about unsafe products.]]\n",
      "In Austria and Germany complementary and alternative medicine is mainly in the hands of doctors with [[Medical degree|MDs]],<ref name=ernstinterview/> and half or more of the American alternative practitioners are licensed MDs.<ref name=\"Cassileth1996\"/> In Germany herbs are tightly regulated: half are prescribed by doctors and covered by health insurance.<ref name=\"JAMA_book_review\"/>\n",
      "\n",
      "Some professions of complementary/traditional/alternative medicine, such as [[chiropractic]], have achieved full regulation in North America and other parts of the world{{sfn|WHO|2005}} and are regulated in a manner similar to that governing science-based medicine. In contrast, other approaches may be partially recognized and others have no regulation at all. Regulation and licensing of alternative medicine ranges widely from country to country, and state to state.{{sfn|WHO|2005}}\n",
      "\n",
      "Government bodies in the USA and elsewhere have published information or guidance about alternative medicine. The [[U.S. Food and Drug Administration]] (FDA), has issued online warnings for consumers about medication health fraud.<ref>{{cite web|url=http://www.fda.gov/Drugs/ResourcesForYou/Consumers/BuyingUsingMedicineSafely/MedicationHealthFraud/default.htm|title=Medication Health Fraud|work=fda.gov}}</ref> This includes a section on Alternative Medicine Fraud,<ref>{{cite web|url=http://www.fda.gov/Drugs/ResourcesForYou/Consumers/BuyingUsingMedicineSafely/MedicationHealthFraud/ucm207747.htm|title=Alternative Medicine Fraud|work=fda.gov}}</ref> such as a warning that Ayurvedic products generally have not been approved by the FDA before marketing.<ref>[http://www.fda.gov/ForConsumers/ConsumerUpdates/ucm050798.htm FDA, ''Use Caution With Ayurvedic Products'']</ref>\n",
      "\n",
      "== Conflicts of interest ==\n",
      "\n",
      "Some commentators have said that special consideration must be given to the issue of [[Conflict of interest|conflicts of interest]] in alternative medicine. [[Edzard Ernst]] has said  that most researchers into alternative medicine are at risk of \"unidirectional bias\" because of a generally uncritical belief in their chosen subject.<ref name=unid>{{cite journal |title=Conflicts of Interest in Alternative Medicine |journal=Skeptical Inquirer |author=Ernst E |authorlink=Edzard Ernst |volume=35 |issue=4 |year=2011 |url=http://www.csicop.org/si/show/conflicts_of_interest_in_alternative_medicine}}</ref> Ernst cites as evidence the phenomenon whereby 100% of a sample of acupuncture trials originating in China had positive conclusions.<ref name=unid/> [[David Gorski]] contrasts [[evidence-based medicine]], in which researchers try to disprove hyphotheses, with what he says is the frequent practice in pseudoscience-based research, of striving to confirm pre-existing notions.<ref name=gorski>{{cite web |author=Gorski D |authorlink=David Gorski |publisher=[[Science-Based Medicine]] |url=https://www.sciencebasedmedicine.org/conflicts-of-interest-in-science-based-medicine/ |date=16 November 2009 |title=Conflicts of interest in science-based medicine}}</ref> [[Harriet A. Hall]] writes that there is a contrast between the circumstances of alternative medicine practitioners and disinterested scientists: in the case of acupuncture, for example, an acupuncturist would have \"a great deal to lose\" if acupuncture were rejected by research; but the disinterested skeptic would not lose anything if its effects were confirmed; rather their change of mind would enhance their skeptical credentials.<ref name=hall>{{cite web |author=Hall HA |authorlink=Harriet A. Hall  |publisher=[[Science-Based Medicine]] |url=https://www.sciencebasedmedicine.org/conflicts-of-interest/ |date=27 April 2011 |title=Conflicts of interest}}</ref>\n",
      "\n",
      "==Risks==\n",
      "{{See also|List of herbs with known adverse effects}}\n",
      "\n",
      "===Adequacy of regulation and CAM safety===\n",
      "\n",
      "Many of the claims regarding the safety and efficacy of alternative medicine are controversial. Some alternative treatments have been associated with unexpected side effects, which can be fatal.<ref>{{cite journal|last1=Niggemann|first1=B.|last2=Grüber|first2=C.|title=Side-effects of complementary and alternative medicine|journal=Allergy|date=22 February 2003|volume=58|issue=8|pages=707–716|doi=10.1034/j.1398-9995.2003.00219.x|pmid=12859546}}</ref>\n",
      "\n",
      "A commonly voiced concerns about complementary alternative medicine (CAM) is the way it's regulated. There have been significant developments in how CAMs should be assessed prior to re-sale in the United Kingdom and the European Union (EU) in the last 2 years. Despite this, it has been suggested that current regulatory bodies have been ineffective in preventing deception of patients as many companies have re-labelled their drugs to avoid the new laws.<ref name=\"Colquhoun2012\"/>  There is no general consensus about how to balance consumer protection (from false claims, toxicity, and advertising) with freedom to choose remedies.\n",
      "\n",
      "Advocates of CAM suggest that regulation of the industry will adversely affect patients looking for alternative ways to manage their symptoms, even if many of the benefits may represent the placebo affect.<ref name=\"Connelly2012\"/> Some contend that alternative medicines should not require any more regulation than over-the-counter medicines that can also be toxic in overdose (such as paracetamol).<ref name=\"Malcolm2012\"/>\n",
      "\n",
      "===Interactions with conventional pharmaceuticals===\n",
      "\n",
      "Forms of alternative medicine that are biologically active can be dangerous even when used in conjunction with conventional medicine. Examples include immuno-augmentation therapy, shark cartilage, bioresonance therapy, oxygen and ozone therapies, and insulin potentiation therapy. Some herbal remedies can cause dangerous interactions with chemotherapy drugs, radiation therapy, or anesthetics during surgery, among other problems.<ref name=CassilethDeng2004/> An anecdotal example of these dangers was reported by Associate Professor Alastair MacLennan of Adelaide University, Australia regarding a patient who almost bled to death on the operating table after neglecting to mention that she had been taking \"natural\" potions to \"build up her strength\" before the operation, including a powerful anticoagulant that nearly caused her death.<ref name=\"Hills1999\"/>\n",
      "\n",
      "To ''ABC Online'', MacLennan also gives another possible mechanism:\n",
      "\n",
      ":And lastly {{sic}} there's the cynicism and disappointment and depression that some patients get from going on from one alternative medicine to the next, and they find after three months the placebo effect wears off, and they're disappointed and they move on to the next one, and they're disappointed and disillusioned, and that can create depression and make the eventual treatment of the patient with anything effective difficult, because you may not get compliance, because they've seen the failure so often in the past.<ref name=\"SwanABC\"/>\n",
      "\n",
      "===Potential side-effects===\n",
      "\n",
      "Conventional treatments are subjected to testing for undesired [[Adverse effect (medicine)|side-effects]], whereas alternative treatments, in general, are not subjected to such testing at all. Any treatment – whether conventional or alternative – that has a biological or psychological effect on a patient may also have potential to possess dangerous biological or psychological side-effects. Attempts to refute this fact with regard to alternative treatments sometimes use the ''[[appeal to nature]]'' fallacy, i.e., \"That which is natural cannot be harmful.\" Specific groups of patients such as patients with impaired hepatic or renal function are more susceptible to side effects of alternative remedies.<ref>{{cite journal|title=Use of herbal remedies among patients undergoing hemodialysis|journal=Iran J Kidney Dis|pmid=24241097|url=https://www.researchgate.net/publication/258636639_Use_of_herbal_remedies_among_patients_undergoing_hemodialysis|volume=7|issue=6|date=Nov 2013|pages=492–5|author1=Roozbeh|first1=J|last2=Hashempur|first2=M. H.|last3=Heydari|first3=M}}</ref><ref>{{cite journal|title=Herbal products: benefits, limits, and applications in chronic liver disease|journal=Evid Based Complement Alternat Med|pmid=22991573|pmc=3443820|url=http://www.hindawi.com/journals/ecam/2012/837939/|doi=10.1155/2012/837939|volume=2012|year=2012|pages=837939|author1=Del Prete|first1=A|last2=Scalera|first2=A|last3=Iadevaia|first3=M. D.|last4=Miranda|first4=A|last5=Zulli|first5=C|last6=Gaeta|first6=L|last7=Tuccillo|first7=C|last8=Federico|first8=A|last9=Loguercio|first9=C}}</ref>\n",
      "\n",
      "An exception to the normal thinking regarding side-effects is [[Homeopathy]]. Since 1938, the [[U.S. Food and Drug Administration]] (FDA) has regulated homeopathic products in \"several significantly different ways from other drugs.\"<ref name=Stehlin/> Homeopathic preparations, termed \"remedies\", are extremely dilute, often far beyond the point where a single molecule of the original active (and possibly toxic) ingredient is likely to remain. They are, thus, considered safe on that count, but \"their products are exempt from good manufacturing practice requirements related to expiration dating and from finished product testing for identity and strength\", and their alcohol concentration may be much higher than allowed in conventional drugs.<ref name=Stehlin/>\n",
      "\n",
      "===Treatment delay===\n",
      "\n",
      "Those having experienced or perceived success with one alternative therapy for a minor ailment may be convinced of its efficacy and persuaded to extrapolate that success to some other alternative therapy for a more serious, possibly life-threatening illness.<ref name=\"Navarro2006\"/> For this reason, critics argue that therapies that rely on the placebo effect to define success are very dangerous. According to mental health journalist Scott Lilienfeld in 2002, \"unvalidated or scientifically unsupported mental health practices can lead individuals to forgo effective treatments\" and refers to this as \"[[opportunity cost]]\". Individuals who spend large amounts of time and money on ineffective treatments may be left with precious little of either, and may forfeit the opportunity to obtain treatments that could be more helpful. In short, even innocuous treatments can indirectly produce negative outcomes.<ref name=Lilienfeld2002/>\n",
      "Between 2001 and 2003, four children died in Australia because their parents chose ineffective naturopathic, homeopathic, or other alternative medicines and diets rather than conventional therapies.<ref name=Hughes2010/>\n",
      "\n",
      "===Unconventional cancer \"cures\"===\n",
      "\n",
      "There have always been \"many therapies offered outside of conventional cancer treatment centers and based on theories not found in [[biomedicine]]. These alternative cancer cures have often been described as 'unproven,' suggesting that appropriate clinical trials have not been conducted and that the therapeutic value of the treatment is unknown.\" However, \"many alternative cancer treatments have been investigated in good-quality clinical trials, and they have been shown to be ineffective....The label 'unproven' is inappropriate for such therapies; it is time to assert that many alternative cancer therapies have been 'disproven'.\"<ref name=Vickers/>\n",
      "\n",
      "[[Edzard Ernst]] has stated:\n",
      "\n",
      ": \"... any alternative cancer cure is bogus by definition. There will never be an alternative cancer cure. Why? Because if something looked halfway promising, then mainstream oncology would scrutinize it, and if there is anything to it, it would become mainstream almost automatically and very quickly. All curative \"alternative cancer cures\" are based on false claims, are bogus, and, I would say, even criminal.\"<ref name=Miller>{{Citation |last=Miller |first=Gabriel |date=2 September 2014 |title=Asking the Experts: Complementary and Alternative Medicine and Cancer |publisher=''[[Medscape]]'' |url=http://www.medscape.com/viewarticle/830553_print |accessdate=7 September 2014 }}</ref>\n",
      "\n",
      "== Gallery ==\n",
      "<gallery>\n",
      "\n",
      "File:Fallerjfa.JPG|Christian [[laying on of hands]], [[prayer]] intervention, and [[faith healing]]\n",
      "\n",
      "File:Dhanvantari-at-Ayurveda-expo.jpg|Indian [[Ayurvedic medicine]] includes a belief that the spiritual balance of mind influences disease.\n",
      "\n",
      "File:Hierbas medicinales mercado medieval.jpg|Medicinal herbs in a traditional Spanish market\n",
      "\n",
      "File:Market Pharmacy Tana MS5179.jpg|[[Traditional medicine]]s in [[Madagascar]]\n",
      "\n",
      "File:Traditional Chinese medicine in Xi'an market.jpg|Assorted dried plant and animal parts used in traditional Chinese medicine\n",
      "\n",
      "File:Doña ramona.jpg|[[Shaman]] healer in [[Sonora, Mexico]].\n",
      "\n",
      "File:American medical botany, being a collection of the native medicinal plants of the United States, containing their botanical history and chemical analysis, and properties and uses in medicine, diet and (14764623455).jpg|[[Phytotherapy]] (herbal medicine): an engraving of ''[[magnolia]] glauca'' in [[Jacob Bigelow]]'s \"American medical botany\"\n",
      "</gallery>\n",
      "\n",
      "== See also ==\n",
      "* [[Conservation medicine]]\n",
      "* [[Ethnomedicine]]\n",
      "* [[Psychic surgery]]\n",
      "\n",
      "==Notes==\n",
      "{{reflist|2|group=n}}\n",
      "\n",
      "==References==\n",
      "\n",
      "{{Reflist|30em|refs=\n",
      "<ref name=\"NSF_2002\">{{cite book |chapter= Chapter 7: Science and Technology: Public Attitudes and Public Understanding, Section: Belief in Alternative Medicine |chapterurl= http://www.nsf.gov/statistics/seind02/c7/c7s5.htm#c7s5l2a |title= Science and Engineering Indicators - 2002 |url=http://www.nsf.gov/statistics/seind02/ |year=2002 |author= [[National Science Board]] |publisher= Division of Science Resources Statistics, [[National Science Foundation]], [[Federal government of the United States|US Government]] |location= Arlington, Virginia}}</ref>\n",
      "\n",
      "<ref name=FDA_regulatory>{{cite web |url= http://www.fda.gov/RegulatoryInformation/Guidances/ucm144657.htm |title= Complementary and Alternative Medicine Products and their Regulation by the Food and Drug Administration |year= 2007 |publisher= Office of Policy and Planning, Office of the Commissioner, [[Food and Drug Administration]] (FDA), [[United States Department of Health and Human Services|Dept. of Health and Human Services]], [[Federal government of the United States|US Government]] |ref= {{harvid|FDA|2007}}}} {{PD-notice}}</ref>\n",
      "\n",
      "<ref name=\"whccamp.hhs.gov\">{{cite book |title= Final Report |authors= White House Commission on Complementary and Alternative Medicine Policy |chapter= Chapter 2: Overview of CAM in the United States: Recent History, Current Status, And Prospects for the Future |isbn= 0160514762 |volume= [[National Institutes of Health|NIH]] Pub. 03-5411 |publisher= US Government Printing Office |url= http://whccamp.hhs.gov/finalreport.html |year= 2002|chapterurl= http://whccamp.hhs.gov/fr2.html}} Chapter 2 [http://www.webcitation.org/61C8iiefX?url=http%3A%2F%2Fwhccamp.hhs.gov%2Ffr2.html archived] 2011-08-25.</ref>\n",
      "\n",
      "<ref name=Ernst_1995>{{cite journal |last= Ernst |first= E. |authorlink= Edzard Ernst |title= Complementary medicine: Common misconceptions |journal= [[Journal of the Royal Society of Medicine]] |year= 1995 |volume= 88 |issue= 5 |pages=244–7| pmid = 7636814 |pmc= 1295191|quote= Complementary medicine, defined as health care which lies for the most part outside the mainstream of conventional medicine |ref= harv}}.</ref>\n",
      "\n",
      "<ref name=Joyce_1994>{{cite journal |last= Joyce |first= C.R.B. |title= Placebo and complementary medicine |journal= [[The Lancet]] |year= 1994 |volume= 344|issue= 8932 |pages= 1279–81 |doi= 10.1016/S0140-6736(94)90757-9 |pmid= 7967992 |ref= harv}}</ref>\n",
      "\n",
      "<ref name=ernstinterview>{{cite web|url=http://www.harcourt-international.com/ernst/interview.cfm |archive-url=https://web.archive.org/web/20020302075846/http://www.harcourt-international.com/ernst/interview.cfm |dead-url=yes |archive-date=2002-03-02 |author=Elsevier Science |publisher=Harcourt International |title=Author interview (Edzard Ernst, editor of ''The Desktop Guide to Complementary and Alternative Medicine'') |year=2002 |df= }}</ref>\n",
      "\n",
      "<ref name=CassilethDeng2004>{{cite journal |last1= Cassileth |first1=B.R. |last2= Deng |first2= G. |authorlink= Barrie R. Cassileth |title= Complementary and alternative therapies for cancer |journal= The Oncologist |volume= 9 |issue= 1 |pages= 80–9 |year= 2004 |doi= 10.1634/theoncologist.9-1-80 |pmid= 14755017 |url= http://theoncologist.alphamedpress.org/content/9/1/80.full |ref= harv|displayauthors= 1 }}</ref>\n",
      "\n",
      "<ref name=BMJ_May>{{cite journal | journal= [[BMJ]] | volume= 343 | doi= 10.1136/bmj.d4372 | year= 2011 | title= What is integrative health? |first= J. |last= May | page= d4372 | pmid= 21750063 | ref= harv}}</ref>\n",
      "\n",
      "<!-- remarked out\n",
      "<ref name=\"fda.gov\">{{cite web |url= http://www.fda.gov/Drugs/ResourcesForYou/Consumers/BuyingUsingMedicineSafely/MedicationHealthFraud/ucm207747.htm |title= Alternative Medicine Fraud |date= 2010-10-25 |accessdate= 2013-03-11 |archiveurl= https://web.archive.org/web/20121018095742/http://www.fda.gov/Drugs/ResourcesForYou/Consumers/BuyingUsingMedicineSafely/MedicationHealthFraud/ucm207747.htm |archivedate= 2012-10-18 |deadurl= no |series= Information for Consumers (Drugs) |work= FDA website}}</ref> -->\n",
      "\n",
      "<ref name=NHS_Careers_CAM>{{cite web|url=http://www.nhscareers.nhs.uk/explore-by-career/wider-healthcare-team/careers-in-the-wider-healthcare-team/clinical-support-staff/complementary-and-alternative-medicine-(cam)/ |title=Complementary and alternative medicine (CAM) |publisher=National Health Service in England (NHS), UK Dept. of Health |work= NHS Careers website |author= |date= |accessdate= 2013-03-11 |archivedate= 2013-04-03 |archiveurl= https://web.archive.org/web/20130403110352/http://www.nhscareers.nhs.uk/explore-by-career/wider-healthcare-team/careers-in-the-wider-healthcare-team/clinical-support-staff/complementary-and-alternative-medicine-%28cam%29/ |deadurl= no}}</ref>\n",
      "\n",
      "<ref name=\"CAM_Sointu_Nissen_Eisenberg\">{{harvnb|IOM Report|2005|pp=[http://books.nap.edu/openbook.php?record_id=11182&page=16 16], [http://books.nap.edu/openbook.php?record_id=11182&page=175 175]}}.<br />{{harvnb|Sointu|2012|pages=[https://books.google.com/books?id=XC2UUP36bjAC&pg=PA13 13–14]}}.<br />{{harvnb|Nissen et al.|2013}}.<br />{{harvnb|Eisenberg et al.|1993}}.</ref>\n",
      "\n",
      "<ref name=Nissen2013>{{cite journal |title= Researching alternative and complementary therapies: Mapping the field |last1= Nissen |first1= N. |last2= Manderson |first2= L. |journal= Medical Anthropology |volume= 32 |issue= 1 |pages= 1–7 |year= 2013 |doi=10.1080/01459740.2012.718016 |pmid= 23206171 |ref= {{harvid|Nissen et al.|2013}}|displayauthors= 1 }}</ref>\n",
      "\n",
      "<!--<name=Toupin2012>{{cite journal |last1= Toupin |first1= A.K. |last2= Moher |first2= D |last3= Stinson |first3= J. |last4= Byrne |first4= A |last5= White |first5= M. Last6= Boon |first6= H. |last7= Duffy |first7= C.M. |last8= Rader |first8= T. |last9= Vohra |first9= S. |last10= Tugwell |first10= P. |title=Measurement properties of questionnaires assessing complementary and alternative medicine use in pediatrics: A systematic review |journal=[[Plos One]] |volume=7 |issue=6 |page= e39611| date=  2012 |pmid= 22768098 |doi= 10.1371/journal.pone.0039611|pmc= 3387262 |editor1-last= Phillips |editor1-first= R.S. |last6= Boon |ref= harv|displayauthors= 1 }}</ref>-->\n",
      "\n",
      "<ref name=NCCIH1>{{Cite journal|url=http://nccih.nih.gov/health/whatiscam/ |title=Complementary, Alternative, or Integrative Health: What’s In a Name? |accessdate=2006-07-11 |publisher=[[NCCIH|National Center for Complementary and Integrative Health (NCCIH)]], [[National Institutes of Health|National Institutes of Health (NIH)]], [[United States Department of Health and Human Services|US Dept. of Health and Human Services (US HHS)]] |archiveurl=http://www.webcitation.org/5C1oRX8Qq?url=http%3A%2F%2Fnccam.nih.gov%2Fhealth%2Fwhatiscam%2F |archivedate=2005-12-08 |deadurl=no |date=May 2002 |volume=NCCIH Pub. No. D156 |author= |postscript=. |ref=harv |df= }}</ref>\n",
      "\n",
      "<ref name=HuffordUPenn>{{cite web |title= David J. Hufford |publisher= Dept. of Folklore and Folklife, [[University of Pennsylvania]] |date=  |author= |accessdate= 2013-03-12 |url= http://www.sas.upenn.edu/folklore/faculty/dhufford.html |archiveurl= https://web.archive.org/web/20130626163749/http://www.sas.upenn.edu/folklore/faculty/dhufford.html |archivedate= 2013-06-26 |deadurl= no}}</ref>\n",
      "\n",
      "<ref name=Hufford2004a>{{harvnb|Hufford|2004}}. In {{harvnb|Callahan|2004|p= [https://books.google.com/books?id=ryEnQlgMCT0C&pg=PA29 29]}}. Quoted in {{harvnb|IOM Report|2005|p= [http://books.nap.edu/openbook.php?record_id=11182&page=17 17]}}.</ref>\n",
      "<ref name=Hufford2004>{{harvc |last=Hufford|first=D.J.|chapter=CAM and Cultural Diversity: Ethics and Epistemology Converge|in=Callahan|year=2004|pp=[https://books.google.com/books?id=ryEnQlgMCT0C&pg=PA15 15–35]|}}</ref>\n",
      "\n",
      "<ref name=Eisenberg1993>{{cite journal |last1= Eisenberg |first1=D.M.|last2= Kessler |first2= R.C.|last3= Foster |first3= C. |last4= Norlock |first4= F.E. |last5= Calkins |first5= D.R. |last6= Delbanco |first6= T.L. |title= Unconventional medicine in the United States –– Prevalence, costs, and patterns of use |journal= New England Journal of Medicine |volume= 328 |issue=4 |pages= 246–52 |year= 1993 |url= http://www.nejm.org/doi/full/10.1056/NEJM199301283280406#t=article |doi=10.1056/NEJM199301283280406 |pmid= 8418405|ref={{harvid|Eisenberg et al.|1993}}|displayauthors=1 }}</ref>\n",
      "\n",
      "<ref name=Saks1992>{{cite book |last= Saks|first= M. |editor-last= Saks |editor-first= M. |title= Alternative Medicine in Britain |year= 1992 |publisher= Clarendon Press |location= Oxford |isbn=9780198272786 |pages=1–21 |chapter= Introduction}}</ref>\n",
      "\n",
      "<ref name=BMA_1993_1st>[[#CITEREFBMA1993|British Medical Association (BMA) 1993]], p. 7.<!--Formatted to provide full name of BMA for first instance in reference list--></ref>\n",
      "\n",
      "<ref name=Artus2007>{{cite journal |title= The use of CAM and conventional treatments among primary care consulters with chronic musculoskeletal pain |url= http://www.biomedcentral.com/1471-2296/8/26 |journal= [[BMC journals|BMC Family Practice]] |volume= 8 |page= 26 |year= 2007 |last1= Artus |first1= M. |last2= Croft |first2= P. |last3= Lewis |first3= M. |doi= 10.1186/1471-2296-8-26 |pmid= 17480212 |pmc= 1878478 |ref={{harvid|Artus et al.|2007}}|displayauthors= 1 |issue=1}}</ref>\n",
      "\n",
      "<ref name=Wieland2011>{{cite journal |title= Development and classification of an operational definition of complementary and alternative medicine for the Cochrane Collaboration |last1= Wieland |first1= L.S. |last2= Manheimer |first2= E. |last3= Berman |first3= B.M. |journal= Alternative Therapies in Health and Medicine |year= 2011 |volume= 17 |issue= 2 |pages= 50–9 |pmid= 21717826 |pmc= 3196853 |ref={{harvid|Wieland et al.|2011}}|displayauthors= 1 }}</ref>\n",
      "\n",
      "<ref name=Kopelman2004>{{harvc |last=Kopelman|first=L.|chapter=The Role of Science in Assessing Conventional, Complementary, and Alternative Medicines|in=Callahan|year=2004|pp=[https://books.google.com/books?id=ryEnQlgMCT0C&pg=PA36 36–53]}}</ref>\n",
      "\n",
      "<ref name=Kent1997>{{cite journal |title= Ignore growing patient interest in alternative medicine at your peril - MDs warned  |first= H. |last= Kent |journal= [[Canadian Medical Association Journal]] |year= 1997 |volume= 157 |issue= 10 |pages= 1427–8 |pmid= 9371077 |pmc= 1228476 |ref= {{harvid|Kent|1997}}}}</ref>\n",
      "\n",
      "<ref name=Bivins2011>{{cite book |last= Bivins|first=R. |editor-last= Jackson |editor-first= M. |title= The Oxford Handbook of the History of Medicine |year= 2011 |publisher= Oxford University Press |isbn=9780199546497 |pages= [https://books.google.com/books?id=cpjgoazGIC4C&pg=PA597 578–97] |chapter= Chapter 32: Histories of Heterodoxy |ref= {{harvid|Bivins|2011}}}}</ref>\n",
      "\n",
      "<ref name=Jutte2001>{{Cite book |publisher= European Association for the History of Medicine and Health |pages= 11–26 |editor1-first= M. |editor1-last= Eklof |editor2-first= M.C. |editor2-last= Nelson |last= Jütte |first= R. |title= Historical Aspects of Unconventional Medicine: Approaches, Concepts, Case Studies |chapter= Alternative Medicine and Medico-Historical Semantics |year= 2001 |chapterurl= http://www.igm-bosch.de/content/language1/downloads/EAHMH_4_02jue.pdf |isbn= 095365222X |ref={{harvid|Jutte|2001}} }}</ref>\n",
      "\n",
      "<ref name=Jutte1999>{{cite journal |title= The historiography of nonconventional medicine in Germany: A concise overview |last= Jütte |first= R. |journal= Medical History |volume= 43 |issue= 3 |year= 1999 |pages= 342–58 |pmc= 1044149 |pmid= 10885128 |doi= 10.1017/S002572730006539X |ref= harv}}</ref>\n",
      "\n",
      "<ref name=Beyerstein2001>{{cite journal |last= Beyerstein |first= B.L. |authorlink= Barry Beyerstein |title= Alternative medicine and common errors of reasoning |journal= Academic Medicine |volume= 76 |issue= 3 |pages= 230–7 |year= 2001 |pmid= 11242572 |doi= 10.1097/00001888-200103000-00009 |ref= {{harvid|Beyerstein|2001}}}}</ref>\n",
      "\n",
      "<ref name=Coulter2004>{{cite journal |title= The rise and rise of complementary and alternative medicine: A sociological perspective |url= https://www.mja.com.au/journal/2004/180/11/rise-and-rise-complementary-and-alternative-medicine-sociological-perspective |first1= I.D. |last1= Coulter |first2= E.M. |last2= Willis |journal= [[Medical Journal of Australia]] |year= 2004 |volume= 180 |issue= 11 |pages= 587–9 |pmid= 15174992 |ref= {{harvid|Coulter et al.|2004}}|displayauthors= 1 }}</ref>\n",
      "\n",
      "<ref name=Eisenberg_Bio>{{cite web|title=David M. Eisenberg, M.D. |url=http://specertified.com/what/team-profile/david-m.-eisenberg-m.d |date= |accessdate=2013-03-14 |archivedate=2013-05-29 |archiveurl=https://web.archive.org/web/20130529173804/http://specertified.com/what/team-profile/david-m.-eisenberg-m.d |work=Health Through Food website |publisher=[[SPE Certified|SPE]] Development US Inc. |deadurl=yes |df= }}</ref>\n",
      "\n",
      "<ref name=\"HOL_Kopelman_Wieland_Astin_Pelletier\">{{harvnb|Sir Walton: Science and Technology Committee|2000|loc= [http://www.parliament.the-stationery-office.co.uk/pa/ld199900/ldselect/ldsctech/123/12303.htm Chapter 1: Introduction]}}.<br />{{harvnb|Kopelman|2004}}.<br />{{harvnb|Wieland et al.|2011}}.<br />{{cite journal |last1= Astin |first1= J.A. |last2= Marie |first2= A. |last3= Pelletier |first3= K.R. |last4= Hansen |first4= E. |last5= Haskell |first5= W.L. |title= A review of the incorporation of complementary and alternative medicine by mainstream physicians |journal= [[JAMA Internal Medicine]] |year= 1998 |volume= 158 |issue= 21 |pages= 2303–10 |doi= 10.1001/archinte.158.21.2303 |pmid= 9827781 |url= http://archinte.jamanetwork.com/article.aspx?articleid=210591 |ref= harv|displayauthors= 1 }}<br />{{cite journal |last1= Pelletier |first1= K.R. |last2= Marie |first2= A. |last3= Krasner |first3= M. |last4= Haskell |first4= W.L. |title= Current trends in the integration and reimbursement of complementary and alternative medicine by managed care, insurance carriers, and hospital providers |journal= American Journal of Health Promotion |volume= 12 |issue= 2 |year= 1997 |pages= 112–22 |doi= 10.4278/0890-1171-12.2.112 |pmid= 10174663 |ref= harv|displayauthors= 1 }}</ref>\n",
      "\n",
      "<ref name=\"Walton_Science_and_Technology_Committee\">{{harvnb|Sir Walton: Science and Technology Committee|2000|loc =\n",
      "[http://www.parliament.the-stationery-office.co.uk/pa/ld199900/ldselect/ldsctech/123/12311.htm Chapter 6: Professional Training and Education]}}</ref>\n",
      "\n",
      "<ref name=Salomonsen_AHA>{{cite journal |title= Use of complementary and alternative medicine at Norwegian and Danish hospitals |url= http://www.biomedcentral.com/1472-6882/11/4 |journal= [[BMC journals|BMC Complementary & Alternative Medicine]] |last1= Salomonsen |first1= L.J. |last2= Skovgaard |first2= L. |last3= La Cour |first3= S.R. |last4= Nyborg |first4= L. |last5= Launsø |first5= L. |last6= Fønnebø |first6= V. |volume= 11 |pages= 4 |doi= 10.1186/1472-6882-11-4 |pmid= 21244655 |pmc= 3033860 |year= 2011 |ref= harv|displayauthors= 1 |issue=1}}<br />{{harvnb|American Hospital Association|2008}}</ref>\n",
      "\n",
      "<ref name=\"CAM_RMC1997\">{{cite journal |author= CAM Research Methodology Conference, April 1995 Panel on Definition and Description |title= Defining and describing complementary and alternative medicine |journal= Alternative Therapies in Health and Medicine |volume= 3 |issue= 2 |pages= 49–57 |year= 1997 |pmid= 9061989 |ref= harv}}</ref>\n",
      "\n",
      "<ref name=UKDoH_CAM>{{cite web |title= Complementary and Alternative Medicine |url= http://www.dh.gov.uk/en/Publichealth/Healthimprovement/Complementaryandalternativemedicine/index.htm |archivedate= 2010-04-07 |archiveurl= http://webarchive.nationalarchives.gov.uk/20100407164951/http://www.dh.gov.uk/en/Publichealth/Healthimprovement/Complementaryandalternativemedicine/index.htm |work= UK Dept. of Health website |ref= {{harvid|UKDoH_CAM}}}}</ref>\n",
      "\n",
      "<ref name=Dawkins2003>{{cite book |last= Dawkins |first= R. |authorlink= Richard Dawkins |title= [[A Devil's Chaplain|A Devil's Chaplain: Selected Essays]] |editor-last= Menon |editor-first= L. |year= 2003 |isbn= 9780753817506 |publisher= Weidenfeld & Nicolson |location= London |pages= |ref={{harvid|Dawkins|2003}}}} (p. [https://books.google.com/books?id=loVMMlxC1XoC&pg=PA180 180] in 2004 US ed. ISBN 0618335404).</ref>\n",
      "\n",
      "<ref name=Zollman1999>{{cite journal |last1= Zollman |first1= C. |last2= Vickers |first2= A. |title= What is complementary medicine? |department= ABC of complementary medicine |doi= 10.1136/bmj.319.7211.693 |pmid= 10480829 |pmc= 1116545 |journal= BMJ |volume= 319 |issue= 7211 |pages= 693–6 |year= 1999 |ref= {{harvid|Zollman et al.|1999}}|displayauthors= 1 }}</ref>\n",
      "\n",
      "<ref name=ZollChanCoulRobeAdamArtu>{{harvnb|Zollman et al.|1999}}.<br />{{cite journal |title= Complementary and alternative therapies in childhood attention and hyperactivity problems |last1= Chan |first1= E. |last2= Rappaport |first2= L.A. |last3= Kemper |first3= K.J. |journal= Journal of Developmental & Behavioral Pediatrics |year= 2003 |volume= 24 |issue= 1 |pages= 4–8 |pmid= 12584479 |doi= 10.1097/00004703-200302000-00003 |ref= harv|displayauthors= 1 }}<br />{{cite journal |title= Complementary and alternative medicine utilisation in NHS and private clinic settings: A United Kingdom survey of 400 infertility patients |last1= Coulson |first1= C. |last2= Jenkins |first2= J. |journal= Journal of Experimental & Clinical Assisted Reproduction |year= 2005 |volume= 2 |page= 5 |url= http://archive.biomedcentral.com/1743-1050/2/5 |doi= 10.1186/1743-1050-2-5 |pmid= 15807886 |pmc= 1084360 |issue= 1 |ref= harv|displayauthors= 1 }}<br />{{cite journal |title= The social demand for a medicine focused on the person: The contribution of CAM to healthcare and healthgenesis |last= Roberti di Sarsina |first= P. |journal= [[Evidence-based Complementary and Alternative Medicine]] |volume= 4 |issue= S1 |year= 2007 |pages= 45–51 |doi= 10.1093/ecam/nem094 |pmid= 18227933 |pmc= 2206228 |ref= harv}}<br />{{cite journal |title= The use of complementary and alternative medicine by cancer patients |last1= Adams |first1= M. |last2= Jewell |first2= A.P. |journal= International Seminars in Surgical Oncology |year= 2007 |volume= 4 |page= 10 |doi= 10.1186/1477-7800-4-10 |pmid= 17470282 |pmc= 1872026 |ref= harv|displayauthors= 1 |issue=1}}<br />{{harvnb|Artus et al.|2007}}.</ref>\n",
      "\n",
      "<ref name=Fontanarosa1998>{{cite journal |title= Alternative medicine meets science |last1= Fontanarosa |first1= P.B. |last2= Derman |journal= [[JAMA (journal)|JAMA]] |year= 1998 |volume= 280 |issue= 18 |pages= 1618–9 |doi= 10.1001/jama.280.18.1618 |pmid= 9820267 |ref= {{harvid|Fontanarosa et al.|1998}} |first2= E |last3= Molloy |first3= GR |last4= Tamm |first4= I |last5= Darnell |first5= JE|displayauthors= 1 }}</ref>\n",
      "\n",
      "<ref name=Borkan2012>{{cite journal |title= Complementary alternative health care in Israel and the western world |last= Borkan |url= http://www.ijhpr.org/content/1/1/8 |first= J. |year= 2012 |journal= Israel Journal of Health Policy Research |volume= 1 |issue= 1 |page= 8 |doi= 10.1186/2045-4015-1-8 |pmid= 22913745 |pmc= 3424836 |ref= harv}}</ref>\n",
      "\n",
      "<ref name=Kong2005>{{cite journal |title= The Incidence of self-prescribed oral complementary and alternative medicine use by patients with gastrointestinal diseases |last1= Kong |first1= S.C. |last2= Hurlstone |first2= D.P. |last3= Pocock |first3= C.Y. |last4= Walkington |first4= L.A. |last5= Farquharson |first5= N.R. |last6= Bramble |first6= M.G. |last7= McAlindon |first7= M.E. |last8= Sanders |first8= D.S. |journal= [[Journal of Clinical Gastroenterology]] |year= 2005 |issue= 2 |volume= 39 |pages= 138–41 |pmid= 15681910 |ref= harv|displayauthors= 1 }}</ref>\n",
      "\n",
      "<ref name=Angell1998>{{cite journal |title= Alternative medicine--The risks of untested and unregulated remedies |last1= Angell |first1= M. |last2= Kassirer |first2= J.P. |authorlink= Marcia Angell |journal= [[New England Journal of Medicine]] |volume= 339 |issue= 12 |pages= 839–41 |year= 1998 |doi= 10.1056/NEJM199809173391210 |ref= harv|displayauthors= 1|pmid= 9738094 }}</ref>\n",
      "\n",
      "<ref name=Dawkins2003a>[[John Diamond (journalist)|Diamond, J.]] quoted in {{harvnb|Dawkins|2003}}. (p. [https://books.google.com/books?id=nBRYZtOuqZcC&pg=PA36 36] in 2004 US ed. ISBN 0618335404).</ref>\n",
      "\n",
      "<!-- remark out unused ref\n",
      "<ref name=NHS_Choices_CAM>{{Cite web |title= All about complementary and alternative medicine |url= http://www.nhs.uk/Livewell/complementary-alternative-medicine/Pages/complementary-alternative-medicines.aspx |date= 2012-11-23 |accessdate=  |archivedate= 2013-02-28 |archiveurl= https://web.archive.org/web/20130228185229/http://www.nhs.uk/Livewell/complementary-alternative-medicine/Pages/complementary-alternative-medicines.aspx |deadurl= no |series= Live Well |work= NHS Choices website |postscript= . |author1= NHS Choices editors |ref= harv}}</ref>\n",
      "-->\n",
      "\n",
      "<ref name=Maciocia1995>{{cite book|title=Tongue Diagnosis in Chinese Medicine|first=Giovanni|last=Maciocia|year=1995|publisher=Eastland Press|location=Seattle|isbn=9780939616190}}</ref>\n",
      "\n",
      "<ref name=NHMRC_CAM>{{Cite journal |title= Complementary and alternative medicines |url= http://www.nhmrc.gov.au/your-health/complementary-and-alternative-medicines |work= NHMRC website |series= Your health |publisher= [[National Health and Medical Research Council|National Health and Medical Research Council (NHMRC)]], [[Minister for Health (Australia)|Australian Minister for Health]] |date= 2013-09-27 |accessdate= 2013-09-30 |archiveurl= https://web.archive.org/web/20130928174904/http://www.nhmrc.gov.au/your-health/complementary-and-alternative-medicines |archivedate= 2013-09-28 |deadurl= no |postscript= . |author1= NHMRC |ref= harv}}</ref>\n",
      "\n",
      "<ref name=\"WHO_Trad_Med_Defs\">{{Cite journal |title= Traditional Medicines: Definitions |url= http://www.who.int/medicines/areas/traditional/definitions/en/index.html |work= WHO website |publisher= [[World Health Organization]] |series= Medicines |accessdate= 2012-11-11 |archiveurl= https://web.archive.org/web/20130927045217/http://www.who.int/medicines/areas/traditional/definitions/en/index.html |archivedate= 2013-09-27 |deadurl= no |postscript= . |author1= Xiaorui Zhang |ref= harv}} Extracted from {{harvnb|WHO|2000}}.</ref>\n",
      "\n",
      "<!-- remark out unused ref\n",
      "<ref name=Cotter2005>{{cite book |title= Physical Medicine & Rehabilitation: Principles and Practice |last1= Cotter |first1= A.C. |last2= Shiflett |first2= S.C. |last3= Kuo |first3= D. |editor1-last= DeLisa |editor1-first= J.A. |editor2-last= Gans |editor2-first= B.M. |editor3-last= Walsh |editor3-first= N.E. |chapter= Chapter 19: Complementary and Alternative Medicine |year= 2005 |location= Philadelphia |publisher= Lippincott Williams & Wilkins: Wolters Kluwer |pages= [https://books.google.com/books?id=1sWk1GYCvKoC&pg=PA465 465–78] |edition= 4th |volume= Vol. 1 |isbn= 0781741300 |ref={{harvid|Cotter et al.|2005}} }}</ref> -->\n",
      "\n",
      "<ref name=Snyderman2002>{{cite journal |title= Integrative medicine: Bringing medicine back to its roots |last1= Snyderman |first1= R. |last2= Weil |first2= A.T. |authorlink= Ralph Snyderman |journal= JAMA Internal Medicine |volume= 162 |issue= 4 |pages= 395–7 |year= 2002 |pmid= 11863470 |doi= 10.1001/archinte.162.4.395 |ref= harv|displayauthors= 1 }}</ref>\n",
      "\n",
      "<ref name=NCI_PDQ_CAM>{{cite web |title= Complementary and Alternative Medicine in Cancer Treatment (PDQ®): Questions and Answers About Complementary and Alternative Medicine in Cancer Treatment |url= http://www.cancer.gov/cancertopics/pdq/cam/cam-cancer-treatment/patient/page2 |work= NCI website |series= Physician Data Query (PDQ®) |publisher= [[National Cancer Institute|National Cancer Institute (NCI)]], NIH |date= |accessdate= 2012-12-11 |archivedate= 2012-12-15 |archiveurl= https://web.archive.org/web/20121215060456/http://www.cancer.gov/cancertopics/pdq/cam/cam-cancer-treatment/patient/page2 |deadurl= yes}}</ref>\n",
      "\n",
      "<ref name=DeBlecourt1999>{{cite journal |title= Preface: Situating \"alternative medicine\" in the modern period |last1= De Blécourt |first1= W. |last2= Usborne |first2= C. |journal= Medical History |volume= 43 |issue= 3 |pages= 283–5 |pmid= 16562317 |pmc= 1044146 |year= 1999 |doi= 10.1017/S0025727300065364 |ref= harv|displayauthors= 1 }}</ref>\n",
      "\n",
      "<ref name=Ramsey1999>{{cite journal | author = Ramsey M | title = Alternative medicine in modern France | journal = Med Hist | volume = 43 | issue = 3 | pages = 286–322 | year = 1999 | pmid = 10885126 | pmc = 1044147 | doi = 10.1017/S0025727300065376 | url = |ref={{harvid|Ramsey|1999}} }}</ref>\n",
      "\n",
      "<ref name=\"Porter_Ramsey_Loudon\">{{cite book |last= Porter |first= R. |authorlink= Roy Porter |title= Studies in the History of Alternative Medcicine |editor1-last= Cooter |editor1-first= R. |editor2-last= Society for the Social History of Medicine |chapter= Chapter 1: Before the Fringe: <nowiki>'Quackery'</nowiki> and the Eighteenth-Century Medical Market |isbn= 9780333462133 |location= London |publisher= Macmillan in association with [[St Antony's College, Oxford]] |year= 1988}}<br />{{harvnb|Ramsey|1999}}<br />{{cite journal |title= A brief history of homeopathy |last= Loudon |first= I. |year= 2006 |journal= Journal of the Royal Society of Medicine |volume= 99 |issue= 12 |pages= 607–10 |pmid= 17139061 |pmc= 1676328 |doi=10.1258/jrsm.99.12.607 |ref= harv}}</ref>\n",
      "\n",
      "<ref name=\"Brunton_Brown\">{{cite book |last= Brunton |first= D. |chapter= Chapter 5: The Emergence of a Modern Profession? |editor-last= Brunton |editor-first= D. |title= Medicine Transformed: Health, Disease and Society in Europe 1800-1930 |year= 2004 |publisher= Manchester University Press in association with the [[Open University]] |isbn= 9780719067358 |pages= [https://books.google.com/books?id=iFWASHAZH9gC&pg=PA119 119–50]}}<br />{{cite book |title= Medicine and the Market in England and its Colonies, c.1450-c.1850 |editor1-last= Jenner |editor1-first= M.S.R. |editor2-last= Wallis |editor2-first= P. |year= 2007 |location= New York |publisher= Palgrave Macmillan |chapter= Chapter 12: Medicine, Quackery, and the Free Market: The <nowiki>'War'</nowiki> Against Morison's Pills and the Construction of the Medical Profession, c.1830-c.1850 |last= Brown |first= M. |isbn= 9780230506435 |pages= 238–61 }}</ref>\n",
      "\n",
      "<ref name=Pickstone2006>{{cite book |chapter= Medicine, Society and the State |last= Pickstone |first= J. |authorlink= John Pickstone |title= The Cambridge History of Medicine |editor-last= Porter |editor-first= R. |year= 2006 |publisher= Cambridge University Press |pages= 260–97 |isbn= 9780521864268}}</ref>\n",
      "\n",
      "<ref name=Silverman2011>{{cite journal |title= William Henry Welch (1850–1934): The Road to Johns Hopkins |last= Silverman |first= B.D. |journal= Baylor University Medical Center Proceedings |volume= 24 |issue= 3 |year= 2011 |pages= 236–42 |pmid= 21738298 |pmc= 3124910 |ref= harv}}</ref>\n",
      "\n",
      "<ref name=Shuval2012>{{cite journal|title=Complementary and Alternative Healthcare in Israel|first1=Judith T.|last1=Shuval|first2=Emma|last2=Averbuch|journal=Israel Journal of Health Policy Research|date=2012|volume=1|issue=7 |pmc=3424827|doi=10.1186/2045-4015-1-7|pmid=22913721}}</ref>\n",
      "\n",
      "<ref name=Flexner_Report>{{Cite journal |title= [[Flexner Report|Medical Education in the United States and Canada Bulletin Number Four (The Flexner Report)]] |url=  |year= 1910 |last1= Flexner |first1= A. |authorlink1= Abraham Flexner |author2= The Carnegie Foundation for the Advancement of Teaching (CFAT) |authorlink2= Carnegie Foundation for the Advancement of Teaching |publisher= [[Daniel Berkeley Updike|D. B. Updike]], [[Merrymount Press]] |location= Boston |ref= {{harvid|Flexner Report|1910}} |postscript= .}} Available from CFAT: [http://www.carnegiefoundation.org/sites/default/files/elibrary/Carnegie_Flexner_Report.pdf The Flexner Report].</ref>\n",
      "\n",
      "<ref name=Hiatt2003>{{cite journal |last1= Hiatt |first1= M.D. |last2= Stockton |first2= C.G. |title= The impact of the Flexner Report on the fate of medical schools in North America after 1909 |url= http://www.jpands.org/vol8no2/hiatt.pdf |journal= [[Association of American Physicians and Surgeons#Journal of American Physicians and Surgeons|Journal of American Physicians and Surgeons]] |volume= 8 |issue= 2 |pages= 37–40 |year= 2003 |ref= harv|displayauthors= 1 }}</ref>\n",
      "\n",
      "<ref name=Pritchett1910>{{harvc |last=Pritchett|first=H.S.|author-link=Henry Smith Pritchett|chapter=Introduction|in=Flexner Report|year=1910|p=viii}}</ref>\n",
      "\n",
      "<ref name=Bullock1980>{{cite book |title= An American Transplant: The Rockefeller Foundation and Peking Union Medical College |last= Bullock |first= M.B. |authorlink= Mary Brown Bullock |publisher= University of California Press |location= Berkeley, California |year= 1980 |isbn= 9780520035591}}</ref>\n",
      "\n",
      "<ref name=Usman1925>{{cite book |title= The Report of the Committee on the Indigenous Systems of Medicine, Madras (The Usman Report) |first2= M. |last2= Usman |authorlink2= Mohammad Usman of Madras |first3= A.S.K. |last3= Rao |first4= U.R. |last4= Rao |first5= A. |last5= Lakshmipati |first6= M.S. |last6= Ayyar |first7= K.G.N. |last7= Sastri |first8= C.T.A. |last8= Pillai |first9= T.R.R. |last9= Ayyar |first10= A.T. |last10= Palmer |first11= G. |last11= Srinivasamurti |last1= Madras Indigenous Systems of Medicine Committee 1921-23 |location= Madras, India |year= 1925 |publisher= Superintendent, Government Press |oclc= 229483035|displayauthors= 2 }}</ref>\n",
      "\n",
      "<ref name=LuNeedham1980>{{cite book|title=Celestial Lancets: a History and Rationale of Acupuncture and Moxa|last2= Needham|first2=Joseph|last1=Lu|first1=Gwei-Djen|year=1980|publisher=Cambridge University Press|location=Cambridge and New York|isbn=9780521215138}}</ref>\n",
      "\n",
      "<ref name=Madras1984>{{cite journal |author= Madras Group |title= What is the role of indigenous medical sciences in our health care system? (Responses of indigenous medical practitioners to the Madras Inquiry sixty years ago) |url= http://ppstbulletins.blogspot.com/2011/10/what-is-role-of-indigenous-medical.html |journal= Patriotic and People Oriented Science and Technology |year= 1984 |volume= 4 |issue= 1 |pages= 64–95 |ref= harv}} Condensed in {{cite journal |title= What is the role of indigenous medical sciences in our health care system? |department= Perspective |year= 1985 |volume= 10 |issue= 3 |pages= 271–7 |url= http://www.vikalpa.com/pdf/articles/1985/1985_july_sep_271_277.pdf |journal= Vikalpa |author1= Madras Group |ref= harv}}</ref>\n",
      "\n",
      "<ref name=OED>{{cite web|title= alternative medicine, ''n''|website= OED Online |publisher= Oxford English Dictionary |date=March 2015 |url= http://www.oed.com/view/Entry/5803?redirectedFrom=Alternative+medicine |accessdate= 5 June 2015}}{{subscription required}}; {{cite book |year= 1974 |first= Helen|last= Kruger |title= Other Healers, Other Cures: A Guide to Alternative Medicine |url= |location=Indianapolis| publisher= Bobbs-Merrill |isbn= 9780672517082}}</ref>\n",
      "\n",
      "<ref name=BMA_Cant_Saks>{{harvnb|BMA|1993}}.<br>{{cite book |last1= Cant |first1= S.|last2= Sharma |first2=U. |chapter= Alternative Health Practices and Systems |page= [https://books.google.com/books?id=LyK1e6U7fU0C&pg=PA433 433] |editor1-last= Albrecht |editor1-first= G.L. |editor2-last= Fitzpatrick |editor2-first= R. |editor3-last= Scrimshaw |editor3-first= S.C. |title= The Handbook of Social Studies in Health and Medicine |url= |year= 1999 |publisher= Sage Publications |isbn= 9781847870964}}<br>{{harvnb|Saks|2003|p=[https://books.google.com/books?id=zW2_iJsZFS0C&pg=PA117 117]}}.</ref>\n",
      "\n",
      "<ref name=Relman1998>{{cite news |last1= Relman |first1= A.S. |authorlink= Arnold S. Relman |title= Andrew Weil, the boom in alternative medicine, and the retreat from science. A Trip to Stonesville |magazine= [[The New Republic]] |volume= 219 |issue= 24 |pages= 28–36 |date= 1998-12-14}} [http://www.quackwatch.org/11Ind/weil.html Reproduced] at [[Quackwatch]], (2002-03-10) and [https://web.archive.org/web/20021010040338/http://www.quackwatch.org/11Ind/weil.html archived] from there 2002-10-10.</ref>\n",
      "\n",
      "<ref name=HistoryMakers_HHS_Satcher_Bio>{{cite web |title= MedicalMakers: David Satcher |url= http://www.thehistorymakers.com/biography/david-satcher-41 |work= [[Julieanna Richardson#The HistoryMakers|The HistoryMakers]] website |accessdate= 2013-10-06 |archiveurl= https://web.archive.org/web/20130511112015/http://www.thehistorymakers.com/biography/david-satcher-41 |archivedate= 2013-05-11 |deadurl= no}}<br />{{cite web |authors= Office of Public Health and Science |title= David Satcher (1998-2002) |url= http://www.surgeongeneral.gov/library/history/biosatcher.htm |publisher= US HHS |date= 2007-01-04 |accessdate= |archiveurl= https://web.archive.org/web/20071205160010/http://www.surgeongeneral.gov/library/history/biosatcher.htm |archivedate= 2007-12-05}}</ref>\n",
      "\n",
      "<ref name=New_Millennium>{{cite press release |title= U.S. Surgeon General launches new health resources at government gateway website: Alternative health and Spanish language online resources |url= http://www.health.gov/partnerships/media/31899pr.htm |origyear= 1998-03-18 |date= 1999-11-18 |archivedate= 2000-04-16 |archiveurl= https://web.archive.org/web/20000416053214/http://health.gov/partnerships/Media/31899pr.htm |publisher= Partnerships for Health in the New Millennium |series= HHS News |work= Health.gov website |deadurl= no }}</ref>\n",
      "\n",
      "<ref name=Bravewell2007>{{cite book |title= Integrative Medicine Best Practices |year= 2007 |url= http://www.bravewell.org/current_projects/best_practices/ |last1= Horrigan |first= B.J. |chapter= Introduction and Summary |chapterurl= http://www.bravewell.org/content/IntroSummary_Best%20Practices_1.pdf |page= 3 |publisher= Bravewell Collaborative |accessdate= 2013-10-06}} Introduction and Summary [https://web.archive.org/web/20130510133709/http://www.bravewell.org/content/IntroSummary_Best%20Practices_1.pdf archived] 2013-05-03.</ref>\n",
      "\n",
      "<ref name=Ludmerer2010>{{cite journal |last= Ludmerer |first= K.M. |authorlink= Kenneth Ludmerer |title= Commentary: Understanding the Flexner Report |journal= Academic Medicine |volume= 85 |issue= 2 |year= 2010 |pages= 193–6 |url= https://ualearn.blackboard.com/bbcswebdav/pid-303852-dt-content-rid-690898_1/courses/49626.201240/readings/Ludmerer-Flexner-AcadMed.pdf |pmid= 20107341 |doi= 10.1097/ACM.0b013e3181c8f1e7 |ref= harv}}</ref>\n",
      "\n",
      "<ref name=Bianco>{{Cite web |title= How Becoming a Doctor Works: Medical School Curriculum |last= Bianco |first= C. |url= http://people.howstuffworks.com/becoming-a-doctor9.htm |work= [[HowStuffWorks]] website |archiveurl= https://web.archive.org/web/20131005044926/http://people.howstuffworks.com/becoming-a-doctor9.htm |archivedate= 2013-10-05 |deadurl= no |postscript= . |ref= harv}}</ref>\n",
      "\n",
      "<ref name=Stanford_Curriculum>{{cite web |title= Stanford's medical curriculum |url= http://med.stanford.edu/md/curriculum/ |publisher= [[Stanford University School of Medicine]] |work= Stanford University website |archiveurl= https://web.archive.org/web/20130509161924/http://med.stanford.edu/md/curriculum/ |archivedate= 2013-05-09 |deadurl= no}}</ref>\n",
      "\n",
      "<ref name=Yale_Curriculum>{{cite web |title= Medical Student Education Program: Curriculum Overview |url= http://medicine.yale.edu/education/curriculum/curriculum/overview/index.aspx |work= Yale University website |publisher= [[Yale School of Medicine]] |archiveurl= https://web.archive.org/web/20131004214032/http://medicine.yale.edu/education/curriculum/curriculum/overview/index.aspx |archivedate= 2013-10-04 |deadurl= no}}</ref>\n",
      "\n",
      "<ref name=Deshpande1987>{{cite journal|last=Deshpande|first=Vijaya|title=Medieval Transmission of Alchemical and Chemical Ideas between India and China|journal=Indian Journal of History of Science|volume=22|issue=1|date=January 1987|pmid=11622483|url=http://www.new1.dli.ernet.in/data1/upload/insa/INSA_1/20005abf_15.pdf|pages=15–28}}</ref>\n",
      "\n",
      "<ref name=Matuk2006>{{cite journal |title=Seeing the Body: The Divergence of Ancient Chinese and Western Medical Illustration |author=Camillia Matuk |journal=Journal of Biocommunication |volume=32 |issue=1 |year=2006 |url=http://www.sesp.northwestern.edu/docs/publications/6074956944509ac426aaa6.pdf |pmid= |doi= }}</ref>\n",
      "\n",
      "<ref name=Berman2001>{{cite journal |title= Complementary medicine and medical education |last= Berman |first= B.M. |journal= BMJ |volume= 322 |issue= 7279 |year= 2001 |pages= 121–2 |pmid= 11159555 |pmc= 1119400 |doi= 10.1136/bmj.322.7279.121 |ref= harv}}</ref>\n",
      "\n",
      "<ref name=UM_CIM>{{cite web |title= Center for Integrative Medicine |url= http://www.compmed.umm.edu |work= University of Maryland website |publisher= University of Maryland School of Medicine |archiveurl= https://web.archive.org/web/20100323121138/http://www.compmed.umm.edu/ |archivedate= 2010-03-23 |deadurl= no}}</ref>\n",
      "\n",
      "<ref name=UM_CAM_Field>{{cite web |title= Cochrane CAM Field |publisher= Center for Integrative Medicine, School of Medicine, University of Maryland |work= University of Maryland website |url= http://www.compmed.umm.edu/cochrane.asp |archiveurl= https://web.archive.org/web/20130928113542/http://www.compmed.umm.edu/cochrane.asp |archivedate= 2013-09-28 |deadurl= no}}</ref>\n",
      "\n",
      "<ref name=Medline_MD>{{cite web |title= Doctor of medicine profession (MD) |url= https://www.nlm.nih.gov/medlineplus/ency/article/001936.htm |date= 2011-02-03 |accessdate= 2012-12-20 |archiveurl= https://web.archive.org/web/20130127161943/https://www.nlm.nih.gov/medlineplus/ency/article/001936.htm |archivedate= 2013-01-27 |work= [[MedlinePlus]] |publisher= [[United States National Library of Medicine|US National Library of Medicine]], NIH}}</ref>\n",
      "\n",
      "<ref name=Sackett1996>{{cite journal |title= Evidence based medicine: What it is and what it isn't |last1= Sackett |first1= D.L. |last2= Rosenberg |first2= W.M.C. |last3= Gray |first3= J.A.M. |last4= Haynes |first4= R.B. |last5= Richardson |first5= W.S. |journal= BMJ |volume= 312 |issue= 7023 |pages= 71–2 |year= 1996 |doi= 10.1136/bmj.312.7023.71 |pmc= 2349778 |pmid= 8555924 |ref= harv|displayauthors= 1 }}</ref>\n",
      "\n",
      "<ref name=Nuffield_Trust>{{cite web |title= Our work |url= http://www.nuffieldtrust.org.uk/our-work |work= Nuffield Trust website |publisher= The Nuffield Trust for Research and Policy Studies in Health Services |archiveurl= https://web.archive.org/web/20130928221647/http://www.nuffieldtrust.org.uk/our-work |archivedate= 2013-09-28 |deadurl= no}}</ref>\n",
      "\n",
      "<ref name=Belsey2009>{{cite book |title= What is Evidence-based Medicine |url= http://www.medicine.ox.ac.uk/bandolier/painres/download/whatis/ebm.pdf |origyear= 2001 |date=May 2009 |publisher= Hayward Medical Communications |location= UK |edition= 2nd |last1= Belsey |first1= J. |last2= Snell |first2= T. |series= What is...? Series |accessdate= |displayauthors= 1 }}</ref>\n",
      "\n",
      "<ref name=Nuffield2>{{cite web |title= Research methods & information tools |url= http://www.nuffieldtrust.org.uk/our-work/research-methods-information-tools |work= Nuffield Trust website |publisher= The Nuffield Trust for Research and Policy Studies in Health Services |archiveurl= https://web.archive.org/web/20130927122218/http://www.nuffieldtrust.org.uk/our-work/research-methods-information-tools |archivedate= 2013-09-27 |deadurl= no |accessdate= }}</ref>\n",
      "\n",
      "<ref name=Bardsley2011>{{cite web |title= Predictive risk and health care: An overview |url= http://www.nuffieldtrust.org.uk/sites/files/nuffield/publication/Predictive-risk-and-health-care-an-overview_0.pdf |last1= Bardsley |first1= M. |last2= Georghiou |first2= T. |last3= Steventon |first3= A. |last4= Billings |first4= J. |last5= Blunt |first5= I. |last6= Lewis |first6= G. |date= 2011-03-01 |publisher= The Nuffield Trust for Research and Policy Studies in Health Services |archiveurl= https://web.archive.org/web/20130928230254/http://www.nuffieldtrust.org.uk/sites/files/nuffield/publication/Predictive-risk-and-health-care-an-overview_0.pdf |archivedate= 2013-09-28 |deadurl= no |accessdate= |displayauthors= 1 }}</ref>\n",
      "\n",
      "<ref name=Skep_Dic_comp_med>{{cite book |title= [[The Skeptics Dictionary]] |last= Carroll |first= R.T. |authorlink= Robert Todd Carroll |chapter= complementary medicine |chapterurl= http://www.skepdic.com/compmed.html |date= 2011-05-14 |edition= Online |accessdate= }} [https://web.archive.org/web/20130927214632/http://www.skepdic.com/compmed.html Archived] 2013-09-27.</ref>\n",
      "\n",
      "<!-- remark out unused ref\n",
      "<ref name=Crozier>{{cite book |last=Crozier|first=Ralph C |title= Traditional Medicine in Modern China: Science, Nationalism, and the Tensions of Cultural Change |publisher= [[Harvard University Press]] |location= Cambridge |year=1968|series=Harvard East Asian Series }}</ref> -->\n",
      "\n",
      "<ref name=Novella2010>{{cite web |last= Novella |first= S. |authorlink= Steven Novella |title= Acupuncture pseudoscience in ''The New England Journal of Medicine'' |url= http://www.sciencebasedmedicine.org/nc/ |date= 2010-08-04 |work= [[Science-Based Medicine]] |archiveurl= https://web.archive.org/web/20130928202231/http://www.sciencebasedmedicine.org/nc/ |archivedate= 2013-09-28 |deadurl= no}}</ref>\n",
      "\n",
      "<ref name=Gorski2010>{{cite web |last= Gorski |first= D. |authorlink= David Gorski |title= Credulity about acupuncture infiltrates ''The New England Journal of Medicine'' |url= http://www.sciencebasedmedicine.org/acupuncture-infiltrates-the-new-england-journal-of-medicine/ |date= 2010-08-03 |work= [[Science-Based Medicine]] |archiveurl= https://web.archive.org/web/20130928202243/http://www.sciencebasedmedicine.org/acupuncture-infiltrates-the-new-england-journal-of-medicine/ |archivedate= 2013-09-28 |deadurl= no}}</ref>\n",
      "\n",
      "<ref name=NCAHF_mission>{{cite web |title= NCAHF Mission Statement |url= http://www.ncahf.org/about/mission.html |date= 2009-11-30 |accessdate= 2013-03-11 |work= [[The National Council Against Health Fraud|National Council Against Health Fraud (NCAHF)]] website}}</ref>\n",
      "\n",
      "<ref name=DaguptaHStabler2011>{{cite book |first2=Catherine A|last2=Hammett-Stabler|first1=Amitava|last1=Dasgupta |title=Herbal Supplements: Efficacy, Toxicity, Interactions with Western Drugs, and Effects on Clinical Laboratory Tests |publisher=John Wiley and Sons |location=Hoboken NJ|year=2011 |isbn=9780470433508  |pages=[https://books.google.com/books?id=oNrIvxlFG1sC&pg=PA204&dq=%22Rasa+shastra%22&hl=en&ei=Z_FcTsKgCMy2tgfZtJXTAw&sa=X&oi=book_result&ct=result&resnum=3&ved=0CDQQ6AEwAjgK#v=onepage&q=%22Rasa%20shastra%22&f=false 202–205] }}</ref>\n",
      "\n",
      "<ref name=Other_sources>{{cite journal |last= Steele |first= F.R. |title= Book review: The Demon-Haunted World: Science as a Candle in the Dark by Carl Sagan |journal= [[Nature Medicine]] |year= 1996 |volume= 2 |issue= 9 |page= 1042 |url=http://www.nature.com/nm/wilma/v2n9.867699403.html |doi= 10.1038/nm0996-1042 |ref= harv}}<br />{{cite book|title= Pseudoscience and the Paranormal |last= Hines |first= T. |authorlink=Terence Hines|publisher= Prometheus Books |year= 2003 |location= Amherst, New York |edition= 2nd |isbn= 9781573929790}}<br />{{cite journal |last= Sampson |first= W. |title= The need for educational reform in teaching about alternative therapies |journal= Academic Medicine |year= 2001 |volume= 76 |issue= 3 |pages= 248–50 |editor-last= Grollman |editor-first= A.P. |pmid= 11242574 |doi= 10.1097/00001888-200103000-00011 |ref= harv}}<br />{{harvnb|Coulter et al.|2004}}.<br />{{harvnb|Kent|1997}}.<br />{{harvnb|Sagan|1996}}.</ref>\n",
      "<ref name=Goldrosen2004>{{cite journal |title= Complementary and alternative medicine: assessing the evidence for immunological benefits |last1= Goldrosen |first1= M.H. |last2= Straus |first2= S.E. |journal= [[Nature Reviews Immunology]] |department= Perspective |volume= 4 |issue= 11 |pages= 912–21 |year= 2004 |doi= 10.1038/nri1486 |pmid= 15516970 |ref= harv|displayauthors= 1 }}</ref>\n",
      "\n",
      "<ref name=Lilienfeld2002>{{cite journal|last=Lilienfeld |first=S.O. |title=Our raison d'ĕtre |url=http://www.srmhp.org/0101/raison-detre.html |journal=Scientific Review of Mental Health Practice |volume=1 |issue=1 |year=2002 |archiveurl=http://www.webcitation.org/5QcyAPtwV?url=http%3A%2F%2Fwww.srmhp.org%2F0101%2Fraison-detre.html |archivedate=2007-07-26 |deadurl=no |accessdate=2008-01-28 |publisher=[[Center for Inquiry]] |ref=harv |df= }}</ref>\n",
      "\n",
      "<ref name=Hughes2010>{{cite news |last= Hughes |first= D. |title= Alternative remedies 'dangerous' for kids says report |url= http://www.bbc.co.uk/news/health-12060507 |date= 2010-12-23 |accessdate= |archiveurl= https://web.archive.org/web/20101224181102/http://www.bbc.co.uk/news/health-12060507 |archivedate= 2010-12-24 |deadurl= no |work= [[BBC News]]}}</ref>\n",
      "\n",
      "<ref name=Acharya2008>{{cite book |last1= Acharya |first1= D. |first2= S. |last2= Anshu |year= 2008 |title= Indigenous Herbal Medicines: Tribal Formulations and Traditional Herbal Practices |publisher= Aavishkar Publishers |location= Jaipur, India |isbn= 9788179102527 |page= 440|displayauthors= 1 }}</ref>\n",
      "\n",
      "<ref name=Saper2008>{{cite journal |title= Lead, mercury, and arsenic in US- and Indian-manufactured Ayurvedic medicines sold via the Internet |last1= Saper |first1= R.B. |last2= Phillips |first2= R.S. |last3= Sehgal |first3= A. |last4= Khouri |first4= N. |last5= Davis |first5= R.B. |last6= Paquin |first6= J. |last7= Thuppil |first7= V. |last8= Kales |first8= S.N. |journal= JAMA |year= 2008 |volume= 300 |issue= 8 |pages= 915–23 |doi= 10.1001/jama.300.8.915 |pmc= 2755247 |pmid= 18728265 |ref= harv|displayauthors= 1 }}</ref>\n",
      "\n",
      "<ref name=NCCIH_EMed>{{cite web |title=Energy Medicine: An Overview |publisher= NCCIH |year= 2005 |origyear= 2004 |url= http://nccih.nih.gov/health/backgrounds/energymed.htm |archive-url= http://arquivo.pt/wayback/20160522145806/http://nccih.nih.gov/health/backgrounds/energymed.htm |dead-url= yes |archive-date= 2016-05-22 |series= Backgrounders |issue= NCCIH Publication No. D235}}</ref>\n",
      "\n",
      "<!-- remark out unused ref\n",
      "<ref name=\"OpsinaBond2007\">{{cite book |year= 2007 |last1= Ospina |first1= MB |last2 =Bond |first2= K |last3= Karkhaneh |first3= M |last4= Tjosvold |first4= L |last5= Vandermeer |first5= B |last6= Liang |first6= Y |last7= Bialy |first7= L |last8= Hooton |first8= N |last9= Buscemi |first9= N |last10= Dryden |first10= DM |last11= Klassen |first11= TP |title= Meditation Practices for Health: State of the Research |volume= No. 155 |issue= AHRQ Pub. No. 07-E010 |series= Evidence Reports/Technology Assessments |ref= harv |url= http://archive.ahrq.gov/downloads/pub/evidence/pdf/meditation/medit.pdf |location= Rockville, MD |publisher= [[Agency for Healthcare Research and Quality]] (AHRQ): (Prepared by the University of Alberta Evidence-based Practice Center under Contract No. 290-02-0023)|displayauthors= 1 }} [http://www.ncbi.nlm.nih.gov/books/NBK38360/ Archived] at PubMed. PMID 17764203</ref> -->\n",
      "\n",
      "<!-- remark out unused ref\n",
      "<ref name=\"OpsinaBond2008\">{{cite journal |pmid= 19123875 |year= 2008 |last1= Ospina |first1= MB |last2= Bond |first2= K |last3= Karkhaneh |first3= M |last4 =Buscemi |first4= N |last5= Dryden |first5= DM |last6= Barnes |first6= V |last7= Carlson |first7= LE |last8= Dusek |first8= JA |last9= Shannahoff-Khalsa |first9= D |title= Clinical trials of meditation practices in health care: Characteristics and quality |volume= 14 |issue= 10 |pages= 1199–213 |doi= 10.1089/acm.2008.0307 |journal= Journal of Alternative and Complementary Medicine|ref=harv|displayauthors= 1 }}</ref> -->\n",
      "\n",
      "<ref name=whatiscam>{{cite web|url=http://nccam.nih.gov/health/whatiscam/ |title=What is Complementary and Alternative Medicine (CAM)? |accessdate=2006-07-11 |publisher=[[NCCAM|National Center for Complementary and Alternative Medicine]] |archiveurl=http://www.webcitation.org/5C1oRX8Qq?url=http%3A%2F%2Fnccam.nih.gov%2Fhealth%2Fwhatiscam%2F |archivedate=2005-12-08 |deadurl=no |df= }}</ref>\n",
      "\n",
      "<!-- remark out unused ref <ref name=Keating2005>{{cite book |title= Principles and Practice of Chiropractic |editor-last= Haldeman |editor-first= S. |chapter= Philosophy in Chiropractic |last= Keating |first= J.C., Jr. |year= 2005 |edition= Third |publisher= McGraw Hill Financial |location= New York |pages= 77–98 |isbn=  0071375341}}</ref>-->\n",
      "\n",
      "<!-- remark out unused ref\n",
      "<ref name=Ernst2008>{{cite journal |title= Chiropractic: A critical evaluation |last= Ersnt |first= E. |journal= [[Journal of Pain and Symptom Management]] |year= 2008 |volume= 35 |issue= 5 |pages= 544–62 |doi= 10.1016/j.jpainsymman.2007.07.004 |pmid= 18280103 |url=http://www.jpsmjournal.com/article/S0885-3924(07)00783-X/fulltext |ref= harv}}</ref>\n",
      "-->\n",
      "\n",
      "<!-- remark out unused ref\n",
      "<ref name=Lu2002>{{cite book |title= Celestial Lancets: A History and Rationale of Acupuncture and Moxa |last1= Lu |first= G.D. |last2= Needham |first2= J. |origyear= 1980 |year= 2002 |publisher= Routledge |location= New York |isbn= 0700714588|displayauthors= 1 }}</ref> -->\n",
      "\n",
      "<!-- remark out unused ref\n",
      "<ref name=Lee2008>{{cite journal |title= Effects of reiki in clinical practice: A systematic review of randomised clinical trials |last1= Lee |first1= M.S. |last2= Pittler |first2= M.H. |last3= Ernst |first3= E. |journal= International Journal of Clinical Practice |volume= 62 |issue= 6 |pages= 947–54 |year= 2008 |pmid= 18410352 |doi= 10.1111/j.1742-1241.2008.01729.x |ref= harv\n",
      "|displayauthors= 1 }}</ref>\n",
      "-->\n",
      "\n",
      "<ref name=Offit2013>{{cite book |last= Offit |first= P. |authorlink= Paul Offit |title= Do You Believe in Magic?: The Sense and Nonsense of Alternative Medicine |year= 2013 |publisher= HarperCollins |isbn= 0062222961}} Also published in the UK as {{cite book |title= Killing Us Softly: The Sense and Nonsense of Alternative Medicine |isbn= 9780007491735}}</ref>\n",
      "\n",
      "<ref name=Valiathan2006>{{cite journal | url=http://www.currentscience.ac.in/Downloads/article_id_090_01_0005_0006_0.pdf | title=Ayurveda: Putting the house in order |department= Guest Editorial |last= Valiathan | first= M.S. |journal= [[Current Science]] |year= 2006 |volume= 90 |issue= 1 | pages= 5–6 | ref=harv}}</ref>\n",
      "\n",
      "<!-- remark out unused ref\n",
      "<ref name=Shine2003>{{Cite journal |url= http://harvardmagazine.com/2003/11/hypnosis-heals.html |last1= Shine |first1= J. |year= 2003 |title= Hypnosis Heals |magazine= [[Harvard Magazine]] |pages= 13–5 |accessdate= 2013-06-16 |ref= harv}}</ref> -->\n",
      "\n",
      "<!-- remark out unused ref\n",
      "<ref name=\"Stratten_in_Hahnemann\">{{harvc|last=Stratten|first=S.|chapter=Preface|in=Hahnemann|year=1833|p=[https://books.google.com/books?id=EnEFAAAAQAAJ&pg=PR3 iii]}}</ref> -->\n",
      "\n",
      "<!-- remark out unused ref\n",
      "<ref name=NCIDictionary1>{{cite web|title=orthodox medicine|url=http://www.cancer.gov/publications/dictionaries/cancer-terms?CdrID=454746|website=NCI Dictionary of Cancer Terms|publisher=NIH National Cancer Institute|accessdate=4 June 2015|archive-url=https://web.archive.org/web/20150604194705/http://www.cancer.gov/publications/dictionaries/cancer-terms?CdrID=454746|archive-date=4 June 2015|dead-url=no}}</ref> -->\n",
      "\n",
      "<!-- remark out unused ref\n",
      "<ref name=NCIDictionary2>{{cite web|title=standard medical care|url=http://www.cancer.gov/publications/dictionaries/cancer-terms?CdrID=689630| archive-url=https://web.archive.org/web/20150604194432/http://www.cancer.gov/publications/dictionaries/cancer-terms?CdrID=689630|archive-date=4 June 2015|dead-url=no | website=NCI Dictionary of Cancer Terms|publisher=NIH National Cancer Institute| access-date=4 June 2015}}</ref> -->\n",
      "\n",
      "<ref name=IGPIAMAYP>{{cite journal | author = Kent Heather | year = 1997 | title = Ignore Growing Patient Interest in Alternative Medicine at Your Peril - MDs Warned | journal = Canadian Medical Association Journal | volume = 157 | issue = 10 |pages=1427–1428|url=http://www.cmaj.ca/content/157/10/1427.full.pdf+html }}</ref>\n",
      "\n",
      "<!-- remark out unused ref\n",
      "<ref name=Cohen1997>{{cite book|last= Cohen |first=Ken S. | year=1997|title= The Way of Qigong: The Art and Science of Chinese Energy Healing |publisher= Ballantine Books|location=New York |isbn=9780345395290 }}</ref> -->\n",
      "\n",
      "<ref name=Ernst2002>{{Cite journal |last1= Ernst |first1= E. |title= A systematic review of systematic reviews of homeopathy |journal= [[British Journal of Clinical Pharmacology]] |volume= 54 |issue= 6 |pages= 577–82 |year= 2002 |pmid= 12492603 |pmc= 1874503 |doi= 10.1046/j.1365-2125.2002.01699.x |ref= harv}}</ref>\n",
      "\n",
      "<!-- remark out unused ref\n",
      "<ref name=\"HoC_Evidence_Check2_homeopathy\">{{cite book |title= Fourth Report: Evidence Check 2: Homeopathy |authors= Science and Technology Committee, [[House of Commons of the United Kingdom|House of Commons]], Parliament of the United Kingdom |url= http://www.publications.parliament.uk/pa/cm200910/cmselect/cmsctech/45/45.pdf |origyear= Session 2009–2010 HC 45 |date= 2010-02-08 |location= London |publisher= The Stationery Office}} [http://www.publications.parliament.uk/pa/cm200910/cmselect/cmsctech/45/4502.htm html version].</ref> -->\n",
      "\n",
      "<!-- remark out unused ref\n",
      "<ref name=\"Shang2005\">{{Cite journal |last1= Shang |first1= A. |last2= Huwiler-Müntener |first2= K. |last3= Nartey |first3= L. |last4= Jüni |first4= P. |last5= Dörig |first5= S. |last6= Sterne |first6= J.A.C. |last7= Pewsner |first7= D. |last8= Egger |first8= M. |title= Are the clinical effects of homoeopathy placebo effects? Comparative study of placebo-controlled trials of homoeopathy and allopathy |journal= [[The Lancet]] |volume= 366 |pages= 726–32 |year= 2005 |doi= 10.1016/S0140-6736(05)67177-2 |pmid= 16125589 |issue= 9487 |ref= harv|displayauthors= 1 }}</ref> -->\n",
      "\n",
      "<ref name=Hines_Sampson_Coulter_Sagan>{{cite book|last=Hines|first=Terence|authorlink=Terence Hines|title=Pseudoscience and the Paranormal|location=Amerst, New York|publisher=Prometheue Books|year=2003|edition=2nd|isbn=9781573929790}}; {{cite journal|last=Sampson|first=Walter|title=The Need for Educational Reform in Teaching about Alternative Therapies|journal=Academic Medicine|volume=76|issue=3|date=March 2001|pages=248–250|pmid=11242574|doi=10.1097/00001888-200103000-00011}}; {{cite journal|last1=Coulter|first1=Ian D|last2=Willis|first2=Evan M|title=The Rise and Rise of Complementary and Alternative Medicine: a Sociological Perspective|journal=Medical Journal of Australia|volume=180|issue=11|date=June 2004|pmid=15174992|pages=587–589|url=https://www.mja.com.au/journal/2004/180/11/rise-and-rise-complementary-and-alternative-medicine-sociological-perspective}}; {{harvnb|Sagan|1996}}</ref>\n",
      "\n",
      "<ref name=NCCIH_homeopathy>{{cite web|url= http://nccih.nih.gov/health/homeopathy |title= Homeopathy: An Introduction |publisher= NCCIH|origyear= 2009 |year= 2013 |series= Backgrounders |issue= NCCIH Publication No. D339 |archiveurl= https://web.archive.org/web/20131015122846/http://nccih.nih.gov/health/homeopathy |archivedate= 2013-10-15 |deadurl= no}}</ref>\n",
      "\n",
      "<!-- remark out unused ref\n",
      "<ref name=Raub2002>{{Cite journal| first= J.A. |last= Raub |date=December 2002 |title= Psychophysiologic effects of Hatha Yoga on musculoskeletal and cardiopulmonary function: A literature review |journal= [[Journal of Alternative and Complementary Medicine]] |volume=8 |issue=6 |pages=797–812 |doi=10.1089/10755530260511810 |pmid= 12614533}}</ref> -->\n",
      "\n",
      "<ref name=\"SarrisWardle2010\">{{cite book |last1= Sarris |first1= J. |last2= Wardle |first2= J. |title= Clinical Naturopathy: An Evidence-based Guide to Practice |year= 2010 |publisher= Elsevier Health Sciences |isbn= 9780729579261|displayauthors= 1 }}</ref>\n",
      "\n",
      "<!-- remark out unused ref\n",
      "<ref name=Howell1999>{{cite journal | last= Howell|first= J.D. | title = The Paradox of Osteopathy | journal = New England Journal of Medicine | volume = 341 | issue = 19 | pages = 1465–8 | year = 1999 | pmid = 10547412 | doi = 10.1056/NEJM199911043411910 }}</ref> -->\n",
      "\n",
      "<ref name=Bombardieri2000>{{cite journal|last1=Bombardieri|first1=D.|last2=Easthope|first2=E|title= Convergence between Orthodox and Alternative Medicine: A Theoretical Elaboration and Empirical Test|journal=Health|location=London|date=October 2000|doi=10.1177/136345930000400404|volume= 4|issue=4|pages=479–494}}</ref>\n",
      "\n",
      "<!-- remark out unused ref\n",
      "<ref name=\"NCCIH_naturopathy\">{{cite web |title= Naturopathy: An Introduction |series= Backgrounders |volume= NCCIH Publication No. D372 |publisher= NCCIH |year= 2010 |origyear= 2007 |url= http://nccih.nih.gov/health/naturopathy/D372.pdf |accessdate= 2010-11-20}}{{dead link|date=July 2016|bot=medic}}{{cbignore|bot=medic}}</ref>-->\n",
      "<!-- updated since access and archive dates available at http://nccih.nih.gov/health/naturopathy/naturopathyintro.htm -->\n",
      "\n",
      "<!-- remark out unused ref\n",
      "<ref name=\"Brown1988\">{{cite journal |pmc=1139856 |title=Nineteenth-century American health reformers and the early nature cure movement in Britain |last= Brown |first= P.S. |journal= Medical History |volume= 32 |pages= 174–94 |pmid= 3287059 |issue= 2 |year= 1988 |doi= 10.1017/S0025727300047980 |ref=harv}}</ref>\n",
      "-->\n",
      "\n",
      "<!-- remark out unused ref\n",
      "<ref name=AMA_CoSA_rpt12>{{Cite journal|title=Alternative Medicine |volume=Report 12 |issue=A-97 |authors=Council on Scientific Affairs, [[American Medical Association]] (AMA) |year=1997 |publisher=AMA |page=9 |url=http://www.ama-assn.org/ama/pub/article/2036-2432.html |deadurl=yes |postscript=. |ref=harv |archiveurl=https://web.archive.org/web/20150626140649/http://www.ama-assn.org/ama/pub/article/2036-2432.html |archivedate=26 June 2015 }}</ref> -->\n",
      "\n",
      "<ref name=Ezzo2001>{{cite journal|title=Reviewing the reviews. How strong is the evidence? How clear are the conclusions?|last1= Ezzo|first1= J.|last2=Bausell|first2=B.|last3=Moerman|first3=D.E.|last4=Berman|first4=B.|last5=Hadhazy|first5=V.|date=Fall 2001| journal=International Journal of Technology Assessment in Health Care|volume=17|issue=4|pages=457–466|pmid=11758290}}</ref>\n",
      "\n",
      "<!-- remark out unused ref\n",
      "<ref name=Baer2001>{{Cite journal | last = Baer |first =H.A. | year = 2001 | title = The sociopolitical status of U.S. naturopathy at the dawn of the 21st century | journal = [[Medical Anthropology Quarterly]] | pmid = 11693035 | volume = 15 | issue = 3 | pages = 329–46| doi = 10.1525/maq.2001.15.3.329 | ref = harv}}</ref> -->\n",
      "\n",
      "<!-- remark out unused ref\n",
      "<ref name=\"Gale_naturopathic\">{{cite book |last1= Boughton |first1= B. |last2= Frey |first2= R.J. |chapter= Naturopathic Medicine |year= 2005 |title= Gale Encyclopedia of Alternative Medicine |publisher= Gale |url= http://www.healthline.com/galecontent/naturopathic-medicine }}</ref>\n",
      "-->\n",
      "\n",
      "<!-- remark out unused ref\n",
      "<ref name=\"Romeyke2011\">{{cite journal |last1= Romeyke |first1= T. |last2= Stummer |first2= H. |title= A study of costs and length of stay of inpatient naturopathy – Evidence from Germany |journal= Complementary Therapies in Clinical Practice |volume= 17 |issue= 2 |pages= 90–5 |year= 2011 |doi= 10.1016/j.ctcp.2010.09.001 |pmid= 21457898 |ref= harv}}</ref> -->\n",
      "\n",
      "<!-- remark out unused ref\n",
      "<ref name=\"Iowa_BoM\">{{cite web |author= Iowa Board of Medicine |title= A Policy Statement on Naturopathy |url= http://medicalboard.iowa.gov/policies/naturopathy.html |date= 2002-02-07 |publisher= State of Iowa |accessdate= 2013-03-11 |archiveurl= https://web.archive.org/web/20130412204820/http://medicalboard.iowa.gov/policies/naturopathy.html |archivedate= 2013-04-12 |deadurl= no}}</ref> -->\n",
      "\n",
      "<!-- remark out unused ref\n",
      "<ref name=\"Ho2000\">{{cite book |last= Ho |first= P.Y. |title= Li, Qi, and Shu: An Introduction to Science and Civilization in China |year= 2000 |publisher= Dover Publications |isbn=0486414450}}</ref> -->\n",
      "\n",
      "<!-- remark out unused ref\n",
      "<ref name=\"Maclocia1995\">{{cite book |last= Maclocia |first= G. |title= Tongue Diagnosis in Chinese Medicine |year= 1995 |publisher= Eastland |location= Seattle |isbn= 9780939616190 |edition= Rev.}}</ref> -->\n",
      "\n",
      "<ref name=\"Cassileth1999\">{{cite journal |last= Cassileth |first= B.R. |title=Evaluating complementary and alternative therapies for cancer patients |journal= [[CA – A Cancer Journal for Clinicians]] |volume= 49 |issue= 6 |pages= 362–75 |year= 1999 |pmid= 11198952 |doi= 10.3322/canjclin.49.6.362 |url= http://onlinelibrary.wiley.com/doi/10.3322/canjclin.49.6.362/full |ref= harv}}</ref>\n",
      "\n",
      "<ref name=\"Brown2009\">{{cite news |url= http://www.washingtonpost.com/wp-dyn/content/article/2009/03/16/AR2009031602139.html?hpid=sec-health |title= Scientists speak out against federal funds for research on alternative medicine |newspaper= [[The Washington Post]] |date= 2009-03-17 | first= D. | last= Brown | accessdate= 2010-04-23}}</ref>\n",
      "<ref name=\"SampsonAtwood2005\">{{cite journal | authors= Sampson W, Atwood K | title = Propagation of the absurd: demarcation of the absurd revisited | journal = Med. J. Aust. | volume = 183 | issue = 11–12 | pages = 580–1 | year = 2005 | pmid = 16336135 | doi = | url = | ref = harv }}</ref>\n",
      "\n",
      "<ref name=\"$2.5 billion\">{{cite news |url= http://www.msnbc.msn.com/id/31190909/ |title= $2.5 billion spent, no alternative cures found |work= [[NBCNews.com]] |department= Alternative Medicine |agency= [[Associated Press]] |date= 2009-06-10 |archiveurl= https://web.archive.org/web/20090613033017/http://www.msnbc.msn.com/id/31190909 |archivedate= 2009-06-13 |deadurl= no}}</ref>\n",
      "\n",
      "<ref name=NP>{{cite journal |vauthors=Goldrosen MH, Straus SE | year = 2004 | title = Complementary and alternative medicine: assessing the evidence for immunological benefits | url = http://www.nature.com/nri/journal/v4/n11/pdf/nri1486.pdf | format = PDF | journal = Nature Perspectives | volume = 4 | issue = 11| pages = 912–921 | doi=10.1038/nri1486 | pmid=15516970}}</ref>\n",
      "\n",
      "<ref name=\"ButlerBarrett1992\">{{cite book |last= Butler |first= K. |last2= Barrett |first2= S. |year= 1992 |title= A Consumer's Guide to \"Alternative Medicine\": A Close Look at Homeopathy, Acupuncture, Faith-healing and Other Unconventional Treatments |series= Consumer Health Library |publisher= Prometheus |location= Buffalo, New York |isbn= 9780879757335|display-authors= 1 }}</ref>\n",
      "\n",
      "<ref name=VIFAB_definition>{{cite web|url=http://www.srab.dk/alternativ+behandling/hvad+er+alternativ+behandling-c7-/vifabs+definition |archive-url=https://web.archive.org/web/20130924061206/http://www.srab.dk:80/alternativ+behandling/hvad+er+alternativ+behandling-c7-/vifabs+definition |dead-url=yes |archive-date=2013-09-24 |title=ViFABs definition af alternativ behandling |website=srab.dk |df= }}</ref>\n",
      "\n",
      "<!-- remark out unused ref\n",
      "<ref name=\"QuackWatch_defund_NCCAM\">{{cite web |last= Sampson |first= W.I. |url= http://www.quackwatch.org/01QuackeryRelatedTopics/nccam.html |title= Why the National Center for Complementary and Alternative Medicine (NCCAM) Should Be Defunded |publisher= QuackWatch |date= 2002-12-10 |accessdate= 2013-03-11 |archiveurl= https://web.archive.org/web/20130326020026/http://www.quackwatch.org/01QuackeryRelatedTopics/nccam.html |archivedate= 2013-03-26 |deadurl= no}}</ref> -->\n",
      "\n",
      "<ref name=\"Quackwatch_wary\">{{cite news |first= S. |last= Barrett |title= Be Wary of \"Alternative\" Health Methods |url= http://www.quackwatch.org/01QuackeryRelatedTopics/altwary.html|authorlink= Stephen Barrett |publisher=[[Quackwatch]]|date= 2004-02-10 |accessdate = 2008-03-03 |archiveurl= https://web.archive.org/web/20080509100851/http://www.quackwatch.org/01QuackeryRelatedTopics/altwary.html |archivedate= 2008-05-09 |deadurl= no}}</ref>\n",
      "\n",
      "<ref name=\"Berman2010\">{{Cite journal|last1=Berman |first1=B.M. |last2=Langevin |first2=H M. |last3=Witt |first3=C.M. |last4=Dubner |first4=R. |title=Acupuncture for chronic low back pain |doi=10.1056/NEJMct0806114 |journal=New England Journal of Medicine |volume=363 |issue=5 |pages=454–61 |year=2010 |pmid=20818865 |url=http://www.nejm.org/doi/full/10.1056/NEJMct0806114 |archiveurl=http://www.webcitation.org/60ZN1jBD9?url=http%3A%2F%2Fwww.nejm.org%2Fdoi%2Ffull%2F10.1056%2FNEJMct0806114 |archivedate=2011-07-30 |pmc= |ref=harv |deadurl=no |df= }}</ref>\n",
      "\n",
      "<ref name=\"Holloway2003\">{{cite news |url= https://www.theguardian.com/books/2003/feb/15/scienceandnature.highereducation1 |last= Holloway |first= R. |title= A callous view |newspaper= [[The Guardian]] |accessdate= 2010-04-23| location= London |date= 2003-02-14 |department= Books |archiveurl= https://web.archive.org/web/20100411001657/http://www.guardian.co.uk/books/2003/feb/15/scienceandnature.highereducation1| archivedate= 2010-04-11| deadurl= no}}</ref>\n",
      "\n",
      "<ref name=Ernst_Guardian>{{cite news |first= E. |last= Ernst |url=  https://www.theguardian.com/science/blog/2011/nov/08/alternative-medicine-ethics-free-zone |title= Alternative medicine remains an ethics-free zone |newspaper= [[The Guardian]] \n",
      "|location= London |date= 2011-11-08 |archiveurl= https://web.archive.org/web/20130128052140/http://www.guardian.co.uk/science/blog/2011/nov/08/alternative-medicine-ethics-free-zone |archivedate= 2013-01-28 |deadurl= no}}</ref>\n",
      "\n",
      "<!-- remark out unused ref\n",
      "<ref name=Wahlberg>{{Cite journal |last1=Wahlberg |first1=A |title=A quackery with a difference—New medical pluralism and the problem of ‘dangerous practitioners’ in the United Kingdom |journal=Social Science & Medicine |volume=65 |pages=2307–16 |year=2007 |doi=10.1016/j.socscimed.2007.07.024 |pmid=17719708 |issue=11}}</ref> -->\n",
      "\n",
      "<!-- remark out unused ref\n",
      "<ref name=Henderson2008>{{cite news |first= M. |last= Henderson |url= http://www.timesonline.co.uk/tol/life_and_style/health/alternative_medicine/article3760857.ece |title= Prince of Wales's guide to alternative medicine 'inaccurate' |newspaper= [[The Times]] |location= London |department= Health |date= 2008-04-17 |archiveurl= https://web.archive.org/web/20080511171648/http://www.timesonline.co.uk/tol/life_and_style/health/alternative_medicine/article3760857.ece |archivedate= 2008-05-11 |deadurl= yes}}</ref> -->\n",
      "\n",
      "<ref name=Kerman2010>{{cite journal |last1= Kermen |first1= R. |last2= Hickner |first2= J. |last3= Brody |first3= H. |last4= Hasham |first4= I. |title= Family physicians believe the placebo effect is therapeutic but often use real drugs as placebos | journal= Family Medicine |year= 2010 |volume= 42 |issue= 9 |pages= 636–42 |url= http://www.stfm.org/fmhub/fm2010/October/Rachel636.pdf |pmid= 20927672 |ref= harv}}</ref>\n",
      "\n",
      "<ref name=\"Winnick2005_2009\">{{Cite journal |doi= 10.1525/sp.2005.52.1.38 |volume= 52 |issue= 1 |pages= 38–61 | last = Winnick| first = T.A.| title = From quackery to \"complementary\" medicine: The American medical profession confronts alternative therapies |journal= [[Social Problems (journal)|Social Problems]] |year= 2005 |jstor= 10.1525/sp.2005.52.1.38 |ref= harv}}<br />{{cite book |first= T.A. |last= Winnick |year= 2009 |chapter= From Quackery to \"Complementary\" Medicine: The American Medical Profession Confronts Alternative Therapies |title= The Sociology of Health and Illness |edition= 8th |editor-first= P. |editor-last= Conrad |location= New York |publisher= Worth |pages= 261–77 |isbn= 9781429205580}}</ref>\n",
      "\n",
      "<ref name=Ernst2003>{{cite journal |last=Ernst |first= E. |title= Obstacles to research in complementary and alternative medicine |journal= Medical Journal of Australia |volume= 179 |issue= 6 |pages= 279–80 |year= 2003 |pmid= 12964907 |ref=harv}}</ref>\n",
      "\n",
      "<ref name=BeyersteinSampson1996>{{cite journal|url=http://www.csicop.org/si/show/china_conference_1/ |title=Traditional Medicine and Pseudoscience in China: A Report of the Second CSICOP Delegation (Part 1) |first=BL |last=Beyerstein |author2=Wallace Sampson |volume=20 |issue=4 |year=1996 |journal=[[Skeptical Inquirer]] |publisher=[[Committee for Skeptical Inquiry]] |deadurl=yes |archiveurl=https://web.archive.org/web/20091004020227/http://www.csicop.org/si/show/china_conference_1/ |archivedate=2009-10-04 |df= }}</ref>\n",
      "\n",
      "<ref name=Barnes2004>{{cite journal |last1= Barnes |first1= P.M. |last2= Powell-Griner |first2= E. |last3= McFann |first3= K. |last4= Nahin |first4= R.L. |title= Complementary and alternative medicine use among adults: United States, 2002 |journal= Advance Data from Vital and Health Statistics |volume= |issue= 343 |pages= 1–19 |year= 2004 |pmid= 15188733 |url= http://www.cdc.gov/nchs/data/ad/ad343.pdf |ref= harv}}</ref>\n",
      "\n",
      "<ref name=Astin1998>{{cite journal |last= Astin |first= J.A. |title= Why patients use alternative medicine: results of a national study |journal= JAMA |volume= 279 |issue= 19 |pages= 1548–53 |year= 1998 |pmid= 9605899 |doi= 10.1001/jama.279.19.1548 |ref= harv}}</ref>\n",
      "\n",
      "<ref name=\"Thomas2001\">{{cite journal |last1= Thomas |first1= K.J. |last2= Nicholl |first2= J.P. |last3= Coleman |first3= P. |title= Use and expenditure on complementary medicine in England: A population based survey |journal= Complementary Therapies in Medicine |volume= 9 |issue= 1 |pages= 2–11 |year= 2001 |pmid= 11264963 |doi= 10.1054/ctim.2000.0407 |ref= harv}}</ref>\n",
      "\n",
      "<ref name=\"Horneber2011\">{{cite journal |last1= Horneber |first1= M. |last2= Bueschel |first2= G. |last3= Dennert |first3= G. |last4= Less |first4= D. |last5= Ritter |first5= E. |last6= Zwahlen |first6= M. |title= How many cancer patients use complementary and alternative medicine: A systematic review and metaanalysis |journal= [[Integrative Cancer Therapies (journal)|Integrative Cancer Therapies]] |volume= 11 |issue= 3 |pages= 187–203 |year= 2011  |pmid= 22019489 |doi= 10.1177/1534735411423920|url= |ref= harv}}</ref>\n",
      "\n",
      "<ref name=\"WHO_tradmed_fact\">{{cite web|url=http://www.who.int/mediacentre/factsheets/fs134/en/ |title=Traditional medicine |accessdate=2008-03-06 |year=2003 |issue=Fact sheet 134 |publisher=WHO |archiveurl=http://www.webcitation.org/5Zeyw2hfS?url=http%3A%2F%2Fwww.who.int%2Fmediacentre%2Ffactsheets%2Ffs134%2Fen%2F |archivedate=2008-07-28 |deadurl=yes |df= }}</ref>\n",
      "\n",
      "<ref name=\"Warner2006\">{{cite web |last= Warner |first= J.|url= http://www.cbsnews.com/stories/2006/07/20/health/webmd/main1823747.shtml |title= Alternative Medicine Goes Mainstream |publisher= [[CBS News]] |work= [[WebMD]] |date= 2006-07-20 |accessdate= 2013-03-11 |archiveurl= https://web.archive.org/web/20130928001238/http://www.cbsnews.com/stories/2006/07/20/health/webmd/main1823747.shtml |archivedate= 2013-09-28 |deadurl= no}}</ref>\n",
      "\n",
      "<ref name=\"AHA2008\">{{cite press release |title= Latest Survey Shows More Hospitals Offering Complementary and Alternative Medicine Services |url= http://www.aha.org/presscenter/pressrel/2008/080915-pr-cam.shtml |date= 2008-09-15 |publisher= [[American Hospital Association]] |accessdate= |archivedate= 2012-09-02  |archiveurl= https://web.archive.org/web/20120902072431/http://www.aha.org/presscenter/pressrel/2008/080915-pr-cam.shtml |deadurl= no |ref= {{harvid|American Hospital Association|2008}}}}</ref>\n",
      "\n",
      "<ref name=shang>{{Citation |last1=Shang |first1=Aijing |last2=Huwiler-Müntener |first2=Karin |last3=Nartey |first3=Linda |last4=Jüni |first4=Peter |last5=Dörig |first5=Stephan |last6=Sterne |first6=Jonathan AC |last7=Pewsner |first7=Daniel |last8=Egger |first8=Matthias |title=Are the clinical effects of homoeopathy placebo effects? Comparative study of placebo-controlled trials of homoeopathy and allopathy |journal=The Lancet |volume=366 |pages=726–732 |year=2005 |doi=10.1016/S0140-6736(05)67177-2 |pmid=16125589 |issue=9487}}</ref>\n",
      "<ref name=\"Rosa1998\">{{cite journal |last1= Rosa |first1= L. |last2= Rosa |first2= E. |last3= Sarner |first3= L. |last4= Barrett |first4= S. |authorlink2= Emily Rosa |title= A Close Look at Therapeutic Touch |url= http://jama.jamanetwork.com/article.aspx?articleid=187390 |journal= JAMA |volume= 279 |issue= 13 |pages= 1005–10 |year= 1998 |doi= 10.1001/jama.279.13.1005 |pmid= 9533499 |ref= harv}}</ref>\n",
      "\n",
      "<ref name=\"Barnes2008\">{{cite journal |last1= Barnes |first1= P.M. |last2= Bloom |first2= B. |last3= Nahin |first3= R.L. |title= Complementary and alternative medicine use among adults and children: United States, 2007 |journal= National Health Statistics Reports |issue= 12 |year= 2008 |url= http://nccih.nih.gov/sites/nccih.nih.gov/files/news/nhsr12.pdf/ |pmid= 19361005 |pages=1–23 |ref= harv}}</ref>\n",
      "\n",
      "<ref name=Kellhear2003>{{cite journal |first= A. |last= Kellehear |title= Complementary medicine: Is it more acceptable in palliative care practice? |journal= Medical Journal of Australia |year= 2003 |volume= 179 |issue= 6 Supplement |pages= S46–8 |url= http://www.mja.com.au/public/issues/179_06_150903/kel10295_fm-2.html |pmid= 12964939 |ref= harv}}</ref>\n",
      "\n",
      "<ref name=\"Menefee2005\">{{cite journal |last1= Menefee |first1= L.A. |last2= Monti |first2= D.A. |url= http://www.jaoa.org/cgi/content/full/105/suppl_5/S15#SEC5  | title= Nonpharmacologic and complementary approaches to cancer pain management |volume= 105 |issue= 5 Supplement |year= 2005 |pages= S15–20 |pmid= 16368903 | journal= The Journal of the American Osteopathic Association |ref= harv}}</ref>\n",
      "\n",
      "<ref name=\"Cassileth1996\">{{cite journal |last=Cassileth |first= B.R. |url= http://theoncologist.alphamedpress.org/cgi/content/full/1/3/173 |title= Alternative and complementary cancer treatments |journal= The Oncologist |volume= 1 |issue= 3 |pages=173–9 |year = 1996 |pmid= 10387984 |ref=harv}}</ref>\n",
      "\n",
      "<ref name=\"JAMA_book_review\">{{cite journal |title= The Complete German Commission E Monographs: Therapeutic Guide to Herbal Medicines |department= Books, Journals, New Media |last= Marty |first= A.T. |url= http://jama.ama-assn.org/cgi/content/full/281/19/1852 |journal= JAMA |year= 1999 |volume= 281 |pages= 1852–3 |pmid= |doi= 10.1001/jama.281.19.1852-JBK0519-2-1 |issue= 19 |ref= harv}}</ref>\n",
      "\n",
      "<ref name=\"Sarris2012\">{{cite journal |last=Sarris |first= J. |title= Current challenges in appraising complementary medicine evidence |journal= Medical Journal of Australia |volume= 196 |issue= 5 |pages=310–1 |year= 2012 |url=https://www.mja.com.au/journal/2012/196/5/current-challenges-appraising-complementary-medicine-evidence |pmid= 22432660 |doi= 10.5694/mja11.10751 |ref=harv}}</ref>\n",
      "\n",
      "<ref name=\"Alcock1999\">{{cite journal |first= J. |last= Alcock |title= Alternative medicine and the psychology of belief |journal= [[Scientific Review of Alternative Medicine]] |year= 1999 |volume= 3 |issue= 2 |url= http://www.quackwatch.org/01QuackeryRelatedTopics/altpsych.html |ref= harv}}</ref>\n",
      "\n",
      "<ref name=Ernst_Cohen>{{cite journal |last1= Ernst |first1= E. |last2= Cohen |first2= M.H. |last3= Stone |first3= J. |title= Ethical problems arising in evidence based complementary and alternative medicine |journal= [[Journal of Medical Ethics]] |year= 2004 |volume= 30 |issue= 2 |pages= 156–9 |doi= 10.1136/jme.2003.007021 |url= http://jme.bmj.com/content/30/2/156 |accessdate= 2013-11-04 |pmid= 15082809 |pmc= 1733834 |ref= harv|displayauthors= 1 }}</ref>\n",
      "\n",
      "<ref name=CDC>{{cite journal|url=http://www.cdc.gov/mmwr/preview/mmwrhtml/mm5326a3.htm |publisher=Centers for Disease Control and Prevention|journal=Morbidity and Mortality Weekly Report |title=Lead Poisoning Associated with Ayurvedic Medications — Five States, 2000–2003|date=9 July 2004|volume=53|issue=26|pages=582–584}}</ref>\n",
      "\n",
      "<ref name=Ernst2>{{cite journal |last= Ernst |first =E. |title= The ethics of complementary medicine |journal= Journal of Medical Ethics |year= 1996 |volume= 22 |pages= 197–8 |doi= 10.1136/jme.22.4.197 |pmid= 8863142 |issue= 4 |pmc= 1376996 |ref= harv}}</ref>\n",
      "\n",
      "<ref name=Ernst3>{{cite book |editor1-first= .E |title= The Desktop Guide to Complementary and Alternative Medicine |year= 2001 |location= Edinburgh |publisher= Mosby |editor2-last= Pittler |editor2-first= M.H. |editor3-last= Stevinson |editor3-first= C. |editor4-last= White |editor4-first= A. |isbn= 9780723432074 |oclc= 492760852 |editor-last= Ernst }}</ref>\n",
      "\n",
      "<ref name=Ernst4>{{cite journal |last= Ernst |first= E. |title= Funding research into complementary medicine: The situation in Britain |journal= Complementary Therapies in Medicine |year= 1999 |issue= 4 |pages= 250–3 |doi= 10.1016/S0965-2299(99)80011-9 |volume= 7 |pmid= 10709311 |ref= harv}}</ref>\n",
      "\n",
      "<ref name=goodbadugly>{{cite web |url= http://www.healthwatch-uk.org/awardwinners/edzardernst.html |title= The HealthWatch Award 2005: Prof. Edzard Ernst: Complementary medicine: The good the bad and the ugly |last= Ernst |first= E. |publisher= [[HealthWatch]] |location= UK |archiveurl= https://web.archive.org/web/20131016024908/http://www.healthwatch-uk.org/awardwinners/edzardernst.html |archivedate= 2013-10-16 |deadurl= no |accessdate=}}</ref>\n",
      "\n",
      "<ref name=NCCIHSurvey>{{cite press release|title=According to a New Government Survey, 38 Percent of Adults and 12 Percent of Children Use Complementary and Alternative Medicine|url=http://nccih.nih.gov/news/2008/121008.htm|publisher=National Center for Complementary and Integrative Medicine|series=NIH News|location=Bethseda, Maryland|date=10 December 2008|accessdate=4 June 2015}}</ref>\n",
      "\n",
      "<ref name=ACS>{{Cite web  | publisher =[[American Cancer Society]]  | date =1 Nov 2008  | url =http://www.cancer.org/Treatment/TreatmentsandSideEffects/ComplementaryandAlternativeMedicine/MindBodyandSpirit/naturopathic-medicine  | title=Naturopathic Medicine|accessdate =20 Nov 2010|deadurl=yes|archiveurl=https://web.archive.org/web/20150403092521/http://www.cancer.org/treatment/treatmentsandsideeffects/complementaryandalternativemedicine/mindbodyandspirit/naturopathic-medicine|archivedate=3 April 2015 }}</ref>\n",
      "\n",
      "<ref name=Ernst2011>{{cite journal |last= Ernst |first= E. |title= How Much of CAM Is Based on Research Evidence? |journal= Evidence-based Complementary and Alternative Medicine |year= 2011 |volume= 2011 |issue=  |pages= 676490 |pmid= 19465405 |doi= 10.1093/ecam/nep044 | pmc= 3136881 |ref= harv}}</ref>\n",
      "\n",
      "<!-- remark out unused ref\n",
      "<ref name=Ernst_Lee_Choi>{{cite journal|last1=Ernst|first1=E.|last2=Lee|first2=Myeong Soo|last3=Choi|first3=Tae-Young|title=Acupuncture: Does it alleviate pain and are there serious risks? A review of reviews|journal=Pain|volume=152|issue=4|year=2011|pages=755–764|issn=0304-3959|doi=10.1016/j.pain.2010.11.004|pmid=21440191|url=http://www.researchgate.net/publication/50866673_Acupuncture_does_it_alleviate_pain_and_are_there_serious_risks_A_review_of_reviews/file/504635268b703595fc.pdf|format=PDF}}</ref> -->\n",
      "\n",
      "<ref name=Economist2011>{{cite news |magazine= [[The Economist]] |url= http://www.economist.com/node/18710090 |title= Alternative Medicine:  Think yourself better |date= 2011-05-19 |pages= 83–4 |archiveurl= https://web.archive.org/web/20110522121254/http://www.economist.com/node/18710090 |archivedate= 2011-05-22 |deadurl= no}}</ref>\n",
      "\n",
      "<ref name=HHH2008>{{cite book |last= Ernst |first= E. |chapter= Placebo and other Non-specific Effects |title= Healing, Hype, or Harm? A Critical Analysis of Complementary or Alternative Medicine |year= 2008 |editor-last= Ernst |editor-first= E. |publisher= Imprint Academic, Societas |isbn= 9781845401184}}</ref>\n",
      "\n",
      "<ref name=HCReport2010>{{cite report|last=House of Commons: Science and Technology Committee|title=Evidence Check 2: Homeopathy|date=22 February 2010|series=HC 45, Fourth Report of Session 2009–2010|publisher=The Stationery Office|location=London|url=http://www.publications.parliament.uk/pa/cm200910/cmselect/cmsctech/45/45.pdf}}</ref>\n",
      "\n",
      "<ref name=Jagtenberg2006>{{cite journal |vauthors=Jagtenberg T, Evans S, Grant A, Howden I, Lewis M, Singer J | title = Evidence-based medicine and naturopathy | journal = J Altern Complement Med | volume = 12 | issue = 3 | pages = 323–8 | year = 2006 | pmid = 16646733 | doi = 10.1089/acm.2006.12.323 }}</ref>\n",
      "\n",
      "<!-- remark out unused ref\n",
      "<ref name=sgma>{{cite web|url=http://www.sgma.com/reports/7_2007-Sports-and-Fitness-Participation-Report|title=SGMA 2007 Sports & Fitness Participation Report From the USA Sports Participation Study|publisher=SGMA|accessdate=2007-08-18|page=2}}</ref> -->\n",
      "\n",
      "<ref name=Ernst2001>{{cite journal | author = Ernst E | title = Rise in popularity of complementary and alternative medicine: reasons and consequences for vaccination | journal = Vaccine | volume = 20 | issue = Suppl 1 | pages = S89–93 | year = 2001 | pmid = 11587822 | doi = 10.1016/S0264-410X(01)00290-0 }}</ref>\n",
      "\n",
      "<ref name=Katz2003>{{cite journal |last= Katz |first= D.L. |title= The evidence base for complementary and alternative medicine: Methods of evidence mapping with application to CAM |journal= Alternative Therapies in Health and Medicine |volume= 9 |issue= 4 |pages= 22–30 |year= 2003 |pmid= 12868249 |last2= Williams |first2= A.L. |last3= Girard |first3= C. |last4= Goodman |first4= J. |last5= Comerford |first5= B. |last6= Behrman |first6= A. |last7= Bracken |first7= M.B. |ref= harv|display-authors= 1 }}</ref>\n",
      "\n",
      "<ref name=Ernst2005>{{cite journal |last= Ernst |first= E. |title= The efficacy of herbal medicine -- An overview |journal= Fundamental & Clinical Pharmacology |volume= 19 |issue= 4 |pages= 405–9 |year= 2005 |pmid= 16011726 |doi= 10.1111/j.1472-8206.2005.00335.x |ref= harv}}</ref>\n",
      "\n",
      "<!-- remark out unused ref\n",
      "<ref name=Yip2002>{{cite journal|last=Yip|first=Y. L.|title=Pivot&nbsp;– Qi|journal=The Journal of Traditional Eastern Health and Fitness|volume=12|issue=3|publisher= Insight Graphics Publishers |date=Autumn 2002|issn=1056-4004}}</ref> -->\n",
      "\n",
      "<ref name=ATRAMM>{{cite journal |last= Sampson |first= W. |authorlink= Wallace Sampson | title = Antiscience Trends in the Rise of the \"Alternative Medicine\" Movement | journal = Annals of the New York Academy of Sciences | volume = 775 | pages = 188–197 | year = 1995 | pmid = 8678416 | pmc =  | doi = 10.1111/j.1749-6632.1996.tb23138.x | issue=1}}</ref>\n",
      "\n",
      "<ref name=\"Horrobin1986\">{{cite journal |last= Horrobin |first= D.F. |year= 1986 |title= Glittering prizes for research support |url= |journal= Nature |volume= 324 |issue= 6094 |page= 221 |doi= 10.1038/324221a0 |ref= harv}}</ref>\n",
      "\n",
      "<ref name=nccih_$>{{cite web|url=http://nccih.nih.gov/about/budget/appropriations.htm |title=NCCIH Funding: Appropriations History |accessdate=2008-04-02 |date=2008-01-09 |publisher=NCCIH |archiveurl=http://www.webcitation.org/5hSlSj9d5?url=http%3A%2F%2Fnccam.nih.gov%2Fabout%2Fbudget%2Fappropriations.htm |archivedate=2009-06-11 |deadurl=no |df= }}</ref>\n",
      "\n",
      "<ref name=Freedman2011>{{cite web|title=The Triumph of New-Age Medicine|first=David H.|last=Freedman|date= July–August 2011|url=https://www.theatlantic.com/magazine/archive/2011/07/the-triumph-of-new-age-medicine/308554/|access-date=6 June 2015|archive-date=10 May 2015|archive-url=https://web.archive.org/web/20150510142230/http://www.theatlantic.com/magazine/archive/2011/07/the-triumph-of-new-age-medicine/308554/|dead-url=no}}</ref>\n",
      "\n",
      "<ref name=\"Atwood2003\">{{cite journal |first= K.C., IV |last= Atwood |authorlink= Kimball Atwood |title= The Ongoing Problem with the National Center for Complementary and Alternative Medicine |date=September–October 2003 |volume= 27.5 |publisher= |url = http://www.csicop.org/si/show/ongoing_problem_with_the_national_center |magazine= [[Skeptical Inquirer]] |pages= |accessdate= 2009-11-18 |archiveurl= https://web.archive.org/web/20091116142044/http://www.csicop.org/si/show/ongoing_problem_with_the_national_center |archivedate= 2009-11-16 | deadurl= no |ref= harv}}</ref>\n",
      "\n",
      "<ref name=\"Bodeker2002\">{{Cite journal |pmid= 12356597 |year =2002 |last1= Bodeker |first1= G. |last2= Kronenberg |first2= F. | pmc = 3221447 |title= A public health agenda for traditional, complementary, and alternative medicine |volume= 92 |issue= 10 |pages= 1582–91 |journal= [[American Journal of Public Health]] |doi= 10.2105/AJPH.92.10.1582 |ref= harv|displayauthors= 1 }}</ref>\n",
      "\n",
      "<ref name=\"Colquhoun2012\">{{cite journal |last= Colquhoun |first= D. |title= Regulation of alternative medicine ‐ Why it doesn't work |journal= Scottish Universities Medical Journal |year= 2012 |volume= 1 |series= EPub |issue= 16 |pages= 1–9 |url= http://sumj.dundee.ac.uk/data/uploads/epub-article/016-sumj.epub.pdf |ref= harv}}</ref>\n",
      "\n",
      "<ref name=\"Connelly2012\">{{cite journal |last= Connelly |first= P. |title= The ethics of acupuncture |journal= Scottish Universities Medical Journal |year= 2012 |volume= 1 |issue= 2 |pages= 165–9 |url= http://sumj.dundee.ac.uk/data/uploads/volume2/sumjv1i2p.165-169.pdf |ref= harv}}</ref>\n",
      "\n",
      "<ref name=\"Malcolm2012\">{{cite journal |last= Malcolm |first= R. |title= Small but intriguing - The unfolding story of homeopathic medicine |journal= Scottish Universities Medical Journal |year= 2012 |volume=1 |series= EPub |issue= 15 |pages= 1–7 |url= http://sumj.dundee.ac.uk/data/uploads/epub-article/015-sumj.epub.pdf |ref= harv}}</ref>\n",
      "\n",
      "<ref name=\"Hills1999\">{{cite web |url= http://benhills.com/articles/medical-mayhem/item/94-fake-healers |archive-url= https://web.archive.org/web/20120315061425/http://benhills.com/articles/medical-mayhem/item/94-fake-healers |dead-url= yes |archive-date= 2012-03-15 |title=Fake healers: Why Australia's $1 billion-a-year alternative medicine industry is ineffective and out of control |date= 2011-09-23 |origyear= 1999 |accessdate= 2008-03-06 |last= Hills |first= B. |authorlink= Ben Hills |work= BenHills.com }}</ref>\n",
      "\n",
      "<ref name=\"SwanABC\">{{cite episode |first= N. |last= Swan |title= Alternative Medicine – Part Three |date= 2000-10-02 |network= [[Australian Broadcasting Corporation]] |station= [[Radio National]] |url= http://www.abc.net.au/rn/talks/8.30/helthrpt/stories/s195441.htm | series =The Health Report |accessdate = 2008-03-06 | language = | archiveurl= https://web.archive.org/web/20080306230537/http://www.abc.net.au/rn/talks/8.30/helthrpt/stories/s195441.htm| archivedate= 2008-03-06 | deadurl= yes}}</ref>\n",
      "\n",
      "<ref name=Stehlin>{{cite journal |first= I. |last= Stehlin |archiveurl= https://web.archive.org/web/20071012070120/http://www.fda.gov/fdac/features/096_home.html |url= http://www.fda.gov/fdac/features/096_home.html |title=  Homeopathy: Real medicine or empty promises? |magazine= FDA Consumer Magazine |date=December 1996 |publisher= FDA |archivedate= 2007-10-12 |ref= harv}}</ref>\n",
      "\n",
      "<ref name=\"Navarro2006\">{{cite journal |title= Drug-related hepatotoxicity |doi= 10.1056/NEJMra052270 |year= 2006 |volume= 354 |pages= 731–9 |last1= Navarro |first1= V.J. |last2= Senior |first2=J.R. |journal= New England Journal of Medicine |pmid= 16481640 |issue= 7 |ref= harv|displayauthors= 1 }}</ref>\n",
      "\n",
      "<!-- remark out unused ref\n",
      "<ref name=\"Renkens2009\">{{cite journal |last= Renckens |first= C.N.M. |title= A Dutch view of the ''science'' of CAM 1986--2003 |journal= Evaluation & the Health Professions |volume= 32 |issue= 4 |pages= 431–50 |year= 2009 |pmid= 19926606 |doi= 10.1177/0163278709346815 |ref= harv}}</ref> -->\n",
      "\n",
      "<ref name=NCCIH2>{{cite web\n",
      " |url=https://nccih.nih.gov/research/statistics/2007/camsurvey_fs1.htm \n",
      " |title=The Use of Complementary and Alternative Medicine in the United States \n",
      " |publisher=[[NCCIH|National Center for Complementary and Integrative Health]] \n",
      " |date=2015-04-07 \n",
      " |archivedate=2015-06-01 \n",
      " |archiveurl=https://web.archive.org/web/20150601182114/https://nccih.nih.gov/research/statistics/2007/camsurvey_fs1.htm \n",
      " |deadurl=yes \n",
      " |accessdate=2015-06-04 \n",
      " |df= \n",
      "}}</ref>\n",
      "\n",
      "<ref name=Vickers>{{cite journal |last1= Vickers |first1= A. |title= Alternative cancer cures: 'Unproven' or 'disproven'? |journal= CA – A Cancer Journal for Clinicians |volume= 54 |issue= 2 |pages= 110–8 |year= 2004 |pmid= 15061600 |doi= 10.3322/canjclin.54.2.110 | url=http://onlinelibrary.wiley.com/doi/10.3322/canjclin.54.2.110/full |ref= harv}}</ref>\n",
      "\n",
      "<!-- remark out unused ref\n",
      "<ref name=\"WebMD2011\">{{cite web |url= http://www.webmd.com/balance/tc/complementary-medicine-mind-body-interventions |title= Complementary Medicine – Mind-Body Interventions |publisher= WebMD |work= Healthwise |date= 2011-06-29 |accessdate= 2013-03-11 |archiveurl= https://web.archive.org/web/20121015144134/http://www.webmd.com/balance/tc/complementary-medicine-mind-body-interventions |archivedate= 2012-10-15 |deadurl= no }}</ref> -->\n",
      "\n",
      "<ref name=WebMD2014>{{cite web|url=http://www.webmd.com/balance/tc/complementary-medicine-alternative-medical-systems|publisher=WebMD|title=Complementary Medicine — Alternative Medical Systems|archiveurl=https://web.archive.org/web/20150601195452/http://www.webmd.com/balance/tc/complementary-medicine-alternative-medical-systems|accessdate=2015-06-04|archivedate=2015-06-01|date=2014-01-14|deadurl=no}}</ref>\n",
      "\n",
      "<ref name=\"Sobel2000\">{{cite book |last= Sobel |first= D.S. |chapter= Chapter 28: The Cost-effectiveness of Mind-body Medicine Interventions |title= Progress in Brain Research |volume= Volume 122 |pages= 393–412 |year= 2000 |pmid= 10737073 |doi=10.1016/S0079-6123(08)62153-6 |isbn= 9780444500496 |editor1-last= Mayer |editor1-first= E.A. |editor2-last= Saper |editor2-first= C.B. }}</ref>\n",
      "\n",
      "<ref name=\"van_Deventer2008\">{{cite journal |last= van Deventer |first= M.O. |title= Meta-placebo: Do doctors have to lie about giving a fake treatment? |journal= [[Medical Hypotheses]] |volume= 71 |issue= 3 |pages= 335–9 |year= 2008 |pmid= 18485613 |doi= 10.1016/j.mehy.2008.03.040 |ref= harv}}</ref>\n",
      "\n",
      "<ref name=\"Con?\">{{cite news |url= http://www.independent.co.uk/life-style/health-and-wellbeing/features/complementary-therapies-the-big-con-813248.html |title= Complementary therapies: The big con? |newspaper= [[The Independent]] |accessdate= 2010-04-23 |location= London |date= 2008-04-22 |deadurl= yes |archiveurl= https://web.archive.org/web/20100417080412/http://www.independent.co.uk/life-style/health-and-families/features/complementary-therapies-the-big-con-813248.html | archivedate= 2010-04-17}}</ref>\n",
      "\n",
      "<ref name=AMCER>{{cite journal | author = Beyerstein BL | title = Alternative medicine and common errors of reasoning | journal = Academic Medicine | volume = 76 | issue = 3 | pages = 230–237 | year = 2001 | pmid = 11242572 | doi = 10.1097/00001888-200103000-00009 }}</ref>\n",
      "\n",
      "<ref name=Beyerstein>{{cite journal |last= Beyerstein |first= B.L. |url= http://www.sram.org/0302/bias.html |archiveurl= https://web.archive.org/web/20111012091930/http://www.sram.org/0302/bias.html |archivedate=2011-10-12 |title= Psychology and 'alternative medicine' social and judgmental biases that make inert treatments seem to work |journal= Scientific Review of Alternative Medicine |year= 1999 |volume= 3 |issue= 2 |accessdate= 2008-07-07 |ref= harv}}</ref>\n",
      "\n",
      "<ref name=Ernst2010>{{Cite journal |last1= Ernst |first1= E. |doi= 10.1111/j.1742-1241.2010.02425.x |title= The public's enthusiasm for complementary and alternative medicine amounts to a critique of mainstream medicine | journal= International Journal of Clinical Practice |volume= 64 |issue= 11 |pages= 1472–4 |year= 2010 |pmid= 20846193 |ref= harv}}</ref>\n",
      "\n",
      "<ref name=Weber>{{cite journal |last= Weber |first= D.O. |title= Complementary and alternative medicine considering the alternatives |journal= [[Physician Executive]] |volume= 24 |issue= 6 |pages= 6–14 |year= 1998 |pmid= 10351720 |ref= harv}}</ref>\n",
      "\n",
      "<!-- remark out unused ref\n",
      "<ref name=\"Schofield2010\">{{Cite journal |last1= Schofield |first1= P. |last2= Diggens |first2= J. |last3= Charleson |first3= C. |last4= Marigliani |first4= R. |last5= Jefford |first5= M. |title= Effectively discussing complementary and alternative medicine in a conventional oncology setting: Communication recommendations for clinicians |doi= 10.1016/j.pec.2009.07.038 |journal= Patient Education and Counseling |volume= 79 |issue= 2 | pages= 143–51 |year= 2010 |pmid= 19783116 |pmc= |ref= harv|displayauthors= 1 }}</ref> -->\n",
      "\n",
      "}}\n",
      "\n",
      "==Bibliography==\n",
      "\n",
      "* {{cite book |last= Bivins |first= R. |title= Alternative Medicine? A History |publisher= Oxford University Press |location= |isbn= 9780199218875 |url= |year= 2007 |ref= harv}}\n",
      "* {{cite book |authors= Board of Science and Education, [[British Medical Association]] |title=Complementary Medicine: New Approaches to Good Practice |year= 1993 |publisher= Oxford University Press |isbn= 9780192861665 |ref= {{harvid|BMA|1993}}}}\n",
      "* {{cite book |editor-last= Callahan |editor-first= D. |year= 2004 |title= The Role of Complementary and Alternative Medicine: Accommodating Pluralism |publisher= Georgetown University Press |location= Washington, D.C. |isbn= 9781589014640 |ref= {{harvid|Callahan|2004}}}}\n",
      "*{{cite book |title= Complementary & Alternative Medicine: Legal Boundaries and Regulatory Perspectives |first= Michael H. |last= Cohen|authorlink=Michael H. Cohen |location= Baltimore|publisher= Johns Hopkins University Press |year= 1998|isbn= 9780801856891 |ref={{Harvid|Cohen|1998}}}}\n",
      "* {{cite book |authors= Committee on the Use of Complementary and Alternative Medicine by the American Public, Board on Health Promotion and Disease Prevention, [[Institute of Medicine]], [[United States National Academies|US National Academies]] |title= Complementary and Alternative Medicine in the United States |url= https://www.nap.edu/catalog/11182/complementary-and-alternative-medicine-in-the-united-states |year= 2005 |publisher= National Academy Press |location= Washington, D.C. |isbn= 0309092701 |ref= {{harvid|IOM Report|2005}}}}\n",
      "* {{cite book |last= Gevitz |first= N. |authorlink= Norman Gevitz |editor1-last= Bynum |editor1-first= W.F. |editor2-last= Porter |editor2-first= R.S. |title= Companion Encyclopedia of the History of Medicine |volume= Vol. 1 |chapter= Chapter 28: Unorthodox Medical Theories |year= 1997 |origyear= 1993 |isbn= 9780415164191 |publisher= Routledge |location= New York & London |editor2-link= Roy Porter |ref=harv }}\n",
      "* {{cite book |title= The Homœopathic Medical Doctrine, or \"Organon of the Healing Art\" |publisher= W.F. Wakeman |last= Hahnemann |first= S. |authorlink= Samuel Hahnemann |year= 1833 |location= Dublin | others= Translation by Devrient, C.H. Annotated by Stratten, S.|ref=harv}} \n",
      "* {{cite book|first1=Dennis L|last1=Kasper|first2=Anthony S.|last2=Fauci|first3=Stephen L.|last3=Hauser|first4=Dan L.|last4=Longo|first5=J. Larry|last5=Jameson|first6=Joseph|last6=Loscalzo|title=Harrison's Principles of Internal Medicine|publisher=McGraw Hill Education|year=2015|location=New York|isbn=9780071802154|edition=19th|ref={{harvid|Harrison's Principles of Internal Medicine|2015}}}}\n",
      "* {{cite book |title=Scientific Basis for Ayurvedic Therapies |first=Lakshmi Chandra|last= Mishra |publisher=CRC Press|location=Boca Raton|year=2004 |isbn=0-8493-1366-X|ref=harv}}\n",
      "* {{cite book|last=O'Connor|first=Bonnie Blair|title=Healing Traditions: Alternative Medicine and the Health Professions|location=Philadelphia|publisher=University of Pennsylvania Press|year=1995|isbn=9780812213980|ref={{harvid|O'Connor|1995}}}}\n",
      "* {{cite book |last= Ruggie |first= M.|title= Marginal to Mainstream: Alternative Medicine in America |url= |year= 2004 |publisher= Cambridge University Press |isbn=9780521834292 |ref= harv}}\n",
      "* {{cite book |last= Sagan |first= C. |authorlink= Carl Sagan |title= [[The Demon-Haunted World|The Demon-Haunted World: Science As a Candle in the Dark]] |year= 1996 |publisher= Random House |location= New York |isbn= 9780394535128  |ref= {{harvid|Sagan|1996}}}}\n",
      "* {{cite book |last=Saks |first= M.|title= Orthodox and Alternative Medicine: Politics, Professionalization and Health Care |url= |year= 2003 |publisher= Sage Publications |isbn= 9781446265369 |ref= harv}}\n",
      "* {{cite book |last= Sointu |first= E. |title= Theorizing Complementary and Alternative Medicines: Wellbeing, Self, Gender, Class |url= |year= 2012 |publisher= Palgrave Macmillan |location= Basingstoke, England |isbn= 9780230309319|ref= harv}}\n",
      "* {{cite book |title= Sixth Report: Complementary and Alternative Medicine |url= http://www.parliament.the-stationery-office.co.uk/pa/ld199900/ldselect/ldsctech/123/12301.htm |authors= Walton J., Sir, Science and Technology Committee, [[House of Lords]], [[Parliament of the United Kingdom]] |year= 2000 |isbn=  9780104831007 |origyear= Session 1999-2000, HL 123 |location= London |publisher= The Stationery Office |ref= {{harvid|Sir Walton: Science and Technology Committee|2000}}}}\n",
      "* {{cite book | last = Taylor | first = Kim | title = Chinese Medicine in Early Communist China, 1945–63: a Medicine of Revolution | year = 2005 | isbn = 0-415-34512-X |location=London and New York|series=Needham Research Institute Studies| publisher = RoutledgeCurzon|ref=harv }}\n",
      "* {{cite book |title= The Roots of Ayurveda: Selections from Sanskrit Medical Writings |editor-last=Wujastyk|editor-first= D.|others=Translated by D. Wujastyk|year= 2003 |location= London and New York |publisher= Penguin Books |isbn= 0140448241|ref=harv}}\n",
      "\n",
      "==Further reading==\n",
      "\n",
      "* {{cite book |last= Bausell |first= R.B |year= 2007 |title= Snake oil science : the truth about complementary and alternative medicine  |publisher= Oxford University Press |isbn= 9780195313680}}\n",
      "* {{cite journal |last1= Benedetti |first1= F. |last2= Maggi |first2= G. |last3= Lopiano |first3= L. |last4= Lanotte |first4= M. |last5= Rainero |first5= I. |last6= Vighetti |first6= S. |last7= Pollo |first7= A. |title= Open versus hidden medical treatments: The patient's knowledge about a therapy affects the therapy outcome |journal= Prevention & Treatment |year= 2003 |volume= 6 |issue= 1 |doi= 10.1037/1522-3736.6.1.61a |ref= harv|displayauthors= 1 }}\n",
      "* {{cite book |editor-last= [[John Diamond (journalist)|Diamond]] |editor-first= J. |title= Snake Oil and Other Preoccupations |year=  2001 |isbn= 9780099428336 |chapter= Foreword |first= R. |last= Dawkins |authorlink= Richard Dawkins |publisher= Vintage |location= London}} Reprinted in {{harvnb|Dawkins|2003}}.\n",
      "* {{cite journal |vauthors=Downing AM, Hunter DG | title = Validating clinical reasoning: A question of perspective, but whose perspective? | journal = Manual Therapy | volume = 8 | issue = 2 | pages = 117–9 | year = 2003 | pmid = 12890440 | doi = 10.1016/S1356-689X(02)00077-2 | ref = harv  }}\n",
      "* {{cite journal | author = Eisenberg DM | title = Advising patients who seek alternative medical therapies | journal = Annals of Internal Medicine | volume = 127 | issue = 1 | pages = 61–9 | date = July 1997 | pmid = 9214254 | doi = 10.7326/0003-4819-127-1-199707010-00010 | ref = harv }}\n",
      "* {{cite journal | author = Gunn IP | title = A critique of Michael L. Millenson's book, ''Demanding Medical Excellence: Doctors and Accountability in the Information Age, and its Relevance to CRNAs and Nursing'' | journal = AANA Journal |publisher=American Association of Nurse Anesthetists |issn=0094-6354 | volume = 66 | issue = 6 | pages = 575–82 | date = December 1998 | pmid = 10488264 | ref = harv }}\n",
      "* {{cite book |last=Hand |first= W.D. |year=1980 |chapter=Folk Magical Medicine and Symbolism in the West |title=Magical Medicine |location=Berkeley |publisher=University of California Press |pages=305–19 |isbn= 9780520041295 |oclc=6420468}}\n",
      "* {{cite book |authorlink= Ivan Illich |last= Illich |first= I. |title= Limits to Medicine: Medical Nemesis: The Expropriation of Health |publisher= Penguin |year= 1976 |isbn= 9780140220094 |oclc=4134656 }}\n",
      "* {{cite book |author= [[Mayo Clinic]] |title= Mayo Clinic Book of Alternative Medicine: The New Approach to Using the Best of Natural Therapies and Conventional Medicine |location= Parsippany, New Jersey |publisher= [[Time Inc|Time]] Home Entertainment |year= 2007 |isbn= 9781933405926}}\n",
      "* {{cite journal |first= P., Jr. |last= Stevens |date=November–December 2001 |title= Magical thinking in complementary and alternative medicine |work=[[Skeptical Inquirer]] |url= http://www.csicop.org/si/show/magical_thinking_in_complementary_and_alternative_medicine |ref= harv }}\n",
      "* {{cite book |last= Planer |first= F.E. |year= 1988 |title= Superstition |edition= Rev. |location= Buffalo, New York |publisher= Prometheus Books |isbn= 9780879754945 |oclc= 18616238}}\n",
      "* {{cite web |url= http://www.cwru.edu/med/epidbio/mphp439/Sources_of_Healthcare.htm |last= Rosenfeld |first= A. |title= Where Do Americans Go for Healthcare? |publisher=Case Western Reserve University |location= Cleveland, Ohio |year= c. 2000 |accessdate= 2010-09-23}}\n",
      "* {{cite journal|last1=Snyder|first1=Mariah|last2=Lindquist|first2=Ruth|title=Issues in Complementary Therapies: How We Got to Where We Are|journal=Online Journal of Issues in Nursing|date=May 2001|volume=6|issue=2|url=http://www.nursingworld.org/MainMenuCategories/ANAMarketplace/ANAPeriodicals/OJIN/TableofContents/Volume62001/No2May01/ComplementaryTherapiesIssues.aspx}}\n",
      "* {{cite journal | author = Tonelli MR | title = The limits of evidence-based medicine | journal = Respiratory Care | volume = 46 | issue = 12 | pages = 1435–40; discussion 1440–1 | year = 2001 | pmid = 11728302 | ref = harv }}\n",
      "* {{cite book |last= Trivieri |first= L. Jr. |editor-last= Anderson |editor-first= J.W. |title= Alternative Medicine: The Definitive Guide |location= Berkeley |publisher= Ten Speed Press |year=2002 |isbn= 9781587611414}}\n",
      "* {{cite book |last= Wisneski |first= L.A. |last2= Anderson |first2= L. |title= The scientific basis of integrative medicine |publisher= CRC Press |year= 2005 |isbn= 9780849320811 |displayauthors= 1 }}\n",
      "* {{cite journal |last= Zalewski |first= Z. |title= Importance of philosophy of science to the history of medical thinking |journal= [[CMJ]] |year= 1999 |volume= 40 |issue= 1 |pages= 8–13 |url= http://www.bsb.mefst.hr/cmj/1999/4001/400102.htm  |archiveurl= https://web.archive.org/web/20040206092548/http://www.bsb.mefst.hr/cmj/1999/4001/400102.htm |archivedate= 2004-02-06 |ref= harv}}\n",
      "\n",
      "===World Health Organization===\n",
      "\n",
      "*{{cite book |title= General Guidelines for Methodologies on Research and Evaluation of Traditional Medicine |url= http://whqlibdoc.who.int/hq/2000/WHO_EDM_TRM_2000.1.pdf |volume= WHO/EDM/TRM/2001.1 |author= World Health Organization |authormask=0 |year= 2000 |location= Geneva |publisher= World Health Organization (WHO) |quote= This document is not a formal publication of the WHO. The views expressed in documents by named authors are solely the responsibility of those authors. |ref= {{harvid|WHO|2000}}}}\n",
      "*{{cite book |title= WHO Guidelines on Basic Training and Safety in Chiropractic |url= http://www.who.int/medicines/areas/traditional/Chiro-Guidelines.pdf |author= World Health Organization |authormask=0 |year= 2005 |location= Geneva |publisher= WHO |isbn= 9241593717 |ref= {{harvid|WHO|2005}}}}\n",
      "*{{cite book |title= WHO Global Atlas of Traditional, Complementary and Alternative Medicine |last1= WHO Kobe Centre |last2= Bodeker |first2= G. |last3= Ong |first3= C.K. |last4= Grundy |first4= C. |last5= Burford |first5= G. |last6= Shein |first6= K. |year= 2005 |publisher= WHO |isbn= 9789241562867|displayauthors=2 }} [http://apps.who.int/bookorders/anglais/detart1.jsp?codlan=1&codcol=15&codcch=614 Summary.]\n",
      "\n",
      "===Journals===\n",
      "\n",
      "* Alternative Therapies in Health and Medicine. Aliso Viejo, California : InnoVision Communications, c1995- NLM ID: [http://locatorplus.gov/cgi-bin/Pwebrecon.cgi?DB=local&v2=1&ti=1,1&Search_Arg=9502013&Search_Code=0359&CNT=20&SID=1 9502013]\n",
      "* [http://altmedrev.com/ Alternative Medicine Review: A Journal of Clinical Therapeutics]. Sandpoint, Idaho : Thorne Research, c1996- NLM ID: [http://locatorplus.gov/cgi-bin/Pwebrecon.cgi?DB=local&v2=1&ti=1,1&Search_Arg=9705340&Search_Code=0359&CNT=20&SID=1 9705340]\n",
      "* [http://www.biomedcentral.com/1472-6882 BMC Complementary and Alternative Medicine]. London: BioMed Central, 2001- NLM ID: [http://locatorplus.gov/cgi-bin/Pwebrecon.cgi?DB=local&v2=1&ti=1,1&Search_Arg=101088661&Search_Code=0359&CNT=20&SID=1 101088661]\n",
      "* Complementary Therapies in Medicine. Edinburgh ; New York : Churchill Livingstone, c1993- NLM ID: [http://locatorplus.gov/cgi-bin/Pwebrecon.cgi?DB=local&v2=1&ti=1,1&Search_Arg=9308777&Search_Code=0359&CNT=20&SID=1 9308777]\n",
      "* [http://ecam.oxfordjournals.org/ Evidence Based Complementary and Alternative Medicine: eCAM]. New York: Hindawi, c2004 NLM ID: [http://locatorplus.gov/cgi-bin/Pwebrecon.cgi?v1=1&ti=1,1&Search_Arg=Evidence%20Based%20Complementary%20and%20Alternative%20Medicine&Search_Code=TKEY&CNT=10&PID=fpUDGDBAnYWR-hE7tDjwdrxtvHm&SEQ=20130926044311&SID=2 101215021]\n",
      "* [http://content.karger.com/ProdukteDB/produkte.asp?Aktion=JournalHome&ProduktNr=224242 Forschende Komplementärmedizin / Research in Complementary Medicine]\n",
      "* [http://www.jintmed.org/ Journal of Integrative Medicine]\n",
      "* [http://www.liebertpub.com/products/product.aspx?pid=26 Journal for Alternative and Complementary Medicine] New York : Mary Ann Liebert, c1995\n",
      "* [http://www.sram.org/index.html Scientific Review of Alternative Medicine (SRAM)]\n",
      "\n",
      "==External links==\n",
      "\n",
      "{{sisterlinks|voy=no|n=no|species=no|mw=no|m=no|d=Q188504|b=Category:Alternative medicine|v=Category:Complementary_and_alternative_medicine}}\n",
      "\n",
      "{{Library resources box |by=no |onlinebooks=no |others=yes lcheading=Alternative medicine}}\n",
      "\n",
      "*{{DMOZ|Health/Alternative/}}\n",
      "* [http://nccih.nih.gov/ The National Center for Complementary and Integrative Health]: US [[National Institutes of Health]]\n",
      "* [http://www.cancer.gov/cam/ The Office of Cancer Complementary and Alternative Medicine]: US [[National Cancer Institute]], National Institutes of Health\n",
      "* [http://www.vifab.dk/uk Knowledge and Research Center for Alternative Medicine]: Denmark, the Ministry of the Interior and Health\n",
      "*[http://www.cancer.org/docroot/eto/content/eto_5_3x_guidelines_for_using_complementary_and_alternative_methods.asp Guidelines For Using Complementary and Alternative Methods]: from the [[American Cancer Society]]\n",
      "* [http://www.umm.edu/altmed/ Complementary and Alternative Medicine Index]: from the [[University of Maryland, Baltimore|University of Maryland Medical Center]]\n",
      "* [http://www.fammed.wisc.edu/integrative/modules Integrative Medicine Podcasts and Handouts]: Teaching modules from the [[University of Wisconsin]] Integrative Medicine Program\n",
      "* [http://www.open2.net/alternativemedicine/index.html \"Alternative Medicine\"]: A BBC/Open University television series that examines the evidence scientifically\n",
      "* [http://www.mayoclinic.com/health/alternative-medicine/PN00001 \"Complementary and alternative medicine: What is it?\"]: from the [[Mayo Clinic]]\n",
      "* [http://www.naturalstandard.com/ Natural Standard Research Collaboration]\n",
      "* [http://www.pbs.org/saf/1210/index.html A Different Way to Heal?] and [http://www.pbs.org/saf/1210/video/watchonline.htm Videos]: from [[Public Broadcasting Service|PBS]] and [[Scientific American Frontiers]]\n",
      "* [http://www.pbs.org/kcet/closertotruth/explore/show_11.html Who Gets to Validate Alternative Medicine?]: from [[Public Broadcasting Service|PBS]]\n",
      "\n",
      "===Criticism===\n",
      "* [http://www.theness.com/index.php/what-is-complementary-and-alternative-medicine/ What is Complementary and Alternative Medicine?] – [[Steven Novella]], Maryland\n",
      "* [http://www.skepdic.com/althelth.html \"Alternative\" health practice] – [[Skeptic's Dictionary]]\n",
      "* [http://www.quackwatch.org Quackwatch.org] – [[Stephen Barrett]] (See also: [[Quackwatch]])<!--- DO NOT REMOVE! DOCUMENTATION FOR QUACKWATCH AS A RELIABLE SOURCE ABOUT CAM: Among many other sources listed on the Quackwatch article, the [[American Cancer Society]] lists Quackwatch as one of ten reputable sources of information about Alternative and Complementary Therapies in their book \"Cancer Medicine\",<ref name=autogenerated1>[http://www.ncbi.nlm.nih.gov/books/bv.fcgi?indexed=google&rid=cmed6.table.18497 Reputable Sources of Information about Alternative and Complementary Therapies] – [[American Cancer Society]] {{webarchive |url=https://web.archive.org/web/20090306160714/http://www.ncbi.nlm.nih.gov/books/bv.fcgi?indexed=google&rid=cmed6.table.18497 |date=March 6, 2009 }}</ref> and lists it as one of four sources for information about Alternative & Complementary Therapies in an article about on-line cancer information and support.<ref name=ACS_info>[http://www.cancer.org/docroot/ESN/content/ESN_2_4X_Cancer_information_and_support_available_online.asp Cancer Information & Support Available Online] – [[American Cancer Society]] {{webarchive |url=https://web.archive.org/web/20090211050220/http://www.cancer.org/docroot/ESN/content/ESN_2_4X_Cancer_information_and_support_available_online.asp |date=February 11, 2009 }}</ref> It also uses Quackwatch as a reference in a long series of articles on many forms of alternative medicine.<ref name=ACS_altmed_series>[http://www.google.com/search?hl=en&rlz=1T4GWYE_enUS238US238&q=quackwatch+site%3Acancer.org&btnG=Search A Google search lists a long series of articles] on many forms of alternative medicine on the [[American Cancer Society]] website that use Quackwatch as a source.</ref> -->\n",
      "* {{cite journal |title= Review - ''Healing, Hype, or Harm? A Critical Analysis of Complementary or Alternative Medicine'', by Edzard Ernst (Editor) |url= http://metapsychology.mentalhelp.net/poc/view_doc.php?type=book&id=4690&cn=452 |journal= Metapsychology online reviews |volume= 13 |issue= 5 |last= Purday |first= K.M. |date= 2009-01-27 |ref= harv}}\n",
      "* [http://whatstheharm.net/ What's the harm?] Website created by Tim Farley listing cases of people harmed by various alternative treatments\n",
      "* [https://www.youtube.com/watch?v=RWbkvCMuU5A/ The Alternative Medicine Racket] A video investigation of state-supported quackery at the National Institutes of Health. – [[Reason TV]]\n",
      "\n",
      "{{Alternative medicine}}\n",
      "{{Traditional Medicine}}\n",
      "{{Medicinal herbs & fungi}}\n",
      "{{Pseudoscience}}\n",
      "{{Authority control}}\n",
      "{{Portal bar|Alternative medicine}}\n",
      "\n",
      "{{DEFAULTSORT:Alternative Medicine}}\n",
      "[[Category:Alternative medicine| ]]\n",
      "[[Category:Pseudoscience]]\n"
     ]
    }
   ],
   "source": [
    "n = 5\n",
    "print corpus_titles[n]\n",
    "print corpus_text[n]"
   ]
  },
  {
   "cell_type": "markdown",
   "metadata": {},
   "source": [
    "## 2. Corpus Processing\n",
    "\n",
    "Topic modelling algorithms process vectorized data. In order to apply them, we need to transform the raw text input data into a vector representation. To do so, we will remove irrelevant information from the text data and preserve as much relevant information as possible to capture the semantic content in the document collection.\n",
    "\n",
    "Thus, we will proceed with the following steps:\n",
    "\n",
    "1. Tokenization\n",
    "2. Homogeneization\n",
    "3. Cleaning\n",
    "4. Vectorization"
   ]
  },
  {
   "cell_type": "markdown",
   "metadata": {},
   "source": [
    "### 2.1. Tokenization\n",
    "\n",
    "For the first steps, we will use some of the powerfull methods available from the [Natural Language Toolkit](http://www.nltk.org). In order to use the `word_tokenize` method from nltk, you might need to get the appropriate libraries using `nltk.download()`. You must select option \"d) Download\", and identifier \"punkt\""
   ]
  },
  {
   "cell_type": "code",
   "execution_count": 7,
   "metadata": {
    "collapsed": false
   },
   "outputs": [
    {
     "name": "stdout",
     "output_type": "stream",
     "text": [
      "[nltk_data] Downloading package punkt to /Users/jcid/nltk_data...\n",
      "[nltk_data]   Package punkt is already up-to-date!\n"
     ]
    },
    {
     "data": {
      "text/plain": [
       "True"
      ]
     },
     "execution_count": 7,
     "metadata": {},
     "output_type": "execute_result"
    }
   ],
   "source": [
    "# You can comment this if the package is already available.\n",
    "# Select option \"d) Download\", and identifier \"punkt\"\n",
    "nltk.download('punkt')"
   ]
  },
  {
   "cell_type": "markdown",
   "metadata": {},
   "source": [
    "**Task**: Insert the appropriate call to `word_tokenize` in the code below, in order to get the tokens list corresponding to each Wikipedia article:"
   ]
  },
  {
   "cell_type": "code",
   "execution_count": 8,
   "metadata": {
    "collapsed": false
   },
   "outputs": [
    {
     "name": "stdout",
     "output_type": "stream",
     "text": [
      "Tokenizing article 360 out of 360 \n",
      " The corpus has been tokenized. Let's check some portion of the first article:\n",
      "[u'{', u'{', u'see', u'also|List', u'of', u'topics', u'characterized', u'as', u'pseudoscience', u'}', u'}', u'{', u'{', u'broader|Pseudo-scholarship', u'}', u'}', u'{', u'{', u'Science|phil/hist', u'}', u'}', u\"'\", u\"''\", u'Pseudoscience', u\"''\", u\"'\", u'consists', u'of', u'claims', u',']\n"
     ]
    }
   ],
   "source": [
    "corpus_tokens = []\n",
    "\n",
    "for n, art in enumerate(corpus_text): \n",
    "    print \"\\rTokenizing article {0} out of {1}\".format(n + 1, n_art),\n",
    "    # This is to make sure that all characters have the appropriate encoding.\n",
    "    art = art.decode('utf-8')  \n",
    "    \n",
    "    # Tokenize each text entry. \n",
    "    # scode: tokens = <FILL IN>\n",
    "    tokens = word_tokenize(art)\n",
    "    \n",
    "    # Add the new token list as a new element to corpus_tokens (that will be a list of lists)\n",
    "    # scode: <FILL IN>\n",
    "    corpus_tokens.append(tokens)\n",
    "\n",
    "print \"\\n The corpus has been tokenized. Let's check some portion of the first article:\"\n",
    "print corpus_tokens[0][0:30]"
   ]
  },
  {
   "cell_type": "code",
   "execution_count": 9,
   "metadata": {
    "collapsed": false
   },
   "outputs": [
    {
     "name": "stdout",
     "output_type": "stream",
     "text": [
      "1 test passed.\n",
      "1 test passed.\n"
     ]
    }
   ],
   "source": [
    "Test.assertEquals(len(corpus_tokens), n_art, \"The number of articles has changed unexpectedly\")\n",
    "Test.assertTrue(len(corpus_tokens) >= 100, \n",
    "                \"Your corpus_tokens has less than 100 articles. Consider using a larger dataset\")"
   ]
  },
  {
   "cell_type": "markdown",
   "metadata": {},
   "source": [
    "### 2.2. Homogeneization\n",
    "\n",
    "By looking at the tokenized corpus you may verify that there are many tokens that correspond to punktuation signs and other symbols that are not relevant to analyze the semantic content. They can be removed using the stemming tool from `nltk`.\n",
    "\n",
    "The homogeneization process will consist of:\n",
    "\n",
    "1. Removing capitalization: capital alphabetic characters will be transformed to their corresponding lowercase characters.\n",
    "2. Removing non alphanumeric tokens (e.g. punktuation signs)\n",
    "3. Stemming/Lemmatization: removing word terminations to preserve the root of the words and ignore grammatical information."
   ]
  },
  {
   "cell_type": "markdown",
   "metadata": {},
   "source": [
    "#### 2.2.1. Filtering\n",
    "\n",
    "Let us proceed with the filtering steps 1 and 2 (removing capitalization and non-alphanumeric tokens)."
   ]
  },
  {
   "cell_type": "markdown",
   "metadata": {},
   "source": [
    "**Task**: Convert all tokens in `corpus_tokens` to lowercase (using `.lower()` method) and remove non alphanumeric tokens (that you can detect with `.isalnum()` method). You can do it in a single line of code..."
   ]
  },
  {
   "cell_type": "code",
   "execution_count": 10,
   "metadata": {
    "collapsed": false
   },
   "outputs": [
    {
     "name": "stdout",
     "output_type": "stream",
     "text": [
      "Filtering article 360 out of 360 \n",
      "Let's check the first tokens from document 0 after filtering:\n",
      "[u'see', u'of', u'topics', u'characterized', u'as', u'pseudoscience', u'pseudoscience', u'consists', u'of', u'claims', u'belief', u's', u'or', u'practices', u'presented', u'as', u'being', u'plausible', u'scientifically', u'but', u'which', u'are', u'not', u'justifiable', u'by', u'the', u'scientific', u'method', u'tag', u'a']\n"
     ]
    }
   ],
   "source": [
    "corpus_filtered = []\n",
    "\n",
    "for n, token_list in enumerate(corpus_tokens):\n",
    "    print \"\\rFiltering article {0} out of {1}\".format(n + 1, n_art),\n",
    "    \n",
    "    # Convert all tokens in token_list to lowercase, remove non alfanumeric tokens and stem.\n",
    "    # Store the result in a new token list, clean_tokens.\n",
    "    # scode: filtered_tokens = <FILL IN>\n",
    "    filtered_tokens = [token.lower() for token in token_list if token.isalnum()]\n",
    "    \n",
    "    # Add art to corpus_filtered\n",
    "    # scode: <FILL IN>\n",
    "    corpus_filtered.append(filtered_tokens)\n",
    "\n",
    "print \"\\nLet's check the first tokens from document 0 after filtering:\"\n",
    "print corpus_filtered[0][0:30]"
   ]
  },
  {
   "cell_type": "code",
   "execution_count": 11,
   "metadata": {
    "collapsed": false,
    "scrolled": false
   },
   "outputs": [
    {
     "name": "stdout",
     "output_type": "stream",
     "text": [
      "1 test passed.\n",
      "1 test passed.\n"
     ]
    }
   ],
   "source": [
    "Test.assertTrue(all([c==c.lower() for c in corpus_filtered[23]]), 'Capital letters have not been removed')\n",
    "Test.assertTrue(all([c.isalnum() for c in corpus_filtered[13]]), 'Non alphanumeric characters have not been removed')"
   ]
  },
  {
   "cell_type": "markdown",
   "metadata": {},
   "source": [
    "#### 2.2.2. Stemming vs Lemmatization\n",
    "\n",
    "At this point, we can choose between applying a simple stemming or ussing lemmatization. We will try both to test their differences."
   ]
  },
  {
   "cell_type": "markdown",
   "metadata": {},
   "source": [
    "**Task**: Apply the `.stem()` method, from the stemmer object created in the first line, to `corpus_filtered`."
   ]
  },
  {
   "cell_type": "code",
   "execution_count": 12,
   "metadata": {
    "collapsed": false
   },
   "outputs": [
    {
     "name": "stdout",
     "output_type": "stream",
     "text": [
      "Stemming article 360 out of 360 \n",
      "Let's check the first tokens from document 0 after stemming:\n",
      "[u'see', u'of', u'topic', u'character', u'as', u'pseudosci', u'pseudosci', u'consist', u'of', u'claim', u'belief', u's', u'or', u'practic', u'present', u'as', u'be', u'plausibl', u'scientif', u'but', u'which', u'are', u'not', u'justifi', u'by', u'the', u'scientif', u'method', u'tag', u'a']\n"
     ]
    }
   ],
   "source": [
    "# Select stemmer.\n",
    "stemmer = nltk.stem.SnowballStemmer('english')\n",
    "corpus_stemmed = []\n",
    "\n",
    "for n, token_list in enumerate(corpus_filtered):\n",
    "    print \"\\rStemming article {0} out of {1}\".format(n + 1, n_art),\n",
    "    \n",
    "    # Convert all tokens in token_list to lowercase, remove non alfanumeric tokens and stem.\n",
    "    # Store the result in a new token list, clean_tokens.\n",
    "    # scode: stemmed_tokens = <FILL IN>\n",
    "    stemmed_tokens = [stemmer.stem(token) for token in token_list]\n",
    "    \n",
    "    # Add art to the stemmed corpus\n",
    "    # scode: <FILL IN>\n",
    "    corpus_stemmed.append(stemmed_tokens)\n",
    "\n",
    "print \"\\nLet's check the first tokens from document 0 after stemming:\"\n",
    "print corpus_stemmed[0][0:30]"
   ]
  },
  {
   "cell_type": "code",
   "execution_count": 13,
   "metadata": {
    "collapsed": false,
    "scrolled": true
   },
   "outputs": [
    {
     "name": "stdout",
     "output_type": "stream",
     "text": [
      "1 test passed.\n"
     ]
    }
   ],
   "source": [
    "Test.assertTrue((len([c for c in corpus_stemmed[0] if c!=stemmer.stem(c)]) < 0.1*len(corpus_stemmed[0])), \n",
    "                'It seems that stemming has not been applied properly')"
   ]
  },
  {
   "cell_type": "markdown",
   "metadata": {},
   "source": [
    "Alternatively, we can apply lemmatization. For english texts, we can use the lemmatizer from NLTK, which is based on [WordNet](http://wordnet.princeton.edu). If you have not used wordnet before, you will likely need to download it from nltk"
   ]
  },
  {
   "cell_type": "code",
   "execution_count": 14,
   "metadata": {
    "collapsed": false
   },
   "outputs": [
    {
     "name": "stdout",
     "output_type": "stream",
     "text": [
      "[nltk_data] Downloading package wordnet to /Users/jcid/nltk_data...\n",
      "[nltk_data]   Package wordnet is already up-to-date!\n"
     ]
    },
    {
     "data": {
      "text/plain": [
       "True"
      ]
     },
     "execution_count": 14,
     "metadata": {},
     "output_type": "execute_result"
    }
   ],
   "source": [
    "# You can comment this if the package is already available.\n",
    "# Select option \"d) Download\", and identifier \"wordnet\"\n",
    "nltk.download(\"wordnet\")"
   ]
  },
  {
   "cell_type": "markdown",
   "metadata": {},
   "source": [
    "**Task**: Apply the `.lemmatize()` method, from the WordNetLemmatizer object created in the first line, to `corpus_filtered`."
   ]
  },
  {
   "cell_type": "code",
   "execution_count": 15,
   "metadata": {
    "collapsed": false,
    "scrolled": true
   },
   "outputs": [
    {
     "name": "stdout",
     "output_type": "stream",
     "text": [
      "Lemmatizing article 360 out of 360 \n",
      "Let's check the first tokens from document 0 after lemmatization:\n",
      "[u'see', u'of', u'topic', u'characterized', u'a', u'pseudoscience', u'pseudoscience', u'consists', u'of', u'claim', u'belief', u's', u'or', u'practice', u'presented', u'a', u'being', u'plausible', u'scientifically', u'but', u'which', u'are', u'not', u'justifiable', u'by', u'the', u'scientific', u'method', u'tag', u'a']\n"
     ]
    }
   ],
   "source": [
    "wnl = WordNetLemmatizer()\n",
    "\n",
    "# Select stemmer.\n",
    "corpus_lemmat = []\n",
    "\n",
    "for n, token_list in enumerate(corpus_filtered):\n",
    "    print \"\\rLemmatizing article {0} out of {1}\".format(n + 1, n_art),\n",
    "    \n",
    "    # scode: lemmat_tokens = <FILL IN>\n",
    "    lemmat_tokens = [wnl.lemmatize(token) for token in token_list]\n",
    "\n",
    "    # Add art to the stemmed corpus\n",
    "    # scode: <FILL IN>\n",
    "    corpus_lemmat.append(lemmat_tokens)\n",
    "\n",
    "print \"\\nLet's check the first tokens from document 0 after lemmatization:\"\n",
    "print corpus_lemmat[0][0:30]"
   ]
  },
  {
   "cell_type": "markdown",
   "metadata": {},
   "source": [
    "One of the advantages of the lemmatizer method is that the result of lemmmatization is still a true word, which is more advisable for the presentation of text processing results and lemmatization.\n",
    "\n",
    "However, without using contextual information, lemmatize() does not remove grammatical differences. This is the reason why \"is\" or \"are\" are preserved and not replaced by infinitive \"be\".\n",
    "\n",
    "As an alternative, we can apply .lemmatize(word, pos), where 'pos' is a string code specifying the part-of-speech (pos), i.e. the grammatical role of the words in its sentence. For instance, you can check the difference between `wnl.lemmatize('is')` and `wnl.lemmatize('is, pos='v')`."
   ]
  },
  {
   "cell_type": "markdown",
   "metadata": {},
   "source": [
    "### 2.3. Cleaning\n",
    "\n",
    "The third step consists of removing those words that are very common in language and do not carry out usefull semantic content (articles, pronouns, etc).\n",
    "\n",
    "Once again, we might need to load the stopword files using the download tools from `nltk`"
   ]
  },
  {
   "cell_type": "code",
   "execution_count": 16,
   "metadata": {
    "collapsed": false
   },
   "outputs": [
    {
     "name": "stdout",
     "output_type": "stream",
     "text": [
      "[nltk_data] Downloading package stopwords to /Users/jcid/nltk_data...\n",
      "[nltk_data]   Package stopwords is already up-to-date!\n"
     ]
    },
    {
     "data": {
      "text/plain": [
       "True"
      ]
     },
     "execution_count": 16,
     "metadata": {},
     "output_type": "execute_result"
    }
   ],
   "source": [
    "# You can comment this if the package is already available.\n",
    "# Select option \"d) Download\", and identifier \"stopwords\"\n",
    "nltk.download(\"stopwords\")"
   ]
  },
  {
   "cell_type": "markdown",
   "metadata": {},
   "source": [
    "** Task**: In the second line below we read a list of common english stopwords. Clean `corpus_stemmed` by removing all tokens in the stopword list."
   ]
  },
  {
   "cell_type": "code",
   "execution_count": 17,
   "metadata": {
    "collapsed": false
   },
   "outputs": [
    {
     "name": "stdout",
     "output_type": "stream",
     "text": [
      "Removing stopwords from article 360 out of 360 \n",
      " Let's check tokens after cleaning:\n",
      "[u'see', u'topic', u'character', u'pseudosci', u'pseudosci', u'consist', u'claim', u'belief', u'practic', u'present', u'plausibl', u'scientif', u'justifi', u'scientif', u'method', u'tag', u'pretend', u'spurious', u'scienc', u'collect', u'relat', u'belief', u'world', u'mistaken', u'regard', u'base', u'scientif', u'method', u'status', u'scientif']\n"
     ]
    }
   ],
   "source": [
    "corpus_clean = []\n",
    "stopwords_en = stopwords.words('english')\n",
    "n = 0\n",
    "for token_list in corpus_stemmed:\n",
    "    n += 1\n",
    "    print \"\\rRemoving stopwords from article {0} out of {1}\".format(n, n_art),\n",
    "\n",
    "    # Remove all tokens in the stopwords list and append the result to corpus_clean\n",
    "    # scode: clean_tokens = <FILL IN>\n",
    "    clean_tokens = [token for token in token_list if token not in stopwords_en]    \n",
    "\n",
    "    # scode: <FILL IN>\n",
    "    corpus_clean.append(clean_tokens)\n",
    "    \n",
    "print \"\\n Let's check tokens after cleaning:\"\n",
    "print corpus_clean[0][0:30]"
   ]
  },
  {
   "cell_type": "code",
   "execution_count": 18,
   "metadata": {
    "collapsed": false
   },
   "outputs": [
    {
     "name": "stdout",
     "output_type": "stream",
     "text": [
      "1 test passed.\n",
      "1 test passed.\n"
     ]
    }
   ],
   "source": [
    "Test.assertTrue(len(corpus_clean) == n_art, 'List corpus_clean does not contain the expected number of articles')\n",
    "Test.assertTrue(len([c for c in corpus_clean[0] if c in stopwords_en])==0, 'Stopwords have not been removed')"
   ]
  },
  {
   "cell_type": "markdown",
   "metadata": {},
   "source": [
    "### 2.4. Vectorization\n",
    "\n",
    "Up to this point, we have transformed the raw text collection of articles in a list of articles, where each article is a collection of the word roots that are most relevant for semantic analysis. Now, we need to convert these data (a list of token lists) into a numerical representation (a list of vectors, or a matrix). To do so, we will start using the tools provided by the `gensim` library. \n",
    "\n",
    "As a first step, we create a dictionary containing all tokens in our text corpus, and assigning an integer identifier to each one of them."
   ]
  },
  {
   "cell_type": "code",
   "execution_count": 19,
   "metadata": {
    "collapsed": false
   },
   "outputs": [
    {
     "name": "stdout",
     "output_type": "stream",
     "text": [
      "The dictionary contains 33667 tokens\n",
      "First tokens in the dictionary: \n",
      "0: divers\n",
      "1: demand\n",
      "2: four\n",
      "3: edward\n",
      "4: testabl\n",
      "5: 20good\n",
      "6: everi\n",
      "7: risk\n",
      "8: voic\n",
      "9: distort\n"
     ]
    }
   ],
   "source": [
    "# Create dictionary of tokens\n",
    "D = gensim.corpora.Dictionary(corpus_clean)\n",
    "n_tokens = len(D)\n",
    "\n",
    "print \"The dictionary contains {0} tokens\".format(n_tokens)\n",
    "print \"First tokens in the dictionary: \"\n",
    "for n in range(10):\n",
    "    print str(n) + \": \" + D[n]"
   ]
  },
  {
   "cell_type": "markdown",
   "metadata": {},
   "source": [
    "In the second step, let us create a numerical version of our corpus using the `doc2bow` method. In general, `D.doc2bow(token_list)` transform any list of tokens into a list of tuples `(token_id, n)`, one per each token in `token_list`, where `token_id` is the token identifier (according to dictionary `D`) and `n` is the number of occurrences of such token in `token_list`."
   ]
  },
  {
   "cell_type": "markdown",
   "metadata": {},
   "source": [
    "** Task**: Apply the `doc2bow` method from gensim dictionary `D`, to all tokens in every article in `corpus_clean`. The result must be a new list named `corpus_bow` where each element is a list of tuples `(token_id, number_of_occurrences)`."
   ]
  },
  {
   "cell_type": "code",
   "execution_count": 20,
   "metadata": {
    "collapsed": false
   },
   "outputs": [],
   "source": [
    "# Transform token lists into sparse vectors on the D-space\n",
    "# scode: corpus_bow = <FILL IN>\n",
    "corpus_bow = [D.doc2bow(doc) for doc in corpus_clean]"
   ]
  },
  {
   "cell_type": "code",
   "execution_count": 21,
   "metadata": {
    "collapsed": false
   },
   "outputs": [
    {
     "name": "stdout",
     "output_type": "stream",
     "text": [
      "1 test passed.\n"
     ]
    }
   ],
   "source": [
    "Test.assertTrue(len(corpus_bow)==n_art, 'corpus_bow has not the appropriate size') "
   ]
  },
  {
   "cell_type": "markdown",
   "metadata": {},
   "source": [
    "At this point, it is good to make sure to understand what has happened. In `corpus_clean` we had a list of token lists. With it, we have constructed a Dictionary, `D`, which assign an integer identifier to each token in the corpus.\n",
    "After that, we have transformed each article (in `corpus_clean`) in a list tuples `(id, n)`."
   ]
  },
  {
   "cell_type": "code",
   "execution_count": 22,
   "metadata": {
    "collapsed": false
   },
   "outputs": [
    {
     "name": "stdout",
     "output_type": "stream",
     "text": [
      "Original article (after cleaning): \n",
      "[u'see', u'topic', u'character', u'pseudosci', u'pseudosci', u'consist', u'claim', u'belief', u'practic', u'present', u'plausibl', u'scientif', u'justifi', u'scientif', u'method', u'tag', u'pretend', u'spurious', u'scienc', u'collect', u'relat', u'belief', u'world', u'mistaken', u'regard', u'base', u'scientif', u'method', u'status', u'scientif']\n",
      "Sparse vector representation (first 30 components):\n",
      "[(0, 1), (1, 1), (2, 1), (3, 1), (4, 2), (5, 1), (6, 1), (7, 2), (8, 1), (9, 3), (10, 1), (11, 3), (12, 1), (13, 1), (14, 2), (15, 1), (16, 4), (17, 1), (18, 147), (19, 1), (20, 1), (21, 2), (22, 1), (23, 1), (24, 1), (25, 1), (26, 5), (27, 19), (28, 2), (29, 1)]\n",
      "The first component, (0, 1) from document 0, states that token 0 (divers) appears 1 times\n"
     ]
    }
   ],
   "source": [
    "print \"Original article (after cleaning): \"\n",
    "print corpus_clean[0][0:30]\n",
    "print \"Sparse vector representation (first 30 components):\"\n",
    "print corpus_bow[0][0:30]\n",
    "print \"The first component, {0} from document 0, states that token 0 ({1}) appears {2} times\".format(\n",
    "    corpus_bow[0][0], D[0], corpus_bow[0][0][1])"
   ]
  },
  {
   "cell_type": "markdown",
   "metadata": {},
   "source": [
    "Note that we can interpret each element of corpus_bow as a `sparse_vector`. For example, a list of tuples \n",
    "\n",
    "    [(0, 1), (3, 3), (5,2)] \n",
    "\n",
    "for a dictionary of 10 elements can be represented as a vector, where any tuple `(id, n)` states that position `id` must take value `n`. The rest of positions must be zero.\n",
    "\n",
    "    [1, 0, 0, 3, 0, 2, 0, 0, 0, 0]\n",
    "\n",
    "These sparse vectors will be the inputs to the topic modeling algorithms.\n",
    "\n",
    "Note that, at this point, we have built a Dictionary containing"
   ]
  },
  {
   "cell_type": "code",
   "execution_count": 23,
   "metadata": {
    "collapsed": false
   },
   "outputs": [
    {
     "name": "stdout",
     "output_type": "stream",
     "text": [
      "33667 tokens\n"
     ]
    }
   ],
   "source": [
    "print \"{0} tokens\".format(len(D))"
   ]
  },
  {
   "cell_type": "markdown",
   "metadata": {},
   "source": [
    "and a bow representation of a corpus with"
   ]
  },
  {
   "cell_type": "code",
   "execution_count": 24,
   "metadata": {
    "collapsed": false
   },
   "outputs": [
    {
     "name": "stdout",
     "output_type": "stream",
     "text": [
      "360 Wikipedia articles\n"
     ]
    }
   ],
   "source": [
    "print \"{0} Wikipedia articles\".format(len(corpus_bow))"
   ]
  },
  {
   "cell_type": "markdown",
   "metadata": {},
   "source": [
    "Before starting with the semantic analyisis, it is interesting to observe the token distribution for the given corpus."
   ]
  },
  {
   "cell_type": "code",
   "execution_count": 25,
   "metadata": {
    "collapsed": false
   },
   "outputs": [],
   "source": [
    "# SORTED TOKEN FREQUENCIES (I):\n",
    "# Create a \"flat\" corpus with all tuples in a single list\n",
    "corpus_bow_flat = [item for sublist in corpus_bow for item in sublist]\n",
    "\n",
    "# Initialize a numpy array that we will use to count tokens.\n",
    "# token_count[n] should store the number of ocurrences of the n-th token, D[n]\n",
    "token_count = np.zeros(n_tokens)\n",
    "\n",
    "# Count the number of occurrences of each token.\n",
    "for x in corpus_bow_flat:\n",
    "    # Update the proper element in token_count\n",
    "    # scode: <FILL IN>\n",
    "    token_count[x[0]] += x[1]\n",
    "\n",
    "# Sort by decreasing number of occurences\n",
    "ids_sorted = np.argsort(- token_count)\n",
    "tf_sorted = token_count[ids_sorted]"
   ]
  },
  {
   "cell_type": "markdown",
   "metadata": {},
   "source": [
    "`ids_sorted` is a list of all token ids, sorted by decreasing number of occurrences in the whole corpus. For instance, the most frequent term is"
   ]
  },
  {
   "cell_type": "code",
   "execution_count": 26,
   "metadata": {
    "collapsed": false
   },
   "outputs": [
    {
     "name": "stdout",
     "output_type": "stream",
     "text": [
      "ref\n"
     ]
    }
   ],
   "source": [
    "print D[ids_sorted[0]]"
   ]
  },
  {
   "cell_type": "markdown",
   "metadata": {},
   "source": [
    "which appears"
   ]
  },
  {
   "cell_type": "code",
   "execution_count": 27,
   "metadata": {
    "collapsed": false
   },
   "outputs": [
    {
     "name": "stdout",
     "output_type": "stream",
     "text": [
      "16811.0 times in the whole corpus\n"
     ]
    }
   ],
   "source": [
    "print \"{0} times in the whole corpus\".format(tf_sorted[0])"
   ]
  },
  {
   "cell_type": "markdown",
   "metadata": {},
   "source": [
    "In the following we plot the most frequent terms in the corpus."
   ]
  },
  {
   "cell_type": "code",
   "execution_count": 28,
   "metadata": {
    "collapsed": false
   },
   "outputs": [
    {
     "data": {
      "image/png": "[encoded data removed]",
      "text/plain": [
       "<matplotlib.figure.Figure at 0x10a25cb10>"
      ]
     },
     "metadata": {},
     "output_type": "display_data"
    },
    {
     "ename": "NameError",
     "evalue": "name 'display' is not defined",
     "output_type": "error",
     "traceback": [
      "\u001b[0;31m---------------------------------------------------------------------------\u001b[0m",
      "\u001b[0;31mNameError\u001b[0m                                 Traceback (most recent call last)",
      "\u001b[0;32m<ipython-input-28-6a94d1e585af>\u001b[0m in \u001b[0;36m<module>\u001b[0;34m()\u001b[0m\n\u001b[1;32m     13\u001b[0m \u001b[0mplt\u001b[0m\u001b[0;34m.\u001b[0m\u001b[0mtitle\u001b[0m\u001b[0;34m(\u001b[0m\u001b[0;34m'Token distribution'\u001b[0m\u001b[0;34m)\u001b[0m\u001b[0;34m\u001b[0m\u001b[0m\n\u001b[1;32m     14\u001b[0m \u001b[0mplt\u001b[0m\u001b[0;34m.\u001b[0m\u001b[0mshow\u001b[0m\u001b[0;34m(\u001b[0m\u001b[0;34m)\u001b[0m\u001b[0;34m\u001b[0m\u001b[0m\n\u001b[0;32m---> 15\u001b[0;31m \u001b[0mdisplay\u001b[0m\u001b[0;34m(\u001b[0m\u001b[0;34m)\u001b[0m\u001b[0;34m\u001b[0m\u001b[0m\n\u001b[0m",
      "\u001b[0;31mNameError\u001b[0m: name 'display' is not defined"
     ]
    }
   ],
   "source": [
    "# SORTED TOKEN FREQUENCIES (II):\n",
    "plt.rcdefaults()\n",
    "\n",
    "# Example data\n",
    "n_bins = 25\n",
    "hot_tokens = [D[i] for i in ids_sorted[n_bins-1::-1]]\n",
    "y_pos = np.arange(len(hot_tokens))\n",
    "z = tf_sorted[n_bins-1::-1]/n_art\n",
    "\n",
    "plt.barh(y_pos, z, align='center', alpha=0.4)\n",
    "plt.yticks(y_pos, hot_tokens)\n",
    "plt.xlabel('Average number of occurrences per article')\n",
    "plt.title('Token distribution')\n",
    "plt.show()\n",
    "display()"
   ]
  },
  {
   "cell_type": "code",
   "execution_count": 55,
   "metadata": {
    "collapsed": false,
    "scrolled": true
   },
   "outputs": [],
   "source": [
    "# SORTED TOKEN FREQUENCIES:\n",
    "\n",
    "# Example data\n",
    "plt.semilogy(tf_sorted)\n",
    "plt.ylabel('Total number of occurrences')\n",
    "plt.xlabel('Token rank')\n",
    "plt.title('Token occurrences')\n",
    "plt.show()\n",
    "display()"
   ]
  },
  {
   "cell_type": "markdown",
   "metadata": {},
   "source": [
    "** Exercise**: There are usually many tokens that appear with very low frequency in the corpus. Count the number of tokens appearing only once, and what is the proportion of them in the token list."
   ]
  },
  {
   "cell_type": "code",
   "execution_count": 57,
   "metadata": {
    "collapsed": false
   },
   "outputs": [],
   "source": [
    "# scode: <WRITE YOUR CODE HERE>\n",
    "# Example data\n",
    "cold_tokens = [D[i] for i in ids_sorted if tf_sorted[i]==1]\n",
    "\n",
    "print \"There are {0} cold tokens, which represent {1}% of the total number of tokens in the dictionary\".format(\n",
    "    len(cold_tokens), float(len(cold_tokens))/n_tokens*100)"
   ]
  },
  {
   "cell_type": "markdown",
   "metadata": {},
   "source": [
    "** Exercise**: Represent graphically those 20 tokens that appear in the highest number of articles. Note that you can use the code above (headed by `# SORTED TOKEN FREQUENCIES`) with a very minor modification."
   ]
  },
  {
   "cell_type": "code",
   "execution_count": 59,
   "metadata": {
    "collapsed": false
   },
   "outputs": [],
   "source": [
    "# scode: <WRITE YOUR CODE HERE>\n",
    "\n",
    "# SORTED TOKEN FREQUENCIES (I):\n",
    "# Count the number of occurrences of each token.\n",
    "token_count2 = np.zeros(n_tokens)\n",
    "for x in corpus_bow_flat:\n",
    "    token_count2[x[0]] += (x[1]>0)\n",
    "\n",
    "# Sort by decreasing number of occurences\n",
    "ids_sorted2 = np.argsort(- token_count2)\n",
    "tf_sorted2 = token_count2[ids_sorted2]\n",
    "\n",
    "# SORTED TOKEN FREQUENCIES (II):\n",
    "# Example data\n",
    "n_bins = 25\n",
    "hot_tokens2 = [D[i] for i in ids_sorted2[n_bins-1::-1]]\n",
    "y_pos2 = np.arange(len(hot_tokens2))\n",
    "z2 = tf_sorted2[n_bins-1::-1]/n_art\n",
    "\n",
    "plt.figure()\n",
    "plt.barh(y_pos2, z2, align='center', alpha=0.4)\n",
    "plt.yticks(y_pos2, hot_tokens2)\n",
    "plt.xlabel('Number of articles')\n",
    "plt.title('Token distribution')\n",
    "plt.show()\n",
    "display()\n"
   ]
  },
  {
   "cell_type": "markdown",
   "metadata": {},
   "source": [
    "** Exercise**: Count the number of tokens appearing only in a single article."
   ]
  },
  {
   "cell_type": "code",
   "execution_count": 61,
   "metadata": {
    "collapsed": true
   },
   "outputs": [],
   "source": [
    "# scode: <WRITE YOUR CODE HERE>"
   ]
  },
  {
   "cell_type": "markdown",
   "metadata": {},
   "source": [
    "** Exercise** (*All in one*): Note that, for pedagogical reasons, we have used a different `for` loop for each text processing step creating a new `corpus_xxx` variable after each step. For very large corpus, this could cause memory problems. \n",
    "\n",
    "As a summary exercise, repeat the whole text processing, starting from corpus_text up to computing the bow, with the following modifications:\n",
    "\n",
    "1. Use a single `for` loop, avoiding the creation of any intermediate corpus variables.\n",
    "2. Use lemmatization instead of stemming.\n",
    "3. Remove all tokens appearing in only one document and less than 2 times.\n",
    "4. Save the result in a new variable `corpus_bow1`."
   ]
  },
  {
   "cell_type": "code",
   "execution_count": 63,
   "metadata": {
    "collapsed": true
   },
   "outputs": [],
   "source": [
    "# scode: <WRITE YOUR CODE HERE>"
   ]
  },
  {
   "cell_type": "markdown",
   "metadata": {},
   "source": [
    "** Exercise** (*Visualizing categories*): Repeat the previous exercise with a second wikipedia category. For instance, you can take \"communication\". \n",
    "\n",
    "1. Save the result in variable `corpus_bow2`.\n",
    "2. Determine the most frequent terms in `corpus_bow1` (`term1`) and `corpus_bow2` (`term2`).\n",
    "3. Transform each article in `corpus_bow1` and `corpus_bow2` into a 2 dimensional vector, where the first component is the frecuency of `term1` and the second component is the frequency of `term2`\n",
    "4. Draw a dispersion plot of all 2 dimensional points, using a different marker for each corpus. Could you differentiate both corpora using the selected terms only? What if the 2nd most frequent term is used?"
   ]
  },
  {
   "cell_type": "code",
   "execution_count": 65,
   "metadata": {
    "collapsed": true
   },
   "outputs": [],
   "source": [
    "# scode: <WRITE YOUR CODE HERE>"
   ]
  },
  {
   "cell_type": "markdown",
   "metadata": {},
   "source": [
    "** Exercise ** (bigrams): `nltk` provides an utility to compute n-grams from a list of tokens, in `nltk.util.ngrams`. Join all tokens in `corpus_clean` in a single list and compute the bigrams. Plot the 20 most frequent bigrams in the corpus."
   ]
  },
  {
   "cell_type": "code",
   "execution_count": 67,
   "metadata": {
    "collapsed": true
   },
   "outputs": [],
   "source": [
    "# scode: <WRITE YOUR CODE HERE>\n",
    "# Check the code below to see how ngrams works, and adapt it to solve the exercise.\n",
    "# from nltk.util import ngrams\n",
    "# sentence = 'this is a foo bar sentences and i want to ngramize it'\n",
    "# sixgrams = ngrams(sentence.split(), 2)\n",
    "# for grams in sixgrams:\n",
    "#     print grams\n"
   ]
  },
  {
   "cell_type": "code",
   "execution_count": 68,
   "metadata": {
    "collapsed": true
   },
   "outputs": [],
   "source": []
  }
 ],
 "metadata": {
  "anaconda-cloud": {},
  "celltoolbar": "Slideshow",
  "kernelspec": {
   "display_name": "Python [default]",
   "language": "python",
   "name": "python2"
  },
  "language_info": {
   "codemirror_mode": {
    "name": "ipython",
    "version": 2
   },
   "file_extension": ".py",
   "mimetype": "text/x-python",
   "name": "python",
   "nbconvert_exporter": "python",
   "pygments_lexer": "ipython2",
   "version": "2.7.13"
  },
  "name": "TM1_NLP",
  "notebookId": 1977758087313894
 },
 "nbformat": 4,
 "nbformat_minor": 0
}
