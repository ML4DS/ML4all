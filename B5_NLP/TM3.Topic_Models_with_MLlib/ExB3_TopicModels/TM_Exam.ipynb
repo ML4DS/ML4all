{
 "cells": [
  {
   "cell_type": "markdown",
   "metadata": {},
   "source": [
    "### Master Telefónica Big Data & Analytics\n",
    "# **Prueba de Evaluación del  Tema 4:** \n",
    "## **Topic Modelling.**\n",
    "Date: 2016/04/10"
   ]
  },
  {
   "cell_type": "markdown",
   "metadata": {},
   "source": [
    "Para realizar esta prueba es necesario tener actualizada la máquina virtual con la versión más reciente de MLlib.\n",
    "\n",
    "Para la actualización, debe seguir los pasos que se indican a continuación:"
   ]
  },
  {
   "cell_type": "markdown",
   "metadata": {},
   "source": [
    "### Pasos para actualizar MLlib:\n",
    "\n",
    "1. Entrar en la vm como root:\n",
    "\n",
    "    `vagrant ssh`\n",
    "\n",
    "    `sudo bash` \n",
    "\n",
    "    Ir a `/usr/local/bin`\n",
    "\n",
    "2. Descargar la última versión de spark desde la vm mediante \n",
    "\n",
    "    `wget http://www-eu.apache.org/dist/spark/spark-1.6.1/spark-1.6.1-bin-hadoop2.6.tgz`\n",
    "\n",
    "3. Desempaquetar: \n",
    "\n",
    "    `tar xvf spark-1.6.1-bin-hadoop2.6.tgz` (y borrar el tgz)\n",
    "\n",
    "4. Lo siguiente es un parche, pero suficiente para que funcione:\n",
    "\n",
    "    Guardar copia de `spark-1.3: mv spark-1.3.1-bin-hadoop2.6/ spark-1.3.1-bin-hadoop2.6_old`\n",
    "\n",
    "    Crear enlace a `spark-1.6: ln -s spark-1.6.1-bin-hadoop2.6/ spark-1.3.1-bin-hadoop2.6`\n"
   ]
  },
  {
   "cell_type": "markdown",
   "metadata": {},
   "source": [
    "## Librerías\n",
    "\n",
    "Puede utilizar este espacio para importar todas las librerías que necesite para realizar el examen."
   ]
  },
  {
   "cell_type": "code",
   "execution_count": null,
   "metadata": {
    "collapsed": false
   },
   "outputs": [],
   "source": []
  },
  {
   "cell_type": "markdown",
   "metadata": {},
   "source": [
    "## 0. Adquisición de un corpus.\n",
    "\n",
    "Descargue el contenido del corpus `reuters` de `nltk`.\n",
    "\n",
    "    import nltk\n",
    "    nltk.download()\n",
    "\n",
    "Selecciona el identificador `reuters`."
   ]
  },
  {
   "cell_type": "code",
   "execution_count": null,
   "metadata": {
    "collapsed": false
   },
   "outputs": [],
   "source": [
    "#nltk.download()\n",
    "mycorpus = nltk.corpus.reuters"
   ]
  },
  {
   "cell_type": "markdown",
   "metadata": {},
   "source": [
    "Para evitar problemas de sobrecarga de memoria, o de tiempo de procesado, puede reducir el tamaño el corpus, modificando el valor de la variable n_docs a continuación."
   ]
  },
  {
   "cell_type": "code",
   "execution_count": null,
   "metadata": {
    "collapsed": false
   },
   "outputs": [],
   "source": [
    "n_docs = 500000\n",
    "\n",
    "filenames = mycorpus.fileids()\n",
    "fn_train = [f for f in filenames if f[0:5]=='train']\n",
    "\n",
    "corpus_text = [mycorpus.raw(f) for f in fn_train]\n",
    "\n",
    "# Reduced dataset:\n",
    "n_docs = min(n_docs, len(corpus_text))\n",
    "corpus_text = [corpus_text[n] for n in range(n_docs)]\n",
    "\n",
    "print 'Loaded {0} files'.format(len(corpus_text))"
   ]
  },
  {
   "cell_type": "markdown",
   "metadata": {},
   "source": [
    "A continuación cargaremos los datos en un RDD"
   ]
  },
  {
   "cell_type": "code",
   "execution_count": null,
   "metadata": {
    "collapsed": false
   },
   "outputs": [],
   "source": [
    "corpusRDD = sc.parallelize(corpus_text, 4)\n",
    "print \"\\nRDD created with {0} elements\".format(corpusRDD.count())"
   ]
  },
  {
   "cell_type": "markdown",
   "metadata": {},
   "source": [
    "## 1. Ejercicios"
   ]
  },
  {
   "cell_type": "markdown",
   "metadata": {},
   "source": [
    "#### **Ejercicio 1**: (0.6 ptos) Preprocesamiento de datos.\n",
    "\n",
    "Prepare los datos para aplicar un algoritmo de modelado de tópicos en `pyspark`. Para ello, aplique los pasos siguientes:\n",
    "\n",
    "1. *Tokenización*: convierta cada texto a utf-8, y transforme la cadena en una lista de tokens.\n",
    "2. Homogeneización: pase todas las palabras a minúsculas y elimine todos los tokens no alfanuméricos.\n",
    "3. Limpieza: Elimine todas las stopwords utilizando el fichero de stopwords disponible en NLTK para el idioma inglés.\n",
    "\n",
    "Guarde el resultado en la variable `corpus_tokensRDD`"
   ]
  },
  {
   "cell_type": "code",
   "execution_count": null,
   "metadata": {
    "collapsed": false
   },
   "outputs": [],
   "source": []
  },
  {
   "cell_type": "markdown",
   "metadata": {},
   "source": [
    "#### **Ejercicio 2**:  (0.6 ptos) Stemming\n",
    "\n",
    "Aplique un procedimiento de *stemming* al corpus, utilizando el `SnowballStemmer` de NLTK. Guarde el resultado en `corpus_stemRDD`."
   ]
  },
  {
   "cell_type": "code",
   "execution_count": null,
   "metadata": {
    "collapsed": false
   },
   "outputs": [],
   "source": []
  },
  {
   "cell_type": "markdown",
   "metadata": {},
   "source": [
    "#### **Ejercicio 3**:  (0.6 ptos) Vectorización\n",
    "\n",
    "En este punto cada documento del corpus es una lista de tokens. \n",
    "\n",
    "Calcule un nuevo RDD que contenga, para cada documento, una lista de tuplas. La clave (*key*) de cada lista será un token y su valor el número de repeticiones del mismo en el documento. \n",
    "\n",
    "Imprima una muestra de 20 tuplas uno de los documentos del corpus."
   ]
  },
  {
   "cell_type": "code",
   "execution_count": null,
   "metadata": {
    "collapsed": false
   },
   "outputs": [],
   "source": []
  },
  {
   "cell_type": "markdown",
   "metadata": {},
   "source": [
    "#### **Ejercicio 4**:  (0.8 ptos) Cálculo del diccionario de tokens\n",
    "\n",
    "Construya, a partir de `corpus_wcRDD`, un nuevo diccionario con todos los tokens del corpus. El resultado será un diccionario python de nombre `wcDict`, cuyas entradas serán los tokens y sus valores el número de repeticiones del token en todo el corpus.\n",
    "\n",
    "   `wcDict = {token1: valor1, token2, valor2, ...}`\n",
    "   \n",
    "Imprima el número de repeticiones del token `interpret`"
   ]
  },
  {
   "cell_type": "code",
   "execution_count": null,
   "metadata": {
    "collapsed": false,
    "scrolled": true
   },
   "outputs": [],
   "source": []
  },
  {
   "cell_type": "markdown",
   "metadata": {},
   "source": [
    "#### **Ejercicio 5**:  (0.6 ptos) Número de tokens.\n",
    "\n",
    "Determine el número total de tokens en el diccionario. Imprima el resultado."
   ]
  },
  {
   "cell_type": "code",
   "execution_count": null,
   "metadata": {
    "collapsed": false
   },
   "outputs": [],
   "source": []
  },
  {
   "cell_type": "markdown",
   "metadata": {},
   "source": [
    "#### **Ejercicio 6**:  (0.8 ptos) Términos demasiado frecuentes: \n",
    "\n",
    "Determine los 5 tokens más frecuentes del corpus. Imprima el resultado."
   ]
  },
  {
   "cell_type": "code",
   "execution_count": null,
   "metadata": {
    "collapsed": false
   },
   "outputs": [],
   "source": []
  },
  {
   "cell_type": "markdown",
   "metadata": {},
   "source": [
    "#### **Ejercicio 7**:  (0.8 ptos) Número de documentos del token más frecuente.\n",
    "\n",
    "Determine en qué porcentaje de documentos aparece el token más frecuente.\n"
   ]
  },
  {
   "cell_type": "code",
   "execution_count": null,
   "metadata": {
    "collapsed": false
   },
   "outputs": [],
   "source": []
  },
  {
   "cell_type": "markdown",
   "metadata": {},
   "source": [
    "#### **Ejercicio 8**:  (1 ptos) Filtrado de términos.\n",
    "\n",
    "Elimine del corpus los dós términos más frecuentes. Guarde el resultado en un nuevo RDD denominado corpus_wcRDD2, con la misma estructura que corpus_wcRDD (es decir, cada documento una lista de tuplas)."
   ]
  },
  {
   "cell_type": "code",
   "execution_count": null,
   "metadata": {
    "collapsed": false
   },
   "outputs": [],
   "source": []
  },
  {
   "cell_type": "markdown",
   "metadata": {},
   "source": [
    "#### **Ejercicio 9**:  (0.8 ptos) Lista de tokens y diccionario inverso.\n",
    "\n",
    "Determine la lista de topicos de todo el corpus, y construya un dictionario inverso, `invD`, cuyas entradas sean cada uno de los tokens, y sus salidas los números consecutivos de 0 al número total de tokens, es decir\n",
    "\n",
    "    invD = {token0: 0, token1: 1, token2: 2, ...}"
   ]
  },
  {
   "cell_type": "code",
   "execution_count": null,
   "metadata": {
    "collapsed": false
   },
   "outputs": [],
   "source": []
  },
  {
   "cell_type": "markdown",
   "metadata": {},
   "source": [
    "#### **Ejercicio 10**:  (0.6 ptos) Algoritmo LDA.\n",
    "\n",
    "Para aplicar el algoritmo LDA, es necesario reemplazar las tuplas `(token, valor)` de `wcRDD` por tuplas del tipo `(token_id, value)`, sustituyendo cada token por un identificador entero.\n",
    "\n",
    "El código siguiente se encarga de completar este proceso:"
   ]
  },
  {
   "cell_type": "code",
   "execution_count": null,
   "metadata": {
    "collapsed": false,
    "scrolled": false
   },
   "outputs": [],
   "source": [
    "# Compute RDD replacing tokens by token_ids\n",
    "corpus_sparseRDD = corpus_wcRDD2.map(lambda x: [(invD[t[0]], t[1]) for t in x])\n",
    "\n",
    "# Convert list of tuplas into Vectors.sparse object.\n",
    "corpus_sparseRDD = corpus_sparseRDD.map(lambda x: Vectors.sparse(n_tokens, x))\n",
    "corpus4lda = corpus_sparseRDD.zipWithIndex().map(lambda x: [x[1], x[0]]).cache()"
   ]
  },
  {
   "cell_type": "markdown",
   "metadata": {},
   "source": [
    "Aplique el algoritmo LDA con 4 tópicos sobre el corpus obtenido en `corpus4lda`, para un valor de `topicConcentration = 2.0` y `docConcentration = 3.0`. (Tenga en cuenta que estos parámetros de entrada deben de ser tipo float)."
   ]
  },
  {
   "cell_type": "code",
   "execution_count": null,
   "metadata": {
    "collapsed": false,
    "scrolled": true
   },
   "outputs": [],
   "source": []
  },
  {
   "cell_type": "markdown",
   "metadata": {},
   "source": [
    "#### **Ejercicio 11**:  (0.8 ptos) Tokens principales.\n",
    "\n",
    "Imprima los dos tokens de mayor peso de cada tópico. (Debe imprimir el texto del token, no su índice). "
   ]
  },
  {
   "cell_type": "code",
   "execution_count": null,
   "metadata": {
    "collapsed": false,
    "scrolled": true
   },
   "outputs": [],
   "source": []
  },
  {
   "cell_type": "markdown",
   "metadata": {
    "collapsed": true
   },
   "source": [
    "#### **Ejercicio 12**:  (0.8 ptos) Pesos de un token.\n",
    "\n",
    "Imprima el peso del token `bank` en cada tópico."
   ]
  },
  {
   "cell_type": "code",
   "execution_count": null,
   "metadata": {
    "collapsed": false,
    "scrolled": false
   },
   "outputs": [],
   "source": []
  },
  {
   "cell_type": "markdown",
   "metadata": {},
   "source": [
    "#### **Test 13**:  (0.6 ptos) Indique cuáles de las siguientes afirmaciones se puede asegurar que son verdaderas:\n",
    "\n",
    "1. En LSI, cada documento se asigna a un sólo tópico.\n",
    "2. De acuerdo con el modelo LDA, todos los tokens de un documento han sido generados por el mismo tópico\n",
    "3. LSI descompone la matriz de datos de entrada en el producto de 3 matrices cuadradas.\n",
    "4. Si el rango de la matriz de entrada a un modelo LSI es igual al número de tópicos. La descomposición SVD del modelo LSI es exacta (no es una aproximación).\n"
   ]
  },
  {
   "cell_type": "code",
   "execution_count": null,
   "metadata": {
    "collapsed": true
   },
   "outputs": [],
   "source": []
  },
  {
   "cell_type": "markdown",
   "metadata": {},
   "source": [
    "#### **Test 14**: (0.6 ptos) Indique cuáles de las siguientes afirmaciones se puede asegurar que son verdaderas:\n",
    "\n",
    "1. En un modelo LDA, la distribución de Dirichlet se utiliza para generar distribuciones de probabilidad de tokens.\n",
    "2. Si una palabra aparece en pocos documentos del corpus, su IDF es mayor.\n",
    "3. El resultado de la lematización de una palabra es una palabra\n",
    "4. El resultado del stemming de una palabra es una palabra\n"
   ]
  },
  {
   "cell_type": "code",
   "execution_count": null,
   "metadata": {
    "collapsed": true
   },
   "outputs": [],
   "source": []
  }
 ],
 "metadata": {
  "kernelspec": {
   "display_name": "Python 2",
   "language": "python",
   "name": "python2"
  },
  "language_info": {
   "codemirror_mode": {
    "name": "ipython",
    "version": 2
   },
   "file_extension": ".py",
   "mimetype": "text/x-python",
   "name": "python",
   "nbconvert_exporter": "python",
   "pygments_lexer": "ipython2",
   "version": "2.7.6"
  }
 },
 "nbformat": 4,
 "nbformat_minor": 0
}
