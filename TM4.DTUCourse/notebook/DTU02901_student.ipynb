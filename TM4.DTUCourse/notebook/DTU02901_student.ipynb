{
 "cells": [
  {
   "cell_type": "markdown",
   "metadata": {},
   "source": [
    "# Exploring and undertanding documental databases with topic models and graph analysis\n",
    "\n",
    "## Exercise notebook\n",
    "\n",
    "Version 1.0\n",
    "\n",
    "Date: Aug 31, 2017\n",
    "\n",
    "Authors: \n",
    "\n",
    "   * Jerónimo Arenas-García (jeronimo.arenas@uc3m.es)\n",
    "   * Jesús Cid-Sueiro (jcid@tsc.uc3m.es)"
   ]
  },
  {
   "cell_type": "code",
   "execution_count": null,
   "metadata": {},
   "outputs": [],
   "source": [
    "# Common imports \n",
    "\n",
    "import numpy as np\n",
    "# import pandas as pd\n",
    "# import os\n",
    "from os.path import isfile, join\n",
    "# import scipy.io as sio\n",
    "# import scipy\n",
    "import zipfile as zp\n",
    "# import shutil\n",
    "# import difflib"
   ]
  },
  {
   "cell_type": "markdown",
   "metadata": {},
   "source": [
    "## 1. Corpus acquisition\n",
    "\n",
    "In this block we will work with collections of text documents. The objectives will be:\n",
    "\n",
    "   * Find the most important topics in the collection and assign documents to topics\n",
    "   * Analyze the structure of the collection by means of graph analysis\n",
    "   \n",
    "We will work with a collection of research projects funded by the US National Science Foundation, that you can find under the `./data` directory. These files are publicly available from the NSF website.\n",
    "\n",
    "(*As a side note, there are many other available text collections to work with. In particular, the NLTK library has many examples, that you can explore using the `nltk.download()` tool*.\n",
    "\n",
    "    import nltk\n",
    "    nltk.download()\n",
    "\n",
    "*for instance, you can take the gutemberg dataset*\n",
    "\n",
    "    Mycorpus = nltk.corpus.gutenberg\n",
    "    text_name = Mycorpus.fileids()[0]\n",
    "    raw = Mycorpus.raw(text_name)\n",
    "    Words = Mycorpus.words(text_name)\n",
    "\n",
    "*Also, tools like Gensim or Sci-kit learn include text databases to work with*).\n"
   ]
  },
  {
   "cell_type": "markdown",
   "metadata": {},
   "source": [
    "## 1.1. Exploring file structure\n",
    "\n",
    "NSF project information is provided in XML files. Projects are yearly grouped in `.zip` files, and each project is saved in a different XML file. To explore the structure of such files, we will use the file `160057.xml`. Parsing XML files in python is rather easy using the `ElementTree` module. \n",
    "\n",
    "To introduce some common functions to work with XML files we will follow <a href=http://docs.python.org/3.4/library/xml.etree.elementtree.html#module-xml.etree.ElementTree>this tutorial</a>."
   ]
  },
  {
   "cell_type": "markdown",
   "metadata": {},
   "source": [
    "### 1.1.1. File format\n",
    "\n",
    "To start with, you can have a look at the contents of the example file. We are interested on the following information of each project:\n",
    "\n",
    "   * Project identifier\n",
    "   * Project Title\n",
    "   * Project Abstract\n",
    "   * Budget\n",
    "   * Starting Year (we will ignore project duration)\n",
    "   * Institution (name, zipcode, and state)"
   ]
  },
  {
   "cell_type": "code",
   "execution_count": null,
   "metadata": {},
   "outputs": [],
   "source": [
    "xmlfile = '../data/1600057.xml'\n",
    "\n",
    "with open(xmlfile,'r') as fin:\n",
    "    \n",
    "    print(fin.read())"
   ]
  },
  {
   "cell_type": "markdown",
   "metadata": {},
   "source": [
    "### 1.1.2. Parsing XML\n",
    "\n",
    "XML is an inherently hierarchical data format, and the most natural way to represent it is with a tree. The `ElementTree` module has two classes for this purpose:\n",
    "\n",
    "   * `ElementTree` represents the whole XML document as a tree\n",
    "   * `Element` represents a single node in this tree\n",
    "\n",
    "We can import XLM data by reading an XML file:"
   ]
  },
  {
   "cell_type": "code",
   "execution_count": null,
   "metadata": {},
   "outputs": [],
   "source": [
    "import xml.etree.ElementTree as ET\n",
    "tree = ET.parse(xmlfile)\n",
    "root = tree.getroot"
   ]
  },
  {
   "cell_type": "markdown",
   "metadata": {},
   "source": [
    "or directly reading a string:"
   ]
  },
  {
   "cell_type": "code",
   "execution_count": null,
   "metadata": {},
   "outputs": [],
   "source": [
    "root = ET.fromstring(open(xmlfile,'r').read())"
   ]
  },
  {
   "cell_type": "markdown",
   "metadata": {},
   "source": [
    "`fromstring()` parses XML from a string directly into an `Element`, which is the root element of the parsed tree. Other parsing functions may create an `ElementTree`, but we will not cover them here.\n",
    "\n",
    "As an `Element`, root has a tag and a dictionary of attributes:\n"
   ]
  },
  {
   "cell_type": "code",
   "execution_count": null,
   "metadata": {},
   "outputs": [],
   "source": [
    "print(root.tag)\n",
    "print(root.attrib)"
   ]
  },
  {
   "cell_type": "markdown",
   "metadata": {},
   "source": [
    "It also has children nodes over which we can iterate:"
   ]
  },
  {
   "cell_type": "code",
   "execution_count": null,
   "metadata": {},
   "outputs": [],
   "source": [
    "for child in root:\n",
    "    print(child.tag, child.attrib)"
   ]
  },
  {
   "cell_type": "markdown",
   "metadata": {},
   "source": [
    "Children are nested, and we can access specific child nodes by index. We can also access the text of specified elements. For instance:"
   ]
  },
  {
   "cell_type": "code",
   "execution_count": null,
   "metadata": {},
   "outputs": [],
   "source": [
    "for child in root[0]:\n",
    "    print(child.tag, child.attrib, child.text)"
   ]
  },
  {
   "cell_type": "markdown",
   "metadata": {},
   "source": [
    "The presented classes and functions are all you need to solve the following exercise. However, there are many other interesting functions that can probably make it easier for you to work with XML files. For more information, please refer to the ElementTree API."
   ]
  },
  {
   "cell_type": "markdown",
   "metadata": {},
   "source": [
    "### 1.1.3. Exercise: Parsing the XML project files\n",
    "\n",
    "Implement a function that parses the XML files and provides as its output a dictionary with fields:\n",
    "\n",
    "    project_code      (string)\n",
    "    title             (string)\n",
    "    abstract          (string)\n",
    "    budget            (float)\n",
    "    year              (string)\n",
    "    institution       (tuple with elements: name, zipcode, and statecode)\n"
   ]
  },
  {
   "cell_type": "code",
   "execution_count": null,
   "metadata": {},
   "outputs": [],
   "source": [
    "def parse_xmlproject(xml_string):\n",
    "    \"\"\"This function processess the specified XML field,\n",
    "    and outputs a dictionary with the desired project information\n",
    "    \n",
    "    :xml_string: String with XML content\n",
    "    :Returns: Dictionary with indicated files\n",
    "    \"\"\"\n",
    "    \n",
    "    #<SOL>\n",
    "    #</SOL>\n",
    "    \n",
    "parse_xmlproject(open(xmlfile,'r').read())"
   ]
  },
  {
   "cell_type": "markdown",
   "metadata": {},
   "source": [
    "## 1.2. Building the dataset\n",
    "\n",
    "Now, we will use the function you just implemented, to create a database that we will use throughout this module.\n",
    "\n",
    "For simplicity, and given that the dataset is not too large, we will keep all projects in the RAM. The dataset will consist of a list containing the dictionaries associated to each of the considered projects in a time interval."
   ]
  },
  {
   "cell_type": "code",
   "execution_count": null,
   "metadata": {},
   "outputs": [],
   "source": [
    "# Construct an iterator (or a list) for the years you want to work with\n",
    "years = range(2015,2017)\n",
    "datafiles_path = '../data/'\n",
    "NSF_data = []\n",
    "\n",
    "for year in years:\n",
    "    \n",
    "    zpobj = zp.ZipFile(join(datafiles_path, str(year)+'.zip'))\n",
    "    for fileinzip in zpobj.namelist():\n",
    "        if fileinzip.endswith('xml'):\n",
    "            \n",
    "            #Some files seem to be incorrectly parsed\n",
    "            try:\n",
    "                project_dictio = parse_xmlproject(zpobj.read(fileinzip))\n",
    "                if project_dictio['abstract']:\n",
    "                    NSF_data.append(project_dictio)\n",
    "            except:\n",
    "                pass\n",
    "\n"
   ]
  },
  {
   "cell_type": "markdown",
   "metadata": {},
   "source": [
    "We will extract some characteristics of the constructed dataset:"
   ]
  },
  {
   "cell_type": "code",
   "execution_count": null,
   "metadata": {},
   "outputs": [],
   "source": [
    "print('Number of projects in dataset:', len(NSF_data))\n",
    "\n",
    "####\n",
    "budget_data = list(map(lambda x: x['budget'], NSF_data))\n",
    "print('Average budget of projects in dataset:', np.mean(budget_data))\n",
    "\n",
    "####\n",
    "insti_data = list(map(lambda x: x['institution'], NSF_data))\n",
    "print('Number of unique institutions in dataset:', len(set(insti_data)))\n",
    "\n",
    "####\n",
    "counts = dict()\n",
    "for project in NSF_data:\n",
    "    counts[project['year']] = counts.get(project['year'],0) + 1\n",
    "\n",
    "print('Breakdown of projects by starting year:')\n",
    "for el in counts:\n",
    "    print(el, ':', counts[el])"
   ]
  },
  {
   "cell_type": "markdown",
   "metadata": {},
   "source": [
    "#### Exercise\n",
    "\n",
    "Compute the average length of the abstracts of all projects in the dataset"
   ]
  },
  {
   "cell_type": "code",
   "execution_count": null,
   "metadata": {},
   "outputs": [],
   "source": [
    "#<SOL>\n",
    "#</SOL>"
   ]
  },
  {
   "cell_type": "markdown",
   "metadata": {},
   "source": [
    "# 2. Corpus Processing\n",
    "\n",
    "Topic modelling algorithms process vectorized data. In order to apply them, we need to transform the raw text input data into a vector representation. To do so, we will remove irrelevant information from the text data and preserve as much relevant information as possible to capture the semantic content in the document collection.\n",
    "\n",
    "Thus, we will proceed with the following steps:\n",
    "\n",
    "1. Tokenization\n",
    "2. Homogeneization\n",
    "3. Cleaning\n",
    "4. Vectorization"
   ]
  },
  {
   "cell_type": "markdown",
   "metadata": {},
   "source": [
    "## 2.1. Tokenization\n",
    "\n",
    "For the first steps, we will use some of the powerful methods available from the [Natural Language Toolkit](http://www.nltk.org). In order to use the `word_tokenize` method from nltk, you might need to get the appropriate libraries using `nltk.download()`. You must select option \"d) Download\", and identifier \"punkt\""
   ]
  },
  {
   "cell_type": "code",
   "execution_count": null,
   "metadata": {},
   "outputs": [],
   "source": [
    "import nltk\n",
    "\n",
    "# You should comment this code fragment if the package is already available.\n",
    "# Select option \"d) Download\", and identifier \"punkt\"\n",
    "# nltk.download()"
   ]
  },
  {
   "cell_type": "markdown",
   "metadata": {},
   "source": [
    "We will create a list that contains just the abstracts in the dataset. As the order of the elements in a list is fixed, it will be later straightforward to match the processed abstracts to metadata associated to their corresponding projects."
   ]
  },
  {
   "cell_type": "code",
   "execution_count": null,
   "metadata": {},
   "outputs": [],
   "source": [
    "from nltk.tokenize import word_tokenize\n",
    "\n",
    "NSF_abstracts = list(map(lambda x: x['abstract'], NSF_data))\n",
    "\n",
    "tokenized_abstracts = []\n",
    "nprojects = len(NSF_abstracts)\n",
    "\n",
    "for n, abstract in enumerate(NSF_abstracts):\n",
    "    if not n%100:\n",
    "        print('\\rTokenizing abstract', n, 'out of', nprojects, end='', flush=True)\n",
    "    tokenized_abstracts.append(word_tokenize(abstract))\n",
    "\n",
    "print('\\n\\n The corpus has been tokenized. Check the result for the first abstract:')\n",
    "print(NSF_abstracts[0])\n",
    "print(tokenized_abstracts[0])"
   ]
  },
  {
   "cell_type": "markdown",
   "metadata": {},
   "source": [
    "### 2.2. Homogeneization\n",
    "\n",
    "By looking at the tokenized corpus you may verify that there are many tokens that correspond to punktuation signs and other symbols that are not relevant to analyze the semantic content. They can be removed using the stemming or lemmatization tools from `nltk`.\n",
    "\n",
    "The homogeneization process will consist of:\n",
    "\n",
    "1. Removing capitalization: capital alphabetic characters will be transformed to their corresponding lowercase characters.\n",
    "2. Removing non alphanumeric tokens (e.g. punktuation signs)\n",
    "3. Stemming/Lemmatization: removing word terminations to preserve the root of the words and ignore grammatical information."
   ]
  },
  {
   "cell_type": "markdown",
   "metadata": {},
   "source": [
    "#### Exercise\n",
    "\n",
    "Convert all tokens in `tokenized_abstracts` to lowercase (using the `.lower()` method) and remove non alphanumeric tokens (that you can detect with `.isalnum()` method). You can complete the following code fragment with a single line of code ..."
   ]
  },
  {
   "cell_type": "code",
   "execution_count": null,
   "metadata": {},
   "outputs": [],
   "source": [
    "filtered_abstracts = []\n",
    "\n",
    "for n, abstract in enumerate(tokenized_abstracts):\n",
    "    if not n%100:\n",
    "        print('\\rFiltering abstract', n, 'out of', nprojects, end='', flush=True)\n",
    "\n",
    "    #<SOL>\n",
    "    #</SOL>\n",
    "\n",
    "print('\\n',filtered_abstracts[0])"
   ]
  },
  {
   "cell_type": "markdown",
   "metadata": {},
   "source": [
    "### 2.2.1. Stemming vs Lemmatization\n",
    "\n",
    "At this point, we can choose between applying a simple stemming or ussing lemmatization. We will try both to test their differences.\n",
    "\n",
    "The lemmatizer from NLTK is based on [WordNet](http://wordnet.princeton.edu). If you have not used wordnet before, you will likely need to download it from nltk (use the nltk.download() command)"
   ]
  },
  {
   "cell_type": "code",
   "execution_count": null,
   "metadata": {},
   "outputs": [],
   "source": [
    "stemmer = nltk.stem.SnowballStemmer('english')\n",
    "from nltk.stem import WordNetLemmatizer\n",
    "wnl = WordNetLemmatizer()\n",
    "\n",
    "print('Result for the first abstract in dataset applying stemming')\n",
    "print([stemmer.stem(el) for el in filtered_abstracts[0]])\n",
    "\n",
    "print('Result for the first abstract in the dataset applying lemmatization')\n",
    "print([wnl.lemmatize(el) for el in filtered_abstracts[0]])\n"
   ]
  },
  {
   "cell_type": "markdown",
   "metadata": {},
   "source": [
    "One of the advantages of the lemmatizer method is that the result of lemmmatization is still a true word, which is more advisable for the presentation of text processing results and lemmatization.\n",
    "\n",
    "However, without using contextual information, lemmatize() does not remove grammatical differences. This is the reason why \"is\" or \"are\" are preserved and not replaced by infinitive \"be\".\n",
    "\n",
    "As an alternative, we can apply .lemmatize(word, pos), where 'pos' is a string code specifying the part-of-speech (pos), i.e. the grammatical role of the words in its sentence. For instance, you can check the difference between `wnl.lemmatize('is')` and `wnl.lemmatize('is, pos='v')`."
   ]
  },
  {
   "cell_type": "markdown",
   "metadata": {},
   "source": [
    "#### Exercise\n",
    "\n",
    "Complete the following code fragment to lemmatize all abstracts in the NSF dataset"
   ]
  },
  {
   "cell_type": "code",
   "execution_count": null,
   "metadata": {},
   "outputs": [],
   "source": [
    "lemmatized_abstracts = []\n",
    "\n",
    "for n, abstract in enumerate(filtered_abstracts):\n",
    "    if not n%100:\n",
    "        print('\\rLemmatizing abstract', n, 'out of', nprojects, end='', flush=True)\n",
    "\n",
    "    #<SOL>\n",
    "    #</SOL>\n",
    "\n",
    "print('Result for the first abstract in the dataset applying lemmatization')\n",
    "print('\\n',lemmatized_abstracts[0])"
   ]
  },
  {
   "cell_type": "markdown",
   "metadata": {},
   "source": [
    "## 2.3. Cleaning\n",
    "\n",
    "The third step consists of removing those words that are very common in language and do not carry out usefull semantic content (articles, pronouns, etc).\n",
    "\n",
    "Once again, we might need to load the stopword files using the download tools from `nltk`"
   ]
  },
  {
   "cell_type": "markdown",
   "metadata": {},
   "source": [
    "#### Exercise\n",
    "\n",
    "In the second line below we read a list of common english stopwords. Clean `lemmatized_abstracts` by removing all tokens in the stopword list."
   ]
  },
  {
   "cell_type": "code",
   "execution_count": null,
   "metadata": {},
   "outputs": [],
   "source": [
    "from nltk.corpus import stopwords\n",
    "stopwords_en = stopwords.words('english')\n",
    "\n",
    "clean_abstracts = []\n",
    "\n",
    "for n, abstract in enumerate(lemmatized_abstracts):\n",
    "    if not n%100:\n",
    "        print('\\rCleaning abstract', n, 'out of', nprojects, end='', flush=True)\n",
    "        \n",
    "    # Remove all tokens in the stopwords list and append the result to clean_abstracts\n",
    "    # <SOL>\n",
    "    # </SOL>\n",
    "    clean_abstracts.append(clean_tokens)\n",
    "    \n",
    "print('\\n Let us check tokens after cleaning:')\n",
    "print(clean_abstracts[0])"
   ]
  },
  {
   "cell_type": "markdown",
   "metadata": {},
   "source": [
    "## 2.4. Vectorization\n",
    "\n",
    "Up to this point, we have transformed the raw text collection of articles in a list of articles, where each article is a collection of the word roots that are most relevant for semantic analysis. Now, we need to convert these data (a list of token lists) into a numerical representation (a list of vectors, or a matrix). To do so, we will start using the tools provided by the `gensim` library. \n",
    "\n",
    "As a first step, we create a dictionary containing all tokens in our text corpus, and assigning an integer identifier to each one of them."
   ]
  },
  {
   "cell_type": "code",
   "execution_count": null,
   "metadata": {},
   "outputs": [],
   "source": [
    "import gensim\n",
    "\n",
    "# Create dictionary of tokens\n",
    "D = gensim.corpora.Dictionary(clean_abstracts)\n",
    "n_tokens = len(D)\n",
    "\n",
    "print('The dictionary contains', n_tokens, 'terms')\n",
    "print('First terms in the dictionary:')\n",
    "for n in range(10):\n",
    "    print(str(n), ':', D[n])"
   ]
  },
  {
   "cell_type": "markdown",
   "metadata": {},
   "source": [
    "We can also filter out terms that appear in too few or too many of the documents in the dataset:"
   ]
  },
  {
   "cell_type": "code",
   "execution_count": null,
   "metadata": {},
   "outputs": [],
   "source": [
    "no_below = 5 #Minimum number of documents to keep a term in the dictionary\n",
    "no_above = .75 #Maximum proportion of documents in which a term can appear to be kept in the dictionary\n",
    "\n",
    "D.filter_extremes(no_below=no_below,no_above=no_above, keep_n=25000)\n",
    "n_tokens = len(D)\n",
    "\n",
    "print('The dictionary contains', n_tokens, 'terms')\n",
    "\n",
    "print('First terms in the dictionary:')\n",
    "for n in range(10):\n",
    "    print(str(n), ':', D[n])"
   ]
  },
  {
   "cell_type": "markdown",
   "metadata": {},
   "source": [
    "In the second step, let us create a numerical version of our corpus using the `doc2bow` method. In general, `D.doc2bow(token_list)` transforms any list of tokens into a list of tuples `(token_id, n)`, one per each token in `token_list`, where `token_id` is the token identifier (according to dictionary `D`) and `n` is the number of occurrences of such token in `token_list`. "
   ]
  },
  {
   "cell_type": "code",
   "execution_count": null,
   "metadata": {},
   "outputs": [],
   "source": [
    "corpus_bow = [D.doc2bow(doc) for doc in clean_abstracts]"
   ]
  },
  {
   "cell_type": "markdown",
   "metadata": {
    "collapsed": true
   },
   "source": [
    "At this point, it is good to make sure to understand what has happened. In `clean_abstracts` we had a list of token lists. With it, we have constructed a Dictionary, `D`, which assigns an integer identifier to each token in the corpus.\n",
    "After that, we have transformed each article (in `clean_abstracts`) in a list tuples `(id, n)`. "
   ]
  },
  {
   "cell_type": "code",
   "execution_count": null,
   "metadata": {},
   "outputs": [],
   "source": [
    "print('Original article (after cleaning):')\n",
    "print(clean_abstracts[0])\n",
    "print('Sparse vector representation (first 10 components):')\n",
    "print(corpus_bow[0][:10])\n",
    "print('Word counts for the first project (first 10 components):')\n",
    "print(list(map(lambda x: (D[x[0]], x[1]), corpus_bow[0][:10])))"
   ]
  },
  {
   "cell_type": "markdown",
   "metadata": {},
   "source": [
    "Note that we can interpret each element of corpus_bow as a `sparse_vector`. For example, a list of tuples \n",
    "\n",
    "    [(0, 1), (3, 3), (5,2)] \n",
    "\n",
    "for a dictionary of 10 elements can be represented as a vector, where any tuple `(id, n)` states that position `id` must take value `n`. The rest of positions must be zero.\n",
    "\n",
    "    [1, 0, 0, 3, 0, 2, 0, 0, 0, 0]\n",
    "\n",
    "These sparse vectors will be the inputs to the topic modeling algorithms.\n",
    "\n",
    "As a summary, the following variables will be relevant for the next chapters:\n",
    "\n",
    "   * `D`: A gensim dictionary. Term strings can be accessed using the numeric identifiers. For instance, `D[0]` contains the string corresponding to the first position in the BoW representation.\n",
    "   * `corpus_bow`: BoW corpus. A list containing an entry per project in the dataset, and consisting of the (sparse) BoW representation for the abstract of that project.\n",
    "   * `NSF_data`: A list containing an entry per project in the dataset, and consisting of metadata for the projects in the dataset\n",
    "   \n",
    "The way we have constructed the `corpus_bow` variable guarantees that the order is preserved, so that the projects are listed in the same order in the lists `corpus_bow` and `NSF_data`."
   ]
  },
  {
   "cell_type": "markdown",
   "metadata": {},
   "source": [
    "## 2.5. Dictionary properties\n",
    "\n",
    "In the following code fragment, we build a list `all_counts` that contains tuples (terms, document_counts). You can use this list to calculate some statistics about the vocabulary of the dataset"
   ]
  },
  {
   "cell_type": "code",
   "execution_count": null,
   "metadata": {},
   "outputs": [],
   "source": [
    "all_counts = [(D[el], D.dfs[el]) for el in D.dfs]\n",
    "all_counts = sorted(all_counts, key=lambda x: x[1])"
   ]
  },
  {
   "cell_type": "markdown",
   "metadata": {},
   "source": [
    "# 3. Topic Modeling\n",
    "\n",
    "## 3.1. Training a topic model using Gensim LDA\n",
    "\n",
    "Since we already have computed the dictionary and documents BoW representation using Gensim, computing the topic model is straightforward using the `LdaModel()` function. Please, refer to Gensim API documentation for more information on the different parameters accepted by the function:"
   ]
  },
  {
   "cell_type": "code",
   "execution_count": null,
   "metadata": {},
   "outputs": [],
   "source": [
    "import gensim\n",
    "num_topics = 50\n",
    "\n",
    "ldag = gensim.models.ldamodel.LdaModel(corpus=corpus_bow, id2word=D, num_topics=num_topics)"
   ]
  },
  {
   "cell_type": "markdown",
   "metadata": {},
   "source": [
    "## 3.2. LDA model visualization\n",
    "\n",
    "Gensim provides a basic visualization of the obtained topics:"
   ]
  },
  {
   "cell_type": "code",
   "execution_count": null,
   "metadata": {},
   "outputs": [],
   "source": [
    "ldag.print_topics(num_topics=-1, num_words=10)"
   ]
  },
  {
   "cell_type": "markdown",
   "metadata": {},
   "source": [
    "A more useful visualization is provided by the python LDA visualization library, pyLDAvis.\n",
    "\n",
    "Before executing the next code fragment you need to install pyLDAvis:\n",
    "\n",
    "    >> pip install (--user) pyLDAvis"
   ]
  },
  {
   "cell_type": "code",
   "execution_count": null,
   "metadata": {},
   "outputs": [],
   "source": [
    "import pyLDAvis.gensim as gensimvis\n",
    "import pyLDAvis\n",
    "\n",
    "vis_data = gensimvis.prepare(ldag, corpus_bow, D)\n",
    "pyLDAvis.display(vis_data)"
   ]
  },
  {
   "cell_type": "markdown",
   "metadata": {},
   "source": [
    "## 3.3. Gensim utility functions\n",
    "\n",
    "In addition to visualization purposes, topic models are useful to obtain a semantic representation of documents that can later be used with some other purpose:\n",
    "\n",
    "   * In document classification problems\n",
    "   * In content-based recommendations systems\n",
    "\n",
    "Essentially, the idea is that the topic model provides a (semantic) vector representation of documents, and use probability divergences to measure document similarity. The following functions of the `LdaModel` class will be useful in this context:\n",
    "\n",
    "   * `get_topic_terms(topic_id)`: Gets vector of the probability distribution among words for the indicated topic\n",
    "   * `get_document_topics(bow_vector)`: Gets (sparse) vector with the probability distribution among topics for the provided document\n",
    "   "
   ]
  },
  {
   "cell_type": "code",
   "execution_count": null,
   "metadata": {},
   "outputs": [],
   "source": [
    "ldag.get_topic_terms(topicid=0)"
   ]
  },
  {
   "cell_type": "code",
   "execution_count": null,
   "metadata": {},
   "outputs": [],
   "source": [
    "ldag.get_document_topics(corpus_bow[0])"
   ]
  },
  {
   "cell_type": "markdown",
   "metadata": {},
   "source": [
    "An alternative to the use of the `get_document_topics()` function is to directly transform a dataset using the `ldag` object as follows. You can apply this transformation to several documents at once, but then the result is an iterator from which you can build the corresponding list if necessary"
   ]
  },
  {
   "cell_type": "code",
   "execution_count": null,
   "metadata": {},
   "outputs": [],
   "source": [
    "print(ldag[corpus_bow[0]])\n",
    "\n",
    "print('When applied to a dataset it will provide an iterator')\n",
    "print(ldag[corpus_bow[:3]])\n",
    "\n",
    "print('We can rebuild the list from the iterator with a one liner')\n",
    "print([el for el in ldag[corpus_bow[:3]]])"
   ]
  },
  {
   "cell_type": "markdown",
   "metadata": {},
   "source": [
    "Finally, Gensim provides some useful functions to convert between formats, and to simplify interaction with numpy and scipy. The following code fragment converts a corpus in sparse format to a full numpy matrix"
   ]
  },
  {
   "cell_type": "code",
   "execution_count": null,
   "metadata": {},
   "outputs": [],
   "source": [
    "reduced_corpus = [el for el in ldag[corpus_bow[:3]]]\n",
    "reduced_corpus = gensim.matutils.corpus2dense(reduced_corpus, num_topics).T\n",
    "print(reduced_corpus)"
   ]
  },
  {
   "cell_type": "markdown",
   "metadata": {},
   "source": [
    "#### Exercise\n",
    "\n",
    "Build a function that returns the most relevant projects for a given topic\n"
   ]
  },
  {
   "cell_type": "code",
   "execution_count": null,
   "metadata": {},
   "outputs": [],
   "source": [
    "def most_relevant_projects(ldag, topicid, corpus_bow, nprojects=10):\n",
    "    \"\"\"This function returns the most relevant projects in corpus_bow\n",
    "    \n",
    "    : ldag: The trained topic model object provided by gensim\n",
    "    : topicid: The topic for which we want to find the most relevant documents\n",
    "    : corpus_bow: The BoW representation of documents in Gensim format\n",
    "    : nprojects: Number of most relevant projects to identify\n",
    "    \n",
    "    : Returns: A list with the identifiers of the most relevant projects\n",
    "    \"\"\"\n",
    "\n",
    "    print('Computing most relevant projects for Topic', topicid)\n",
    "    print('Topic composition is:')\n",
    "    print(ldag.show_topic(topicid))\n",
    "    \n",
    "    #<SOL>\n",
    "    #</SOL>\n",
    "    \n",
    "#To test the function we will find the most relevant projects for a subset of the NSF dataset\n",
    "project_id = most_relevant_projects(ldag, 17, corpus_bow[:10000])\n",
    "\n",
    "#Print titles of selected projects\n",
    "for idproject in project_id:\n",
    "    print(NSF_data[idproject]['title'])"
   ]
  },
  {
   "cell_type": "markdown",
   "metadata": {},
   "source": [
    "#### Exercise\n",
    "\n",
    "Build a function that computes the semantic distance between two documents. For this, you can use the functions (or code fragments) provided in the library `dist_utils.py`."
   ]
  },
  {
   "cell_type": "code",
   "execution_count": null,
   "metadata": {},
   "outputs": [],
   "source": [
    "def pairwase_dist(doc1, doc2):\n",
    "    \"\"\"This function returns the Jensen-Shannon\n",
    "    distance between the corresponding vectors of the documents\n",
    "    \n",
    "    : doc1: Semantic representation for the doc1 (a vector of length ntopics)\n",
    "    : doc2: Semantic representation for the doc2 (a vector of length ntopics)\n",
    "\n",
    "    : Returns: The JS distance between doc1 and doc2 (a number)\n",
    "    \"\"\"\n",
    "    #<SOL>\n",
    "    #</SOL>"
   ]
  },
  {
   "cell_type": "markdown",
   "metadata": {},
   "source": [
    "### Function that creates the Node CSV file for Gephi"
   ]
  },
  {
   "cell_type": "code",
   "execution_count": null,
   "metadata": {},
   "outputs": [],
   "source": [
    "#print(NSF_data[0].keys())\n",
    "#print(NSF_data[0]['institution'])\n",
    "\n",
    "def strNone(str_to_convert):\n",
    "    if str_to_convert is None:\n",
    "        return ''\n",
    "    else:\n",
    "        return str_to_convert\n",
    "\n",
    "with open('NSF_nodes.csv','w') as fout:\n",
    "    fout.write('Id;Title;Year;Budget;UnivName;UnivZIP;State\\n')\n",
    "    for project in NSF_data:\n",
    "        fout.write(project['project_code']+';'+project['title']+';')\n",
    "        fout.write(project['year']+';'+str(project['budget'])+';')\n",
    "        fout.write(project['institution'][0]+';')\n",
    "        fout.write(strNone(project['institution'][1])+';')\n",
    "        fout.write(strNone(project['institution'][2])+'\\n')"
   ]
  }
 ],
 "metadata": {
  "anaconda-cloud": {},
  "kernelspec": {
   "display_name": "Python [conda env:mypy36]",
   "language": "python",
   "name": "conda-env-mypy36-py"
  },
  "language_info": {
   "codemirror_mode": {
    "name": "ipython",
    "version": 3
   },
   "file_extension": ".py",
   "mimetype": "text/x-python",
   "name": "python",
   "nbconvert_exporter": "python",
   "pygments_lexer": "ipython3",
   "version": "3.6.1"
  }
 },
 "nbformat": 4,
 "nbformat_minor": 2
}
