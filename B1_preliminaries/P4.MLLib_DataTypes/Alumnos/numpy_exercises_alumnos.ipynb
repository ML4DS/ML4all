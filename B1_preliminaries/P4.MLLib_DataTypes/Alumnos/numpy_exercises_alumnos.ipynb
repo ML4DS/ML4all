{
 "cells": [
  {
   "cell_type": "markdown",
   "metadata": {
    "slideshow": {
     "slide_type": "slide"
    }
   },
   "source": [
    "\n",
    "# Exercises about Numpy and MLLib Data Types\n",
    "\n",
    "Notebook version: 1.0 (Mar 15, 2016)\n",
    "\n",
    "Author: Jerónimo Arenas García (jarenas@tsc.uc3m.es)\n",
    "\n",
    "Changes: v.1.0 - First version\n",
    "\n",
    "Pending changes: * "
   ]
  },
  {
   "cell_type": "code",
   "execution_count": null,
   "metadata": {
    "collapsed": false,
    "slideshow": {
     "slide_type": "skip"
    }
   },
   "outputs": [],
   "source": [
    "# Import some libraries that will be necessary for working with data and displaying plots\n",
    "\n",
    "# To visualize plots in the notebook\n",
    "%matplotlib inline \n",
    "\n",
    "import matplotlib\n",
    "import matplotlib.pyplot as plt\n",
    "import numpy as np\n",
    "import scipy.io       # To read matlab files\n",
    "import pylab\n",
    "from test_helper import Test"
   ]
  },
  {
   "cell_type": "markdown",
   "metadata": {
    "slideshow": {
     "slide_type": "skip"
    }
   },
   "source": [
    "# 1. Objectives\n",
    "\n",
    "This notebook reviews some of the Python modules that make it possible to work with data structures in an easy an efficient manner. We will start by reviewing Numpy arrays and matrices, and some of the common operations which are needed when working with these data structures in Machine Learning.  The second part of the notebook will present some of the data types inherent to MLlib, and explain the basics of distributing data sets for parallel optimization of models"
   ]
  },
  {
   "cell_type": "markdown",
   "metadata": {
    "slideshow": {
     "slide_type": "skip"
    }
   },
   "source": [
    "# 2. Numpy exercises\n",
    "\n",
    "## 2.1. Create numpy arrays of different types\n",
    "\n",
    "The following code fragment defines variable `x` as a list of 4 integers, you can check that by printing the type of any element of `x`. Use python command `map()` to create a new list with the same elements as x, but where each element of the list is a float."
   ]
  },
  {
   "cell_type": "code",
   "execution_count": null,
   "metadata": {
    "collapsed": false,
    "slideshow": {
     "slide_type": "skip"
    }
   },
   "outputs": [],
   "source": [
    "x = [5, 4, 3, 4]\n",
    "print type(x[0])\n",
    "\n",
    "# Create a list of floats containing the same elements as in x\n",
    "x_f = <FILL IN>\n"
   ]
  },
  {
   "cell_type": "code",
   "execution_count": null,
   "metadata": {
    "collapsed": false,
    "slideshow": {
     "slide_type": "skip"
    }
   },
   "outputs": [],
   "source": [
    "Test.assertTrue(np.all(x == x_f), 'Elements of both lists are not the same')\n",
    "Test.assertTrue(((type(x[-2])==int) & (type(x_f[-2])==float)),'Type conversion incorrect')"
   ]
  },
  {
   "cell_type": "markdown",
   "metadata": {
    "slideshow": {
     "slide_type": "skip"
    }
   },
   "source": [
    "Numpy arrays can be defined directly using methods such as `np.arange()`, `np.ones()`, `np.zeros()`, as well as random number generators. Alternatively, you can easily generate them from python lists (or lists of lists) containing elements of numeric type.\n",
    "\n",
    "You can easily check the shape of any numpy vector with the property `.shape`, and reshape it with the method `reshape()`. Note the difference between 1-D and N-D numpy arrays (`ndarrays`). You should also be aware of the existance of another numpy data type: Numpy matrices (http://docs.scipy.org/doc/numpy-1.10.1/reference/generated/numpy.matrix.html) are inherently 2-D structures where operators `*` and `**` have the meaning of matrix multiplication and matrix power.\n",
    "\n",
    "In the code below, you can check the types and shapes of different numpy arrays. Complete also the exercise where you are asked to convert a unidimensional array into a vector of size $4\\times2$."
   ]
  },
  {
   "cell_type": "code",
   "execution_count": null,
   "metadata": {
    "collapsed": false,
    "slideshow": {
     "slide_type": "skip"
    }
   },
   "outputs": [],
   "source": [
    "# Numpy arrays can be created from numeric lists or using different numpy methods\n",
    "y = np.arange(8)+1\n",
    "x = np.array(x_f)\n",
    "\n",
    "# Check the different data types involved\n",
    "print 'El tipo de la variable x_f es ', type(x_f)\n",
    "print 'El tipo de la variable x es ', type(x)\n",
    "print 'El tipo de la variable y es ', type(y)\n",
    "\n",
    "# Print the shapes of the numpy arrays\n",
    "print 'La variable y tiene dimensiones ', y.shape\n",
    "print 'La variable x tiene dimensiones ', x.shape\n",
    "\n",
    "#Complete the following exercises\n",
    "# Convert x into a variable x_matrix, of type `numpy.matrixlib.defmatrix.matrix` using command\n",
    "# np.matrix(). The resulting matrix should be of dimensions 4x1\n",
    "x_matrix = <FILL IN>\n",
    "# Convert x into a variable x_array, of type `ndarray`, and dimensions 4x2\n",
    "x_array = <FILL IN>\n",
    "# Reshape array y into a 4x2 matrix using command np.reshape()\n",
    "y = <FILL IN>\n"
   ]
  },
  {
   "cell_type": "code",
   "execution_count": null,
   "metadata": {
    "collapsed": false,
    "slideshow": {
     "slide_type": "skip"
    }
   },
   "outputs": [],
   "source": [
    "Test.assertEquals(type(x_matrix),np.matrixlib.defmatrix.matrix,'x_matrix is not defined as a matrix')\n",
    "Test.assertEqualsHashed(x_matrix,'f4239d385605dc62b73c9a6f8945fdc65e12e43b','Incorrect variable x_matrix')\n",
    "Test.assertEquals(type(x_array),np.ndarray,'x_array is not defined as a numpy ndarray')\n",
    "Test.assertEqualsHashed(x_array,'f4239d385605dc62b73c9a6f8945fdc65e12e43b','Incorrect variable x_array')\n",
    "Test.assertEquals(type(y),np.ndarray,'y is not defined as a numpy ndarray')\n",
    "Test.assertEqualsHashed(y,'66d90401cb8ed9e1b888b76b0f59c23c8776ea42','Incorrect variable y')"
   ]
  },
  {
   "cell_type": "markdown",
   "metadata": {
    "slideshow": {
     "slide_type": "skip"
    }
   },
   "source": [
    "Some other useful Numpy methods are:\n",
    "\n",
    "  - `np.flatten()`: converts a numpy array or matrix into a vector by concatenating the elements in the different dimension. Note that the result of the method keeps the type of the original variable, so the result is a 1-D `ndarray` when invoked on a numpy array, and a numpy matrix (and necessarily 2-D) when invoked on a matrix.\n",
    "  - `np.tolist()`: converts a numpy array or matrix into a python list.\n",
    "\n",
    "These uses are illustrated in the code fragment below."
   ]
  },
  {
   "cell_type": "code",
   "execution_count": null,
   "metadata": {
    "collapsed": false,
    "slideshow": {
     "slide_type": "skip"
    }
   },
   "outputs": [],
   "source": [
    "print 'Uso de flatten sobre la matriz x_matrix (de tipo matrix)'\n",
    "print 'x_matrix.flatten(): ', x_matrix.flatten()\n",
    "print 'Su tipo es: ', type(x_matrix.flatten())\n",
    "print 'Sus dimensiones son: ', x_matrix.flatten().shape\n",
    "\n",
    "print '\\nUso de flatten sobre la matriz y (de tipo ndarray)'\n",
    "print 'x_matrix.flatten(): ', y.flatten()\n",
    "print 'Su tipo es: ', type(y.flatten())\n",
    "print 'Sus dimensiones son: ', y.flatten().shape\n",
    "\n",
    "print '\\nUso de tolist sobre la matriz x_matrix (de tipo matrix) y el vector (2D) y (de tipo ndarray)'\n",
    "print 'x_matrix.tolist(): ', x_matrix.tolist()\n",
    "print 'y.tolist(): ', y.tolist()\n"
   ]
  },
  {
   "cell_type": "markdown",
   "metadata": {
    "slideshow": {
     "slide_type": "skip"
    }
   },
   "source": [
    "## 2.2. Products and powers of numpy arrays and matrices\n",
    "\n",
    "  - `*` and `**` when used with Numpy arrays implement **elementwise** product and exponentiation\n",
    "  - `*` and `**` when used with Numpy matrices implement **matrix** product and exponentiation\n",
    "  - Method np.dot() implements matrix multiplication, and can be used both with numpy arrays and matrices.\n",
    "  \n",
    "So you have to be careful about the types you are using for each variable"
   ]
  },
  {
   "cell_type": "code",
   "execution_count": null,
   "metadata": {
    "collapsed": false,
    "slideshow": {
     "slide_type": "skip"
    }
   },
   "outputs": [],
   "source": [
    "# Try to run the following command on variable x_matrix, and see what happens\n",
    "print x_array**2\n"
   ]
  },
  {
   "cell_type": "code",
   "execution_count": null,
   "metadata": {
    "collapsed": false,
    "slideshow": {
     "slide_type": "skip"
    }
   },
   "outputs": [],
   "source": [
    "# Try to run the following command on variable x_matrix, and see what happens\n",
    "print 'Remember that the shape of x_array is ', x_array.shape\n",
    "print 'Remember that the shape of y is ', y.shape\n",
    "\n",
    "# Complete the following exercises. You can print the partial results to visualize them\n",
    "\n",
    "# Multiply the 2-D array `y` by 2\n",
    "y_by2 = <FILL IN>\n",
    "\n",
    "# Multiply each of the columns in `y` by the column vector x_array\n",
    "z_4_2 = <FILL IN>\n",
    "\n",
    "# Obtain the matrix product of the transpose of x_array and y\n",
    "x_by_y = <FILL IN>\n",
    "\n",
    "# Repeat the previous calculation, this time using x_matrix (of type numpy matrix) instead of x_array\n",
    "# Note that in this case you do not need to use method dot()\n",
    "x_by_y2 = <FILL IN>\n",
    "\n",
    "# Multiply vector x_array by its transpose to obtain a 4 x 4 matrix\n",
    "x_4_4 = <FILL IN>\n",
    "\n",
    "# Multiply the transpose of vector x_array by vector x_array. The result is the squared-norm of the vector\n",
    "x_norm2 = <FILL IN>"
   ]
  },
  {
   "cell_type": "code",
   "execution_count": null,
   "metadata": {
    "collapsed": false,
    "slideshow": {
     "slide_type": "skip"
    }
   },
   "outputs": [],
   "source": [
    "Test.assertEqualsHashed(y_by2,'120a3a46cdf65dc239cc9b128eb1336886c7c137','Incorrect result for variable y_by2')\n",
    "Test.assertEqualsHashed(z_4_2,'607730d96899ee27af576ecc7a4f1105d5b2cfed','Incorrect result for variable z_4_2')\n",
    "Test.assertEqualsHashed(x_by_y,'a3b24f229d1e02fa71e940adc0a4135779864358','Incorrect result for variable x_by_y')\n",
    "Test.assertEqualsHashed(x_by_y2,'a3b24f229d1e02fa71e940adc0a4135779864358','Incorrect result for variable x_by_y2')\n",
    "Test.assertEqualsHashed(x_4_4,'fff55c032faa93592e5d27bf13da9bb49c468687','Incorrect result for variable x_4_4')\n",
    "Test.assertEqualsHashed(x_norm2,'6eacac8f346bae7b5c72bcc3381c7140eaa98b48','Incorrect result for variable x_norm2')"
   ]
  },
  {
   "cell_type": "markdown",
   "metadata": {
    "slideshow": {
     "slide_type": "skip"
    }
   },
   "source": [
    "## 2.3. Numpy methods that can be carried out along different dimensions\n",
    "\n",
    "Compare the result of the following commands:"
   ]
  },
  {
   "cell_type": "code",
   "execution_count": null,
   "metadata": {
    "collapsed": false,
    "slideshow": {
     "slide_type": "skip"
    }
   },
   "outputs": [],
   "source": [
    "print z_4_2.shape\n",
    "print np.mean(z_4_2)\n",
    "print np.mean(z_4_2,axis=0)\n",
    "print np.mean(z_4_2,axis=1)\n"
   ]
  },
  {
   "cell_type": "markdown",
   "metadata": {
    "slideshow": {
     "slide_type": "skip"
    }
   },
   "source": [
    "Other numpy methods where you can specify the axis along with a certain operation should be carried out are:\n",
    "\n",
    "  - `np.median()`\n",
    "  - `np.std()`\n",
    "  - `np.var()`\n",
    "  - `np.percentile()`\n",
    "  - `np.sort()`\n",
    "  - `np.argsort()`\n",
    "  \n",
    "If the axis argument is not provided, the array is flattened before carriying out the corresponding operation."
   ]
  },
  {
   "cell_type": "markdown",
   "metadata": {
    "slideshow": {
     "slide_type": "skip"
    }
   },
   "source": [
    "## 2.4. Concatenating matrices and vectors\n",
    "\n",
    "Provided that the necessary dimensions fit, horizontal and vertical stacking of matrices can be carried out with methods `np.hstack()` and `np.vstack()`.\n",
    "\n",
    "Complete the following exercises to practice with matrix concatenation:"
   ]
  },
  {
   "cell_type": "code",
   "execution_count": null,
   "metadata": {
    "collapsed": false,
    "slideshow": {
     "slide_type": "skip"
    }
   },
   "outputs": [],
   "source": [
    "# Previous check that you are working with the right matrices\n",
    "Test.assertEqualsHashed(z_4_2,'607730d96899ee27af576ecc7a4f1105d5b2cfed','Wrong value for variable z_4_2')\n",
    "Test.assertEqualsHashed(x_array,'f4239d385605dc62b73c9a6f8945fdc65e12e43b','Wrong value for variable x_array')\n",
    "\n",
    "# Vertically stack matrix z_4_2 with itself\n",
    "ex1_res = <FILL IN>\n",
    "\n",
    "# Horizontally stack matrix z_4_2 and vector x_array\n",
    "ex2_res = <FILL IN>\n",
    "\n",
    "# Horizontally stack a column vector of ones with the result of the first exercise (variable ex1_res)\n",
    "X = <FILL IN>"
   ]
  },
  {
   "cell_type": "code",
   "execution_count": null,
   "metadata": {
    "collapsed": false,
    "slideshow": {
     "slide_type": "skip"
    }
   },
   "outputs": [],
   "source": [
    "Test.assertEqualsHashed(ex1_res,'31e60c0fa3e3accedc7db24339452085975a6659','Wrong value for variable ex1_res')\n",
    "Test.assertEqualsHashed(ex2_res,'189b90c5b2113d2415767915becb58c6525519b7','Wrong value for variable ex2_res')\n",
    "Test.assertEqualsHashed(X,'426c2708350ac469bc2fc4b521e781b36194ba23','Wrong value for variable X')"
   ]
  },
  {
   "cell_type": "markdown",
   "metadata": {
    "slideshow": {
     "slide_type": "skip"
    }
   },
   "source": [
    "## 2.5. Slicing\n",
    "\n",
    "Particular elements of numpy arrays (both unidimensional and multidimensional) can be accessed using standard python slicing. When working with multidimensional arrays, slicing can be carried out along the different dimensions at once"
   ]
  },
  {
   "cell_type": "code",
   "execution_count": null,
   "metadata": {
    "collapsed": false,
    "slideshow": {
     "slide_type": "skip"
    }
   },
   "outputs": [],
   "source": [
    "\n",
    "# Keep last row of matrix X\n",
    "X_sub1 = <FILL IN>\n",
    "\n",
    "# Keep first column of the three first rows of X\n",
    "X_sub2 = <FILL IN>\n",
    "\n",
    "# Keep first two columns of the three first rows of X\n",
    "X_sub3 = <FILL IN>\n",
    "\n",
    "# Invert the order of the rows of X\n",
    "X_sub4 = <FILL IN>"
   ]
  },
  {
   "cell_type": "code",
   "execution_count": null,
   "metadata": {
    "collapsed": false,
    "slideshow": {
     "slide_type": "skip"
    }
   },
   "outputs": [],
   "source": [
    "Test.assertEqualsHashed(X_sub1,'0bcf8043a3dd569b31245c2e991b26686305b93f','Wrong value for variable X_sub1')\n",
    "Test.assertEqualsHashed(X_sub2,'7c43c1137480f3bfea7454458fcfa2bc042630ce','Wrong value for variable X_sub2')\n",
    "Test.assertEqualsHashed(X_sub3,'3cddc950ea2abc256192461728ef19d9e1d59d4c','Wrong value for variable X_sub3')\n",
    "Test.assertEqualsHashed(X_sub4,'33190dec8f3cbe3ebc9d775349665877d7b892dd','Wrong value for variable X_sub4')"
   ]
  },
  {
   "cell_type": "markdown",
   "metadata": {
    "slideshow": {
     "slide_type": "skip"
    }
   },
   "source": [
    "## 2.6 Matrix inversion\n",
    "\n",
    "Non singular matrices can be inverted with method `np.linalg.inv()`. Invert square matrices $X\\cdot X^\\top$ and $X^\\top \\cdot X$, and see what happens when trying to invert a singular matrix. The rank of a matrix can be studied with method `numpy.linalg.matrix_rank()`."
   ]
  },
  {
   "cell_type": "code",
   "execution_count": null,
   "metadata": {
    "collapsed": false,
    "slideshow": {
     "slide_type": "skip"
    }
   },
   "outputs": [],
   "source": [
    "print X.shape\n",
    "print X.dot(X.T)\n",
    "print X.T.dot(X)\n",
    "\n",
    "print np.linalg.inv(X.T.dot(X))\n",
    "#print np.linalg.inv(X.dot(X.T))"
   ]
  },
  {
   "cell_type": "markdown",
   "metadata": {
    "slideshow": {
     "slide_type": "skip"
    }
   },
   "source": [
    "## 2.7 Exercises\n",
    "\n",
    "In this section, you will complete three exercises where you will carry out some common operations when working with data structures. For this exercise you will work with the 2-D numpy array `X`, assuming that it contains the values of two different variables for 8 data patterns. A first column of ones has already been introduced in a previous exercise:\n",
    "\n",
    "$$X = \\left[ \\begin{array}{ccc} 1 & x_1^{(1)} & x_2^{(1)} \\\\ 1 & x_1^{(2)} & x_2^{(2)} \\\\ \\vdots & \\vdots & \\vdots \\\\ 1 & x_1^{(8)} & x_2^{(8)}\\end{array}\\right]$$\n",
    "\n",
    "First of all, let us check that you are working with the right matrix"
   ]
  },
  {
   "cell_type": "code",
   "execution_count": null,
   "metadata": {
    "collapsed": false,
    "slideshow": {
     "slide_type": "skip"
    }
   },
   "outputs": [],
   "source": [
    "Test.assertEqualsHashed(X,'426c2708350ac469bc2fc4b521e781b36194ba23','Wrong value for variable X')"
   ]
  },
  {
   "cell_type": "markdown",
   "metadata": {
    "slideshow": {
     "slide_type": "skip"
    }
   },
   "source": [
    "### 2.7.1. Non-linear transformations\n",
    "\n",
    "Create a new matrix Z, where additional features are created by carrying out the following non-linear transformations:\n",
    "\n",
    "$$Z = \\left[ \\begin{array}{ccc} 1 & x_1^{(1)} & x_2^{(1)} & \\log\\left(x_1^{(1)}\\right) & \\log\\left(x_2^{(1)}\\right)\\\\ 1 & x_1^{(2)} & x_2^{(2)} & \\log\\left(x_1^{(2)}\\right) & \\log\\left(x_2^{(2)}\\right) \\\\ \\vdots & \\vdots & \\vdots \\\\ 1 & x_1^{(8)} & x_2^{(8)} & \\log\\left(x_1^{(8)}\\right) & \\log\\left(x_2^{(8)}\\right)\\end{array}\\right] = \\left[ \\begin{array}{ccc} 1 & z_1^{(1)} & z_2^{(1)} & z_3^{(1)} & z_4^{(1)}\\\\ 1 & z_1^{(2)} & z_2^{(2)} & z_3^{(1)} & z_4^{(1)} \\\\ \\vdots & \\vdots & \\vdots \\\\ 1 & z_1^{(8)} & z_2^{(8)} & z_3^{(1)} & z_4^{(1)} \\end{array}\\right]$$\n",
    "\n",
    "In other words, we are calculating the logarightmic values of the two original variables. From now on, any function involving linear transformations of the variables in `Z`, will be in fact a non-linear function of the original variables."
   ]
  },
  {
   "cell_type": "code",
   "execution_count": null,
   "metadata": {
    "collapsed": false,
    "slideshow": {
     "slide_type": "skip"
    }
   },
   "outputs": [],
   "source": [
    "# Obtain matrix Z\n",
    "Z = <FILL IN>"
   ]
  },
  {
   "cell_type": "code",
   "execution_count": null,
   "metadata": {
    "collapsed": false,
    "slideshow": {
     "slide_type": "skip"
    }
   },
   "outputs": [],
   "source": [
    "Test.assertEqualsHashed(Z,'d68d0394b57b4583ba95fc669c1c12aeec782410','Incorrect matrix Z')"
   ]
  },
  {
   "cell_type": "markdown",
   "metadata": {
    "slideshow": {
     "slide_type": "skip"
    }
   },
   "source": [
    "If you did not do that, repeat the previous exercise, this time using the `map()` method together with function `log_transform()`:"
   ]
  },
  {
   "cell_type": "code",
   "execution_count": null,
   "metadata": {
    "collapsed": false,
    "slideshow": {
     "slide_type": "skip"
    }
   },
   "outputs": [],
   "source": [
    "def log_transform(x):\n",
    "    return <FILL IN>\n",
    "    \n",
    "Z_map = np.array(map(log_transform,X))\n"
   ]
  },
  {
   "cell_type": "code",
   "execution_count": null,
   "metadata": {
    "collapsed": false,
    "slideshow": {
     "slide_type": "skip"
    }
   },
   "outputs": [],
   "source": [
    "Test.assertEqualsHashed(Z_map,'d68d0394b57b4583ba95fc669c1c12aeec782410','Incorrect matrix Z')"
   ]
  },
  {
   "cell_type": "markdown",
   "metadata": {
    "slideshow": {
     "slide_type": "skip"
    }
   },
   "source": [
    "Repeat the previous exercise once again using a lambda function:"
   ]
  },
  {
   "cell_type": "code",
   "execution_count": null,
   "metadata": {
    "collapsed": false,
    "slideshow": {
     "slide_type": "skip"
    }
   },
   "outputs": [],
   "source": [
    "\n",
    "Z_lambda = np.array(map(lambda x: <FILL IN>,X))"
   ]
  },
  {
   "cell_type": "code",
   "execution_count": null,
   "metadata": {
    "collapsed": false,
    "slideshow": {
     "slide_type": "skip"
    }
   },
   "outputs": [],
   "source": [
    "Test.assertEqualsHashed(Z_lambda,'d68d0394b57b4583ba95fc669c1c12aeec782410','Incorrect matrix Z')"
   ]
  },
  {
   "cell_type": "markdown",
   "metadata": {
    "slideshow": {
     "slide_type": "skip"
    }
   },
   "source": [
    "### 2.7.2. Polynomial transformations\n",
    "\n",
    "Similarly to the previous exercise, now we are interested in obtaining another matrix that will be used to evaluate a polynomial model. In order to do so, compute matrix `Z_poly` as follows:\n",
    "\n",
    "$$Z_\\text{poly} = \\left[ \\begin{array}{cccc} 1 & x_1^{(1)} & (x_1^{(1)})^2 & (x_1^{(1)})^3 \\\\ 1 & x_1^{(2)} & (x_1^{(2)})^2 & (x_1^{(2)})^3  \\\\ \\vdots & \\vdots & \\vdots \\\\ 1 & x_1^{(8)} & (x_1^{(8)})^2 & (x_1^{(8)})^3 \\end{array}\\right]$$\n",
    "\n",
    "Note that, in this case, only the first variable of each pattern is used."
   ]
  },
  {
   "cell_type": "code",
   "execution_count": null,
   "metadata": {
    "collapsed": false,
    "slideshow": {
     "slide_type": "skip"
    }
   },
   "outputs": [],
   "source": [
    "# Calculate variable Z_poly, using any method that you want\n",
    "Z_poly = <FILL IN>\n"
   ]
  },
  {
   "cell_type": "code",
   "execution_count": null,
   "metadata": {
    "collapsed": false,
    "slideshow": {
     "slide_type": "skip"
    }
   },
   "outputs": [],
   "source": [
    "Test.assertEqualsHashed(Z_poly,'ba0f38316dffe901b6c7870d13ccceccebd75201','Wrong variable Z_poly')"
   ]
  },
  {
   "cell_type": "markdown",
   "metadata": {
    "slideshow": {
     "slide_type": "skip"
    }
   },
   "source": [
    "### 2.7.3. Model evaluation\n",
    "\n",
    "Finally, we can use previous data matrices `Z` and `Z_poly` to efficiently compute the output of the corresponding non-linear models over all the patterns in the data set. In this exercise, we consider the two following *linear-in-the-parameters* models to be evaluated:\n",
    "\n",
    "$$f_\\text{log}({\\bf x}) = w_0 + w_1 \\cdot x_1 + w_2 \\cdot x_2 + w_3 \\cdot \\log(x_1) + w_4 \\cdot \\log(x_2)$$\n",
    "\n",
    "$$f_\\text{poly}({\\bf x}) = w_0 + w_1 \\cdot x_1 + w_2 \\cdot x_1^2 + w_3 \\cdot x_1^3$$\n",
    "\n",
    "Compute the output of the two models for the particular weights that are defined in the code below. Your output variables `f_log` and `f_poly` should contain the outputs of the model for all eight patterns in the data set. "
   ]
  },
  {
   "cell_type": "code",
   "execution_count": null,
   "metadata": {
    "collapsed": false,
    "slideshow": {
     "slide_type": "skip"
    }
   },
   "outputs": [],
   "source": [
    "w_log = np.array([3.3, 0.5, -2.4, 3.7, -2.9])\n",
    "w_poly = np.array([3.2, 4.5, -3.2, 0.7])\n",
    "\n",
    "f_log = <FILL IN>\n",
    "f_poly = <FILL IN>"
   ]
  },
  {
   "cell_type": "code",
   "execution_count": null,
   "metadata": {
    "collapsed": false,
    "slideshow": {
     "slide_type": "skip"
    }
   },
   "outputs": [],
   "source": [
    "Test.assertEqualsHashed(f_log,'cf81496c5371a0b31931625040f460ed3481fb3d','Incorrect evaluation of the logarithmic model')\n",
    "Test.assertEqualsHashed(f_poly,'05307e30124daa103c970044828f24ee8b1a0bb9','Incorrect evaluation of the polynomial model')"
   ]
  },
  {
   "cell_type": "markdown",
   "metadata": {
    "slideshow": {
     "slide_type": "slide"
    }
   },
   "source": [
    "# 3. MLlib Data types\n",
    "\n",
    "MLlib is Apache Spark's scalable machine learning library. It implements several machine learning methods that can work over data distributed by means of RDDs. The regression methods that are part of MLlib are:\n",
    "\n",
    "  - linear least squares\n",
    "  - Lasso\n",
    "  - ridge regression\n",
    "  - isotonic regression\n",
    "  - random forests\n",
    "  - gradient-boosted trees\n",
    "\n",
    "We will just use the three first methods, and we will also work on an implementation of KNN regression over Spark, using the Data types provided by MLlib.\n"
   ]
  },
  {
   "cell_type": "markdown",
   "metadata": {
    "collapsed": true,
    "slideshow": {
     "slide_type": "slide"
    }
   },
   "source": [
    "## 3.1. Local Vectors\n",
    "\n",
    "  - Integer-typed and 0-based indices\n",
    "  - Double-typed values\n",
    "  - Stored on a single machine\n",
    "  - Two kinds of vectors provided:\n",
    "      * **DenseVector**: a double array with the entries values\n",
    "      * **SparseVector**: backed up by two parallel arrays: indices and values\n",
    "      \n",
    "<img src=\"./figs/vector_representation.jpg\" width=\"80%\">"
   ]
  },
  {
   "cell_type": "code",
   "execution_count": null,
   "metadata": {
    "collapsed": true,
    "slideshow": {
     "slide_type": "skip"
    }
   },
   "outputs": [],
   "source": [
    "# Import additional libraries for this part\n",
    "\n",
    "from pyspark.mllib.linalg import DenseVector\n",
    "from pyspark.mllib.linalg import SparseVector\n",
    "from pyspark.mllib.regression import LabeledPoint"
   ]
  },
  {
   "cell_type": "markdown",
   "metadata": {
    "slideshow": {
     "slide_type": "skip"
    }
   },
   "source": [
    "  - `DenseVectors` can be created from lists or from numpy arrays\n",
    "  - `SparseVector` constructor requires three arguments: the length of the vector, an array with the indices of the non-zero coefficients, and the values of such positions (in the same order)"
   ]
  },
  {
   "cell_type": "code",
   "execution_count": null,
   "metadata": {
    "collapsed": false,
    "slideshow": {
     "slide_type": "skip"
    }
   },
   "outputs": [],
   "source": [
    "# We create a sparse vector of length 900, with only 25 non-zero values\n",
    "Z = np.eye(30, k=5).flatten()\n",
    "print 'The dimension of array Z is ', Z.shape\n",
    "\n",
    "# Create a DenseVector containing the elements of array Z\n",
    "dense_V = <FILL IN>\n",
    "\n",
    "#Create a SparseVector containing the elements of array Z\n",
    "#Nonzero elements are indexed by the following variable idx_nonzero\n",
    "idx_nonzero = np.nonzero(Z)[0]\n",
    "sparse_V = <FILL IN>\n",
    "\n",
    "#Standard matrix operations can be computed on DenseVectors and SparseVectors\n",
    "#Calculate the square norm of vector sparse_V, by multiplying sparse_V by the transponse of dense_V\n",
    "print 'The norm of vector Z is', sparse_V.dot(dense_V)\n",
    "\n",
    "#print sparse_V\n",
    "#print dense_V"
   ]
  },
  {
   "cell_type": "code",
   "execution_count": null,
   "metadata": {
    "collapsed": false,
    "slideshow": {
     "slide_type": "skip"
    }
   },
   "outputs": [],
   "source": [
    "Test.assertEqualsHashed(dense_V,'b331f43b23fda1ac19f5c29ee2c843fab6e34dfa', 'Incorrect vector dense_V')\n",
    "Test.assertEqualsHashed(sparse_V,'954fe70f3f9acd720219fc55a30c7c303d02f05d', 'Incorrect vector sparse_V')\n",
    "Test.assertEquals(type(dense_V),pyspark.mllib.linalg.DenseVector,'Incorrect type for dense_V')\n",
    "Test.assertEquals(type(sparse_V),pyspark.mllib.linalg.SparseVector,'Incorrect type for sparse_V')"
   ]
  },
  {
   "cell_type": "markdown",
   "metadata": {
    "slideshow": {
     "slide_type": "slide"
    }
   },
   "source": [
    "## 3.2. Labeled point\n",
    "\n",
    "  - An associaation of a local vector and a label\n",
    "  - The label is a double (also in classification)\n",
    "  - Supervised MLlib methods rely on datasets of labeled points\n",
    "  - In regression,the label can be any real number\n",
    "  - In classification, labels are class indices starting from zero: 0, 1, 2, ...\n",
    "  \n",
    "Labeled point constructor takes two arguments: the labels, and a numpy array / DenseVector / SparseVector containing the features."
   ]
  },
  {
   "cell_type": "code",
   "execution_count": null,
   "metadata": {
    "collapsed": false,
    "slideshow": {
     "slide_type": "skip"
    }
   },
   "outputs": [],
   "source": [
    "# Create a labeled point with a positive label and a dense feature vector.\n",
    "pos = LabeledPoint(1.0, [1.0, 0.0, 3.0])\n",
    "\n",
    "# Create a labeled point with a negative label and a sparse feature vector.\n",
    "neg = LabeledPoint(0.0, sparse_V)\n",
    "\n",
    "# You can now easily access the label and features of the vector:\n",
    "\n",
    "print 'The label of the first labeled point is', pos.label\n",
    "print 'The features of the second labeled point are', neg.features"
   ]
  },
  {
   "cell_type": "markdown",
   "metadata": {
    "slideshow": {
     "slide_type": "fragment"
    }
   },
   "source": [
    "## 3.3. Distributed datasets\n",
    "\n",
    "  - MLlib distributes the datasets using RDDs of vectors or labeled points"
   ]
  }
 ],
 "metadata": {
  "celltoolbar": "Slideshow",
  "kernelspec": {
   "display_name": "Python 2",
   "language": "python",
   "name": "python2"
  },
  "language_info": {
   "codemirror_mode": {
    "name": "ipython",
    "version": 2
   },
   "file_extension": ".py",
   "mimetype": "text/x-python",
   "name": "python",
   "nbconvert_exporter": "python",
   "pygments_lexer": "ipython2",
   "version": "2.7.10"
  }
 },
 "nbformat": 4,
 "nbformat_minor": 0
}
