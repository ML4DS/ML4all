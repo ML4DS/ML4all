{
 "cells": [
  {
   "cell_type": "markdown",
   "metadata": {
    "nbpresent": {
     "id": "2b7256b9-a1c7-4314-a936-3f298d6d53f3"
    },
    "slideshow": {
     "slide_type": "slide"
    }
   },
   "source": [
    "# Spectral Clustering Algorithms"
   ]
  },
  {
   "cell_type": "markdown",
   "metadata": {
    "slideshow": {
     "slide_type": "notes"
    }
   },
   "source": [
    "    Notebook version: 1.1 (Nov 17, 2017)\n",
    "\n",
    "    Author: Jesús Cid Sueiro (jcid@tsc.uc3m.es)\n",
    "            Jerónimo Arenas García (jarenas@tsc.uc3m.es)\n",
    "\n",
    "    Changes: v.1.0 - First complete version.  \n",
    "             v.1.1 - Python 3 version"
   ]
  },
  {
   "cell_type": "code",
   "execution_count": null,
   "metadata": {
    "collapsed": true,
    "nbpresent": {
     "id": "154f1592-4dc1-42cc-bc05-8a056a301385"
    },
    "slideshow": {
     "slide_type": "slide"
    }
   },
   "outputs": [],
   "source": [
    "%matplotlib inline\n",
    "import numpy as np\n",
    "import matplotlib.pyplot as plt\n",
    "from scipy import stats\n",
    "\n",
    "# use seaborn plotting defaults\n",
    "import seaborn as sns; sns.set()\n",
    "\n",
    "from sklearn.cluster import KMeans\n",
    "from sklearn.datasets.samples_generator import make_blobs, make_circles\n",
    "from sklearn.utils import shuffle\n",
    "from sklearn.metrics.pairwise import rbf_kernel\n",
    "from sklearn.cluster import SpectralClustering\n",
    "\n",
    "# For the graph representation\n",
    "import networkx as nx"
   ]
  },
  {
   "cell_type": "markdown",
   "metadata": {
    "nbpresent": {
     "id": "541253ea-29b0-4742-9293-e8d968fdb0d7"
    },
    "slideshow": {
     "slide_type": "slide"
    }
   },
   "source": [
    "## 1. Introduction\n",
    "\n",
    "The key idea of spectral clustering algorithms is to search for groups of connected data. I.e, rather than pursuing compact clusters, spectral clustering allows for arbitrary shape clusters.\n",
    "\n",
    "This can be illustrated with two artifitial datasets that we will use along this notebook."
   ]
  },
  {
   "cell_type": "markdown",
   "metadata": {
    "nbpresent": {
     "id": "08a40259-7b39-4628-bc49-dd2a2e0d3f45"
    },
    "slideshow": {
     "slide_type": "slide"
    }
   },
   "source": [
    "### 1.1. Gaussian clusters:\n",
    "\n",
    "The first one consists of 4 compact clusters generated from a Gaussian distribution. This is the kind of dataset that are best suited to centroid-based clustering algorithms like $K$-means. If the goal of the clustering algorithm is to minimize the intra-cluster distances and find a representative prototype or centroid for each cluster, $K$-means may be a good option."
   ]
  },
  {
   "cell_type": "code",
   "execution_count": null,
   "metadata": {
    "collapsed": true,
    "nbpresent": {
     "id": "6f43de04-0fd0-4f7b-a28f-b4d898420cda"
    },
    "slideshow": {
     "slide_type": "fragment"
    }
   },
   "outputs": [],
   "source": [
    "N = 300\n",
    "nc = 4\n",
    "Xs, ys = make_blobs(n_samples=N, centers=nc,\n",
    "                    random_state=6, cluster_std=0.60, shuffle = False)\n",
    "X, y = shuffle(Xs, ys, random_state=0)\n",
    "\n",
    "plt.scatter(X[:, 0], X[:, 1], s=30);\n",
    "plt.axis('equal')\n",
    "plt.show()"
   ]
  },
  {
   "cell_type": "markdown",
   "metadata": {
    "nbpresent": {
     "id": "50e7375e-7cf9-467c-a698-dc46415bc32f"
    },
    "slideshow": {
     "slide_type": "subslide"
    }
   },
   "source": [
    "Note that we have computed two data matrices: \n",
    "\n",
    "* ${\\bf X}$, which contains the data points in an arbitray ordering\n",
    "* ${\\bf X}_s$, where samples are ordered by clusters, according to the cluster id array, ${\\bf y}$.\n",
    "\n",
    "Note that both matrices contain the same data (rows) but in different order. The sorted matrix will be useful later for illustration purposes, but keep in mind that, in a real clustering application, vector ${\\bf y}$ is unknown (learning is not supervised), and only a data matrix with an arbitrary ordering (like ${\\bf X}$) will be available. "
   ]
  },
  {
   "cell_type": "markdown",
   "metadata": {
    "nbpresent": {
     "id": "c363f2ed-7a6d-4dc4-a636-5da1a73c5a53"
    },
    "slideshow": {
     "slide_type": "slide"
    }
   },
   "source": [
    "### 1.2. Concentric rings\n",
    "\n",
    "The second dataset contains two concentric rings. One could expect from a clustering algorithm to identify two different clusters, one per each ring of points. If this is the case, $K$-means or any other algorithm focused on minimizing distances to some cluster centroids is not a good choice."
   ]
  },
  {
   "cell_type": "code",
   "execution_count": null,
   "metadata": {
    "collapsed": true,
    "nbpresent": {
     "id": "3d1726d2-7563-42bf-afcf-1ab07c6e6c36"
    },
    "slideshow": {
     "slide_type": "fragment"
    }
   },
   "outputs": [],
   "source": [
    "X2s, y2s = make_circles(n_samples=N, factor=.5, noise=.05, shuffle=False)\n",
    "X2, y2 = shuffle(X2s, y2s, random_state=0)\n",
    "plt.scatter(X2[:, 0], X2[:, 1], s=30)\n",
    "plt.axis('equal')\n",
    "plt.show()"
   ]
  },
  {
   "cell_type": "markdown",
   "metadata": {
    "nbpresent": {
     "id": "289e6949-2aa0-4331-b0d8-0d361df8198b"
    },
    "slideshow": {
     "slide_type": "fragment"
    }
   },
   "source": [
    "Note, again, that we have computed both the sorted (${\\bf X}_{2s}$) and the shuffled (${\\bf X}_2$) versions of the dataset in the code above."
   ]
  },
  {
   "cell_type": "markdown",
   "metadata": {
    "nbpresent": {
     "id": "dd139c2e-cf0f-4619-a76f-e9f89d616a48"
    },
    "slideshow": {
     "slide_type": "subslide"
    }
   },
   "source": [
    "#### Exercise 1:\n",
    "\n",
    "Using the code of the previous notebook, run the $K$-means algorithm with 4 centroids for the two datasets. In the light of your results, why do you think $K$-means does not work well for the second dataset?"
   ]
  },
  {
   "cell_type": "code",
   "execution_count": null,
   "metadata": {
    "collapsed": true,
    "nbpresent": {
     "id": "2986908d-e8b3-4a3a-9413-b2c3f49947b3"
    },
    "slideshow": {
     "slide_type": "fragment"
    }
   },
   "outputs": [],
   "source": [
    "# <SOL>\n",
    "est = KMeans(n_clusters=4)\n",
    "clusters = est.fit_predict(X)\n",
    "plt.scatter(X[:, 0], X[:, 1], c=clusters, s=30, cmap='rainbow')\n",
    "plt.axis('equal')\n",
    "\n",
    "clusters = est.fit_predict(X2)\n",
    "plt.figure()\n",
    "plt.scatter(X2[:, 0], X2[:, 1], c=clusters, s=30, cmap='rainbow')\n",
    "plt.axis('equal')\n",
    "plt.show()\n",
    "# </SOL>"
   ]
  },
  {
   "cell_type": "markdown",
   "metadata": {
    "nbpresent": {
     "id": "981a130c-88a9-42cf-b102-f68dcd27dfc2"
    },
    "slideshow": {
     "slide_type": "subslide"
    }
   },
   "source": [
    "Spectral clustering algorithms are focused on connectivity: clusters are determined by  maximizing some measure of intra-cluster connectivity and maximizing some form of inter-cluster connectivity."
   ]
  },
  {
   "cell_type": "markdown",
   "metadata": {
    "nbpresent": {
     "id": "bf938e8e-ef9a-4b43-b48e-fe56c550ec16"
    },
    "slideshow": {
     "slide_type": "slide"
    }
   },
   "source": [
    "## 2. The affinity matrix\n",
    "\n",
    "### 2.1. Similarity function\n",
    "\n",
    "To implement a spectral clustering algorithm we must specify a similarity measure between data points. In this session, we will use the *rbf* kernel, that computes the similarity between ${\\bf x}$ and ${\\bf y}$ as:\n",
    "\n",
    "$$\\kappa({\\bf x},{\\bf y}) = \\exp(-\\gamma \\|{\\bf x}-{\\bf y}\\|^2)$$\n",
    "\n",
    "Other similarity functions can be used, like the kernel functions implemented in Scikit-learn (see the <a href=http://scikit-learn.org/stable/modules/metrics.html> metrics </a> module)."
   ]
  },
  {
   "cell_type": "markdown",
   "metadata": {
    "nbpresent": {
     "id": "cf439cce-42e8-423d-a165-a95c7b860e2e"
    },
    "slideshow": {
     "slide_type": "slide"
    }
   },
   "source": [
    "### 2.2. Affinity matrix\n",
    "\n",
    "For a dataset ${\\cal S} = \\{{\\bf x}^{(0)},\\ldots,{\\bf x}^{(N-1)}\\}$, the $N\\times N$ **affinity matrix** ${\\bf K}$ contains the similarity measure between each pair of samples. Thus, its components are\n",
    "\n",
    "$$K_{ij} = \\kappa\\left({\\bf x}^{(i)}, {\\bf x}^{(j)}\\right)$$\n",
    "\n",
    "The following fragment of code illustrates all pairs of distances between any two points in the dataset. "
   ]
  },
  {
   "cell_type": "code",
   "execution_count": null,
   "metadata": {
    "collapsed": true,
    "nbpresent": {
     "id": "0f9f293c-3137-4d17-aece-2045e8104ac8"
    },
    "slideshow": {
     "slide_type": "fragment"
    }
   },
   "outputs": [],
   "source": [
    "gamma = 0.5\n",
    "K = rbf_kernel(X, X, gamma=gamma)"
   ]
  },
  {
   "cell_type": "markdown",
   "metadata": {
    "nbpresent": {
     "id": "16417f57-b3c0-47e2-ab0d-98d5249ca768"
    },
    "slideshow": {
     "slide_type": "slide"
    }
   },
   "source": [
    "### 2.3. Visualization\n",
    "\n",
    "We can visualize the affinity matrix as an image, by translating component values into pixel colors or intensities."
   ]
  },
  {
   "cell_type": "code",
   "execution_count": null,
   "metadata": {
    "collapsed": true,
    "nbpresent": {
     "id": "eeffab07-357b-4096-b71c-7f5e21233434"
    },
    "slideshow": {
     "slide_type": "fragment"
    }
   },
   "outputs": [],
   "source": [
    "plt.imshow(K, cmap='hot')\n",
    "plt.colorbar()\n",
    "plt.title('RBF Affinity Matrix for gamma = ' + str(gamma))\n",
    "plt.grid('off')\n",
    "plt.show()"
   ]
  },
  {
   "cell_type": "markdown",
   "metadata": {
    "nbpresent": {
     "id": "8497fea2-5fd3-4aa6-a6cc-2dc665e78823"
    },
    "slideshow": {
     "slide_type": "subslide"
    }
   },
   "source": [
    "Despite the apparent randomness of the affinity matrix, it contains some hidden structure, that we can uncover by visualizing the affinity matrix computed with the sorted data matrix, ${\\bf X}_s$."
   ]
  },
  {
   "cell_type": "code",
   "execution_count": null,
   "metadata": {
    "collapsed": true,
    "nbpresent": {
     "id": "f5d3f112-69d6-47ab-9ee3-63dd9181461a"
    },
    "scrolled": true,
    "slideshow": {
     "slide_type": "fragment"
    }
   },
   "outputs": [],
   "source": [
    "Ks = rbf_kernel(Xs, Xs, gamma=gamma)\n",
    "\n",
    "plt.imshow(Ks, cmap='hot')\n",
    "plt.colorbar()\n",
    "plt.title('RBF Affinity Matrix for gamma = ' + str(gamma))\n",
    "plt.grid('off')\n",
    "plt.show()"
   ]
  },
  {
   "cell_type": "markdown",
   "metadata": {
    "nbpresent": {
     "id": "a37f7fe3-2aa3-4213-b574-734fe433ccf0"
    },
    "slideshow": {
     "slide_type": "fragment"
    }
   },
   "source": [
    "Note that, despite their completely different appearance, both affinity matrices contain the same values, but with a different order of rows and columns.\n",
    "\n",
    "For this dataset, the sorted affinity matrix is almost block diagonal. Note, also, that the block-wise form of this matrix depends on parameter $\\gamma$."
   ]
  },
  {
   "cell_type": "markdown",
   "metadata": {
    "nbpresent": {
     "id": "4b5f7ae5-bd92-481d-b2f9-f86e482a1a93"
    },
    "slideshow": {
     "slide_type": "subslide"
    }
   },
   "source": [
    "#### Exercise 2:\n",
    "\n",
    "Modify the selection of $\\gamma$, and check the effect of this in the appearance of the *sorted* similarity matrix. Write down the values for which you consider that the structure of the matrix better resembles the number of clusters in the datasets."
   ]
  },
  {
   "cell_type": "markdown",
   "metadata": {
    "nbpresent": {
     "id": "a1c48591-1d25-4360-a144-0f362066607a"
    },
    "slideshow": {
     "slide_type": "subslide"
    }
   },
   "source": [
    "Out from the diagonal block, similarities are close to zero. We can enforze a block diagonal structure be setting to zero the small similarity values. \n",
    "\n",
    "For instance, by thresholding ${\\bf K}_s$ with threshold $t$, we get the truncated (and sorted) affinity matrix\n",
    "$$\n",
    "\\overline{K}_{s,ij} = K_{s,ij} \\cdot \\text{u}(K_{s,ij} - t)\n",
    "$$\n",
    "\n",
    "(where $\\text{u}()$ is the step function) which is block diagonal."
   ]
  },
  {
   "cell_type": "markdown",
   "metadata": {
    "nbpresent": {
     "id": "57fc68ce-49bb-4418-bea2-d3b76a151fdc"
    },
    "slideshow": {
     "slide_type": "fragment"
    }
   },
   "source": [
    "#### Exercise  3:\n",
    "\n",
    "Compute the truncated and sorted affinity matrix with $t=0.001$"
   ]
  },
  {
   "cell_type": "code",
   "execution_count": null,
   "metadata": {
    "collapsed": true,
    "nbpresent": {
     "id": "856a2421-6e59-4d57-8968-7e59fbdb6c8d"
    },
    "slideshow": {
     "slide_type": "fragment"
    }
   },
   "outputs": [],
   "source": [
    "t = 0.001\n",
    "# Kt = <FILL IN> # Truncated affinity matrix\n",
    "Kt = K*(K>t)    # Truncated affinity matrix\n",
    "# Kst = <FILL IN> # Truncated and sorted affinity matrix\n",
    "Kst = Ks*(Ks>t)  # Truncated and sorted affinity matrix"
   ]
  },
  {
   "cell_type": "markdown",
   "metadata": {
    "nbpresent": {
     "id": "265d0881-369a-4047-a750-e5a7b6ba3ebe"
    },
    "slideshow": {
     "slide_type": "slide"
    }
   },
   "source": [
    "## 3. Affinity matrix and data graph\n",
    "\n",
    "Any similarity matrix defines a weighted graph in such a way that the weight of the edge linking ${\\bf x}^{(i)}$ and ${\\bf x}^{(j)}$ is $K_{ij}$.\n",
    "\n",
    "If $K$ is a full matrix, the graph is fully connected (there is and edge connecting every pair of nodes). But we can get a more interesting sparse graph by setting to zero the edges with a small weights. \n",
    "\n",
    "For instance, let us visualize the graph for the truncated affinity matrix $\\overline{\\bf K}$ with threshold $t$. You can also check the effect of increasing or decreasing $t$."
   ]
  },
  {
   "cell_type": "code",
   "execution_count": null,
   "metadata": {
    "collapsed": true,
    "nbpresent": {
     "id": "c0782247-c879-4b29-bc2d-6bbfb3d37865"
    },
    "slideshow": {
     "slide_type": "fragment"
    }
   },
   "outputs": [],
   "source": [
    "G = nx.from_numpy_matrix(Kt)\n",
    "graphplot = nx.draw(G, X, node_size=40, width=0.5,)\n",
    "plt.axis('equal')\n",
    "plt.show()"
   ]
  },
  {
   "cell_type": "markdown",
   "metadata": {
    "nbpresent": {
     "id": "ccc022b6-0830-444f-a28f-d6e0269806bc"
    },
    "slideshow": {
     "slide_type": "subslide"
    }
   },
   "source": [
    "Note that, for this dataset, the graph connects edges from the same cluster only. Therefore, the number of diagonal blocks in $\\overline{\\bf K}_s$ is equal to the number of connected components in the graph.\n",
    "\n",
    "Note, also, the graph does not depend on the sample ordering in the data matrix: the graphs for any matrix ${\\bf K}$ and its sorted version ${\\bf K}_s$ are the same."
   ]
  },
  {
   "cell_type": "markdown",
   "metadata": {
    "nbpresent": {
     "id": "b069f8c4-6d49-4dfb-8762-ba94a5fc0063"
    },
    "slideshow": {
     "slide_type": "slide"
    }
   },
   "source": [
    "## 4. The Laplacian matrix\n",
    "\n",
    "The <a href = https://en.wikipedia.org/wiki/Laplacian_matrix>Laplacian matrix</a> of a given affinity matrix ${\\bf K}$ is given by\n",
    "$${\\bf L} = {\\bf D} - {\\bf K}$$\n",
    "where ${\\bf D}$ is the diagonal **degree matrix** given by\n",
    "$$D_{ii}=\\sum^{n}_{j} K_{ij}$$"
   ]
  },
  {
   "cell_type": "markdown",
   "metadata": {
    "slideshow": {
     "slide_type": "subslide"
    }
   },
   "source": [
    "### 4.1. Properties of the Laplacian matrix\n",
    "\n",
    "The Laplacian matrix of any symmetric matrix ${\\bf K}$ has several interesting properties:"
   ]
  },
  {
   "cell_type": "markdown",
   "metadata": {
    "slideshow": {
     "slide_type": "fragment"
    }
   },
   "source": [
    "#### P1. \n",
    "\n",
    "> ${\\bf L}$ is symmetric and positive semidefinite. Therefore, all its eigenvalues $\\lambda_0,\\ldots, \\lambda_{N-1}$ are non-negative. Remind that each eigenvector ${\\bf v}$ with eigenvalue $\\lambda$ satisfies\n",
    "\n",
    "> $${\\bf L} \\cdot {\\bf v} = \\lambda {\\bf v}$$"
   ]
  },
  {
   "cell_type": "markdown",
   "metadata": {
    "slideshow": {
     "slide_type": "fragment"
    }
   },
   "source": [
    "#### P2. \n",
    "\n",
    "> ${\\bf L}$ has at least one eigenvector with zero eigenvalue: indeed, for ${\\bf v} = {\\bf 1}_N = (1, 1, \\ldots, 1)^\\intercal$ we get\n",
    "> $${\\bf L} \\cdot {\\bf 1}_N = {\\bf 0}_N$$\n",
    "\n",
    "> where ${\\bf 0}_N$ is the $N$ dimensional all-zero vector."
   ]
  },
  {
   "cell_type": "markdown",
   "metadata": {
    "slideshow": {
     "slide_type": "fragment"
    }
   },
   "source": [
    "#### P3. \n",
    "\n",
    "> If ${\\bf K}$ is block diagonal, its Laplacian is block diagonal."
   ]
  },
  {
   "cell_type": "markdown",
   "metadata": {
    "slideshow": {
     "slide_type": "fragment"
    }
   },
   "source": [
    "#### P4. \n",
    "\n",
    "> If ${\\bf L}$ is a block diagonal with blocks ${\\bf L}_0, {\\bf L}_1, \\ldots, {\\bf L}_{c-1}$, then it has at least $c$ orthogonal eigenvectors with zero eigenvalue: indeed, each block ${\\bf L}_i$ is the Laplacian matrix of the graph containing the samples in the $i$ connected component, therefore, according to property P2,\n",
    "\n",
    "> $${\\bf L}_i \\cdot {\\bf 1}_{N_i} = {\\bf 0}_{N_i}$$\n",
    "\n",
    "> where $N_i$ is the number of samples in the $i$-th connected component.\n",
    "\n",
    "> Therefore, if $${\\bf v}_i =  \\left(\\begin{array}{l} \n",
    "{\\bf 0}_{N_0} \\\\\n",
    "\\vdots \\\\\n",
    "{\\bf 0}_{N_{i-1}} \\\\\n",
    "{\\bf 1}_{N_i} \\\\\n",
    "{\\bf 0}_{N_{i+1}} \\\\\n",
    "\\vdots \\\\\n",
    "{\\bf 0}_{N_{c-1}}\n",
    "\\end{array}\n",
    "\\right)\n",
    "$$ \n",
    "then\n",
    "> $${\\bf L} \\cdot {\\bf v}_{i} = {\\bf 0}_{N}$$"
   ]
  },
  {
   "cell_type": "markdown",
   "metadata": {
    "nbpresent": {
     "id": "28fce996-13b7-487a-977e-2022757453cb"
    },
    "slideshow": {
     "slide_type": "subslide"
    }
   },
   "source": [
    "We can compute the Laplacian matrix for the given dataset and visualize the eigenvalues:"
   ]
  },
  {
   "cell_type": "code",
   "execution_count": null,
   "metadata": {
    "collapsed": true,
    "nbpresent": {
     "id": "f4d08aab-9065-496e-811b-99d7c7b7d1a3"
    },
    "slideshow": {
     "slide_type": "fragment"
    }
   },
   "outputs": [],
   "source": [
    "Dst = np.diag(np.sum(Kst, axis=1))\n",
    "Lst = Dst - Kst\n",
    "\n",
    "# Next, we compute the eigenvalues of the matrix\n",
    "w = np.linalg.eigvalsh(Lst)\n",
    "plt.figure()\n",
    "plt.plot(w, marker='.');\n",
    "plt.title('Eigenvalues of the matrix')\n",
    "plt.show()"
   ]
  },
  {
   "cell_type": "markdown",
   "metadata": {
    "nbpresent": {
     "id": "26820ff4-bafe-4d8e-b1ab-cde5945e1d7f"
    },
    "slideshow": {
     "slide_type": "subslide"
    }
   },
   "source": [
    "#### Exercise 4: \n",
    "Verify that ${\\bf 1}_N$ is an eigenvector with zero eigenvalues. To do so, compute ${\\bf L}_{st} \\cdot {\\bf 1}_N$ and verify that its <a href= https://docs.scipy.org/doc/numpy/reference/generated/numpy.linalg.norm.html>euclidean norm</a> is close to zero (it may be not exactly zero due to finite precission errors).\n",
    "\n",
    "Verify that vectors ${\\bf v}_i$ defined above (that you can compute using `vi = (ys==i)`) also have zero eigenvalue. "
   ]
  },
  {
   "cell_type": "code",
   "execution_count": null,
   "metadata": {
    "collapsed": true,
    "nbpresent": {
     "id": "2c7f2660-a68a-462a-b9cb-8da9a5bd3615"
    },
    "slideshow": {
     "slide_type": "fragment"
    }
   },
   "outputs": [],
   "source": [
    "# <SOL>\n",
    "print(np.linalg.norm(Lst.dot(np.ones((N,1)))))\n",
    "for i in range(nc):\n",
    "    vi = (ys==i)\n",
    "    print(np.linalg.norm(Lst.dot(vi)))\n",
    "# </SOL>"
   ]
  },
  {
   "cell_type": "markdown",
   "metadata": {
    "nbpresent": {
     "id": "c6eee78c-18b7-47b5-a87d-6beedd90b40a"
    },
    "slideshow": {
     "slide_type": "subslide"
    }
   },
   "source": [
    "#### Exercise 5: \n",
    "\n",
    "Verify that the spectral properties of the Laplacian matrix computed from ${\\bf K}_{st}$ still apply using the unsorted matrix, ${\\bf K}_t$: compute ${\\bf L}_{t} \\cdot {\\bf v}'_{i}$, where ${\\bf v}'_i$ is a binary vector with components equal to 1 at the positions corresponding to samples in cluster $i$ (that you can compute using `vi = (y==i)`)), and verify that its euclidean norm is close to zero."
   ]
  },
  {
   "cell_type": "code",
   "execution_count": null,
   "metadata": {
    "collapsed": true,
    "nbpresent": {
     "id": "180d0716-e2b5-409e-966c-e88c881faee5"
    },
    "slideshow": {
     "slide_type": "fragment"
    }
   },
   "outputs": [],
   "source": [
    "# <SOL>\n",
    "Dt = np.diag(np.sum(Kt, axis=1))\n",
    "Lt = Dt - Kt\n",
    "print(np.linalg.norm(Lt.dot(np.ones((N,1)))))\n",
    "for i in range(nc):\n",
    "    vi = (y==i)\n",
    "    print(np.linalg.norm(Lt.dot(vi)))\n",
    "# </SOL>"
   ]
  },
  {
   "cell_type": "markdown",
   "metadata": {
    "nbpresent": {
     "id": "513e8a60-8c97-4e42-a859-64bc0818f7b7"
    },
    "slideshow": {
     "slide_type": "subslide"
    }
   },
   "source": [
    "Note that the position of 1's in eigenvectors ${\\bf v}_i$ points out the samples in the $i$-th connected component. This suggest the following tentative clustering algorithm:\n",
    "\n",
    "1. Compute the affinity matrix\n",
    "2. Compute the laplacian matrix\n",
    "3. Compute $c$ orthogonal eigenvectors with zero eigenvalue\n",
    "4. If $v_{in}=1$, assign ${\\bf x}^{(n)}$ to cluster $i$. \n",
    "\n",
    "This is the grounding idea of some spectral clustering algorithms. In this precise form, this algorithm does not usually work, for several reasons that we will discuss next, but with some modifications it becomes a powerfull method."
   ]
  },
  {
   "cell_type": "markdown",
   "metadata": {
    "nbpresent": {
     "id": "a26295d1-cb15-4349-93c7-95c5894ae875"
    },
    "slideshow": {
     "slide_type": "slide"
    }
   },
   "source": [
    "### 4.2. Computing eigenvectors of the Laplacian Matrix\n",
    "\n",
    "One of the reasons why the algorithm above may not work is that vectors ${\\bf v}'_0, \\ldots,{\\bf v}'_{c-1}$ are not the only zero eigenvectors or ${\\bf L}_t$: any linear combination of them is also a zero eigenvector. Eigenvector computation algorithms may return a different set of orthogonal eigenvectors.\n",
    "\n",
    "However, one can expect that eigenvector should have similar component in the positions corresponding to samples in the same connected component. "
   ]
  },
  {
   "cell_type": "code",
   "execution_count": null,
   "metadata": {
    "collapsed": true,
    "nbpresent": {
     "id": "86db57a2-6e1d-43d7-ba15-c0751fd41457"
    },
    "slideshow": {
     "slide_type": "fragment"
    }
   },
   "outputs": [],
   "source": [
    "wst, vst = np.linalg.eigh(Lst)\n",
    "\n",
    "for n in range(nc):\n",
    "    plt.plot(vst[:,n], '.-')"
   ]
  },
  {
   "cell_type": "code",
   "execution_count": null,
   "metadata": {
    "collapsed": true
   },
   "outputs": [],
   "source": [
    "plt.imshow(vst[:,:nc], aspect='auto')\n",
    "plt.grid(False)\n",
    "plt.title('Display of first 4 eigenvectors of Ks')"
   ]
  },
  {
   "cell_type": "markdown",
   "metadata": {
    "nbpresent": {
     "id": "1aa75837-0ae2-48a3-9dca-b8e0003a02e8"
    },
    "slideshow": {
     "slide_type": "slide"
    }
   },
   "source": [
    "### 4.3. Non block diagonal matrices.\n",
    "\n",
    "Another reason to modify our tentative algorithm is that, in more realistic cases, the affinity matrix may have an imperfect block diagonal structure. In such cases, the smallest eigenvalues may be nonzero and eigenvectors may be not exactly piecewise constant."
   ]
  },
  {
   "cell_type": "markdown",
   "metadata": {
    "nbpresent": {
     "id": "8bc8015c-514c-46f2-a175-31f15d1dd044"
    },
    "slideshow": {
     "slide_type": "subslide"
    }
   },
   "source": [
    "#### Exercise 6\n",
    "\n",
    "Plot the eigenvector profile for the shuffled and not thresholded affinity matrix, ${\\bf K}$."
   ]
  },
  {
   "cell_type": "code",
   "execution_count": null,
   "metadata": {
    "collapsed": true,
    "nbpresent": {
     "id": "3cdcb5ba-2e0e-412e-8cb3-db763608b1ce"
    },
    "slideshow": {
     "slide_type": "fragment"
    }
   },
   "outputs": [],
   "source": [
    "# <SOL>\n",
    "D = np.diag(np.sum(K, axis=1))\n",
    "L = D - K\n",
    "w, v = np.linalg.eigh(L)\n",
    "for n in range(nc):\n",
    "    plt.plot(v[:,n], '.-')\n",
    "# </SOL>"
   ]
  },
  {
   "cell_type": "markdown",
   "metadata": {
    "nbpresent": {
     "id": "718f27af-91e4-475d-b7cb-fba201e6cd62"
    },
    "slideshow": {
     "slide_type": "subslide"
    }
   },
   "source": [
    "Note that, despite the eigenvector components can not be used as a straighforward cluster indicator, they are strongly  informative of the clustering structure. \n",
    "\n",
    "* All points in the same cluster have similar values of the corresponding eigenvector components $(v_{n0}, \\ldots, v_{n,c-1})$.\n",
    "* Points from different clusters have different values of the corresponding eigenvector components $(v_{n0}, \\ldots, v_{n,c-1})$.\n",
    "\n",
    "Therefore we can define vectors ${\\bf z}^{(n)} = (v_{n0}, \\ldots, v_{n,c-1})$ and apply a centroid based algorithm (like $K$-means) to identify all points with similar eigenvector components. The corresponding samples in ${\\bf X}$ become the final clusters of the spectral clustering algorithm. \n",
    "\n",
    "\n",
    "One possible way to identify the cluster structure is to apply a $K$-means algorithm over the eigenvector coordinates. The steps of the spectral clustering algorithm become the following"
   ]
  },
  {
   "cell_type": "markdown",
   "metadata": {
    "collapsed": true,
    "nbpresent": {
     "id": "65685362-6064-4f02-8ef6-87ed5f060a98"
    },
    "slideshow": {
     "slide_type": "slide"
    }
   },
   "source": [
    "## 5. A spectral clustering (*graph cutting*) algorithm\n",
    "\n",
    "### 5.1. The steps of the spectral clustering algorithm.\n",
    "\n",
    "Summarizing, the steps of the spectral clustering algorithm for a data matrix ${\\bf X}$ are the following:\n",
    "\n",
    "1. Compute the affinity matrix, ${\\bf K}$. Optionally, truncate the smallest components to zero.\n",
    "2. Compute the laplacian matrix, ${\\bf L}$\n",
    "3. Compute the $c$ orthogonal eigenvectors with smallest eigenvalues, ${\\bf v}_0,\\ldots,{\\bf v}_{c-1}$\n",
    "4. Construct the sample set ${\\bf Z}$ with rows ${\\bf z}^{(n)} = (v_{0n}, \\ldots, v_{c-1,n})$\n",
    "5. Apply the $K$-means algorithms over ${\\bf Z}$ with $K=c$ centroids.\n",
    "6. Assign samples in ${\\bf X}$ to clusters: if ${\\bf z}^{(n)}$ is assigned by $K$-means to cluster $i$, assign sample ${\\bf x}^{(n)}$ in ${\\bf X}$ to cluster $i$."
   ]
  },
  {
   "cell_type": "markdown",
   "metadata": {
    "nbpresent": {
     "id": "981789e5-ccfc-474e-9d32-0fefcf9aa5ff"
    },
    "slideshow": {
     "slide_type": "subslide"
    }
   },
   "source": [
    "#### Exercise 7:\n",
    "\n",
    "In this exercise we will apply the spectral clustering algorithm to the *two-rings* dataset ${\\bf X}_2$, using $\\gamma = 20$, $t=0.1$ and $c = 2$ clusters.\n",
    "\n",
    "* Complete step 1, and plot the graph induced by ${\\bf K}$"
   ]
  },
  {
   "cell_type": "code",
   "execution_count": null,
   "metadata": {
    "collapsed": true,
    "nbpresent": {
     "id": "43c44088-9e78-4be4-a6ff-922681e09f6e"
    },
    "slideshow": {
     "slide_type": "fragment"
    }
   },
   "outputs": [],
   "source": [
    "# <SOL>\n",
    "g = 20\n",
    "t = 0.1\n",
    "K2 = rbf_kernel(X2, X2, gamma=g)\n",
    "K2t = K2*(K2>t)\n",
    "G2 = nx.from_numpy_matrix(K2t)\n",
    "graphplot = nx.draw(G2, X2, node_size=40, width=0.5)\n",
    "plt.axis('equal')\n",
    "plt.show()\n",
    "# </SOL>"
   ]
  },
  {
   "cell_type": "markdown",
   "metadata": {
    "nbpresent": {
     "id": "06201684-62f3-4ee6-a741-63c460a8c103"
    },
    "slideshow": {
     "slide_type": "subslide"
    }
   },
   "source": [
    "* Complete step 2, 3 and 4, and draw a scatter plot of the samples in ${\\bf Z}$"
   ]
  },
  {
   "cell_type": "code",
   "execution_count": null,
   "metadata": {
    "collapsed": true,
    "nbpresent": {
     "id": "bc1e8136-120c-420b-b9ff-9e8b855cbff2"
    },
    "slideshow": {
     "slide_type": "fragment"
    }
   },
   "outputs": [],
   "source": [
    "# <SOL>\n",
    "D2t = np.diag(np.sum(K2t, axis=1))\n",
    "L2t = D2t - K2t\n",
    "w2t, v2t = np.linalg.eigh(L2t)\n",
    "Z2t = v2t[:,0:2]\n",
    "\n",
    "plt.scatter(Z2t[:,0], Z2t[:,1], s=20)\n",
    "plt.show()\n",
    "# </SOL>"
   ]
  },
  {
   "cell_type": "markdown",
   "metadata": {
    "nbpresent": {
     "id": "7efb7811-a289-4ded-927e-2a56b6f6be6b"
    },
    "slideshow": {
     "slide_type": "subslide"
    }
   },
   "source": [
    "* Complete step 5"
   ]
  },
  {
   "cell_type": "code",
   "execution_count": null,
   "metadata": {
    "collapsed": true,
    "nbpresent": {
     "id": "1ddb1ab3-7456-48e3-8f86-3e638dce371f"
    },
    "slideshow": {
     "slide_type": "fragment"
    }
   },
   "outputs": [],
   "source": [
    "est = KMeans(n_clusters=2)\n",
    "clusters = est.fit_predict(Z2t)"
   ]
  },
  {
   "cell_type": "markdown",
   "metadata": {
    "nbpresent": {
     "id": "5a77d8f4-61bd-4031-84d9-e3da44a71218"
    },
    "slideshow": {
     "slide_type": "subslide"
    }
   },
   "source": [
    "* Finally, complete step 6 and show, in a scatter plot, the result of the clustering algorithm"
   ]
  },
  {
   "cell_type": "code",
   "execution_count": null,
   "metadata": {
    "collapsed": true,
    "nbpresent": {
     "id": "f579c809-894b-41b9-81bd-be8f0ecd0be7"
    },
    "slideshow": {
     "slide_type": "fragment"
    }
   },
   "outputs": [],
   "source": [
    "plt.scatter(X2[:, 0], X2[:, 1], c=clusters, s=50, cmap='rainbow')\n",
    "plt.axis('equal')\n",
    "plt.show()"
   ]
  },
  {
   "cell_type": "markdown",
   "metadata": {
    "nbpresent": {
     "id": "ce6ff67b-20ed-491f-a63c-9ccd91218163"
    },
    "slideshow": {
     "slide_type": "slide"
    }
   },
   "source": [
    "### 5.2. Scikit-learn implementation.\n",
    "\n",
    "The <a href=http://scikit-learn.org/stable/modules/generated/sklearn.cluster.SpectralClustering.html> spectral clustering algorithm </a> in Scikit-learn requires the number of clusters to be specified. It works well for a small number of clusters but is not advised when using many clusters and/or data.\n",
    "\n",
    "Finally, we are going to run spectral clustering on both datasets. Spend a few minutes figuring out the meaning of parameters of the Spectral Clustering implementation of Scikit-learn:\n",
    "\n",
    "http://scikit-learn.org/stable/modules/generated/sklearn.cluster.SpectralClustering.html\n",
    "\n",
    "Note that there is not equivalent parameter to our threshold $t$, which has been useful for the graph representations. However, playing with $\\gamma$ should be enough to get a good clustering.\n",
    "\n",
    "The following piece of code executes the algorithm with an 'rbf' kernel. You can manually adjust the number of clusters and the parameter of the kernel to study the behavior of the algorithm. When you are done, you can also:\n",
    "\n",
    "  - Modify the code to allow for kernels different than the 'rbf'\n",
    "  - Repeat the analysis for the second dataset (*two_rings*)"
   ]
  },
  {
   "cell_type": "code",
   "execution_count": null,
   "metadata": {
    "collapsed": true,
    "nbpresent": {
     "id": "bd5a6797-2d8a-4ccb-b4dc-69854465afbb"
    },
    "slideshow": {
     "slide_type": "subslide"
    }
   },
   "outputs": [],
   "source": [
    "n_clusters = 4\n",
    "gamma = .1  # Warning do not exceed gamma=100\n",
    "SpClus = SpectralClustering(n_clusters=n_clusters,affinity='rbf',\n",
    "                            gamma=gamma)\n",
    "SpClus.fit(X)\n",
    "\n",
    "plt.scatter(X[:, 0], X[:, 1], c=SpClus.labels_.astype(np.int), s=50, \n",
    "            cmap='rainbow')\n",
    "plt.axis('equal')\n",
    "plt.show()"
   ]
  },
  {
   "cell_type": "code",
   "execution_count": null,
   "metadata": {
    "collapsed": true,
    "nbpresent": {
     "id": "88eb9c1d-1e84-42ce-98e8-7dd254c25b62"
    },
    "slideshow": {
     "slide_type": "subslide"
    }
   },
   "outputs": [],
   "source": [
    "nc = 2\n",
    "gamma = 50  #Warning do not exceed gamma=300\n",
    "\n",
    "SpClus = SpectralClustering(n_clusters=nc, affinity='rbf', gamma=gamma)\n",
    "SpClus.fit(X2)\n",
    "\n",
    "plt.scatter(X2[:, 0], X2[:, 1], c=SpClus.labels_.astype(np.int), s=50, \n",
    "            cmap='rainbow')\n",
    "plt.axis('equal')\n",
    "plt.show()"
   ]
  },
  {
   "cell_type": "code",
   "execution_count": null,
   "metadata": {
    "collapsed": true,
    "nbpresent": {
     "id": "810003bf-2329-46f9-b051-9387386255db"
    },
    "slideshow": {
     "slide_type": "subslide"
    }
   },
   "outputs": [],
   "source": [
    "nc = 5\n",
    "SpClus = SpectralClustering(n_clusters=nc, affinity='nearest_neighbors')\n",
    "SpClus.fit(X2)\n",
    "\n",
    "plt.scatter(X2[:, 0], X2[:, 1], c=SpClus.labels_.astype(np.int), s=50, \n",
    "            cmap='rainbow')\n",
    "plt.axis('equal')\n",
    "plt.show()"
   ]
  },
  {
   "cell_type": "markdown",
   "metadata": {
    "nbpresent": {
     "id": "ee14af18-9452-449e-8071-baa5236d99a6"
    },
    "slideshow": {
     "slide_type": "slide"
    }
   },
   "source": [
    "## 5.2. Other clustering algorithms.\n",
    "\n",
    "### 5.2.1. Agglomerative Clustering algorithms\n",
    "\n",
    "Bottom-up approach:\n",
    "\n",
    "* At the beginning, each data point is a different cluster\n",
    "* At each step of the algorithm two clusters are merged, according to certain performance criterion\n",
    "* At the end of the algorithm, all points belong to the root node\n",
    "\n",
    "In practice, this creates a hierarchical tree, that can be visualized with a dendogram. We can cut the tree at different levels, in each case obtaining a different number of clusters.\n",
    "\n",
    "<img src=https://docs.scipy.org/doc/scipy/reference/_images/scipy-cluster-hierarchy-dendrogram-1_00.png> \n"
   ]
  },
  {
   "cell_type": "markdown",
   "metadata": {
    "collapsed": true,
    "nbpresent": {
     "id": "d071e4a2-fcdc-416a-b2e4-62228e345690"
    },
    "slideshow": {
     "slide_type": "subslide"
    }
   },
   "source": [
    "#### Criteria for merging clusters\n",
    "\n",
    "We merge the two closest clusters, where the distance between clusters is defined as:\n",
    "\n",
    "* Single: Distance between clusters is the minimum of the distances between any two points in the clusters\n",
    "* Complete: Maximal distance between any two points in each cluster\n",
    "* Average: Average distance between points in both clusters\n",
    "* Centroid: Distance between the (Euclidean) centroids of both clusters\n",
    "* Ward: We merge centroids so that the overall increment of {\\em within-cluster} variance is minimum. "
   ]
  },
  {
   "cell_type": "markdown",
   "metadata": {
    "nbpresent": {
     "id": "2b19a691-4402-4225-a7f2-00c371e847c0"
    },
    "slideshow": {
     "slide_type": "subslide"
    }
   },
   "source": [
    "#### Python implementations\n",
    "\n",
    "Hierarchical clustering may lead to clusters of very different sizes. Complete linkage is the worst strategy, while Ward gives the most regular sizes. However, the affinity (or distance used in clustering) cannot be varied with Ward, thus for non Euclidean metrics, average linkage is a good alternative. \n",
    "\n",
    "There are at least three different implementations of the algorithm:\n",
    "\n",
    "* <a href=\"https://scikit-learn.org/stable/modules/generated/sklearn.cluster.AgglomerativeClustering.html#sklearn.cluster.AgglomerativeClustering\">Scikit-learn</a>: Only implements 'complete', 'ward', and 'average' linkage methods. Allows for the definition of connectivity constraints\n",
    "* <a href=\"https://docs.scipy.org/doc/scipy/reference/cluster.hierarchy.html\">Scipy</a>\n",
    "* fastcluster: Similar to Scipy, but more efficient with respect to computation and memory."
   ]
  },
  {
   "cell_type": "code",
   "execution_count": null,
   "metadata": {
    "collapsed": true
   },
   "outputs": [],
   "source": []
  }
 ],
 "metadata": {
  "anaconda-cloud": {},
  "kernelspec": {
   "display_name": "Python 3",
   "language": "python",
   "name": "python3"
  },
  "language_info": {
   "codemirror_mode": {
    "name": "ipython",
    "version": 3
   },
   "file_extension": ".py",
   "mimetype": "text/x-python",
   "name": "python",
   "nbconvert_exporter": "python",
   "pygments_lexer": "ipython3",
   "version": "3.7.2"
  },
  "nbpresent": {
   "slides": {
    "016c3752-37d7-4ba8-b84d-481c2422eb3d": {
     "id": "016c3752-37d7-4ba8-b84d-481c2422eb3d",
     "prev": "a71f3390-e51f-442f-95d2-480a1d898bd8",
     "regions": {
      "82a24ef5-e0bf-4c3c-8fa6-a3b7cc430fd8": {
       "attrs": {
        "height": 0.8,
        "width": 0.8,
        "x": 0.1,
        "y": 0.1
       },
       "content": {
        "cell": "bd5a6797-2d8a-4ccb-b4dc-69854465afbb",
        "part": "whole"
       },
       "id": "82a24ef5-e0bf-4c3c-8fa6-a3b7cc430fd8"
      }
     }
    },
    "05c70baa-d3f0-45dc-aa0b-2fdfd61d0def": {
     "id": "05c70baa-d3f0-45dc-aa0b-2fdfd61d0def",
     "prev": "ea3062e5-8738-467c-a0f2-458df7e4a31c",
     "regions": {
      "b2dfc720-e505-4415-80c9-9508b234d34d": {
       "attrs": {
        "height": 0.8,
        "width": 0.8,
        "x": 0.1,
        "y": 0.1
       },
       "content": {
        "cell": "7efb7811-a289-4ded-927e-2a56b6f6be6b",
        "part": "whole"
       },
       "id": "b2dfc720-e505-4415-80c9-9508b234d34d"
      }
     }
    },
    "09975c03-c2a5-4174-afe8-245f4bc1aab3": {
     "id": "09975c03-c2a5-4174-afe8-245f4bc1aab3",
     "prev": "d614451b-ff8a-45d1-9789-bb021397c7e7",
     "regions": {
      "5b82df27-5062-47cb-beb2-38863a6aacbe": {
       "attrs": {
        "height": 0.8,
        "width": 0.8,
        "x": 0.1,
        "y": 0.1
       },
       "content": {
        "cell": "718f27af-91e4-475d-b7cb-fba201e6cd62",
        "part": "whole"
       },
       "id": "5b82df27-5062-47cb-beb2-38863a6aacbe"
      }
     }
    },
    "11b9f4ed-6f2b-46ed-8e40-1ee0c33a9056": {
     "id": "11b9f4ed-6f2b-46ed-8e40-1ee0c33a9056",
     "prev": "622d29a6-1ef0-4b82-b7d1-a4fd8a0029eb",
     "regions": {
      "4e9c2eb6-94eb-45ae-afeb-26e5cb0a801e": {
       "attrs": {
        "height": 0.8,
        "width": 0.8,
        "x": 0.1,
        "y": 0.1
       },
       "content": {
        "cell": "f4d08aab-9065-496e-811b-99d7c7b7d1a3",
        "part": "whole"
       },
       "id": "4e9c2eb6-94eb-45ae-afeb-26e5cb0a801e"
      }
     }
    },
    "15c48107-f587-4f52-98b7-d11806e4aff4": {
     "id": "15c48107-f587-4f52-98b7-d11806e4aff4",
     "prev": "e4214ce9-a1a1-4b8c-b7f7-86936f681069",
     "regions": {
      "8f93ec2b-e620-4b62-ae07-02477673bac4": {
       "attrs": {
        "height": 0.8,
        "width": 0.8,
        "x": 0.1,
        "y": 0.1
       },
       "content": {
        "cell": "180d0716-e2b5-409e-966c-e88c881faee5",
        "part": "whole"
       },
       "id": "8f93ec2b-e620-4b62-ae07-02477673bac4"
      }
     }
    },
    "18a38473-6581-4fce-a44e-4e857de5523d": {
     "id": "18a38473-6581-4fce-a44e-4e857de5523d",
     "prev": "f3171a0e-cdba-4a0a-a1c2-d485f6d960d9",
     "regions": {
      "e90b2aa7-5268-439d-8004-e9d078a790aa": {
       "attrs": {
        "height": 0.8,
        "width": 0.8,
        "x": 0.1,
        "y": 0.1
       },
       "content": {
        "cell": "43c44088-9e78-4be4-a6ff-922681e09f6e",
        "part": "whole"
       },
       "id": "e90b2aa7-5268-439d-8004-e9d078a790aa"
      }
     }
    },
    "1bc01bfc-bd96-4b9d-ad5c-745f35e8a9d9": {
     "id": "1bc01bfc-bd96-4b9d-ad5c-745f35e8a9d9",
     "prev": "3bb2a7e2-5e3c-4a09-ba5e-c97fc6c4e564",
     "regions": {
      "460dd355-7ce5-4ca0-9da4-c62bab8769d4": {
       "attrs": {
        "height": 0.8,
        "width": 0.8,
        "x": 0.1,
        "y": 0.1
       },
       "content": {
        "cell": "265d0881-369a-4047-a750-e5a7b6ba3ebe",
        "part": "whole"
       },
       "id": "460dd355-7ce5-4ca0-9da4-c62bab8769d4"
      }
     }
    },
    "2a799fde-4fef-4728-adbd-537f31c79ce2": {
     "id": "2a799fde-4fef-4728-adbd-537f31c79ce2",
     "prev": "7f84d359-63ea-4dc6-9910-d11fb33eb3bb",
     "regions": {
      "18148937-7749-441a-8b5b-0ae19aa86804": {
       "attrs": {
        "height": 0.8,
        "width": 0.8,
        "x": 0.1,
        "y": 0.1
       },
       "content": {
        "cell": "bf938e8e-ef9a-4b43-b48e-fe56c550ec16",
        "part": "whole"
       },
       "id": "18148937-7749-441a-8b5b-0ae19aa86804"
      }
     }
    },
    "2e01134a-9ca5-4794-8012-667b2112f92d": {
     "id": "2e01134a-9ca5-4794-8012-667b2112f92d",
     "prev": "cc07b2e0-d8fc-4d58-837c-751ee97b1f3c",
     "regions": {
      "861adfd3-78d3-4d6a-8511-bef3fb5426bc": {
       "attrs": {
        "height": 0.8,
        "width": 0.8,
        "x": 0.1,
        "y": 0.1
       },
       "content": {
        "cell": "b069f8c4-6d49-4dfb-8762-ba94a5fc0063",
        "part": "whole"
       },
       "id": "861adfd3-78d3-4d6a-8511-bef3fb5426bc"
      }
     }
    },
    "2e3437cd-11a1-466f-8c05-0b042f87136c": {
     "id": "2e3437cd-11a1-466f-8c05-0b042f87136c",
     "prev": "a0c92d6f-1d33-4db2-8200-ebc983859157",
     "regions": {
      "4036a366-954c-4f51-b676-46a2e6cf218d": {
       "attrs": {
        "height": 0.8,
        "width": 0.8,
        "x": 0.1,
        "y": 0.1
       },
       "content": {
        "cell": "3d1726d2-7563-42bf-afcf-1ab07c6e6c36",
        "part": "whole"
       },
       "id": "4036a366-954c-4f51-b676-46a2e6cf218d"
      }
     }
    },
    "2e4df664-ff92-417a-9147-6d3228e56071": {
     "id": "2e4df664-ff92-417a-9147-6d3228e56071",
     "prev": "65bacf36-80d3-4bec-80d8-b4ccca5e56ec",
     "regions": {
      "38a883a7-72ab-45b4-a918-36c9d9d0a418": {
       "attrs": {
        "height": 0.8,
        "width": 0.8,
        "x": 0.1,
        "y": 0.1
       },
       "content": {
        "cell": "f579c809-894b-41b9-81bd-be8f0ecd0be7",
        "part": "whole"
       },
       "id": "38a883a7-72ab-45b4-a918-36c9d9d0a418"
      }
     }
    },
    "33688a7d-c80c-43d6-a993-b80dbba9f8f6": {
     "id": "33688a7d-c80c-43d6-a993-b80dbba9f8f6",
     "prev": "d0657f72-9499-4403-a740-2ad1dd18dbe4",
     "regions": {
      "f7e91f8a-905b-436c-952f-22e4284f1f09": {
       "attrs": {
        "height": 0.8,
        "width": 0.8,
        "x": 0.1,
        "y": 0.1
       },
       "content": {
        "cell": "40ef2f2d-9ac9-4a28-97c8-960219fe11d5",
        "part": "whole"
       },
       "id": "f7e91f8a-905b-436c-952f-22e4284f1f09"
      }
     }
    },
    "36a63203-e78f-455a-922a-1c473d40fbc6": {
     "id": "36a63203-e78f-455a-922a-1c473d40fbc6",
     "prev": "b939ad9a-690e-48c8-b15c-48f9df206f3a",
     "regions": {
      "8b541bd2-3a64-49ee-bda4-1e42a29fce2c": {
       "attrs": {
        "height": 0.8,
        "width": 0.8,
        "x": 0.1,
        "y": 0.1
       },
       "content": {
        "cell": "8bc8015c-514c-46f2-a175-31f15d1dd044",
        "part": "whole"
       },
       "id": "8b541bd2-3a64-49ee-bda4-1e42a29fce2c"
      }
     }
    },
    "3a0c7fae-d05f-4725-a88f-2039f2c6ca19": {
     "id": "3a0c7fae-d05f-4725-a88f-2039f2c6ca19",
     "prev": "7cf2510b-27a4-4578-b9ee-5521369fc558",
     "regions": {
      "3480f420-2635-4cdf-980b-1cd9a062e892": {
       "attrs": {
        "height": 0.8,
        "width": 0.8,
        "x": 0.1,
        "y": 0.1
       },
       "content": {
        "cell": "d071e4a2-fcdc-416a-b2e4-62228e345690",
        "part": "whole"
       },
       "id": "3480f420-2635-4cdf-980b-1cd9a062e892"
      }
     }
    },
    "3a46dbab-685d-4be6-b48b-9c188c5d565c": {
     "id": "3a46dbab-685d-4be6-b48b-9c188c5d565c",
     "prev": "8c35a7e5-41db-4eb9-b807-21b14e72a140",
     "regions": {
      "1d6ae5f2-9d18-4c6b-a13b-f03d2af9e902": {
       "attrs": {
        "height": 0.8,
        "width": 0.8,
        "x": 0.1,
        "y": 0.1
       },
       "content": {
        "cell": "810003bf-2329-46f9-b051-9387386255db",
        "part": "whole"
       },
       "id": "1d6ae5f2-9d18-4c6b-a13b-f03d2af9e902"
      }
     }
    },
    "3bb2a7e2-5e3c-4a09-ba5e-c97fc6c4e564": {
     "id": "3bb2a7e2-5e3c-4a09-ba5e-c97fc6c4e564",
     "prev": "689dbe9f-907d-4d85-b670-e1c798a4f818",
     "regions": {
      "fc743e2b-c039-4a6f-b157-82c41f0cffb4": {
       "attrs": {
        "height": 0.8,
        "width": 0.8,
        "x": 0.1,
        "y": 0.1
       },
       "content": {
        "cell": "856a2421-6e59-4d57-8968-7e59fbdb6c8d",
        "part": "whole"
       },
       "id": "fc743e2b-c039-4a6f-b157-82c41f0cffb4"
      }
     }
    },
    "40a515d7-ea65-476c-bbc6-049e3a22eb68": {
     "id": "40a515d7-ea65-476c-bbc6-049e3a22eb68",
     "prev": "adcbde28-00ea-42f1-b463-d901fcee4c57",
     "regions": {
      "d8b039e0-65d2-49c1-a3d3-f0c679db805b": {
       "attrs": {
        "height": 0.8,
        "width": 0.8,
        "x": 0.1,
        "y": 0.1
       },
       "content": {
        "cell": "08a40259-7b39-4628-bc49-dd2a2e0d3f45",
        "part": "whole"
       },
       "id": "d8b039e0-65d2-49c1-a3d3-f0c679db805b"
      }
     }
    },
    "424efb2a-7e51-4e08-9d3f-cc4fbe9852db": {
     "id": "424efb2a-7e51-4e08-9d3f-cc4fbe9852db",
     "prev": "15c48107-f587-4f52-98b7-d11806e4aff4",
     "regions": {
      "c563721d-cb73-41f8-a271-e99f34d5090d": {
       "attrs": {
        "height": 0.8,
        "width": 0.8,
        "x": 0.1,
        "y": 0.1
       },
       "content": {
        "cell": "513e8a60-8c97-4e42-a859-64bc0818f7b7",
        "part": "whole"
       },
       "id": "c563721d-cb73-41f8-a271-e99f34d5090d"
      }
     }
    },
    "461e15ba-6508-47bd-9352-6a7b7b83270a": {
     "id": "461e15ba-6508-47bd-9352-6a7b7b83270a",
     "prev": "eb1150df-b475-4abe-bdd5-b58d18ec4b33",
     "regions": {
      "edacd5f2-b230-4e24-a3db-b97b09c486fd": {
       "attrs": {
        "height": 0.8,
        "width": 0.8,
        "x": 0.1,
        "y": 0.1
       },
       "content": {
        "cell": "16417f57-b3c0-47e2-ab0d-98d5249ca768",
        "part": "whole"
       },
       "id": "edacd5f2-b230-4e24-a3db-b97b09c486fd"
      }
     }
    },
    "4819413b-4631-4a4f-9b3e-33122a1e2bb0": {
     "id": "4819413b-4631-4a4f-9b3e-33122a1e2bb0",
     "prev": "785d3ae6-2bfe-4f29-a310-8ce85ec4fbb9",
     "regions": {
      "0c006b7b-5269-4edc-8ecb-7026fb6e0a37": {
       "attrs": {
        "height": 0.8,
        "width": 0.8,
        "x": 0.1,
        "y": 0.1
       },
       "content": {
        "cell": "2c7f2660-a68a-462a-b9cb-8da9a5bd3615",
        "part": "whole"
       },
       "id": "0c006b7b-5269-4edc-8ecb-7026fb6e0a37"
      }
     }
    },
    "49f4161a-0d59-4d6a-8784-eada7ac6aeb9": {
     "id": "49f4161a-0d59-4d6a-8784-eada7ac6aeb9",
     "prev": "2e3437cd-11a1-466f-8c05-0b042f87136c",
     "regions": {
      "2506f436-741b-4d20-b1d3-3565e4fd961b": {
       "attrs": {
        "height": 0.8,
        "width": 0.8,
        "x": 0.1,
        "y": 0.1
       },
       "content": {
        "cell": "289e6949-2aa0-4331-b0d8-0d361df8198b",
        "part": "whole"
       },
       "id": "2506f436-741b-4d20-b1d3-3565e4fd961b"
      }
     }
    },
    "5b8a32a5-dbb7-44cd-a9de-3707ede30c64": {
     "id": "5b8a32a5-dbb7-44cd-a9de-3707ede30c64",
     "prev": "461e15ba-6508-47bd-9352-6a7b7b83270a",
     "regions": {
      "a601d003-f4d6-4681-ba19-650e70e750f6": {
       "attrs": {
        "height": 0.8,
        "width": 0.8,
        "x": 0.1,
        "y": 0.1
       },
       "content": {
        "cell": "eeffab07-357b-4096-b71c-7f5e21233434",
        "part": "whole"
       },
       "id": "a601d003-f4d6-4681-ba19-650e70e750f6"
      }
     }
    },
    "622d29a6-1ef0-4b82-b7d1-a4fd8a0029eb": {
     "id": "622d29a6-1ef0-4b82-b7d1-a4fd8a0029eb",
     "prev": "2e01134a-9ca5-4794-8012-667b2112f92d",
     "regions": {
      "9da8e7e1-e387-4ebe-b23d-91695aa634c0": {
       "attrs": {
        "height": 0.8,
        "width": 0.8,
        "x": 0.1,
        "y": 0.1
       },
       "content": {
        "cell": "28fce996-13b7-487a-977e-2022757453cb",
        "part": "whole"
       },
       "id": "9da8e7e1-e387-4ebe-b23d-91695aa634c0"
      }
     }
    },
    "630887a8-d287-4561-9b4e-54a16a5b5c34": {
     "id": "630887a8-d287-4561-9b4e-54a16a5b5c34",
     "prev": "1bc01bfc-bd96-4b9d-ad5c-745f35e8a9d9",
     "regions": {
      "31276bb0-0a56-4b81-beae-8874065a6039": {
       "attrs": {
        "height": 0.8,
        "width": 0.8,
        "x": 0.1,
        "y": 0.1
       },
       "content": {
        "cell": "c0782247-c879-4b29-bc2d-6bbfb3d37865",
        "part": "whole"
       },
       "id": "31276bb0-0a56-4b81-beae-8874065a6039"
      }
     }
    },
    "652406c7-bf51-4232-9f5e-49b1ed38d407": {
     "id": "652406c7-bf51-4232-9f5e-49b1ed38d407",
     "prev": "49f4161a-0d59-4d6a-8784-eada7ac6aeb9",
     "regions": {
      "382bbb04-1c97-4743-a79d-eba42e3cd4b9": {
       "attrs": {
        "height": 0.8,
        "width": 0.8,
        "x": 0.1,
        "y": 0.1
       },
       "content": {
        "cell": "dd139c2e-cf0f-4619-a76f-e9f89d616a48",
        "part": "whole"
       },
       "id": "382bbb04-1c97-4743-a79d-eba42e3cd4b9"
      }
     }
    },
    "65bacf36-80d3-4bec-80d8-b4ccca5e56ec": {
     "id": "65bacf36-80d3-4bec-80d8-b4ccca5e56ec",
     "prev": "e10e7cc3-ab97-423c-a944-ba449bab6d58",
     "regions": {
      "e848253f-e0d9-4654-befc-233b4252c068": {
       "attrs": {
        "height": 0.8,
        "width": 0.8,
        "x": 0.1,
        "y": 0.1
       },
       "content": {
        "cell": "5a77d8f4-61bd-4031-84d9-e3da44a71218",
        "part": "whole"
       },
       "id": "e848253f-e0d9-4654-befc-233b4252c068"
      }
     }
    },
    "689dbe9f-907d-4d85-b670-e1c798a4f818": {
     "id": "689dbe9f-907d-4d85-b670-e1c798a4f818",
     "prev": "bdc76a62-ebfd-4785-ad02-d8695b44b471",
     "regions": {
      "16b9adab-ff19-4e07-b6b0-fdb339f38589": {
       "attrs": {
        "height": 0.8,
        "width": 0.8,
        "x": 0.1,
        "y": 0.1
       },
       "content": {
        "cell": "57fc68ce-49bb-4418-bea2-d3b76a151fdc",
        "part": "whole"
       },
       "id": "16b9adab-ff19-4e07-b6b0-fdb339f38589"
      }
     }
    },
    "69e403e7-f031-4bc8-b6fd-2480f905af36": {
     "id": "69e403e7-f031-4bc8-b6fd-2480f905af36",
     "prev": "8e5d6cbe-2731-4cd5-b0ea-e77aefcc468b",
     "regions": {
      "bfdd4dce-a696-48e9-9449-68c30f9ed8b3": {
       "attrs": {
        "height": 0.8,
        "width": 0.8,
        "x": 0.1,
        "y": 0.1
       },
       "content": {
        "cell": "86db57a2-6e1d-43d7-ba15-c0751fd41457",
        "part": "whole"
       },
       "id": "bfdd4dce-a696-48e9-9449-68c30f9ed8b3"
      }
     }
    },
    "785d3ae6-2bfe-4f29-a310-8ce85ec4fbb9": {
     "id": "785d3ae6-2bfe-4f29-a310-8ce85ec4fbb9",
     "prev": "11b9f4ed-6f2b-46ed-8e40-1ee0c33a9056",
     "regions": {
      "6c40b060-3e24-4e52-96ae-41649972b08a": {
       "attrs": {
        "height": 0.8,
        "width": 0.8,
        "x": 0.1,
        "y": 0.1
       },
       "content": {
        "cell": "26820ff4-bafe-4d8e-b1ab-cde5945e1d7f",
        "part": "whole"
       },
       "id": "6c40b060-3e24-4e52-96ae-41649972b08a"
      }
     }
    },
    "7cf2510b-27a4-4578-b9ee-5521369fc558": {
     "id": "7cf2510b-27a4-4578-b9ee-5521369fc558",
     "prev": "3a46dbab-685d-4be6-b48b-9c188c5d565c",
     "regions": {
      "8f9f964b-79bd-4aee-8ae9-171e5ac3121d": {
       "attrs": {
        "height": 0.8,
        "width": 0.8,
        "x": 0.1,
        "y": 0.1
       },
       "content": {
        "cell": "ee14af18-9452-449e-8071-baa5236d99a6",
        "part": "whole"
       },
       "id": "8f9f964b-79bd-4aee-8ae9-171e5ac3121d"
      }
     }
    },
    "7f84d359-63ea-4dc6-9910-d11fb33eb3bb": {
     "id": "7f84d359-63ea-4dc6-9910-d11fb33eb3bb",
     "prev": "c2249146-13a3-4f06-a837-68c2098729cf",
     "regions": {
      "7ed29d35-8780-4655-8474-d9d1eec90f5c": {
       "attrs": {
        "height": 0.8,
        "width": 0.8,
        "x": 0.1,
        "y": 0.1
       },
       "content": {
        "cell": "981a130c-88a9-42cf-b102-f68dcd27dfc2",
        "part": "whole"
       },
       "id": "7ed29d35-8780-4655-8474-d9d1eec90f5c"
      }
     }
    },
    "8a8a150c-84fc-4373-9cd1-7f2a6059afd9": {
     "id": "8a8a150c-84fc-4373-9cd1-7f2a6059afd9",
     "prev": "fd94246e-2cee-48c9-b397-a984b172fffd",
     "regions": {
      "45725728-e246-47a0-8b08-7677017ba360": {
       "attrs": {
        "height": 0.8,
        "width": 0.8,
        "x": 0.1,
        "y": 0.1
       },
       "content": {
        "cell": "50e7375e-7cf9-467c-a698-dc46415bc32f",
        "part": "whole"
       },
       "id": "45725728-e246-47a0-8b08-7677017ba360"
      }
     }
    },
    "8c35a7e5-41db-4eb9-b807-21b14e72a140": {
     "id": "8c35a7e5-41db-4eb9-b807-21b14e72a140",
     "prev": "016c3752-37d7-4ba8-b84d-481c2422eb3d",
     "regions": {
      "42c329a9-e712-4a40-8e0f-1936c23cd850": {
       "attrs": {
        "height": 0.8,
        "width": 0.8,
        "x": 0.1,
        "y": 0.1
       },
       "content": {
        "cell": "88eb9c1d-1e84-42ce-98e8-7dd254c25b62",
        "part": "whole"
       },
       "id": "42c329a9-e712-4a40-8e0f-1936c23cd850"
      }
     }
    },
    "8e5d6cbe-2731-4cd5-b0ea-e77aefcc468b": {
     "id": "8e5d6cbe-2731-4cd5-b0ea-e77aefcc468b",
     "prev": "424efb2a-7e51-4e08-9d3f-cc4fbe9852db",
     "regions": {
      "75571db0-c1ca-4cb7-a5dc-e07f0a689f75": {
       "attrs": {
        "height": 0.8,
        "width": 0.8,
        "x": 0.1,
        "y": 0.1
       },
       "content": {
        "cell": "a26295d1-cb15-4349-93c7-95c5894ae875",
        "part": "whole"
       },
       "id": "75571db0-c1ca-4cb7-a5dc-e07f0a689f75"
      }
     }
    },
    "9d968d69-2889-48e4-a38f-a7ee7cf8c4ad": {
     "id": "9d968d69-2889-48e4-a38f-a7ee7cf8c4ad",
     "prev": "18a38473-6581-4fce-a44e-4e857de5523d",
     "regions": {
      "c7889a96-769c-43ec-9fc4-17ae8750ad43": {
       "attrs": {
        "height": 0.8,
        "width": 0.8,
        "x": 0.1,
        "y": 0.1
       },
       "content": {
        "cell": "06201684-62f3-4ee6-a741-63c460a8c103",
        "part": "whole"
       },
       "id": "c7889a96-769c-43ec-9fc4-17ae8750ad43"
      }
     }
    },
    "9f33d1c6-c188-41ff-8ad9-58fa959756b1": {
     "id": "9f33d1c6-c188-41ff-8ad9-58fa959756b1",
     "prev": "ec6428ea-604d-4d5b-a361-9f0273e02873",
     "regions": {
      "1b22da0e-3d21-4577-b006-1fa2ca7801ef": {
       "attrs": {
        "height": 0.8,
        "width": 0.8,
        "x": 0.1,
        "y": 0.1
       },
       "content": {
        "cell": "2b7256b9-a1c7-4314-a936-3f298d6d53f3",
        "part": "whole"
       },
       "id": "1b22da0e-3d21-4577-b006-1fa2ca7801ef"
      }
     }
    },
    "9f9c8caf-ac5a-4880-9bb8-284163d17a0a": {
     "id": "9f9c8caf-ac5a-4880-9bb8-284163d17a0a",
     "prev": "5b8a32a5-dbb7-44cd-a9de-3707ede30c64",
     "regions": {
      "b967a3e1-3a1a-4071-a420-04a9fd258a11": {
       "attrs": {
        "height": 0.8,
        "width": 0.8,
        "x": 0.1,
        "y": 0.1
       },
       "content": {
        "cell": "8497fea2-5fd3-4aa6-a6cc-2dc665e78823",
        "part": "whole"
       },
       "id": "b967a3e1-3a1a-4071-a420-04a9fd258a11"
      }
     }
    },
    "a0c92d6f-1d33-4db2-8200-ebc983859157": {
     "id": "a0c92d6f-1d33-4db2-8200-ebc983859157",
     "prev": "8a8a150c-84fc-4373-9cd1-7f2a6059afd9",
     "regions": {
      "296ee80b-94ba-41da-a4d6-2f459e04b48d": {
       "attrs": {
        "height": 0.8,
        "width": 0.8,
        "x": 0.1,
        "y": 0.1
       },
       "content": {
        "cell": "c363f2ed-7a6d-4dc4-a636-5da1a73c5a53",
        "part": "whole"
       },
       "id": "296ee80b-94ba-41da-a4d6-2f459e04b48d"
      }
     }
    },
    "a71f3390-e51f-442f-95d2-480a1d898bd8": {
     "id": "a71f3390-e51f-442f-95d2-480a1d898bd8",
     "prev": "2e4df664-ff92-417a-9147-6d3228e56071",
     "regions": {
      "1e223197-7166-4acf-9c63-8bbdfc8e9d4f": {
       "attrs": {
        "height": 0.8,
        "width": 0.8,
        "x": 0.1,
        "y": 0.1
       },
       "content": {
        "cell": "ce6ff67b-20ed-491f-a63c-9ccd91218163",
        "part": "whole"
       },
       "id": "1e223197-7166-4acf-9c63-8bbdfc8e9d4f"
      }
     }
    },
    "adcbde28-00ea-42f1-b463-d901fcee4c57": {
     "id": "adcbde28-00ea-42f1-b463-d901fcee4c57",
     "prev": "d0842fae-812a-4332-8a40-4ffcdee9b632",
     "regions": {
      "d7242c55-e32e-417b-942d-de0076380802": {
       "attrs": {
        "height": 0.8,
        "width": 0.8,
        "x": 0.1,
        "y": 0.1
       },
       "content": {
        "cell": "541253ea-29b0-4742-9293-e8d968fdb0d7",
        "part": "whole"
       },
       "id": "d7242c55-e32e-417b-942d-de0076380802"
      }
     }
    },
    "b939ad9a-690e-48c8-b15c-48f9df206f3a": {
     "id": "b939ad9a-690e-48c8-b15c-48f9df206f3a",
     "prev": "69e403e7-f031-4bc8-b6fd-2480f905af36",
     "regions": {
      "b58283c9-7111-4876-9767-2f7f8b507abb": {
       "attrs": {
        "height": 0.8,
        "width": 0.8,
        "x": 0.1,
        "y": 0.1
       },
       "content": {
        "cell": "1aa75837-0ae2-48a3-9dca-b8e0003a02e8",
        "part": "whole"
       },
       "id": "b58283c9-7111-4876-9767-2f7f8b507abb"
      }
     }
    },
    "bdc76a62-ebfd-4785-ad02-d8695b44b471": {
     "id": "bdc76a62-ebfd-4785-ad02-d8695b44b471",
     "prev": "33688a7d-c80c-43d6-a993-b80dbba9f8f6",
     "regions": {
      "1fa5808c-c66c-4c29-b343-209269f2bce8": {
       "attrs": {
        "height": 0.8,
        "width": 0.8,
        "x": 0.1,
        "y": 0.1
       },
       "content": {
        "cell": "a1c48591-1d25-4360-a144-0f362066607a",
        "part": "whole"
       },
       "id": "1fa5808c-c66c-4c29-b343-209269f2bce8"
      }
     }
    },
    "c2249146-13a3-4f06-a837-68c2098729cf": {
     "id": "c2249146-13a3-4f06-a837-68c2098729cf",
     "prev": "652406c7-bf51-4232-9f5e-49b1ed38d407",
     "regions": {
      "f6422601-6d37-4bc7-92f0-b358293a577f": {
       "attrs": {
        "height": 0.8,
        "width": 0.8,
        "x": 0.1,
        "y": 0.1
       },
       "content": {
        "cell": "2986908d-e8b3-4a3a-9413-b2c3f49947b3",
        "part": "whole"
       },
       "id": "f6422601-6d37-4bc7-92f0-b358293a577f"
      }
     }
    },
    "cc07b2e0-d8fc-4d58-837c-751ee97b1f3c": {
     "id": "cc07b2e0-d8fc-4d58-837c-751ee97b1f3c",
     "prev": "630887a8-d287-4561-9b4e-54a16a5b5c34",
     "regions": {
      "e4f85df5-9e2c-4464-aac2-fdaeddad6e26": {
       "attrs": {
        "height": 0.8,
        "width": 0.8,
        "x": 0.1,
        "y": 0.1
       },
       "content": {
        "cell": "ccc022b6-0830-444f-a28f-d6e0269806bc",
        "part": "whole"
       },
       "id": "e4f85df5-9e2c-4464-aac2-fdaeddad6e26"
      }
     }
    },
    "cf4fbc0e-5621-4422-b05b-d3c6af3b36a9": {
     "id": "cf4fbc0e-5621-4422-b05b-d3c6af3b36a9",
     "prev": "09975c03-c2a5-4174-afe8-245f4bc1aab3",
     "regions": {
      "1d4cb920-345a-4e99-b7a9-67c06fd61d27": {
       "attrs": {
        "height": 0.8,
        "width": 0.8,
        "x": 0.1,
        "y": 0.1
       },
       "content": {
        "cell": "65685362-6064-4f02-8ef6-87ed5f060a98",
        "part": "whole"
       },
       "id": "1d4cb920-345a-4e99-b7a9-67c06fd61d27"
      }
     }
    },
    "d0657f72-9499-4403-a740-2ad1dd18dbe4": {
     "id": "d0657f72-9499-4403-a740-2ad1dd18dbe4",
     "prev": "f700b7f7-4f00-48a6-ae53-b9d443d9649b",
     "regions": {
      "ff62d4b4-97c7-48bd-a593-12a1e3e83c91": {
       "attrs": {
        "height": 0.8,
        "width": 0.8,
        "x": 0.1,
        "y": 0.1
       },
       "content": {
        "cell": "4b5f7ae5-bd92-481d-b2f9-f86e482a1a93",
        "part": "whole"
       },
       "id": "ff62d4b4-97c7-48bd-a593-12a1e3e83c91"
      }
     }
    },
    "d0842fae-812a-4332-8a40-4ffcdee9b632": {
     "id": "d0842fae-812a-4332-8a40-4ffcdee9b632",
     "prev": null,
     "regions": {
      "56331b86-90dc-4c3d-adbf-38c6963b5875": {
       "attrs": {
        "height": 0.8,
        "width": 0.8,
        "x": 0.1,
        "y": 0.1
       },
       "content": {
        "cell": "154f1592-4dc1-42cc-bc05-8a056a301385",
        "part": "whole"
       },
       "id": "56331b86-90dc-4c3d-adbf-38c6963b5875"
      }
     }
    },
    "d614451b-ff8a-45d1-9789-bb021397c7e7": {
     "id": "d614451b-ff8a-45d1-9789-bb021397c7e7",
     "prev": "36a63203-e78f-455a-922a-1c473d40fbc6",
     "regions": {
      "34de5ec1-6559-46d3-a936-1f17f1c4f2c5": {
       "attrs": {
        "height": 0.8,
        "width": 0.8,
        "x": 0.1,
        "y": 0.1
       },
       "content": {
        "cell": "3cdcb5ba-2e0e-412e-8cb3-db763608b1ce",
        "part": "whole"
       },
       "id": "34de5ec1-6559-46d3-a936-1f17f1c4f2c5"
      }
     }
    },
    "d747c64c-30cf-434e-9a3e-db4848ef4ed2": {
     "id": "d747c64c-30cf-434e-9a3e-db4848ef4ed2",
     "prev": "9f9c8caf-ac5a-4880-9bb8-284163d17a0a",
     "regions": {
      "c11cea97-e2d9-4f06-99f2-97c21e8d6cac": {
       "attrs": {
        "height": 0.8,
        "width": 0.8,
        "x": 0.1,
        "y": 0.1
       },
       "content": {
        "cell": "f5d3f112-69d6-47ab-9ee3-63dd9181461a",
        "part": "whole"
       },
       "id": "c11cea97-e2d9-4f06-99f2-97c21e8d6cac"
      }
     }
    },
    "e10e7cc3-ab97-423c-a944-ba449bab6d58": {
     "id": "e10e7cc3-ab97-423c-a944-ba449bab6d58",
     "prev": "05c70baa-d3f0-45dc-aa0b-2fdfd61d0def",
     "regions": {
      "d7e4ed24-f4e0-4aec-a416-4e051addd22c": {
       "attrs": {
        "height": 0.8,
        "width": 0.8,
        "x": 0.1,
        "y": 0.1
       },
       "content": {
        "cell": "1ddb1ab3-7456-48e3-8f86-3e638dce371f",
        "part": "whole"
       },
       "id": "d7e4ed24-f4e0-4aec-a416-4e051addd22c"
      }
     }
    },
    "e4214ce9-a1a1-4b8c-b7f7-86936f681069": {
     "id": "e4214ce9-a1a1-4b8c-b7f7-86936f681069",
     "prev": "4819413b-4631-4a4f-9b3e-33122a1e2bb0",
     "regions": {
      "c7832704-1aff-4361-9614-702cb311f872": {
       "attrs": {
        "height": 0.8,
        "width": 0.8,
        "x": 0.1,
        "y": 0.1
       },
       "content": {
        "cell": "c6eee78c-18b7-47b5-a87d-6beedd90b40a",
        "part": "whole"
       },
       "id": "c7832704-1aff-4361-9614-702cb311f872"
      }
     }
    },
    "ea3062e5-8738-467c-a0f2-458df7e4a31c": {
     "id": "ea3062e5-8738-467c-a0f2-458df7e4a31c",
     "prev": "9d968d69-2889-48e4-a38f-a7ee7cf8c4ad",
     "regions": {
      "309b9515-641e-4c33-b2d5-e944884b354b": {
       "attrs": {
        "height": 0.8,
        "width": 0.8,
        "x": 0.1,
        "y": 0.1
       },
       "content": {
        "cell": "bc1e8136-120c-420b-b9ff-9e8b855cbff2",
        "part": "whole"
       },
       "id": "309b9515-641e-4c33-b2d5-e944884b354b"
      }
     }
    },
    "eb1150df-b475-4abe-bdd5-b58d18ec4b33": {
     "id": "eb1150df-b475-4abe-bdd5-b58d18ec4b33",
     "prev": "edac0d74-0f22-4631-9756-4043c17b6d72",
     "regions": {
      "396dd3ee-2cc2-4add-a619-eaa972afe299": {
       "attrs": {
        "height": 0.8,
        "width": 0.8,
        "x": 0.1,
        "y": 0.1
       },
       "content": {
        "cell": "0f9f293c-3137-4d17-aece-2045e8104ac8",
        "part": "whole"
       },
       "id": "396dd3ee-2cc2-4add-a619-eaa972afe299"
      }
     }
    },
    "ec6428ea-604d-4d5b-a361-9f0273e02873": {
     "id": "ec6428ea-604d-4d5b-a361-9f0273e02873",
     "prev": "3a0c7fae-d05f-4725-a88f-2039f2c6ca19",
     "regions": {
      "34737137-1f3a-4da9-801e-679330a54c05": {
       "attrs": {
        "height": 0.8,
        "width": 0.8,
        "x": 0.1,
        "y": 0.1
       },
       "content": {
        "cell": "2b19a691-4402-4225-a7f2-00c371e847c0",
        "part": "whole"
       },
       "id": "34737137-1f3a-4da9-801e-679330a54c05"
      }
     }
    },
    "edac0d74-0f22-4631-9756-4043c17b6d72": {
     "id": "edac0d74-0f22-4631-9756-4043c17b6d72",
     "prev": "2a799fde-4fef-4728-adbd-537f31c79ce2",
     "regions": {
      "59910559-6428-492f-8cde-2d42d108604e": {
       "attrs": {
        "height": 0.8,
        "width": 0.8,
        "x": 0.1,
        "y": 0.1
       },
       "content": {
        "cell": "cf439cce-42e8-423d-a165-a95c7b860e2e",
        "part": "whole"
       },
       "id": "59910559-6428-492f-8cde-2d42d108604e"
      }
     }
    },
    "f3171a0e-cdba-4a0a-a1c2-d485f6d960d9": {
     "id": "f3171a0e-cdba-4a0a-a1c2-d485f6d960d9",
     "prev": "cf4fbc0e-5621-4422-b05b-d3c6af3b36a9",
     "regions": {
      "73bf1268-892a-449c-b94e-1ae1bb1f05b6": {
       "attrs": {
        "height": 0.8,
        "width": 0.8,
        "x": 0.1,
        "y": 0.1
       },
       "content": {
        "cell": "981789e5-ccfc-474e-9d32-0fefcf9aa5ff",
        "part": "whole"
       },
       "id": "73bf1268-892a-449c-b94e-1ae1bb1f05b6"
      }
     }
    },
    "f700b7f7-4f00-48a6-ae53-b9d443d9649b": {
     "id": "f700b7f7-4f00-48a6-ae53-b9d443d9649b",
     "prev": "d747c64c-30cf-434e-9a3e-db4848ef4ed2",
     "regions": {
      "1580845a-6299-4b72-a752-433a3ddebbdd": {
       "attrs": {
        "height": 0.8,
        "width": 0.8,
        "x": 0.1,
        "y": 0.1
       },
       "content": {
        "cell": "a37f7fe3-2aa3-4213-b574-734fe433ccf0",
        "part": "whole"
       },
       "id": "1580845a-6299-4b72-a752-433a3ddebbdd"
      }
     }
    },
    "fd94246e-2cee-48c9-b397-a984b172fffd": {
     "id": "fd94246e-2cee-48c9-b397-a984b172fffd",
     "prev": "40a515d7-ea65-476c-bbc6-049e3a22eb68",
     "regions": {
      "68879b8d-136e-4a74-bd19-a40d088b0efa": {
       "attrs": {
        "height": 0.8,
        "width": 0.8,
        "x": 0.1,
        "y": 0.1
       },
       "content": {
        "cell": "6f43de04-0fd0-4f7b-a28f-b4d898420cda",
        "part": "whole"
       },
       "id": "68879b8d-136e-4a74-bd19-a40d088b0efa"
      }
     }
    }
   },
   "themes": {}
  }
 },
 "nbformat": 4,
 "nbformat_minor": 1
}
