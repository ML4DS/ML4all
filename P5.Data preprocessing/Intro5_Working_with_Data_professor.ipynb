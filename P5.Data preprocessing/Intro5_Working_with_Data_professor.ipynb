{
 "cells": [
  {
   "cell_type": "markdown",
   "metadata": {
    "colab_type": "text",
    "id": "N3MgtUPKg1qq",
    "slideshow": {
     "slide_type": "slide"
    }
   },
   "source": [
    "# Data preprocessing methods: Normalization\n",
    "\n"
   ]
  },
  {
   "cell_type": "markdown",
   "metadata": {
    "slideshow": {
     "slide_type": "skip"
    }
   },
   "source": [
    "    Notebook version:\n",
    "\n",
    "    * 1.0 (Sep 15, 2020) - First version\n",
    "\n",
    "    Authors: Jesús Cid Sueiro (jcid@ing.uc3m.es)"
   ]
  },
  {
   "cell_type": "markdown",
   "metadata": {
    "colab_type": "text",
    "id": "dBTW556Vjz39",
    "slideshow": {
     "slide_type": "slide"
    }
   },
   "source": [
    "## 1. Data preprocessing\n",
    "\n",
    "The aim of [data preprocessing methods](https://scikit-learn.org/stable/modules/preprocessing.html) is to transform the data into a form that is ready to apply machine learning algorithms. This my include:\n",
    "\n",
    "  * [Data normalization](https://scikit-learn.org/stable/modules/preprocessing.html#standardization-or-mean-removal-and-variance-scaling): transform the individual features to ensure a proper range of variation\n",
    "  * [Data imputation](https://scikit-learn.org/stable/modules/impute.html): assign values to features that may be missed for some data samples\n",
    "  * [Feature extraction](https://scikit-learn.org/stable/modules/feature_extraction.html): transform the original data to compute new features that are more appropiate for a specific prediction task\n",
    "  * [Dimensionality reduction](https://en.wikipedia.org/wiki/Dimensionality_reduction): remove features that are not relevant for the prediction task.\n",
    "  * [Outlier removal](https://scikit-learn.org/stable/modules/outlier_detection.html): remove samples that may contain errors and are not reliable for the prediction task.\n",
    "  * [Clustering](https://scikit-learn.org/stable/modules/clustering.html): partition the data into smaller subsets, that could be easier to process.\n",
    "  \n",
    "In this notebook we will focus on data normalization."
   ]
  },
  {
   "cell_type": "code",
   "execution_count": 6,
   "metadata": {
    "colab": {},
    "colab_type": "code",
    "id": "-VPh26VrkBRD",
    "slideshow": {
     "slide_type": "fragment"
    }
   },
   "outputs": [],
   "source": [
    "# Let's import some libraries\n",
    "import numpy as np\n",
    "import matplotlib.pyplot as plt"
   ]
  },
  {
   "cell_type": "markdown",
   "metadata": {
    "slideshow": {
     "slide_type": "slide"
    }
   },
   "source": [
    "## 2. Data normalization \n",
    "\n",
    "Consider a dataset ${\\cal S} = \\{{\\bf x}_k, k=0, \\ldots, K-1\\}$ of $m$-dimensional samples arranged by rows in a $K \\times m$ data matrix, ${\\bf X}$. Each one of the $m$ data features may represent variables of very different nature (e.g. time, distance, price, volume, pixel intensity). Thus, the scale and the range of variation of each feature can be completely different.\n",
    "\n",
    "As an illustration, consider the 2-dimensional dataset in the figure"
   ]
  },
  {
   "cell_type": "code",
   "execution_count": 8,
   "metadata": {
    "slideshow": {
     "slide_type": "subslide"
    }
   },
   "outputs": [
    {
     "data": {
      "image/png": "[encoded data removed]",
      "text/plain": [
       "<Figure size 864x216 with 1 Axes>"
      ]
     },
     "metadata": {
      "needs_background": "light"
     },
     "output_type": "display_data"
    }
   ],
   "source": [
    "from sklearn.datasets.samples_generator import make_blobs\n",
    "X, y = make_blobs(n_samples=300, centers=4, random_state=0, cluster_std=0.60)\n",
    "X = X @ np.array([[30, 4], [-8, 1]]) + np.array([90, 10])\n",
    "\n",
    "plt.figure(figsize=(12, 3))\n",
    "plt.scatter(X[:, 0], X[:, 1], s=50);\n",
    "plt.axis('equal')\n",
    "plt.xlabel('$x_0$')\n",
    "plt.ylabel('$x_1$')\n",
    "plt.show()"
   ]
  },
  {
   "cell_type": "markdown",
   "metadata": {
    "slideshow": {
     "slide_type": "fragment"
    }
   },
   "source": [
    "We can see that the first data feature ($x_0$) has a much large range of variation than the second. In practice, this may be problematic: the convergence properties of some machine learning algorithms may depend critically on the feature distributions and, in general, features sets ranging over similar scales use to offer a better performance.\n",
    "\n",
    "For this reason, transforming the data in order to get similar range of variations for all features is desirable. This can be done in several ways."
   ]
  },
  {
   "cell_type": "markdown",
   "metadata": {
    "slideshow": {
     "slide_type": "slide"
    }
   },
   "source": [
    "### 2.1. Standard scaling.\n",
    "\n",
    "A common normalization method consists on applying an affine transformation\n",
    "\n",
    "$$\n",
    "{\\bf t}_k = {\\bf D}({\\bf x} - {\\bf m})\n",
    "$$\n",
    "\n",
    "where ${\\bf D}$ is a diagonal matrix, in such a way that the transformed dataset ${\\cal S}' = \\{{\\bf t}_k, k=0, \\ldots, K-1\\}$ has zero sample mean, i.e.,\n",
    "\n",
    "$$\n",
    "\\frac{1}{K} \\sum_{k=0}^{K-1} {\\bf t}_k = 0\n",
    "$$\n",
    "\n",
    "and zero sample variance, i.e., \n",
    "\n",
    "$$\n",
    "\\frac{1}{K} \\sum_{k=0}^{K-1} t_{ki}^2 = 1\n",
    "$$"
   ]
  },
  {
   "cell_type": "markdown",
   "metadata": {
    "slideshow": {
     "slide_type": "subslide"
    }
   },
   "source": [
    "It is not difficult to verify that this can be done by taking ${\\bf m}$ equal to the sample mean\n",
    "$$\n",
    "{\\bf m} = \\frac{1}{K} \\sum_{k=0}^{K-1} {\\bf x}_k\n",
    "$$\n",
    "\n",
    "and the diagonal components of ${\\bf D}$ equal to the inverse of the standard deviation of each feature, i.e.,\n",
    "\n",
    "$$\n",
    "d_{ii} = \\frac{1}{\\frac{1}{K} \\sum_{k=0}^{K-1} (x_{ki} - m_i)^2}\n",
    "$$\n",
    "\n",
    "Using the data matrix ${\\bf X}$ and the *broadcasting* property of the basic mathematical operators, the implementation of this normalization in Python is straightforward:\n"
   ]
  },
  {
   "cell_type": "code",
   "execution_count": 7,
   "metadata": {
    "slideshow": {
     "slide_type": "subslide"
    }
   },
   "outputs": [
    {
     "data": {
      "image/png": "[encoded data removed]",
      "text/plain": [
       "<Figure size 288x288 with 1 Axes>"
      ]
     },
     "metadata": {
      "needs_background": "light"
     },
     "output_type": "display_data"
    }
   ],
   "source": [
    "m = np.mean(X, axis=0)     # Compute the sample mean\n",
    "d = np.std(X, axis=0)      # Compute the standard deviation of each feature\n",
    "T = (X-m)/d                # Normalize\n",
    "\n",
    "plt.figure(figsize=(4, 4))\n",
    "plt.scatter(T[:, 0], T[:, 1], s=50);\n",
    "plt.axis('equal')\n",
    "plt.xlabel('$x_0$')\n",
    "plt.ylabel('$x_1$')\n",
    "plt.show()"
   ]
  },
  {
   "cell_type": "markdown",
   "metadata": {
    "slideshow": {
     "slide_type": "slide"
    }
   },
   "source": [
    "### 2.1.1. Implementation in `sklearn`\n",
    "\n",
    "The `sklearn` package containing a method to perform the standard scaling over a given data matrix.\n"
   ]
  },
  {
   "cell_type": "code",
   "execution_count": 5,
   "metadata": {
    "slideshow": {
     "slide_type": "fragment"
    }
   },
   "outputs": [
    {
     "name": "stdout",
     "output_type": "stream",
     "text": [
      "The sample mean is m = [58.06760405 13.94251037]\n"
     ]
    },
    {
     "data": {
      "image/png": "[encoded data removed]",
      "text/plain": [
       "<Figure size 288x288 with 1 Axes>"
      ]
     },
     "metadata": {
      "needs_background": "light"
     },
     "output_type": "display_data"
    }
   ],
   "source": [
    "from sklearn.preprocessing import StandardScaler\n",
    "scaler = StandardScaler()\n",
    "scaler.fit(X)\n",
    "print(f'The sample mean is m = {scaler.mean_}')\n",
    "\n",
    "T2 = scaler.transform(X)\n",
    "plt.figure(figsize=(4, 4))\n",
    "plt.scatter(T2[:, 0], T2[:, 1], s=50);\n",
    "plt.axis('equal')\n",
    "plt.xlabel('$x_0$')\n",
    "plt.ylabel('$x_1$')\n",
    "plt.show()"
   ]
  },
  {
   "cell_type": "markdown",
   "metadata": {
    "slideshow": {
     "slide_type": "fragment"
    }
   },
   "source": [
    "Note that, once we have defined the sclaler object in python, you can apply the scaling transformation to other datasets. This will be usefull in further topics, when the dataset may be split in several matrices. We may be interested in defining the transformation using some data, and apply it to others"
   ]
  },
  {
   "cell_type": "markdown",
   "metadata": {
    "slideshow": {
     "slide_type": "slide"
    }
   },
   "source": [
    "### 2.2. Other normalizations.\n",
    "\n",
    "The are some alternatives to the standard scaling that may be interesting for some datasets. Here we show some of them, available at the [preprocessing](https://scikit-learn.org/stable/modules/classes.html#module-sklearn.preprocessing) module in `sklearn`:\n",
    "\n",
    "  * [preprocessing.MaxAbsScaler](https://scikit-learn.org/stable/modules/generated/sklearn.preprocessing.MaxAbsScaler.html#sklearn.preprocessing.MaxAbsScaler): Scale each feature by its maximum absolute value. As a result, all feature values will lie in the interval [-1, 1].\n",
    "  * [preprocessing.MinMaxScaler](https://scikit-learn.org/stable/modules/generated/sklearn.preprocessing.MinMaxScaler.html#sklearn.preprocessing.MinMaxScaler): Transform features by scaling each feature to a given range. Also, all feature values will lie in the interval [-1, 1].\n",
    "  * [preprocessing.Normalizer](https://scikit-learn.org/stable/modules/generated/sklearn.preprocessing.Normalizer.html#sklearn.preprocessing.Normalizer): Normalize samples individually to unit norm. That is, it applies the transformation ${\\bf t}_k = \\frac{1}{\\|{\\bf x}_k\\|} {\\bf x}_k$\n",
    "  * [preprocessing.PowerTransformer](https://scikit-learn.org/stable/modules/generated/sklearn.preprocessing.PowerTransformer.html#sklearn.preprocessing.PowerTransformer): Apply a power transform featurewise to make data more Gaussian-like.\n",
    "  * [preprocessing.QuantileTransformer](https://scikit-learn.org/stable/modules/generated/sklearn.preprocessing.QuantileTransformer.html#sklearn.preprocessing.QuantileTransformer): Transform features using quantile information. The transformed features follow a specific target distribution (uniform or normal). \n",
    "  * [preprocessing.RobustScaler](https://scikit-learn.org/stable/modules/generated/sklearn.preprocessing.RobustScaler.html#sklearn.preprocessing.RobustScaler): Scale features using statistics that are robust to outliers. This way, anomalous values in one or very few samples cannot have a strong influence in the normalization.\n",
    "\n",
    "You can find more detailed explanation of these transformations `sklearn` [documentation](https://scikit-learn.org/stable/modules/preprocessing.html#preprocessing).\n",
    " "
   ]
  }
 ],
 "metadata": {
  "colab": {
   "collapsed_sections": [],
   "name": "Intro3_Working_with_Data_solution.ipynb",
   "provenance": [],
   "version": "0.3.2"
  },
  "kernelspec": {
   "display_name": "Python 3",
   "language": "python",
   "name": "python3"
  },
  "language_info": {
   "codemirror_mode": {
    "name": "ipython",
    "version": 3
   },
   "file_extension": ".py",
   "mimetype": "text/x-python",
   "name": "python",
   "nbconvert_exporter": "python",
   "pygments_lexer": "ipython3",
   "version": "3.7.2"
  }
 },
 "nbformat": 4,
 "nbformat_minor": 4
}
