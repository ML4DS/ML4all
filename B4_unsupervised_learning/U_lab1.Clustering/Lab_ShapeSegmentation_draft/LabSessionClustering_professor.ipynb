{
 "cells": [
  {
   "cell_type": "markdown",
   "metadata": {},
   "source": [
    "# Lab Session: Clustering algorithms for Image Segmentation\n",
    "\n",
    "Author: Jesús Cid Sueiro\n",
    "Jan. 2017"
   ]
  },
  {
   "cell_type": "code",
   "execution_count": null,
   "metadata": {
    "collapsed": true
   },
   "outputs": [],
   "source": [
    "%matplotlib inline\n",
    "import numpy as np\n",
    "import matplotlib.pyplot as plt\n",
    "from scipy.misc import imread"
   ]
  },
  {
   "cell_type": "markdown",
   "metadata": {},
   "source": [
    "## 1. Introduction\n",
    "\n",
    "In this notebook we explore an application of clustering algorithms to shape segmentation from binary images. We will carry out some exploratory work with a small set of images provided with this notebook. Most of them are not binary images, so we must do some preliminary work to extract he binary shape images and apply the clustering algorithms to them. We will have the opportunity to test the differences between $k$-means and spectral clustering in this problem."
   ]
  },
  {
   "cell_type": "markdown",
   "metadata": {},
   "source": [
    "### 1.1. Load Image"
   ]
  },
  {
   "cell_type": "markdown",
   "metadata": {},
   "source": [
    "Several images are provided with this notebook:\n",
    "\n",
    "* BinarySeeds.png\n",
    "* birds.jpg\n",
    "* blood_frog_1.jpg\n",
    "* cKyDP.jpg\n",
    "* Matricula.jpg\n",
    "* Matricula2.jpg\n",
    "* Seeds.png"
   ]
  },
  {
   "cell_type": "markdown",
   "metadata": {},
   "source": [
    "Select and visualize image `birds.jpg` from file and plot it in grayscale"
   ]
  },
  {
   "cell_type": "code",
   "execution_count": null,
   "metadata": {},
   "outputs": [],
   "source": [
    "name = \"birds.jpg\"\n",
    "name = \"Seeds.jpg\"\n",
    "\n",
    "birds = imread(\"Images/\" + name)\n",
    "birdsG = np.sum(birds, axis=2)\n",
    "\n",
    "# <SOL>\n",
    "plt.imshow(birdsG, cmap=plt.get_cmap('gray'))\n",
    "plt.grid(False)\n",
    "plt.axis('off')\n",
    "plt.show()\n",
    "# </SOL>\n"
   ]
  },
  {
   "cell_type": "markdown",
   "metadata": {},
   "source": [
    "### 2. Thresholding\n",
    "\n",
    "Select an intensity threshold by manual inspection of the image histogram"
   ]
  },
  {
   "cell_type": "code",
   "execution_count": null,
   "metadata": {},
   "outputs": [],
   "source": [
    "# <SOL>\n",
    "plt.hist(birdsG.ravel(), bins=256)  \n",
    "plt.show()\n",
    "# </SOL>\n"
   ]
  },
  {
   "cell_type": "markdown",
   "metadata": {},
   "source": [
    "Plot the binary image after thresholding."
   ]
  },
  {
   "cell_type": "code",
   "execution_count": null,
   "metadata": {},
   "outputs": [],
   "source": [
    "# <SOL>\n",
    "if name == \"birds.jpg\":\n",
    "    th = 256\n",
    "elif name == \"Seeds.jpg\":\n",
    "    th = 650\n",
    "\n",
    "birdsBN = birdsG > th\n",
    "\n",
    "# If there are more white than black pixels, reverse the image\n",
    "if np.sum(birdsBN) > float(np.prod(birdsBN.shape)/2):\n",
    "    birdsBN = 1-birdsBN\n",
    "plt.imshow(birdsBN, cmap=plt.get_cmap('gray'))\n",
    "plt.grid(False)\n",
    "plt.axis('off')\n",
    "plt.show()\n",
    "# </SOL>\n"
   ]
  },
  {
   "cell_type": "markdown",
   "metadata": {},
   "source": [
    "### 3. Dataset generation\n",
    "\n",
    "Extract pixel coordinates dataset from image and plot them in a scatter plot."
   ]
  },
  {
   "cell_type": "code",
   "execution_count": null,
   "metadata": {
    "collapsed": true
   },
   "outputs": [],
   "source": [
    "# <SOL>\n",
    "(h, w) = birdsBN.shape\n",
    "bW = birdsBN * range(w)\n",
    "bH = birdsBN * np.array(range(h))[:,np.newaxis]\n",
    "pSet = [t for t in zip(bW.ravel(), bH.ravel()) if t!=(0,0)]\n",
    "X = np.array(pSet)\n",
    "# </SOL>"
   ]
  },
  {
   "cell_type": "code",
   "execution_count": null,
   "metadata": {},
   "outputs": [],
   "source": [
    "print X\n",
    "plt.scatter(X[:, 0], X[:, 1], s=5);\n",
    "plt.axis('equal')\n",
    "plt.show()"
   ]
  },
  {
   "cell_type": "markdown",
   "metadata": {},
   "source": [
    "### 4. k-means clustering algorithm\n",
    "\n"
   ]
  },
  {
   "cell_type": "markdown",
   "metadata": {},
   "source": [
    "Use the pixel coordinates as the input data for a k-means algorithm. Plot the result of the clustering by means of a scatter plot, showing each cluster with a different colour."
   ]
  },
  {
   "cell_type": "code",
   "execution_count": null,
   "metadata": {},
   "outputs": [],
   "source": [
    "from sklearn.cluster import KMeans\n",
    "\n",
    "# <SOL>\n",
    "est = KMeans(100)  # 4 clusters\n",
    "est.fit(X)\n",
    "y_kmeans = est.predict(X)\n",
    "plt.scatter(X[:, 0], X[:, 1], c=y_kmeans, s=5, cmap='rainbow',\n",
    "            linewidth=0.0)\n",
    "plt.axis('equal')\n",
    "plt.show()\n",
    "# </SOL>\n"
   ]
  },
  {
   "cell_type": "markdown",
   "metadata": {},
   "source": [
    "### 5. Spectral clustering algorithm\n",
    "\n",
    "#### 5.1. Affinity matrix\n",
    "\n",
    "Compute and visualize the affinity matrix for the given dataset, using a rbf kernel with $\\gamma=5$."
   ]
  },
  {
   "cell_type": "code",
   "execution_count": null,
   "metadata": {},
   "outputs": [],
   "source": [
    "from sklearn.metrics.pairwise import rbf_kernel\n",
    "\n",
    "# <SOL>\n",
    "gamma = 5\n",
    "sf = 4\n",
    "Xsub = X[0::sf]\n",
    "print Xsub.shape\n",
    "\n",
    "gamma = 0.001\n",
    "K = rbf_kernel(Xsub, Xsub, gamma=gamma)\n",
    "# </SOL>"
   ]
  },
  {
   "cell_type": "code",
   "execution_count": null,
   "metadata": {},
   "outputs": [],
   "source": [
    "# Visualization\n",
    "# <SOL>\n",
    "plt.imshow(K, cmap='hot')\n",
    "plt.colorbar()\n",
    "plt.title('RBF Affinity Matrix for gamma = ' + str(gamma))\n",
    "plt.grid('off')\n",
    "plt.show()\n",
    "# </SOL>"
   ]
  },
  {
   "cell_type": "markdown",
   "metadata": {},
   "source": [
    "### 5.2. Spectral clusering"
   ]
  },
  {
   "cell_type": "markdown",
   "metadata": {},
   "source": [
    "Apply the spectral clustering algorithm, and show the clustering results using a scatter plot."
   ]
  },
  {
   "cell_type": "code",
   "execution_count": null,
   "metadata": {
    "collapsed": true
   },
   "outputs": [],
   "source": [
    "# <SOL>\n",
    "from sklearn.cluster import SpectralClustering\n",
    "\n",
    "spc = SpectralClustering(n_clusters=100, gamma=gamma, affinity='rbf')\n",
    "y_kmeans = spc.fit_predict(Xsub)\n",
    "# </SOL>"
   ]
  },
  {
   "cell_type": "code",
   "execution_count": null,
   "metadata": {},
   "outputs": [],
   "source": [
    "plt.scatter(Xsub[:,0], Xsub[:,1], c=y_kmeans, s=5, cmap='rainbow', linewidth=0.0)\n",
    "plt.axis('equal')\n",
    "plt.show()"
   ]
  },
  {
   "cell_type": "markdown",
   "metadata": {},
   "source": [
    "Try now with other images in the dataset. You will need to re-adjust some free parameters to get a better performance."
   ]
  },
  {
   "cell_type": "code",
   "execution_count": null,
   "metadata": {
    "collapsed": true
   },
   "outputs": [],
   "source": []
  }
 ],
 "metadata": {
  "anaconda-cloud": {},
  "kernelspec": {
   "display_name": "Python [default]",
   "language": "python",
   "name": "python2"
  },
  "language_info": {
   "codemirror_mode": {
    "name": "ipython",
    "version": 2
   },
   "file_extension": ".py",
   "mimetype": "text/x-python",
   "name": "python",
   "nbconvert_exporter": "python",
   "pygments_lexer": "ipython2",
   "version": "2.7.14"
  }
 },
 "nbformat": 4,
 "nbformat_minor": 1
}
