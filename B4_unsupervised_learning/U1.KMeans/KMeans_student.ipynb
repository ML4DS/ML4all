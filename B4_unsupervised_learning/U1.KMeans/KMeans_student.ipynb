{
 "cells": [
  {
   "cell_type": "markdown",
   "metadata": {
    "slideshow": {
     "slide_type": "slide"
    }
   },
   "source": [
    "# The $K$-means clustering algorithm"
   ]
  },
  {
   "cell_type": "markdown",
   "metadata": {
    "slideshow": {
     "slide_type": "subslide"
    }
   },
   "source": [
    "<small><i>This notebook is a modified version of the one created by [Jake Vanderplas](https://github.com/jakevdp) for PyCon 2015. \n",
    "\n",
    "Source and license info of the original notebook are on [GitHub](https://github.com/jakevdp/sklearn_pycon2015/).</i></small>"
   ]
  },
  {
   "cell_type": "code",
   "execution_count": null,
   "metadata": {
    "slideshow": {
     "slide_type": "slide"
    }
   },
   "outputs": [],
   "source": [
    "%matplotlib inline\n",
    "import numpy as np\n",
    "import matplotlib.pyplot as plt\n",
    "from scipy import stats\n",
    "\n",
    "from scipy.spatial.distance import cdist\n",
    "# from fig_code import plot_kmeans_interactive\n",
    "from sklearn.datasets import make_blobs, load_digits, load_sample_image\n",
    "from sklearn.decomposition import PCA\n",
    "from sklearn.metrics import confusion_matrix\n",
    "from sklearn.cluster import KMeans\n",
    "\n",
    "# use seaborn plotting defaults\n",
    "import seaborn as sns; sns.set()"
   ]
  },
  {
   "cell_type": "markdown",
   "metadata": {
    "slideshow": {
     "slide_type": "slide"
    }
   },
   "source": [
    "## 1. Clustering algorithms\n",
    "\n",
    "Clustering algorithms try to split a set of data points $\\mathcal{S} = \\{{\\bf x}_0,\\ldots,{\\bf x}_{L-1}\\}$, into mutually exclusive clusters or groups, $\\mathcal{G}_0,\\ldots, \\mathcal{G}_{K-1}$, such that every sample in $\\mathcal{S}$ is assigned to one and only one group.\n",
    "\n",
    "Clustering algorithms belong to the more general family of **unsupervised methods**: clusters are constructed using the data attributes alone. No labels or target values are used. This makes the difference between a clustering algorithm and a *supervised* classification algorithm."
   ]
  },
  {
   "cell_type": "markdown",
   "metadata": {
    "slideshow": {
     "slide_type": "subslide"
    }
   },
   "source": [
    "There is not a unique formal definition of the clustering problem. Different algorithms group data into clusters following different criteria. The appropriate choice of the clustering algorithm may depend on the particular application scenario.\n",
    "\n",
    "The image below, taken from the scikit-learn site, shows that different algorithms follow different grouping criteria, clustering the same datasets in different forms.\n",
    "\n",
    "<img src=\"http://scikit-learn.org/stable/_images/sphx_glr_plot_cluster_comparison_001.png\" width=800>"
   ]
  },
  {
   "cell_type": "markdown",
   "metadata": {
    "slideshow": {
     "slide_type": "subslide"
    }
   },
   "source": [
    "\n",
    "In any case, all clustering algorithms share a set of common characteristics. A clustering algorithm makes use of some distance or similarity measure between data points to group data in such a way that:\n",
    "\n",
    "* Points in some cluster should lie close to each other\n",
    "* Points in different clusters should be far away\n",
    "* Clusters should be separated by regions of low density of points\n",
    "* Clusters may preserve some kind of *connectivity*\n",
    "* Clusters may get represented by a representative or centroid\n",
    "   \n"
   ]
  },
  {
   "cell_type": "markdown",
   "metadata": {
    "slideshow": {
     "slide_type": "slide"
    }
   },
   "source": [
    "## 2. The $K$-means algorithm\n",
    "\n",
    "$K$-Means is a proximity-based clustering algorithm. It searches for cluster centers or **centroids** which are representative of all points in a cluster. Representativenes is measured by proximity: \"good\" clusters are those such that all data points are close to its centroid.\n",
    "\n",
    "Given a dataset $\\mathcal{S} = \\{{\\bf x}_0,\\ldots,{\\bf x}_{L-1}\\}$, $K$-means tries to minimize the following **distortion function**:\n",
    "\n",
    "$$D = \\sum_{k=0}^{K-1} \\sum_{{\\bf x} \\in {\\cal{G}}_k}\\|{\\bf x}-\\boldsymbol{\\mu}_k\\|_2^2$$\n",
    "\n",
    "where $\\boldsymbol{\\mu}_k$ is the centroid of cluster $\\mathcal{G}_k$. \n",
    "\n",
    "Note that, in this notebook, we will used $k$ as the index to count groups and centroids, and $K$ for the number of centroides. To avoid any confusion, we will index data samples as ${\\bf x}_\\ell$ when needed, and the number of samples will be denoted as $L$.\n"
   ]
  },
  {
   "cell_type": "markdown",
   "metadata": {
    "slideshow": {
     "slide_type": "subslide"
    }
   },
   "source": [
    "The minimization should be carried out over both the partition $\\{{\\cal G}_0,\\ldots, {\\cal G}_{K-1}\\}$ of ${\\cal S}$ (i.e., the assignment problem) and their respective centroids $\\{\\boldsymbol{\\mu}_0,\\ldots,\\boldsymbol{\\mu}_{K-1}\\}$ (i.e. the estimation problem). This joint assignment-estimation problem is what makes optimization difficult (it is an <a href=https://es.wikipedia.org/wiki/NP-hard>NP-hard</a> problem).\n",
    "\n",
    "The $K$-means algorithm is based on the fact that, given that one of both problems is solved, the solution to the other is straightworward:\n",
    "\n",
    "* **Assignment**: For fixed centroids $\\boldsymbol{\\mu}_0,\\ldots,\\boldsymbol{\\mu}_{K-1}$, the optimal partition is given by the following \n",
    "$${\\cal G}_k^* = \\left\\{{\\bf x} \\, \\left| \\, k \\in \\arg\\min_{k'} \\|{\\bf x}-\\boldsymbol{\\mu}_{k'}\\|^2\\right. \\right\\}$$\n",
    "(i.e. each sample is assigned to the group with the closest centroid).\n",
    "* **Estimation**: For a fixed partition $\\{{\\cal G}_0,\\ldots, {\\cal G}_{K-1}\\}$, the optimal centroids can be computed easily by differentiation\n",
    "\\begin{equation}\n",
    "\\boldsymbol{\\mu}_k^* = \\frac{1}{\\left|{\\cal G}_k\\right|} \\sum_{{\\bf x} \\in {\\cal{G}}_k} {\\bf x}\n",
    "\\end{equation}\n",
    "where $\\left|{\\cal G}_k\\right|$ is the cardinality of ${\\cal G}_k$.\n",
    "\n",
    "$K$ means is a kind of <a href=https://en.wikipedia.org/wiki/Coordinate_descent>coordinate descent</a> algorithm that applies ciclycally and iteratively the estimation and assigning steps, fixing the solution of the previous optimization at each time."
   ]
  },
  {
   "cell_type": "markdown",
   "metadata": {
    "slideshow": {
     "slide_type": "subslide"
    }
   },
   "source": [
    "**Exercise**: Derive the equation for the optimal centroids."
   ]
  },
  {
   "cell_type": "markdown",
   "metadata": {
    "slideshow": {
     "slide_type": "fragment"
    },
    "tags": []
   },
   "source": [
    "#### Solution:\n",
    "\n",
    "[comment]: # (<SOL>)\n",
    "[comment]: # (</SOL>)\n"
   ]
  },
  {
   "cell_type": "markdown",
   "metadata": {
    "slideshow": {
     "slide_type": "slide"
    }
   },
   "source": [
    "### 2.1. Steps of the algorithm\n",
    "\n",
    "After initialization of centroids:\n",
    "1. **Assignment**: Assign each data point to closest centroid\n",
    "2. **Estimation**: Recalculate centroids positions\n",
    "3. Go back to 1 until no further changes or max iterations achieved"
   ]
  },
  {
   "cell_type": "markdown",
   "metadata": {
    "slideshow": {
     "slide_type": "subslide"
    }
   },
   "source": [
    "#### 2.1.1. Initializations\n",
    "\n",
    "$K$-means convergence is guaranteed ... but just to a local minimum of $D$.\n",
    "\n",
    "Different initialization possibilities:\n",
    "1. $K$-means$++$: To maximize inter-centroid distance\n",
    "2. Random among training points\n",
    "3. User-selected\n",
    "\n",
    "Typically, different runs are executed, and the best one is kept.\n",
    "\n",
    "Check out <a href=http://scikit-learn.org/stable/modules/generated/sklearn.cluster.KMeans.html> the Scikit-Learn site</a> for parameters, attributes, and methods.\n",
    "\n"
   ]
  },
  {
   "cell_type": "markdown",
   "metadata": {
    "slideshow": {
     "slide_type": "subslide"
    }
   },
   "source": [
    "#### 2.1.2. Stopping.\n",
    "\n",
    "Since (1) the total number of possible assignments is finite, and (2) each step of the $K$-means algorithm reduces (or, at least, does not increase) the value of the distortion function, the algorithm will eventually converge to a fixed distortion value.\n",
    "\n",
    "#### 2.1.3. Local convergence\n",
    "\n",
    "Unfortunatelly, there is no guarantee that the final distortion is minimum. The quality of the solution obtained by the algorithm may critically depend on the initialization."
   ]
  },
  {
   "cell_type": "markdown",
   "metadata": {
    "slideshow": {
     "slide_type": "slide"
    }
   },
   "source": [
    "### 2.2. Example\n",
    "\n",
    "Let's look at how KMeans operates on a synthetic example. To emphasize that this is unsupervised, we do not plot the colors of the clusters:"
   ]
  },
  {
   "cell_type": "code",
   "execution_count": null,
   "metadata": {
    "slideshow": {
     "slide_type": "fragment"
    }
   },
   "outputs": [],
   "source": [
    "X, y = make_blobs(n_samples=300, centers=5,\n",
    "                  random_state=0, cluster_std=0.60)\n",
    "\n",
    "plt.scatter(X[:, 0], X[:, 1], s=50);\n",
    "plt.axis('equal')\n",
    "plt.show()"
   ]
  },
  {
   "cell_type": "markdown",
   "metadata": {
    "slideshow": {
     "slide_type": "fragment"
    }
   },
   "source": [
    "By eye, it is relatively easy to pick out the four clusters. If you were to perform an exhaustive search for the different segmentations of the data, however, the search space would be exponential in the number of points. Fortunately, the $K$-Means algorithm implemented in Scikit-learn provides a much more convenient solution."
   ]
  },
  {
   "cell_type": "markdown",
   "metadata": {
    "slideshow": {
     "slide_type": "subslide"
    }
   },
   "source": [
    "<b>Exercise:</b>\n",
    "    \n",
    "The following frament of code runs the $K$-means method on the toy example you just created. Modify it, so that you can try other settings for the parameter options implemented by the method. In particular:\n",
    "\n",
    "   - Reduce the number of runs to check the consequences of a bad initialization\n",
    "   - Test different kinds of initializations (k-means++ vs random)\n",
    "   - Provide a user-generated initialization that you consider can result in very suboptimal performance\n",
    "   - Test other selections of the number of parameters\n",
    "   - Include in the plot the location of the cluster of each class"
   ]
  },
  {
   "cell_type": "code",
   "execution_count": null,
   "metadata": {
    "slideshow": {
     "slide_type": "subslide"
    }
   },
   "outputs": [],
   "source": [
    "est = KMeans(n_clusters=5, n_init=1)  # n_init is the no. of runs\n",
    "est.fit(X)\n",
    "y_kmeans = est.predict(X)\n",
    "plt.scatter(X[:, 0], X[:, 1], c=y_kmeans, s=50, cmap='rainbow');\n",
    "plt.axis('equal')\n",
    "plt.show()"
   ]
  },
  {
   "cell_type": "markdown",
   "metadata": {
    "slideshow": {
     "slide_type": "slide"
    }
   },
   "source": [
    "### 2.3. The K-Means Algorithm: Interactive visualization\n",
    "\n",
    "The following fragment of code allows you to study the evolution of cluster centroids on one run of the algorithm, and to modify also the number of centroids.\n"
   ]
  },
  {
   "cell_type": "code",
   "execution_count": null,
   "metadata": {
    "slideshow": {
     "slide_type": "fragment"
    }
   },
   "outputs": [],
   "source": [
    "# WARNING: This command may fail (interactivity not working properly) depending on the python version.\n",
    "# plot_kmeans_interactive(min_clusters=2, max_clusters=6)\n",
    "# plt.show()"
   ]
  },
  {
   "cell_type": "markdown",
   "metadata": {
    "slideshow": {
     "slide_type": "subslide"
    }
   },
   "source": [
    "### 2.4. Determining the number of clusters\n",
    "\n",
    "If the number of clusters, $K$, is not known, selecting the appropriate value becomes a major issue. Since the overal distortion $D$ decreases with $K$, the selection of the number o clusters cannot be based on the overal distorsion. \n",
    "\n",
    "The best value of $K$ may be application dependent. Though we will not discuss specific algorithms in detail, we point out some possible solutions:\n",
    "\n",
    "* **Penalization functions**: instead of minimizing $D$, we can train the clustering algorithm in order to minimize the functional $D' = D + \\lambda f(K)$, where $f$ is an increasing function penalizing large values of $K$, and $\\lambda$ is an hyperparameter. For instance, we can take \n",
    "$$f(K)=\\log(K)$$\n",
    "$$f(K)=K$$\n",
    "$$f(K)=K^2,$$\n",
    "etc."
   ]
  },
  {
   "cell_type": "markdown",
   "metadata": {
    "slideshow": {
     "slide_type": "subslide"
    }
   },
   "source": [
    "* **Cluster-based metrics**, like\n",
    "    * Average <a href=http://scikit-learn.org/stable/modules/generated/sklearn.metrics.silhouette_score.html#sklearn.metrics.silhouette_score>silohuete coefficient</a>. The Silhouette Coefficient is calculated using the mean intra-cluster distance (a) and the mean nearest-cluster distance (b) for each sample. The Silhouette Coefficient for a sample is (b - a) / max(a, b).\n",
    "    * <a href= https://scikit-learn.org/stable/modules/clustering.html#calinski-harabasz-index> Calinski-Harabaz score </a>. It is defined as the ratio of the between-clusters dispersion mean and the within-cluster dispersion:\n",
    "\\begin{align}\n",
    "s(K) = \\frac{\\mathrm{Trace}({\\bf B}_K)}{\\mathrm{Trace}({\\bf W}_K)} \\times \\frac{L - K}{K - 1}\n",
    "\\end{align}\n",
    "where ${\\bf W}_K$ is the within-cluster dispersion matrix defined by\n",
    "$$\n",
    "{\\bf W}_K = \\sum_{k=0}^{K-1} \\sum_{{\\bf x} \\in {\\cal G}_k} (x - \\boldsymbol{\\mu}_k) ({\\bf x} - \\boldsymbol{\\mu}_k)^T\n",
    "$$\n",
    "(so that $\\mathrm{Trace}({\\bf W}_K)$ is equal to the total distorsion), and ${\\bf B}_K$ is the between group dispersion matrix, defined by \n",
    "$$\n",
    "{\\bf B}_K = \\sum_{k=0}^{K-1} \\left|{\\cal G}_k\\right| (\\boldsymbol{\\mu}_k - \\boldsymbol{\\mu}) (\\boldsymbol{\\mu}_k - \\boldsymbol{\\mu})^T\n",
    "$$\n",
    "with $L$ be the number of points in our data and $\\boldsymbol{\\mu}$ be the average of all data points.\n"
   ]
  },
  {
   "cell_type": "markdown",
   "metadata": {
    "slideshow": {
     "slide_type": "subslide"
    }
   },
   "source": [
    "<b>Exercise:</b> Select the number of samples using any of the above metrics for the dataset in the previous examples."
   ]
  },
  {
   "cell_type": "code",
   "execution_count": null,
   "metadata": {},
   "outputs": [],
   "source": []
  },
  {
   "cell_type": "markdown",
   "metadata": {
    "slideshow": {
     "slide_type": "slide"
    }
   },
   "source": [
    "## 3. Application of KMeans to Digits\n",
    "\n",
    "For a closer-to-real-world example, let us take a look at a digit recognition dataset. Here we'll use KMeans to automatically cluster the data in 64 dimensions, and then look at the cluster centers to see what the algorithm has found."
   ]
  },
  {
   "cell_type": "code",
   "execution_count": null,
   "metadata": {
    "slideshow": {
     "slide_type": "subslide"
    }
   },
   "outputs": [],
   "source": [
    "digits = load_digits()\n",
    "\n",
    "print('Input data and label number are provided in the following two variables:')\n",
    "print(\"digits['images']: {0}\".format(digits['images'].shape))\n",
    "print(\"digits['target']: {0}\".format(digits['target'].shape))"
   ]
  },
  {
   "cell_type": "markdown",
   "metadata": {
    "slideshow": {
     "slide_type": "subslide"
    }
   },
   "source": [
    "Next, we cluster the data into 10 groups, and plot the representatives (centroids of each group).  As with the toy example, you could modify the initialization settings to study the impact of initialization in the performance of the method\n"
   ]
  },
  {
   "cell_type": "code",
   "execution_count": null,
   "metadata": {
    "slideshow": {
     "slide_type": "subslide"
    }
   },
   "outputs": [],
   "source": [
    "est = KMeans(n_clusters=10, n_init=10)\n",
    "clusters = est.fit_predict(digits.data)\n",
    "est.cluster_centers_.shape"
   ]
  },
  {
   "cell_type": "code",
   "execution_count": null,
   "metadata": {
    "slideshow": {
     "slide_type": "subslide"
    }
   },
   "outputs": [],
   "source": [
    "fig = plt.figure(figsize=(8, 3))\n",
    "for i in range(10):\n",
    "    ax = fig.add_subplot(2, 5, 1 + i, xticks=[], yticks=[])\n",
    "    ax.imshow(est.cluster_centers_[i].reshape((8, 8)), cmap=plt.cm.binary)"
   ]
  },
  {
   "cell_type": "markdown",
   "metadata": {
    "slideshow": {
     "slide_type": "subslide"
    }
   },
   "source": [
    "We see that *even without the labels*, KMeans is able to find clusters whose means are recognizable digits (with apologies to the number 8)!"
   ]
  },
  {
   "cell_type": "markdown",
   "metadata": {
    "slideshow": {
     "slide_type": "subslide"
    }
   },
   "source": [
    "### 3.1. Visualization via Dimensionality Reduction\n",
    "\n",
    "The following fragment of code projects the data into the two \"most representative\" dimensions, so that we can somehow visualize the result of the clustering (note that we can not visualize the data in the original 64 dimensions). In order to do so, we use a method known as Principal Component Analysis (PCA). This is a method that allows you to obtain a 2-D representation of multidimensional data: we extract the two most relevant features (using PCA) and look at the true cluster labels and $K$-means cluster labels:"
   ]
  },
  {
   "cell_type": "code",
   "execution_count": null,
   "metadata": {
    "slideshow": {
     "slide_type": "fragment"
    }
   },
   "outputs": [],
   "source": [
    "X = PCA(2).fit_transform(digits.data)\n",
    "\n",
    "kwargs = dict(cmap = plt.cm.get_cmap('rainbow', 10),\n",
    "              edgecolor='none', alpha=0.6)\n",
    "fig, ax = plt.subplots(1, 2, figsize=(8, 4))\n",
    "ax[0].scatter(X[:, 0], X[:, 1], c=est.labels_, **kwargs)\n",
    "ax[0].set_title('learned cluster labels')\n",
    "\n",
    "ax[1].scatter(X[:, 0], X[:, 1], c=digits.target, **kwargs)\n",
    "ax[1].set_title('true labels');"
   ]
  },
  {
   "cell_type": "markdown",
   "metadata": {
    "slideshow": {
     "slide_type": "subslide"
    }
   },
   "source": [
    "### 3.2. Classification performance\n",
    "\n",
    "Just for kicks, let us see how accurate our $K$-means classifier is **with no label information**. In order to do so, we can work on the confussion matrix:"
   ]
  },
  {
   "cell_type": "code",
   "execution_count": null,
   "metadata": {
    "slideshow": {
     "slide_type": "fragment"
    }
   },
   "outputs": [],
   "source": [
    "conf = confusion_matrix(digits.target, est.labels_)\n",
    "print(conf)\n",
    "\n",
    "# This is to remove the image grid\n",
    "# (plt.grid(False) produces a warning message)\n",
    "grid_status = plt.rcParams['axes.grid']\n",
    "plt.rcParams['axes.grid'] = False   \n",
    "\n",
    "# Draw cofusion matrix\n",
    "plt.imshow(conf, cmap='Blues', interpolation='nearest')\n",
    "plt.colorbar()\n",
    "plt.ylabel('true')\n",
    "plt.xlabel('Group index');\n",
    "\n",
    "# Restore default grid parameter\n",
    "plt.rcParams['axes.grid'] = grid_status\n",
    "\n",
    "# and compute the number of right guesses if each identified group were assigned to the right class\n",
    "print('Percentage of patterns that would be correctly classified: {0}'.format(\n",
    "      np.sum(np.max(conf,axis=1)) * 100. / np.sum(conf)))"
   ]
  },
  {
   "cell_type": "markdown",
   "metadata": {
    "slideshow": {
     "slide_type": "fragment"
    }
   },
   "source": [
    "This is above 80% classification accuracy for an **entirely unsupervised estimator** which knew nothing about the labels."
   ]
  },
  {
   "cell_type": "markdown",
   "metadata": {
    "slideshow": {
     "slide_type": "slide"
    }
   },
   "source": [
    "## 4. Example: KMeans for Color Compression\n",
    "\n",
    "One interesting application of clustering is in color image compression. For example, imagine you have an image with millions of colors. In most images, a large number of the colors will be unused, and conversely a large number of pixels will have similar or identical colors.\n",
    "\n",
    "Scikit-learn has a number of images that you can play with, accessed through the datasets module. For example:"
   ]
  },
  {
   "cell_type": "code",
   "execution_count": null,
   "metadata": {
    "slideshow": {
     "slide_type": "subslide"
    }
   },
   "outputs": [],
   "source": [
    "china = load_sample_image(\"china.jpg\")\n",
    "plt.imshow(china)\n",
    "plt.grid(False);"
   ]
  },
  {
   "cell_type": "markdown",
   "metadata": {
    "slideshow": {
     "slide_type": "subslide"
    }
   },
   "source": [
    "The image itself is stored in a 3-dimensional array, of size ``(height, width, RGB)``. For each pixel three values are necessary, each in the range 0 to 255. This means that each pixel is stored using 24 bits."
   ]
  },
  {
   "cell_type": "code",
   "execution_count": null,
   "metadata": {
    "slideshow": {
     "slide_type": "fragment"
    }
   },
   "outputs": [],
   "source": [
    "print('The image dimensions are {0}'.format(china.shape))\n",
    "print('The RGB values of pixel 2 x 2 are '.format(china[2,2,:]))"
   ]
  },
  {
   "cell_type": "markdown",
   "metadata": {
    "slideshow": {
     "slide_type": "fragment"
    }
   },
   "source": [
    "We can envision this image as a cloud of points in a 3-dimensional color space. We'll rescale the colors so they lie between 0 and 1, then reshape the array to be a typical scikit-learn input:"
   ]
  },
  {
   "cell_type": "code",
   "execution_count": null,
   "metadata": {
    "slideshow": {
     "slide_type": "fragment"
    }
   },
   "outputs": [],
   "source": [
    "X = (china / 255.0).reshape(-1, 3)\n",
    "print(X.shape)"
   ]
  },
  {
   "cell_type": "markdown",
   "metadata": {
    "slideshow": {
     "slide_type": "fragment"
    }
   },
   "source": [
    "We now have 273,280 points in 3 dimensions.\n",
    "\n",
    "Our task is to use KMeans to compress the $256^3$ colors into a smaller number (say, 64 colors). Basically, we want to find $N_{color}$ clusters in the data, and create a new image where the true input color is replaced by the color of the closest cluster. Compressing data in this way, each pixel will be represented using only 6 bits (**25 % of the original image size**)"
   ]
  },
  {
   "cell_type": "code",
   "execution_count": null,
   "metadata": {
    "slideshow": {
     "slide_type": "subslide"
    }
   },
   "outputs": [],
   "source": [
    "# reduce the size of the image for speed. Only for the K-means algorithm\n",
    "image = china[::3, ::3]\n",
    "n_colors = 128\n",
    "\n",
    "X = (image / 255.0).reshape(-1, 3)\n",
    "    \n",
    "model = KMeans(n_colors, n_init=10)\n",
    "model.fit(X)\n",
    "labels = model.predict((china / 255.0).reshape(-1, 3))\n",
    "#print labels.shape\n",
    "colors = model.cluster_centers_\n",
    "new_image = colors[labels].reshape(china.shape)\n",
    "new_image = (255 * new_image).astype(np.uint8)\n",
    "\n",
    "#For comparison purposes, we pick 64 colors at random\n",
    "perm = np.random.permutation(range(X.shape[0]))[:n_colors]\n",
    "colors = X[perm,:]\n",
    "\n",
    "labels = np.argmin(cdist((china / 255.0).reshape(-1, 3),colors),axis=1)\n",
    "new_image_rnd = colors[labels].reshape(china.shape)\n",
    "new_image_rnd = (255 * new_image_rnd).astype(np.uint8)\n",
    "\n",
    "# create and plot the new image\n",
    "with sns.axes_style('white'):\n",
    "    plt.figure()\n",
    "    plt.imshow(china)\n",
    "    plt.title('Original image')\n",
    "\n",
    "    plt.figure()\n",
    "    plt.imshow(new_image)\n",
    "    plt.title('{0} colors'.format(n_colors))\n",
    "    \n",
    "    plt.figure()\n",
    "    plt.imshow(new_image_rnd)\n",
    "    plt.title('{0} colors'.format(n_colors) + ' (random selection)')\n",
    "    "
   ]
  },
  {
   "cell_type": "markdown",
   "metadata": {
    "slideshow": {
     "slide_type": "subslide"
    }
   },
   "source": [
    "Compare the input and output image: we've reduced the $256^3$ colors to just 64. An additional image is created by selecting 64 colors at random from the original image. Try reducing the number of colors to 32, 16, 8, and compare the images in these cases."
   ]
  }
 ],
 "metadata": {
  "anaconda-cloud": {},
  "celltoolbar": "Slideshow",
  "kernelspec": {
   "display_name": "Python 3 (ipykernel)",
   "language": "python",
   "name": "python3"
  },
  "language_info": {
   "codemirror_mode": {
    "name": "ipython",
    "version": 3
   },
   "file_extension": ".py",
   "mimetype": "text/x-python",
   "name": "python",
   "nbconvert_exporter": "python",
   "pygments_lexer": "ipython3",
   "version": "3.8.12"
  },
  "widgets": {
   "state": {
    "d8815be4a57e41fcba947496b0a5c3f5": {
     "views": [
      {
       "cell_index": 15
      }
     ]
    }
   },
   "version": "1.2.0"
  }
 },
 "nbformat": 4,
 "nbformat_minor": 4
}
