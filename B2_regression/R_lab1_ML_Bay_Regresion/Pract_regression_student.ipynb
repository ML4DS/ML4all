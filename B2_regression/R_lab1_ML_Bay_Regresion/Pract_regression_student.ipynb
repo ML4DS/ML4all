{
 "cells": [
  {
   "cell_type": "markdown",
   "metadata": {},
   "source": [
    "# Parametric ML and Bayesian regression\n",
    "\n",
    "    Notebook version: 1.2 (Sep 28, 2018)\n",
    "\n",
    "    Authors: Miguel Lázaro Gredilla\n",
    "             Jerónimo Arenas García (jarenas@tsc.uc3m.es)\n",
    "             Jesús Cid Sueiro (jesus.cid@uc3m.es)"
   ]
  },
  {
   "cell_type": "markdown",
   "metadata": {
    "slideshow": {
     "slide_type": "notes"
    }
   },
   "source": [
    "    Changes: v.1.0 - First version. Python version\n",
    "             v.1.1 - Python 3 compatibility. ML section.\n",
    "             v.1.2 - Revised content. 2D visualization removed.\n",
    "    \n",
    "    Pending changes: "
   ]
  },
  {
   "cell_type": "code",
   "execution_count": null,
   "metadata": {},
   "outputs": [],
   "source": [
    "# Import some libraries that will be necessary for working with data and displaying plots\n",
    "\n",
    "# To visualize plots in the notebook\n",
    "%matplotlib inline \n",
    "\n",
    "import matplotlib\n",
    "import matplotlib.pyplot as plt\n",
    "import matplotlib.cm as cm\n",
    "\n",
    "import numpy as np\n",
    "import scipy.io       # To read matlab files\n",
    "from scipy import spatial\n",
    "import pylab\n",
    "pylab.rcParams['figure.figsize'] = 8, 5"
   ]
  },
  {
   "cell_type": "markdown",
   "metadata": {},
   "source": [
    "## 1. Introduction\n",
    "\n",
    "In this exercise the student will review several key concepts of Maximum Likelihood and Bayesian regression. To do so, we will assume the regression model\n",
    "\n",
    "$$s = {\\bf w}^\\top {\\bf z} + \\varepsilon$$\n",
    "\n",
    "where $s$ is the output corresponding to input ${\\bf x}$, ${\\bf z} = T({\\bf x})$ is a possibly non-linear transformation of the input, and $\\varepsilon$ is white zero-mean Gaussian noise, i.e., \n",
    "\n",
    "$$\\varepsilon \\sim {\\cal N}(0,\\sigma_\\varepsilon^2).$$\n",
    "\n",
    "Along this notebook, we will explore different types of transformations.\n",
    "\n",
    "Also, we will assume an <i>a priori</i> distribution for ${\\bf w}$ given by\n",
    "\n",
    "$${\\bf w} \\sim {\\cal N}({\\bf 0}, \\sigma_p^2~{\\bf I})$$\n",
    "\n"
   ]
  },
  {
   "cell_type": "markdown",
   "metadata": {},
   "source": [
    "### Practical considerations\n",
    "\n",
    "   - Though sometimes unavoidable, it is recommended not to use explicit matrix inversion whenever possible. For instance, if an operation like ${\\mathbf A}^{-1} {\\mathbf b}$ must be performed, it is preferable to code it using python `numpy.linalg.lstsq` function (see http://docs.scipy.org/doc/numpy/reference/generated/numpy.linalg.lstsq.html), which provides the LS solution to the overdetermined system ${\\mathbf A} {\\mathbf w} = {\\mathbf b}$.\n",
    "   \n",
    "   - [_Not needed_] Sometimes, the computation of $\\log|{\\mathbf A}|$ (where ${\\mathbf A}$ is a positive definite matrix) can overflow available precision, producing incorrect results. A numerically more stable alternative, providing the same result is $2\\sum_i \\log([{\\mathbf L}]_{ii})$, where $\\mathbf L$ is the Cholesky decomposition of $\\mathbf A$ (i.e., ${\\mathbf A} = {\\mathbf L}^\\top {\\mathbf L}$), and $[{\\mathbf L}]_{ii}$ is the $i$th element of the diagonal of ${\\mathbf L}$.\n",
    "   \n",
    "   - [_Not needed_] Non-degenerate covariance matrices, such as the ones in this exercise, are always positive definite. It may happen, as a consequence of chained rounding errors, that a matrix which was mathematically expected to be positive definite, turns out not to be so. This implies its Cholesky decomposition will not be available. A quick way to palliate this problem is by adding a small number (such as $10^{-6}$) to the diagonal of such matrix."
   ]
  },
  {
   "cell_type": "markdown",
   "metadata": {},
   "source": [
    "### Reproducibility of computations\n",
    "\n",
    "To guarantee the exact reproducibility of the experiments, it may be useful to start your code initializing the seed of the random numbers generator, so that you can compare your results with the ones given in this notebook."
   ]
  },
  {
   "cell_type": "code",
   "execution_count": null,
   "metadata": {},
   "outputs": [],
   "source": [
    "np.random.seed(3)"
   ]
  },
  {
   "cell_type": "markdown",
   "metadata": {},
   "source": [
    "## 2. Data generation with a linear model\n",
    "\n",
    "During this section, we will assume affine transformation\n",
    "$${\\bf z} = T({\\bf x}) = \n",
    "\\begin{pmatrix}\n",
    "  1 \\\\\n",
    "  {\\bf x}\n",
    "\\end{pmatrix}\n",
    "$$.\n",
    "\n",
    "The <i>a priori</i> distribution of ${\\bf w}$ is assumed to be\n",
    "\n",
    "$${\\bf w} \\sim {\\cal N}({\\bf 0}, \\sigma_p^2~{\\bf I})$$"
   ]
  },
  {
   "cell_type": "markdown",
   "metadata": {},
   "source": [
    "### 2.1. Synthetic data generation\n",
    "\n",
    "First, we are going to generate synthetic data (so that we have the ground-truth model) and use them to make sure everything works correctly and our estimations are sensible.\n",
    "\n",
    "* [1] Set parameters $\\sigma_p^2 = 2$ and $\\sigma_{\\varepsilon}^2 = 0.2$. To do so, define variables `sigma_p` and `sigma_eps` containing the respective standard deviations."
   ]
  },
  {
   "cell_type": "code",
   "execution_count": null,
   "metadata": {},
   "outputs": [],
   "source": [
    "# Parameter settings\n",
    "# sigma_p = <FILL IN>\n",
    "# sigma_eps = <FILL IN>\n",
    " "
   ]
  },
  {
   "cell_type": "markdown",
   "metadata": {},
   "source": [
    "* [2] Generate a weight vector `true_w` with two elements from the *a priori* distribution of the weights. This vector determines the regression line that we want to find (i.e., the optimum unknown solution)."
   ]
  },
  {
   "cell_type": "code",
   "execution_count": null,
   "metadata": {},
   "outputs": [],
   "source": [
    "# Data dimension:\n",
    "dim_x = 2\n",
    "\n",
    "# Generate a parameter vector taking a random sample from the prior distributions\n",
    "# (the np.random module may be usefull for this purpose)\n",
    "# true_w = <FILL IN>\n",
    "# --> Alternatively, you can use true_w = sigma_p * np.random.randn(dim_x, 1)\n",
    "print('The true parameter vector is:')\n",
    "print(true_w)"
   ]
  },
  {
   "cell_type": "markdown",
   "metadata": {},
   "source": [
    "* [3] Generate an input matrix ${\\bf X}$ (in this case, a single column) containing 20 samples with equally spaced values between 0 and 2 (method `linspace` from numpy can be useful for this)"
   ]
  },
  {
   "cell_type": "code",
   "execution_count": null,
   "metadata": {},
   "outputs": [],
   "source": [
    "# <SOL>\n",
    "# </SOL>"
   ]
  },
  {
   "cell_type": "markdown",
   "metadata": {},
   "source": [
    "* [4] Finally, generate the output vector ${\\bf s}$ as the product ${\\bf Z} \\cdot $ true_w plus Gaussian noise of pdf ${\\cal N}(0,\\sigma_\\varepsilon^2)$ at each element."
   ]
  },
  {
   "cell_type": "code",
   "execution_count": null,
   "metadata": {},
   "outputs": [],
   "source": [
    "# Expand input matrix with an all-ones column\n",
    "col_1 = np.ones((n_points, 1))\n",
    "# Z = <FILL IN>\n",
    "\n",
    "# Generate values of the target variable\n",
    "# s = <FILL IN>\n",
    " "
   ]
  },
  {
   "cell_type": "code",
   "execution_count": null,
   "metadata": {},
   "outputs": [],
   "source": [
    "print(s)"
   ]
  },
  {
   "cell_type": "markdown",
   "metadata": {},
   "source": [
    "### 2.2. Data visualization"
   ]
  },
  {
   "cell_type": "markdown",
   "metadata": {},
   "source": [
    "* Plot the generated data. You will notice a linear behavior, but the presence of noise makes it hard to estimate precisely the original straight line that generated them (which is stored in `true_w`)."
   ]
  },
  {
   "cell_type": "code",
   "execution_count": null,
   "metadata": {},
   "outputs": [],
   "source": [
    "# <SOL> \n",
    "# </SOL>"
   ]
  },
  {
   "cell_type": "markdown",
   "metadata": {},
   "source": [
    "## 3. Maximum Likelihood (ML) regression\n",
    "\n",
    "### 3.1. Likelihood function"
   ]
  },
  {
   "cell_type": "markdown",
   "metadata": {},
   "source": [
    "* [1] Define a function `predict(w, Z)` that computes the linear predictions for all inputs in data matrix `Z` (a 2-D numpy arry), for a given parameter vector `w` (a 1-D numpy array). The output should be a 1-D array. Test your function with the given dataset and `w = [0.4, 0.7]`"
   ]
  },
  {
   "cell_type": "code",
   "execution_count": null,
   "metadata": {},
   "outputs": [],
   "source": [
    "# <SOL>\n",
    "# </SOL>\n",
    "\n",
    "# Print predictions\n",
    "print(p)"
   ]
  },
  {
   "cell_type": "markdown",
   "metadata": {},
   "source": [
    "* [2] Define a function `sse(w, Z, s)` that computes the sum of squared errors (SSE) for the linear prediction with parameters `w ` (1D numpy array), inputs `Z `  (2D numpy array) and targets `s ` (1D numpy array). Using this function, compute the SSE of the true parameter vector in `true_w`."
   ]
  },
  {
   "cell_type": "code",
   "execution_count": null,
   "metadata": {},
   "outputs": [],
   "source": [
    "# <SOL>\n",
    "# </SOL>\n",
    "\n",
    "print(f\" The SSE is: {SSE:.5f}\")"
   ]
  },
  {
   "cell_type": "markdown",
   "metadata": {},
   "source": [
    "* [3] Define a function `likelihood(w, Z, s, sigma_eps)` that computes the likelihood of parameter vector `w` for a given dataset in matrix `Z` and vector `s`, assuming Gaussian noise with varianze $\\sigma_\\epsilon^2$. Note that this function can use the `sse` function defined above. Using this function, compute the likelihood of the true parameter vector in `true_w`."
   ]
  },
  {
   "cell_type": "code",
   "execution_count": null,
   "metadata": {},
   "outputs": [],
   "source": [
    "# <SOL>\n",
    "# </SOL>\n",
    "\n",
    "print(f\"The likelihood of the true parameter vector is {L_w_true:.5E}\")"
   ]
  },
  {
   "cell_type": "markdown",
   "metadata": {},
   "source": [
    "* [4] Define a function `LL(w, Z, s, sigma_eps)` that computes the log-likelihood of parameter vector `w` for a given dataset in matrix `Z` and vector `s`, assuming Gaussian noise with varianze $\\sigma_\\epsilon^2$. Note that this function can use the `likelihood` function defined above. However, for a higher numerical precission, implemening a direct expression for the log-likelihood is recommended. \n",
    "\n",
    "   Using this function, compute the likelihood of the true parameter vector in `true_w`."
   ]
  },
  {
   "cell_type": "code",
   "execution_count": null,
   "metadata": {},
   "outputs": [],
   "source": [
    "# <SOL>\n",
    "# </SOL>\n",
    "\n",
    "print(f\"The log-likelihood of the true parameter vector is {LL_w_true:.5f}\")"
   ]
  },
  {
   "cell_type": "markdown",
   "metadata": {},
   "source": [
    "### 3.2. ML estimate\n",
    "\n",
    "* [1] Compute the ML estimate of ${\\bf w}$ given the data. Remind that using `np.linalg.lstsq` ia a better option than a direct implementation of the formula of the ML estimate, that would involve a matrix inversion."
   ]
  },
  {
   "cell_type": "code",
   "execution_count": null,
   "metadata": {},
   "outputs": [],
   "source": [
    "# <SOL>\n",
    "# </SOL>\n",
    "\n",
    "print(w_ML)"
   ]
  },
  {
   "cell_type": "markdown",
   "metadata": {},
   "source": [
    "* [2] Compute the maximum likelihood, and the maximum log-likelihood."
   ]
  },
  {
   "cell_type": "code",
   "execution_count": null,
   "metadata": {},
   "outputs": [],
   "source": [
    "# <SOL>\n",
    "# </SOL>\n",
    "\n",
    "print(f'Maximum likelihood: {L_w_ML:.5E}')\n",
    "print(f'Maximum log-likelihood: {LL_w_ML:.5f}')"
   ]
  },
  {
   "cell_type": "markdown",
   "metadata": {},
   "source": [
    "Just as an illustration, the code below generates a set of points in a two dimensional grid going from $(-\\sigma_p, -\\sigma_p)$ to $(\\sigma_p, \\sigma_p)$, computes the log-likelihood for all these points and visualize them using a 2-dimensional plot. You can see the difference between the true value of the parameter ${\\bf w}$ (black) and the ML estimate (red). If they are not quite close to each other, maybe you have made some mistake in the above exercises:"
   ]
  },
  {
   "cell_type": "code",
   "execution_count": null,
   "metadata": {},
   "outputs": [],
   "source": [
    "# First construct a grid of (theta0, theta1) parameter pairs and their\n",
    "# corresponding cost function values.\n",
    "N = 200    # Number of points along each dimension.\n",
    "w0_grid = np.linspace(-2.5*sigma_p, 2.5*sigma_p, N)\n",
    "w1_grid = np.linspace(-2.5*sigma_p, 2.5*sigma_p, N)\n",
    "\n",
    "Lw = np.zeros((N,N))\n",
    "# Fill Lw with the likelihood values\n",
    "for i, w0i in enumerate(w0_grid):\n",
    "    for j, w1j in enumerate(w1_grid):\n",
    "        we = np.array((w0i, w1j)) \n",
    "        Lw[i, j] = LL(we, Z, s, sigma_eps)\n",
    "\n",
    "WW0, WW1 = np.meshgrid(w0_grid, w1_grid, indexing='ij')\n",
    "contours = plt.contour(WW0, WW1, Lw, 20)\n",
    "\n",
    "plt.figure\n",
    "plt.clabel(contours)\n",
    "plt.scatter([true_w[0]]*2, [true_w[1]]*2, s=[50,10], color=['k','w'])\n",
    "plt.scatter([w_ML[0]]*2, [w_ML[1]]*2, s=[50,10], color=['r','w'])\n",
    "plt.xlabel('$w_0$')\n",
    "plt.ylabel('$w_1$')\n",
    "plt.show()"
   ]
  },
  {
   "cell_type": "markdown",
   "metadata": {},
   "source": [
    "### 3.3. [OPTIONAL]: Convergence of the ML estimate for the true model\n",
    "\n",
    "Note that the likelihood of the true parameter vector is, in general, smaller than that of the ML estimate. However, as the sample size increasis, both should converge to the same value.\n",
    "\n",
    "* [1] Generate a longer dataset, with $K_\\text{max}=2^{16}$ samples, uniformly spaced between 0 and 2. Store it in the 2D-array `X2` and the 1D-array `s2`"
   ]
  },
  {
   "cell_type": "code",
   "execution_count": null,
   "metadata": {},
   "outputs": [],
   "source": [
    "# Parameter settings\n",
    "x_min = 0\n",
    "x_max = 2\n",
    "n_points = 2**16\n",
    "\n",
    "# <SOL>\n",
    "# </SOL>"
   ]
  },
  {
   "cell_type": "markdown",
   "metadata": {},
   "source": [
    "* [2] Compute the ML estimate based on the first $2^k$ samples, for $k=2,3,\\ldots, 15$. For each value of $k$ compute the squared euclidean distance between the true parameter vector and the ML estimate. Represent it graphically (using a logarithmic scale in the y-axis)."
   ]
  },
  {
   "cell_type": "code",
   "execution_count": null,
   "metadata": {},
   "outputs": [],
   "source": [
    "# <SOL>\n",
    "# </SOL>"
   ]
  },
  {
   "cell_type": "markdown",
   "metadata": {},
   "source": [
    "## 4. ML estimation with real data. The stocks dataset.\n",
    "\n",
    "Once our code has been tested on synthetic data, we will use it with real data. "
   ]
  },
  {
   "cell_type": "markdown",
   "metadata": {},
   "source": [
    "### 4.1. Dataset"
   ]
  },
  {
   "cell_type": "markdown",
   "metadata": {},
   "source": [
    "* [1] Load the dataset file provided with this notebook, corresponding to the evolution of the stocks of 10 airline companies. (<small>The dataset is an adaptation of the <a href=\"http://www.dcc.fc.up.pt/~ltorgo/Regression/DataSets.html\"> Stock dataset</a>, which in turn was taken from the <a href=\"http://lib.stat.cmu.edu/\">StatLib Repository</a></small>) "
   ]
  },
  {
   "cell_type": "code",
   "execution_count": null,
   "metadata": {},
   "outputs": [],
   "source": [
    "# <SOL>\n",
    "# </SOL>"
   ]
  },
  {
   "cell_type": "markdown",
   "metadata": {},
   "source": [
    "* [2] Normalize the data so all training sample components have zero mean and unit standard deviation. Store the normalized training and test samples in 2D numpy arrays `Xtrain` and `Xtest`, respectively."
   ]
  },
  {
   "cell_type": "code",
   "execution_count": null,
   "metadata": {},
   "outputs": [],
   "source": [
    "# <SOL>\n",
    "# </SOL>"
   ]
  },
  {
   "cell_type": "markdown",
   "metadata": {},
   "source": [
    "### 4.2. Polynomial ML regression with a single variable\n",
    "\n",
    "In this first part, we will work with the first component of the input only."
   ]
  },
  {
   "cell_type": "markdown",
   "metadata": {},
   "source": [
    "* [1] Take the first column of `Xtrain` and `Xtest` into arrays `X0train` and `X0test`, respectively. "
   ]
  },
  {
   "cell_type": "code",
   "execution_count": null,
   "metadata": {},
   "outputs": [],
   "source": [
    "# <SOL>\n",
    "# </SOL>"
   ]
  },
  {
   "cell_type": "markdown",
   "metadata": {},
   "source": [
    "* [2] Visualize, in a single scatter plot, the target variable (in the vertical axes) versus the input variable, using the training data"
   ]
  },
  {
   "cell_type": "code",
   "execution_count": null,
   "metadata": {},
   "outputs": [],
   "source": [
    "# <SOL>\n",
    "# </SOL>"
   ]
  },
  {
   "cell_type": "markdown",
   "metadata": {},
   "source": [
    "* [3] Since the data have been taken from a real scenario, we do not have any *true* mathematical model of the process that generated the data. Thus, we will explore different models trying to take the one that fits better the training data.\n",
    "\n",
    "  Assume a polinomial model given by\n",
    "  $$\n",
    "  {\\bf z} = T({\\bf x}) = (1, x_0, x_0^2, \\ldots, x_0^{g-1})^\\top.\n",
    "  $$\n",
    "\n",
    "  Compute matrices `Ztrain` and `Ztest` that result from applying the polynomial transformation to the inputs in `X0train` and `X0test` for a model with degree `g_max = 50`. The `np.vander()` method may be useful for this.\n",
    "  \n",
    "  Note that, despite `X0train` and `X0test` where normalized, you will need to re-normalize the transformed variables.\n",
    "  \n",
    "  Note, also, that the first component of the transformed variables, which must be equal to 1, should not be normalized. To simplify the job, the code below defines a normalizer class that performs normalization to all components unless for the first one."
   ]
  },
  {
   "cell_type": "code",
   "execution_count": null,
   "metadata": {},
   "outputs": [],
   "source": [
    "# The following normalizer will be helpful: it normalizes all components of the \n",
    "# input matrix, unless for the first one (the \"all-one's\" column) that\n",
    "# should not be normalized\n",
    "class Normalizer():\n",
    "    \"\"\"\n",
    "    A data normalizer. Usage:\n",
    "        nm = Normalizer()\n",
    "        Z = nm.fit_transform(X)  # to estimate the normalization mean and variance an normalize \n",
    "                                 # all columns of X unles the first one\n",
    "        Z2 = nm.transform(X)     # to normalize X without recomputing mean and variance parameters\n",
    "   \"\"\"\n",
    "    \n",
    "    def fit_transform(self, Z):\n",
    "        \n",
    "        self.mean_z = np.mean(Z, axis=0)\n",
    "        self.mean_z[0] = 0\n",
    "        self.std_z = np.std(Z, axis=0)\n",
    "        self.std_z[0] = 1\n",
    "        Zout = (Z - self.mean_z) / self.std_z\n",
    "        \n",
    "        # sc = StandardScaler()\n",
    "        # Ztrain = sc.fit_transform(Ztrain)\n",
    "        return Zout\n",
    "        \n",
    "    def transform(self, Z):        \n",
    "        return (Z - self.mean_z) / self.std_z\n",
    "        # Ztest = sc.transform(Ztest)      \n",
    "        \n",
    "# Set the maximum degree of the polynomial model\n",
    "g_max = 50\n",
    "\n",
    "# Compute polynomial transformation for train and test data\n",
    "# <SOL>\n",
    "# </SOL>\n",
    "\n",
    "# Normalize training and test data \n",
    "# <SOL>\n",
    "# </SOL>"
   ]
  },
  {
   "cell_type": "markdown",
   "metadata": {},
   "source": [
    "* [4] Fit a polynomial model with degree $g$ for $g$ ranging from 0 to `g_max`. Store the weights of all models in a list of weight vectors, named `models`, such that `models[g]` returns the parameters estimated for the polynomial model with degree $g$. \n",
    "\n",
    "  We will use these models in the following sections."
   ]
  },
  {
   "cell_type": "code",
   "execution_count": null,
   "metadata": {},
   "outputs": [],
   "source": [
    "# IMPORTANT NOTE: Use np.linalg.lstsq() with option rcond=-1 for better precission.\n",
    "\n",
    "# HINT: Take into account that the data matrix required to fit a polynomial model \n",
    "#       with degree g consists of the first g+1 columns of Ztrain.\n",
    "\n",
    "# <SOL>\n",
    "# </SOL>"
   ]
  },
  {
   "cell_type": "markdown",
   "metadata": {},
   "source": [
    "* [5] Plot the polynomial models with degrees 1, 3 and `g_max`, superimposed over a scatter plot of the training data."
   ]
  },
  {
   "cell_type": "code",
   "execution_count": null,
   "metadata": {},
   "outputs": [],
   "source": [
    "# Create a grid of samples along the x-axis.\n",
    "n_points = 10000\n",
    "xmin = min(X0train)\n",
    "xmax = max(X0train)\n",
    "X = np.linspace(xmin, xmax, n_points)\n",
    "\n",
    "# Apply the polynomial transformation to the inputs with degree g_max.\n",
    "# <SOL>\n",
    "# </SOL>\n",
    "\n",
    "# Plot training points\n",
    "plt.plot(X0train, strain, 'b.', markersize=4);\n",
    "plt.xlabel('$x$',fontsize=14);\n",
    "plt.ylabel('$s$',fontsize=14);\n",
    "plt.xlim(xmin, xmax)\n",
    "plt.ylim(30, 65)\n",
    "\n",
    "# Plot the regresion function for the required degrees\n",
    "# <SOL>\n",
    "# </SOL>\n",
    "\n",
    "plt.show()"
   ]
  },
  {
   "cell_type": "markdown",
   "metadata": {},
   "source": [
    "* [6] Taking `sigma_eps = 1`, show, in the same plot:\n",
    "\n",
    "  - The log-likelihood function corresponding to each model, as a function of $g$, computed over the training set.\n",
    "  - The log-likelihood function corresponding to each model, as a function of $g$, computed over the test set.\n",
    "  \n",
    "  "
   ]
  },
  {
   "cell_type": "code",
   "execution_count": null,
   "metadata": {},
   "outputs": [],
   "source": [
    "LLtrain = []\n",
    "LLtest = []\n",
    "sigma_eps = 1\n",
    "\n",
    "# Fill LLtrain and LLtest with the log-likelihood values for all values of\n",
    "# g ranging from 0 to g_max (included).\n",
    "# <SOL>\n",
    "# </SOL>\n",
    "\n",
    "plt.figure()\n",
    "plt.plot(range(g_max + 1), LLtrain, label='Training')\n",
    "plt.plot(range(g_max + 1), LLtest, label='Test')\n",
    "plt.xlabel('g')\n",
    "plt.ylabel('Log-likelihood')\n",
    "plt.xlim(0, g_max)\n",
    "plt.ylim(-5e4,100)\n",
    "plt.legend()\n",
    "plt.show()"
   ]
  },
  {
   "cell_type": "markdown",
   "metadata": {},
   "source": [
    "* [7] You may have seen the likelihood function over the training data grows with the degree of the polynomial. However, large values of $g$ produce a strong data overfitting. For this reasong, $g$ cannot be selected with the same data used to fit the model. \n",
    "\n",
    "  This kind of parameters, like $g$ are usually called *hyperparameters* and need to be selected by cross validation.\n",
    "\n",
    "  Select the optimal value of $g$ by 10-fold cross-validation. To do so, the cross validation methods provided by sklearn will simplify this task."
   ]
  },
  {
   "cell_type": "code",
   "execution_count": null,
   "metadata": {},
   "outputs": [],
   "source": [
    "from sklearn.model_selection import KFold\n",
    "\n",
    "# Select the number of splits\n",
    "n_sp = 10\n",
    "\n",
    "# Create a cross-validator object\n",
    "kf = KFold(n_splits=n_sp)\n",
    "# Split data from Ztrain\n",
    "kf.get_n_splits(Ztrain)\n",
    "\n",
    "LLmean = []\n",
    "for g in range(g_max + 1):\n",
    "    # Compute the cross-validation Likelihood\n",
    "    LLg = 0\n",
    "    for tr_index, val_index in kf.split(Ztrain):\n",
    "        # Take the data matrices for the current split\n",
    "        Z_tr, Z_val = Ztrain[tr_index, 0:g+1], Ztrain[val_index, 0:g+1]\n",
    "        s_tr, s_val = strain[tr_index], strain[val_index]\n",
    "\n",
    "        # Train with the current training splits.\n",
    "        # w_MLk, _, _, _ = np.linalg.lstsq(<FILL IN>)\n",
    "\n",
    "        # Compute the validation likelihood for this split\n",
    "        # LLg += LL(<FILL IN>)\n",
    "\n",
    "    LLmean.append(LLg / n_sp)\n",
    "\n",
    "# Take the optimal value of g and its correpsponding likelihood\n",
    "# g_opt = <FILL IN>\n",
    "# LLmax = <FILL IN>\n",
    "\n",
    "print(f\"The optimal degree is: {g_opt}\")\n",
    "print(f\"The maximum cross-validation likehood is {LLmax:.5f}\")\n",
    "\n",
    "plt.figure()\n",
    "plt.plot(range(g_max + 1), LLmean, label='Training')\n",
    "plt.plot([g_opt], [LLmax], 'g.', markersize = 20)\n",
    "plt.xlabel('g')\n",
    "plt.ylabel('Log-likelihood')\n",
    "plt.xlim(0, g_max)\n",
    "plt.ylim(-1e3, LLmax + 100)\n",
    "plt.legend()\n",
    "plt.show()"
   ]
  },
  {
   "cell_type": "markdown",
   "metadata": {},
   "source": [
    "* [8] You may have observed the overfitting effect for large values of $g$. The best degree of the polynomial may depend on the size of the training set. Take a smaller dataset by running, after the code in section 4.2[1]:\n",
    "\n",
    " + `X0train = Xtrain[0:55, [0]]`\n",
    " + `X0test = Xtest[0:100, [0]]`\n",
    "\n",
    "   Then, re-run the whole code after that. What is the optimal value of $g$ in that case?"
   ]
  },
  {
   "cell_type": "code",
   "execution_count": null,
   "metadata": {},
   "outputs": [],
   "source": [
    "# You do not need to code here. Just copy the value of g_opt obtained after re-running the code\n",
    "# g_opt_new = <FILL IN>\n",
    "\n",
    "print(f\"The optimal value of  g for the 100-sample training set is {g_opt_new}\")\n"
   ]
  },
  {
   "cell_type": "markdown",
   "metadata": {},
   "source": [
    "* [9] [OPTIONAL]   \n",
    "\n",
    "  Note that the model coefficients do not depend on $\\sigma_\\epsilon^2$. Therefore, we do not need to care about its values for polynomial ML regression.\n",
    "\n",
    "  However, the log-likelihood function do depends on $\\sigma_\\epsilon^2$. Actually, we can estimate its value by cross-validation. By simple differentiation, it is not difficult to see that the optimal ML estimate of $\\sigma_\\epsilon$ is\n",
    "\n",
    "  $$\n",
    "  \\widehat{\\sigma}_\\epsilon^2 = \\sqrt{\\frac{1}{K} \\|{\\bf s}-{\\bf Z}{\\bf w}\\|^2}\n",
    "  $$\n",
    "\n",
    "  Plot the log-likelihood function corresponding to the polynomial model with degree 3 for different values of $\\sigma_\\epsilon^2$, for the training set, and verify that the value computed with the above formula is actually optimal."
   ]
  },
  {
   "cell_type": "code",
   "execution_count": null,
   "metadata": {},
   "outputs": [],
   "source": [
    "# Explore the values of sigma logarithmically spaced according to the following array\n",
    "sigma_eps = np.logspace(-0.1, 5, num=50)\n",
    "\n",
    "g = 3\n",
    "K = len(strain)\n",
    "\n",
    "# <SOL>\n",
    "# </SOL>"
   ]
  },
  {
   "cell_type": "markdown",
   "metadata": {},
   "source": [
    "* [10] [OPTIONAL] For the selected model:\n",
    "\n",
    "    - Plot the regresion function over the scater plot of the data.\n",
    "    - Compute the log-likelihood and the SSE over the test set."
   ]
  },
  {
   "cell_type": "code",
   "execution_count": null,
   "metadata": {},
   "outputs": [],
   "source": [
    "# Note that you can easily adapt your code in 4.2[5]\n",
    "\n",
    "# <SOL>\n",
    "# </SOL>"
   ]
  },
  {
   "cell_type": "markdown",
   "metadata": {},
   "source": [
    "## 5. Bayesian regression. The stock dataset.\n",
    "\n",
    "In this section we will keep using the first component of the data from the stock dataset, assuming the same kind of plolynomial model. We will explore the potential advantages of using a Bayesian model. To do so, we will asume that the <i>a priori</i> distribution of ${\\bf w}$ is\n",
    "\n",
    "$${\\bf w} \\sim {\\cal N}({\\bf 0}, \\sigma_p^2~{\\bf I})$$\n"
   ]
  },
  {
   "cell_type": "markdown",
   "metadata": {},
   "source": [
    "### 5.1. Hyperparameter selection\n",
    "\n",
    "Since the values $\\sigma_p$ and $\\sigma_\\varepsilon$ are no longer known, a first rough estimation is needed (we will soon see how to estimate these values in a principled way).\n",
    "\n",
    "To this end, we will adjust them using the ML solution to the regression problem with g=10:\n",
    "\n",
    "   - $\\sigma_p^2$ will be taken as the average of the square values of ${\\hat {\\bf w}}_{ML}$\n",
    "   - $\\sigma_\\varepsilon^2$ will be taken as two times the average of the square of the residuals when using ${\\hat {\\bf w}}_{ML}$"
   ]
  },
  {
   "cell_type": "code",
   "execution_count": null,
   "metadata": {},
   "outputs": [],
   "source": [
    "# Degree for bayesian regression\n",
    "gb = 10\n",
    "\n",
    "# w_LS, residuals, rank, s = <FILL IN>\n",
    "\n",
    "# sigma_p = <FILL IN>\n",
    "# sigma_eps = <FILL IN>\n",
    "\n",
    "print(f\"{sigma_p:.5f}\")\n",
    "print(f\"{sigma_eps:.5f}\")"
   ]
  },
  {
   "cell_type": "markdown",
   "metadata": {},
   "source": [
    "### 5.2. Posterior pdf of the weight vector\n",
    "\n",
    "In this section we will visualize prior and the posterior distribution functions. First, we will restore the dataset at the begining of this notebook:"
   ]
  },
  {
   "cell_type": "markdown",
   "metadata": {},
   "source": [
    "* [1] Define a function `posterior_stats(Z, s, sigma_eps, sigma_p)` that computes the parameters of the posterior coefficient distribution given the dataset in matrix `Z` and vector `s`, for given values of the hyperparameters.\n",
    "This function should return the posterior mean, the covariance matrix and the precision matrix (the inverse of the covariance matrix). Test the function to the given dataset, for $g=3$."
   ]
  },
  {
   "cell_type": "code",
   "execution_count": null,
   "metadata": {},
   "outputs": [],
   "source": [
    "# <SOL>\n",
    "# </SOL>\n",
    "\n",
    "mean_w, Cov_w, iCov_w = posterior_stats(Ztrain[:, :gb+1], strain, sigma_eps, sigma_p)\n",
    "\n",
    "print(f'mean_w = {mean_w}')\n",
    "# print('Cov_w = {Cov_w}')\n",
    "# print('iCov_w = {iCov_w}')"
   ]
  },
  {
   "cell_type": "markdown",
   "metadata": {},
   "source": [
    "* [2] Define a function `gauss_pdf(w, mean_w, iCov_w)` that computes the Gaussian pdf with mean `mean_w` and precision matrix `iCov_w`. Use this function to compute and compare the ML estimate and the MSE estimate, given the dataset."
   ]
  },
  {
   "cell_type": "code",
   "execution_count": null,
   "metadata": {},
   "outputs": [],
   "source": [
    "# <SOL>\n",
    "# </SOL>\n",
    "\n",
    "print(f'p(w_ML | s)  = {gauss_pdf(w_ML, mean_w, iCov_w):.5E}')\n",
    "print(f'p(w_MSE | s)  = {gauss_pdf(mean_w, mean_w, iCov_w):.5E}')"
   ]
  },
  {
   "cell_type": "markdown",
   "metadata": {},
   "source": [
    "* [3] [OPTIONAL] Define a function `log_gauss_pdf(w, mean_w, iCov_w)` that computes the log of the Gaussian pdf with mean `mean_w` and precision matrix `iCov_w`. Use this function to compute and compare the log of the posterior pdf value of the true coefficients, the ML estimate and the MSE estimate, given the dataset."
   ]
  },
  {
   "cell_type": "code",
   "execution_count": null,
   "metadata": {},
   "outputs": [],
   "source": [
    "# <SOL>\n",
    "# </SOL>\n",
    "\n",
    "print(f'log(p(w_ML | s))  = {log_gauss_pdf(w_ML, mean_w, iCov_w):.5f}')\n",
    "print(f'log(p(w_MSE | s))  = {log_gauss_pdf(mean_w, mean_w, iCov_w):.5f}')"
   ]
  },
  {
   "cell_type": "markdown",
   "metadata": {},
   "source": [
    "### 5.3 Sampling regression curves from the posterior\n",
    "\n",
    "In this section we will plot the functions corresponding to different samples drawn from the posterior distribution of the weight vector. \n",
    "\n",
    "To this end, we will first generate an input dataset of equally spaced samples. We will compute the functions at these points"
   ]
  },
  {
   "cell_type": "code",
   "execution_count": null,
   "metadata": {},
   "outputs": [],
   "source": [
    "# Definition of the interval for representation purposes \n",
    "xmin = min(X0train)\n",
    "xmax = max(X0train)\n",
    "n_points = 100   # Only two points are needed to plot a straigh line\n",
    "\n",
    "# Build the input data matrix:\n",
    "# Input values for representation of the regression curves\n",
    "X = np.linspace(xmin, xmax, n_points)\n",
    "Z = np.vander(X.flatten(), g_max+1, increasing=True)\n",
    "Z = nm.transform(Z)[:, :gb+1]"
   ]
  },
  {
   "cell_type": "markdown",
   "metadata": {},
   "source": [
    "Generate random vectors ${\\bf w}_l$ with $l = 1,\\dots, 50$, from the posterior density of the weights, $p({\\bf w}\\mid{\\bf s})$, and use them to generate 50 polinomial regression functions, $f({\\bf x}^\\ast) = {{\\bf z}^\\ast}^\\top {\\bf w}_l$, with ${\\bf x}^\\ast$ between $-1.2$ and $1.2$, with step $0.1$.\n",
    "\n",
    "Plot the line corresponding to the model with the posterior mean parameters, along with the $50$ generated straight lines and the original samples, all in the same plot. As you can check, the Bayesian model is not providing a single answer, but instead a density over them, from which we have extracted 50 options."
   ]
  },
  {
   "cell_type": "code",
   "execution_count": null,
   "metadata": {},
   "outputs": [],
   "source": [
    "# Drawing weights from the posterior\n",
    "for l in range(50):\n",
    "    # Generate a random sample from the posterior distribution (you can use np.random.multivariate_normal())\n",
    "    # w_l = <FILL IN>\n",
    "\n",
    "    # Compute predictions for the inputs in the data matrix\n",
    "    # p_l = <FILL IN>\n",
    "\n",
    "    # Plot prediction function\n",
    "    # plt.plot(<FILL IN>, 'c:');\n",
    "\n",
    "# Plot the training points\n",
    "plt.plot(X0train, strain,'b.',markersize=2);\n",
    "plt.xlim((xmin, xmax));\n",
    "plt.xlabel('$x$',fontsize=14);\n",
    "plt.ylabel('$s$',fontsize=14);"
   ]
  },
  {
   "cell_type": "markdown",
   "metadata": {},
   "source": [
    "### 5.4. Plotting the confidence intervals\n",
    "\n",
    "On top of the previous figure (copy here your code from the previous section), plot functions\n",
    "\n",
    "$${\\mathbb E}\\left\\{f({\\bf x}^\\ast)\\mid{\\bf s}\\right\\}$$\n",
    "\n",
    "and\n",
    "\n",
    "$${\\mathbb E}\\left\\{f({\\bf x}^\\ast)\\mid{\\bf s}\\right\\} \\pm 2 \\sqrt{{\\mathbb V}\\left\\{f({\\bf x}^\\ast)\\mid{\\bf s}\\right\\}}$$\n",
    "\n",
    "(i.e., the posterior mean of $f({\\bf x}^\\ast)$, as well as two standard deviations above and below).\n",
    "\n",
    "It is possible to show analytically that this region comprises $95.45\\%$ probability of the posterior probability $p(f({\\bf x}^\\ast)\\mid {\\bf s})$ at each ${\\bf x}^\\ast$."
   ]
  },
  {
   "cell_type": "code",
   "execution_count": null,
   "metadata": {},
   "outputs": [],
   "source": [
    "# Note that you can re-use code from sect. 4.2 to solve this exercise\n",
    "\n",
    "# Plot the training points \n",
    "# plt.plot(X, Z.dot(true_w), 'b', label='True model', linewidth=2);\n",
    "plt.plot(X0train, strain,'b.',markersize=2);\n",
    "plt.xlim(xmin, xmax);\n",
    "# </SOL>    \n",
    "\n",
    "# Plot the posterior mean.\n",
    "# mean_s = <FILL IN>\n",
    "plt.plot(X, mean_s, 'g', label='Predictive mean', linewidth=2);\n",
    "\n",
    "# Plot the posterior mean +- two standard deviations\n",
    "# std_f = <FILL IN>\n",
    "\n",
    "# Plot the confidence intervals.\n",
    "# To do so, you can use the fill_between method\n",
    "plt.fill_between(X.flatten(), (mean_s - 2*std_f).flatten(), (mean_s + 2*std_f).flatten(),\n",
    "                 alpha=0.4, edgecolor='#1B2ACC', facecolor='#089FFF', linewidth=2)\n",
    "\n",
    "# plt.legend(loc='best')\n",
    "plt.xlabel('$x$',fontsize=14);\n",
    "plt.ylabel('$s$',fontsize=14);\n",
    "plt.show()\n"
   ]
  },
  {
   "cell_type": "markdown",
   "metadata": {},
   "source": [
    "Plot now ${\\mathbb E}\\left\\{s({\\bf x}^\\ast)\\mid{\\bf s}\\right\\} \\pm 2 \\sqrt{{\\mathbb V}\\left\\{s({\\bf x}^\\ast)\\mid{\\bf s}\\right\\}}$ (note that the posterior means of $f({\\bf x}^\\ast)$ and $s({\\bf x}^\\ast)$ are the same, so there is no need to plot it again). Notice that $95.45\\%$ of observed data lie now within the newly designated region. These new limits establish a confidence range for our predictions. See how the uncertainty grows as we move away from the interpolation region to the extrapolation areas."
   ]
  },
  {
   "cell_type": "code",
   "execution_count": null,
   "metadata": {},
   "outputs": [],
   "source": [
    "# Plot sample functions confidence intervals and sampling points\n",
    "# Note that you can simply copy and paste most of the code used in the cell above.\n",
    "# <SOL>\n",
    "# </SOL>\n",
    "\n",
    "plt.show()"
   ]
  },
  {
   "cell_type": "markdown",
   "metadata": {},
   "source": [
    "### 5.5. Test square error\n",
    "\n",
    "* [1] To test the regularization effect of the Bayesian prior. To do so, compute and plot the sum of square errors of both the ML and Bayesian estimates as a function of the polynomial degree.\n"
   ]
  },
  {
   "cell_type": "code",
   "execution_count": null,
   "metadata": {},
   "outputs": [],
   "source": [
    "SSE_ML = []\n",
    "SSE_Bayes = []\n",
    "\n",
    "# Compute the SSE for the ML and the bayes estimates\n",
    "for g in range(g_max + 1):\n",
    "    # <SOL>\n",
    "    # </SOL>\n",
    "\n",
    "plt.figure()\n",
    "plt.semilogy(range(g_max + 1), SSE_ML, label='ML')\n",
    "plt.semilogy(range(g_max + 1), SSE_Bayes, 'g.', label='Bayes')\n",
    "plt.xlabel('g')\n",
    "plt.ylabel('Sum of square errors')\n",
    "plt.xlim(0, g_max)\n",
    "plt.ylim(min(min(SSE_Bayes), min(SSE_ML)),10000)\n",
    "plt.legend()\n",
    "plt.show()\n"
   ]
  },
  {
   "cell_type": "markdown",
   "metadata": {},
   "source": [
    "### 5.6. [Optional] Model assessment\n",
    "\n",
    "In order to verify the performance of the resulting model, compute the posterior mean and variance of each of the test outputs from the posterior over ${\\bf w}$. I.e, compute ${\\mathbb E}\\left\\{s({\\bf x}^\\ast)\\mid{\\bf s}\\right\\}$ and $\\sqrt{{\\mathbb V}\\left\\{s({\\bf x}^\\ast)\\mid{\\bf s}\\right\\}}$ for each test sample ${\\bf x}^\\ast$ contained in each row of `Xtest`. \n",
    "\n",
    "Store the predictive mean and variance of all test samples in two column vectors called `m_s` and `v_s`, respectively."
   ]
  },
  {
   "cell_type": "code",
   "execution_count": null,
   "metadata": {},
   "outputs": [],
   "source": [
    "# <SOL>\n",
    "# </SOL>"
   ]
  },
  {
   "cell_type": "markdown",
   "metadata": {},
   "source": [
    "Compute now the mean square error (MSE) and the negative log-predictive density (NLPD) with the following code:"
   ]
  },
  {
   "cell_type": "code",
   "execution_count": null,
   "metadata": {},
   "outputs": [],
   "source": [
    "# <SOL>\n",
    "# </SOL>\n",
    "\n",
    "print(f'MSE = {MSE:.5f}')\n",
    "print(f'NLPD = {NLPD:.5f}')"
   ]
  },
  {
   "cell_type": "markdown",
   "metadata": {},
   "source": [
    "These two measures reveal the quality of our predictor (with lower values revealing higher quality). The first measure (MSE) only compares the predictive mean with the actual value and always has a positive value (if zero was reached, it would mean a perfect prediction). It does not take into account predictive variance. The second measure (NLPD) takes into account both the deviation and the predictive variance (uncertainty) to measure the quality of the probabilistic prediction (a high error in a prediction that was already known to have high variance has a smaller penalty, but also, announcing a high variance when the prediction error is small won’t award such a good score)."
   ]
  },
  {
   "cell_type": "markdown",
   "metadata": {},
   "source": [
    "## 6. [Optional] Regression with all variables from the stocks dataset.\n",
    "\n",
    "Try to improve the test SSE of the best model used so far. To do so:\n",
    "\n",
    "* Explore the use of all the input variables from the dataset.\n",
    "* Explore other regression algorithms from the `sklearn` library."
   ]
  },
  {
   "cell_type": "code",
   "execution_count": null,
   "metadata": {},
   "outputs": [],
   "source": []
  }
 ],
 "metadata": {
  "anaconda-cloud": {},
  "kernelspec": {
   "display_name": "Python 3 (ipykernel)",
   "language": "python",
   "name": "python3"
  },
  "language_info": {
   "codemirror_mode": {
    "name": "ipython",
    "version": 3
   },
   "file_extension": ".py",
   "mimetype": "text/x-python",
   "name": "python",
   "nbconvert_exporter": "python",
   "pygments_lexer": "ipython3",
   "version": "3.8.12"
  }
 },
 "nbformat": 4,
 "nbformat_minor": 4
}
