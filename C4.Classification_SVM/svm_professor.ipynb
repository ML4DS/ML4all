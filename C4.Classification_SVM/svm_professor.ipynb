{
 "cells": [
  {
   "cell_type": "markdown",
   "metadata": {
    "slideshow": {
     "slide_type": "slide"
    }
   },
   "source": [
    "# Support Vector Machines\n",
    "\n",
    "    Authors: Jesús Cid Sueiro (jcid@tsc.uc3m.es)\n",
    "             Jerónimo Arenas García (jarenas@tsc.uc3m.es)\n",
    "\n",
    "This notebook is a compilation of material taken from several sources:\n",
    "    \n",
    "- The [sklearn documentation](href = http://scikit-learn.org/stable/modules/svm.html>)\n",
    "- A [notebook](https://github.com/jakevdp/sklearn_pycon2015/blob/master/notebooks/03.1-Classification-SVMs.ipynb) by [Jake Vanderplas](https://github.com/jakevdp>)\n",
    "- [Wikipedia](https://en.wikipedia.org/wiki/Support_vector_machine)\n"
   ]
  },
  {
   "cell_type": "markdown",
   "metadata": {
    "slideshow": {
     "slide_type": "notes"
    }
   },
   "source": [
    "    Notebook version: 1.0 (Oct 28, 2015)\n",
    "                      1.1 (Oct 27, 2016)\n",
    "                      2.0 (Nov 2, 2017)\n",
    "                      2.1 (Oct 20, 2018)\n",
    "                      2.2 (Oct 20, 2019)\n",
    "                      \n",
    "    Changes: \n",
    "    v.1.0 - First version\n",
    "    v.1.1 - Typo correction and illustrative figures for linear SVM\n",
    "    v.2.0 - Compatibility with Python 3 (backcompatible with Python 2.7)\n",
    "    v.2.1 - Minor corrections on the notation\n",
    "    v.2.2 - Minor equation errors. Reformatted hyperlinks. Restoring broken visualization of images in some Jupyter versions.\n",
    "    v.2.3 - Notation revision\n",
    "    "
   ]
  },
  {
   "cell_type": "code",
   "execution_count": 1,
   "metadata": {
    "slideshow": {
     "slide_type": "skip"
    }
   },
   "outputs": [],
   "source": [
    "from __future__ import print_function\n",
    "\n",
    "# To visualize plots in the notebook\n",
    "%matplotlib inline\n",
    "\n",
    "# Imported libraries\n",
    "#import csv\n",
    "#import random\n",
    "#import matplotlib\n",
    "import matplotlib.pyplot as plt\n",
    "from mpl_toolkits import mplot3d\n",
    "#import pylab\n",
    "\n",
    "import numpy as np\n",
    "#from sklearn.preprocessing import PolynomialFeatures\n",
    "from sklearn import svm\n",
    "from sklearn.datasets.samples_generator import make_blobs\n",
    "from sklearn.datasets.samples_generator import make_circles\n",
    "\n",
    "from ipywidgets import interact"
   ]
  },
  {
   "cell_type": "markdown",
   "metadata": {
    "slideshow": {
     "slide_type": "slide"
    }
   },
   "source": [
    "## 1. Introduction\n",
    "\n",
    "<small> <font color=\"blue\"> [Source: [sklearn documentation](http://scikit-learn.org/stable/modules/svm.html)  </a>]</font> </small>\n",
    "\n",
    "Support vector machines (SVMs) are a set of supervised learning methods used for classification, regression and outliers detection.\n",
    "\n",
    "The advantages of support vector machines are:\n",
    "\n",
    "- Effective in high dimensional spaces.\n",
    "- Still effective in cases where number of dimensions is greater than the number of samples.\n",
    "- Uses a subset of training points in the decision function (called support vectors), so it is also memory efficient.\n",
    "- Versatile: different Kernel functions can be specified for the decision function.\n",
    "\n",
    "The disadvantages of support vector machines include:\n",
    "\n",
    "- SVMs do not directly provide probability estimates."
   ]
  },
  {
   "cell_type": "markdown",
   "metadata": {
    "slideshow": {
     "slide_type": "slide"
    }
   },
   "source": [
    "## 2. Motivating Support Vector Machines\n",
    "\n",
    "<small> <font color=\"blue\"> [Source: A [notebook](https://github.com/jakevdp/sklearn_pycon2015/blob/master/notebooks/03.1-Classification-SVMs.ipynb) by [Jake Vanderplas](https://github.com/jakevdp>)] </font> </small>\n",
    "\n",
    "Support Vector Machines (SVMs) are a kind of ***discriminative*** classifiers: that is, they draw a boundary between clusters of data without making any explicit assumption about the probability model underlying the data generation process.\n",
    "\n",
    "Let's show a quick example of support vector classification. First we need to create a dataset:"
   ]
  },
  {
   "cell_type": "code",
   "execution_count": 2,
   "metadata": {
    "slideshow": {
     "slide_type": "subslide"
    }
   },
   "outputs": [
    {
     "data": {
      "image/png": "[encoded data removed]",
      "text/plain": [
       "<Figure size 432x288 with 1 Axes>"
      ]
     },
     "metadata": {
      "needs_background": "light"
     },
     "output_type": "display_data"
    }
   ],
   "source": [
    "X, y = make_blobs(n_samples=50, centers=2, random_state=0, cluster_std=0.60)\n",
    "plt.scatter(X[:, 0], X[:, 1], c=y, s=50, cmap='copper')\n",
    "plt.xlabel(\"$x_0$\", fontsize=14)\n",
    "plt.ylabel(\"$x_1$\", fontsize=14)\n",
    "plt.axis('equal')\n",
    "plt.show()"
   ]
  },
  {
   "cell_type": "markdown",
   "metadata": {
    "slideshow": {
     "slide_type": "subslide"
    }
   },
   "source": [
    "A discriminative classifier attempts to draw a line between the two sets of data. Immediately we see an inconvenience: such problem is ill-posed! For example, we could come up with several possibilities which perfectly discriminate between the classes in this example:"
   ]
  },
  {
   "cell_type": "code",
   "execution_count": 3,
   "metadata": {
    "slideshow": {
     "slide_type": "fragment"
    }
   },
   "outputs": [
    {
     "data": {
      "image/png": "[encoded data removed]",
      "text/plain": [
       "<Figure size 432x288 with 1 Axes>"
      ]
     },
     "metadata": {
      "needs_background": "light"
     },
     "output_type": "display_data"
    }
   ],
   "source": [
    "xfit = np.linspace(-1, 3.5)\n",
    "plt.scatter(X[:, 0], X[:, 1], c=y, s=50, cmap='copper')\n",
    "\n",
    "for m, b in [(1, 0.65), (0.5, 1.6), (-0.2, 2.9)]:\n",
    "    plt.plot(xfit, m * xfit + b, '-k')\n",
    "\n",
    "plt.xlim(-1, 3.5);\n",
    "plt.xlabel(\"$x_0$\", fontsize=14)\n",
    "plt.ylabel(\"$x_1$\", fontsize=14)\n",
    "plt.axis('equal')\n",
    "plt.show()"
   ]
  },
  {
   "cell_type": "markdown",
   "metadata": {
    "slideshow": {
     "slide_type": "subslide"
    }
   },
   "source": [
    "These are three very different separators which perfectly discriminate between these samples. Depending on which you choose, a new data point will be classified almost entirely differently! How can we improve on this?\n",
    "\n",
    "Support Vector Machines (SVM) select the boundary decision maximizing the ***margin***. The margin of a classifier is defined as twice the maximum signed distance between the decision boundary and the training data. By *signed* we mean that the distance to misclassified samples is counted negatively. Thus, if the classification problem is \"separable\" (i.e. if there exist a decision boundary with zero errors in the training set), the SVM will choose the zero-error decision boundary that is \"as far as possible\" from the training data.\n",
    "\n",
    "In summary, what an SVM does is to not only draw a line, but consider the \"sample free\" region about the line. Here's an example of what it might look like:"
   ]
  },
  {
   "cell_type": "code",
   "execution_count": 4,
   "metadata": {
    "slideshow": {
     "slide_type": "subslide"
    }
   },
   "outputs": [
    {
     "data": {
      "image/png": "[encoded data removed]",
      "text/plain": [
       "<Figure size 432x288 with 1 Axes>"
      ]
     },
     "metadata": {
      "needs_background": "light"
     },
     "output_type": "display_data"
    }
   ],
   "source": [
    "xfit = np.linspace(-1, 3.5)\n",
    "plt.scatter(X[:,0], X[:,1], c=y, s=50, cmap='copper')\n",
    "\n",
    "for m, b, d in [(1, 0.65, 0.33), (0.5, 1.6, 0.55), (-0.2, 2.9, 0.2)]:\n",
    "    yfit = m * xfit + b\n",
    "    plt.plot(xfit, yfit, '-k')\n",
    "    plt.fill_between(xfit, yfit-d, yfit+d, edgecolor='none', \n",
    "                     color='#AAAAAA', alpha=0.4)\n",
    "\n",
    "plt.xlim(-1, 3.5)\n",
    "plt.xlabel(\"$x_0$\", fontsize=14)\n",
    "plt.ylabel(\"$x_1$\", fontsize=14)\n",
    "plt.axis('equal')\n",
    "plt.show()"
   ]
  },
  {
   "cell_type": "markdown",
   "metadata": {
    "slideshow": {
     "slide_type": "subslide"
    }
   },
   "source": [
    "Notice here that if we want to maximize this width, the middle fit is clearly the best. This is the intuition of the SVM, which optimizes a linear discriminant model in conjunction with a margin representing the perpendicular distance between the datasets."
   ]
  },
  {
   "cell_type": "markdown",
   "metadata": {
    "slideshow": {
     "slide_type": "slide"
    }
   },
   "source": [
    "## 3. Linear SVM\n",
    "\n",
    "<small> <font color=\"blue\"> [Source: adapted from [Wikipedia](https://en.wikipedia.org/wiki/Support_vector_machine)]</font> </small>\n",
    "\n",
    "In order to present the SVM in a formal way, consider a training dataset $\\mathcal{D} = \\left\\{ (\\mathbf{x}_k, y_k) \\mid \\mathbf{x}_k\\in \\Re^M,\\, y_k \\in \\{-1,1\\}, k=0,\\ldots, {K-1}\\right\\}$, where the binary symmetric label $y_k\\in \\{-1,1\\}$ indicates the class to which the point $\\mathbf{x}_k$ belongs. Each $\\mathbf{x}_k$ is an $M$-dimensional real vector. We want to find the maximum-margin hyperplane that divides the points having $y_k=1$ from those having $y_k=-1$. \n",
    "\n",
    "Any hyperplane can be written as the set of points $\\mathbf{x}$ satisfying\n",
    "\n",
    "$$\n",
    "\\mathbf{w}^\\intercal \\mathbf{x} - b=0,\n",
    "$$\n",
    "\n",
    "where ${\\mathbf{w}}$ denotes the (not necessarily normalized) normal vector to the hyperplane. The parameter $\\tfrac{b}{\\|\\mathbf{w}\\|}$ determines the offset of the hyperplane from the origin along the normal vector ${\\mathbf{w}}$.\n",
    "\n",
    "If the training data are linearly separable, we can select two parallel hyperplanes in a way that they separate the data and there are no points between them, and then try to maximize their distance. The region bounded by them is called \"the margin\". These hyperplanes can be described by the equations\n",
    "\n",
    "$$\\mathbf{w}^\\intercal \\mathbf{x} - b=1$$\n",
    "and\n",
    "$$\\mathbf{w}^\\intercal \\mathbf{x} - b=-1.$$\n",
    "\n",
    "Note that the two equations above can represent any two parallel hyperplanes in $\\Re^M$. Essentially, the direction of vector $\\mathbf{w}$ determines the orientation of the hyperplanes, whereas parameter $b$ and the norm of $\\mathbf{w}$ can be used to select their exact location."
   ]
  },
  {
   "cell_type": "markdown",
   "metadata": {
    "slideshow": {
     "slide_type": "subslide"
    }
   },
   "source": [
    "To compute the distance between the hyperplanes, we can obtain the projection of vector ${\\mathbf x}_1 - {\\mathbf x}_2$, where ${\\mathbf x}_1$ and ${\\mathbf x}_2$ are points from each of the hyperplanes, onto a unitary vector orthonormal to the hyperplanes:\n",
    "\n",
    "<img src=\"./figs/margin_calculation.png\" width=\"500\">\n",
    "\n",
    "$$\\text{Distance between hyperplanes} = \\left[\\frac{\\mathbf{w}}{\\|\\mathbf{w}\\|}\\right]^\\top ({\\mathbf x}_1 - {\\mathbf x}_2) = \\frac{\\mathbf{w}^\\top {\\mathbf x}_1 - \\mathbf{w}^\\top {\\mathbf x}_2}{\\|\\mathbf{w}\\|} = \\frac{2}{\\|\\mathbf{w}\\|}.$$\n",
    "\n",
    "\n",
    "Therefore, to maximize the distance between the planes we want to minimize $\\|\\mathbf{w}\\|$."
   ]
  },
  {
   "cell_type": "markdown",
   "metadata": {
    "slideshow": {
     "slide_type": "subslide"
    }
   },
   "source": [
    "As we also have to prevent data points from falling into the margin, we add the following constraints: for each $k$ either\n",
    "\n",
    "\\begin{align}\n",
    "\\mathbf{w}^\\top \\mathbf{x}_k - b &\\ge +1, \\qquad\\text{ if  }\\;\\;y_k=1, \\qquad \\text{or} \\\\\n",
    "\\mathbf{w}^\\top \\mathbf{x}_k - b &\\le -1, \\qquad\\text{ if  }\\;\\;y_k=-1.\n",
    "\\end{align}\n",
    "\n",
    "This can be rewritten as:\n",
    "\n",
    "$$\n",
    "y_k(\\mathbf{w}^\\top \\mathbf{x}_k - b) \\ge 1, \\quad \\text{ for all } 0 \\le k \\le K-1.\n",
    "$$\n",
    "\n",
    "We can put this together to get the optimization problem:\n",
    "\n",
    "$$\n",
    "(\\mathbf{w}^*,b^*) = \\arg\\min_{(\\mathbf{w},b)} \\|\\mathbf{w}\\| \\\\\n",
    "\\text{subject to: } \n",
    "y_k(\\mathbf{w}^\\top \\mathbf{x}_k - b) \\ge 1, \\, \\text{ for any } k = 0, \\dots, {K-1}\n",
    "$$\n"
   ]
  },
  {
   "cell_type": "markdown",
   "metadata": {
    "slideshow": {
     "slide_type": "subslide"
    }
   },
   "source": [
    "This optimization problem is difficult to solve because it depends on $\\|\\mathbf{w}\\|$, the norm of $\\mathbf{w}$, which involves a square root. Fortunately it is possible to alter the minimization objective $\\|\\mathbf{w}\\|$ by substituting it with $\\tfrac{1}{2}\\|\\mathbf{w}\\|^2$ (the factor of $\\frac{1}{2}$ being used for mathematical convenience) without changing the solution (the minimum of the original and the modified equation have the same $\\mathbf{w}$ and $b$):\n",
    "\n",
    "$$\n",
    "(\\mathbf{w}^*,b^*) = \\arg\\min_{(\\mathbf{w},b)} \\frac{1}{2}\\|\\mathbf{w}\\|^2 \\\\\n",
    "\\text{subject to: } \n",
    "y_k(\\mathbf{w}^\\top \\mathbf{x}_k - b) \\ge 1, \\, \\text{ for any } k = 0, \\dots, {K-1}\n",
    "$$\n",
    "\n",
    "This is a particular case of a *quadratic programming* problem. \n"
   ]
  },
  {
   "cell_type": "markdown",
   "metadata": {
    "slideshow": {
     "slide_type": "slide"
    }
   },
   "source": [
    "### 3.1. Primal form\n",
    "\n",
    "The optimization problem stated in the preceding section can be solved by means of a generalization of the Lagrange method of multipliers for inequality constraints, using the so called Karush–Kuhn–Tucker (KKT) multipliers $\\boldsymbol{\\alpha}$. According to it, the constrained problem can be expressed as\n",
    "\n",
    "$$(\\mathbf{w}^*,b^*, \\boldsymbol{\\alpha}^*) = \\arg\\min_{\\mathbf{w},b } \\max_{\\boldsymbol{\\alpha}\\geq 0 } \\left\\{ \\frac{1}{2}\\|\\mathbf{w}\\|^2 - \\sum_{k=0}^{K-1}{\\alpha_k\\left[y_k(\\mathbf{w}^\\top \\mathbf{x}_k - b)-1\\right]} \\right\\}\n",
    "$$\n",
    "\n",
    "that is, we look for a *saddle point*.\n",
    "\n",
    "A key result in convex optimization theory is that, for the kind of optimization problems discussed here (see [here](http://www.onmyphd.com/?p=kkt.karush.kuhn.tucker&ckattempt=1), for instance), the *max* and *min* operators are interchangeable, so that\n",
    "$$\n",
    "(\\mathbf{w}^*,b^*, \\boldsymbol{\\alpha}^*) = \\arg\\max_{\\boldsymbol{\\alpha}\\geq 0 } \\min_{\\mathbf{w},b } \\left\\{ \\frac{1}{2}\\|\\mathbf{w}\\|^2 - \\sum_{k=0}^{K-1}{\\alpha_k\\left[y_k(\\mathbf{w}^\\top \\mathbf{x}_k - b)-1\\right]} \\right\\}\n",
    "$$\n",
    "\n",
    "Note that the inner minimization problem is now quadratic in $\\mathbf{w}$ and, thus, the minimum can be found by differentiation:\n",
    "$$\n",
    "\\mathbf{w}^* = \\sum_{k=0}^{K-1}{\\alpha_k y_k\\mathbf{x}_k}.\n",
    "$$\n"
   ]
  },
  {
   "cell_type": "markdown",
   "metadata": {
    "slideshow": {
     "slide_type": "subslide"
    }
   },
   "source": [
    "#### 3.1.1. Support Vectors\n",
    "\n",
    "In view of the optimization problem, we can check that all the points which can be separated as $y_k(\\mathbf{w}^\\top \\mathbf{x}_k - b) - 1 > 0 $ do not matter since we must set the corresponding $\\alpha_k$ to zero. Therefore, only a few $\\alpha_k$ will be greater than zero. The corresponding $\\mathbf{x}_k$ are known as `support vectors`.\n",
    "\n",
    "It can be seen that the optimum parameter vector $\\mathbf{w}^\\ast$ can be expressed in terms of the support vectors only:\n",
    "\n",
    "$$\n",
    "\\mathbf{w}^* = \\sum_{k\\in {\\cal{S}}_{SV}}{\\alpha_k y_k\\mathbf{x}_k}.\n",
    "$$\n",
    "\n",
    "where ${\\cal{S}}_{SV}$ is the set of indexes associated to support vectors.\n"
   ]
  },
  {
   "cell_type": "markdown",
   "metadata": {
    "slideshow": {
     "slide_type": "subslide"
    }
   },
   "source": [
    "#### 3.1.2. The computation of $b$\n",
    "\n",
    "Support vectors lie on the margin and satisfy $y_k(\\mathbf{w}^\\top \\mathbf{x}_k - b) = 1$. From this condition, we can obtain the value of $b$, since for any support vector:\n",
    "\n",
    "$$\\mathbf{w}^\\top\\mathbf{x}_k - b = \\frac{1}{y_k} = y_k \\iff b = \\mathbf{w}^\\top\\mathbf{x}_k - y_k\n",
    "$$\n",
    "\n",
    "This estimate of $b$, the centerpoint of the division, depends only on a single pair $y_k$ and $x_k$.  We may get a more robust estimate of the center by averaging over all of the $N_{SV}$ support vectors, if we believe the population mean is a good estimate of the midpoint, so in practice, $b$ is often computed as:\n",
    "\n",
    "$$\n",
    "b = \\frac{1}{N_{SV}} \\sum_{\\mathbf{x}_k\\in {\\cal{S}}_{SV}}{(\\mathbf{w}^\\top\\mathbf{x}_k - y_k)}\n",
    "$$"
   ]
  },
  {
   "cell_type": "markdown",
   "metadata": {
    "slideshow": {
     "slide_type": "slide"
    }
   },
   "source": [
    "### 3.2. Dual form\n",
    "\n",
    "Writing the classification rule in its unconstrained dual form reveals that the *maximum-margin hyperplane* and therefore the classification task is only a function of the *support vectors*, the subset of the training data that lie on the margin.\n",
    "\n",
    "Using the fact that $\\|\\mathbf{w}\\|^2 = \\mathbf{w}^\\top \\mathbf{w}$ and substituting $\\mathbf{w} = \\sum_{k=0}^{K-1}{\\alpha_k y_k\\mathbf{x}_k}$, we obtain\n",
    "\n",
    "\\begin{align}\n",
    "(b^*, \\boldsymbol{\\alpha}^*) \n",
    "   &= \\arg\\max_{\\boldsymbol{\\alpha}\\geq 0 } \n",
    "   \\min_b \\left\\{\n",
    "   \\sum_{k=0}^{K-1}\\alpha_k - \n",
    "   \\frac{1}{2}\n",
    "   \\sum_{k=0}^{K-1} \\sum_{j=0}^{K-1} {\\alpha_k \\alpha_j y_k y_j \\mathbf{x}_k^\\top\\mathbf{x}_j}\n",
    "   + b \\sum_{k=0}^{K-1}\\alpha_k y_k\n",
    "\\right\\}  \n",
    "\\end{align}\n",
    "\n",
    "Note that, if $\\sum_{k=0}^{K-1}\\alpha_k y_k \\neq 0$ the optimal value  of $b$ is $+\\infty$ of $-\\infty$, and \n",
    "\n",
    "\\begin{align}\n",
    "\\min_b \\left\\{\n",
    "\\sum_{k=0}^{K-1}\\alpha_k - \n",
    "\\frac{1}{2}\n",
    "\\sum_{k=0}^{K-1} \\sum_{j=0}^{K-1} {\\alpha_k \\alpha_j y_k y_j \\mathbf{x}_k^\\top\\mathbf{x}_j}\n",
    "+ b \\sum_{k=0}^{K-1}\\alpha_k y_k\n",
    "\\right\\} = -\\infty.\n",
    "\\end{align}\n",
    "\n",
    "Therefore, any $\\boldsymbol{\\alpha}$ satifying $\\sum_{k=0}^{K-1}\\alpha_k y_k \\neq 0$ is suboptimal, so that the optimal multipliers must satisfy the condition  $\\sum_{k=0}^{K-1}\\alpha_k y_k = 0$.\n"
   ]
  },
  {
   "cell_type": "markdown",
   "metadata": {
    "slideshow": {
     "slide_type": "subslide"
    }
   },
   "source": [
    "Summarizing, the dual formulation of the optimization problem is\n",
    "\n",
    "$$\n",
    "\\boldsymbol{\\alpha}^* = \\arg\\max_{\\boldsymbol{\\alpha}\\geq 0} \\sum_{k=0}^{K-1} \\alpha_k - \n",
    "       \\frac12 \\sum_{k,j} \\alpha_k \\alpha_j y_k y_j\\;\\kappa(\\mathbf{x}_k, \\mathbf{x}_j)  \\\\\n",
    "\\text{subject to: } \\qquad \\sum_{k=0}^{K-1} \\alpha_k y_k = 0.\n",
    "$$\n",
    "\n",
    "where the *kernel* $\\kappa(\\cdot)$ is defined by $\\kappa(\\mathbf{x}_k,\\mathbf{x}_j)=\\mathbf{x}_k^\\top\\mathbf{x}_j$.\n",
    "\n",
    "Many implementations of the SVM use this dual formulation. They proceed in three steps:\n",
    "\n",
    "1. Solve the dual problem to obtain $\\boldsymbol{\\alpha}^*$. Usually, only a small number of $\\alpha_k^*$ are nonzero. The corresponding values of ${\\bf x}_k$ are called the *support vectors*.\n",
    "\n",
    "2. Compute $\\mathbf{w}^* = \\sum_{k=0}^{K-1} \\alpha_k^* y_k\\mathbf{x}_k$\n",
    "\n",
    "3. Compute $b^* = \\frac{1}{N_{SV}} \\sum_{\\alpha_k^*\\neq 0}{(\\mathbf{w}^{*\\top}\\mathbf{x}_k - y_k)}\n",
    "$\n"
   ]
  },
  {
   "cell_type": "markdown",
   "metadata": {
    "slideshow": {
     "slide_type": "slide"
    }
   },
   "source": [
    "## 4. Fitting a Support Vector Machine\n",
    "\n",
    "<small> <font color=\"blue\"> [Source: A [notebook](https://github.com/jakevdp/sklearn_pycon2015/blob/master/notebooks/03.1-Classification-SVMs.ipynb) by [Jake Vanderplas](https://github.com/jakevdp>)] </font> </small>\n",
    "\n",
    "Now we'll fit a Support Vector Machine Classifier to these points.\n"
   ]
  },
  {
   "cell_type": "code",
   "execution_count": 5,
   "metadata": {
    "slideshow": {
     "slide_type": "fragment"
    }
   },
   "outputs": [
    {
     "data": {
      "text/plain": [
       "SVC(C=1.0, cache_size=200, class_weight=None, coef0=0.0,\n",
       "  decision_function_shape='ovr', degree=3, gamma='auto', kernel='linear',\n",
       "  max_iter=-1, probability=False, random_state=None, shrinking=True,\n",
       "  tol=0.001, verbose=False)"
      ]
     },
     "execution_count": 5,
     "metadata": {},
     "output_type": "execute_result"
    }
   ],
   "source": [
    "clf = svm.SVC(kernel='linear')\n",
    "clf.fit(X, y)"
   ]
  },
  {
   "cell_type": "markdown",
   "metadata": {
    "slideshow": {
     "slide_type": "fragment"
    }
   },
   "source": [
    "To better visualize what's happening here, let's create a quick convenience function that will plot SVM decision boundaries for us:"
   ]
  },
  {
   "cell_type": "code",
   "execution_count": 6,
   "metadata": {
    "slideshow": {
     "slide_type": "subslide"
    }
   },
   "outputs": [
    {
     "data": {
      "image/png": "[encoded data removed]",
      "text/plain": [
       "<Figure size 432x288 with 1 Axes>"
      ]
     },
     "metadata": {
      "needs_background": "light"
     },
     "output_type": "display_data"
    }
   ],
   "source": [
    "def plot_svc_decision_function(clf, ax=None):\n",
    "    \"\"\"Plot the decision function for a 2D SVC\"\"\"\n",
    "    if ax is None:\n",
    "        ax = plt.gca()\n",
    "    x = np.linspace(plt.xlim()[0], plt.xlim()[1], 30)\n",
    "    y = np.linspace(plt.ylim()[0], plt.ylim()[1], 30)\n",
    "    Y, X = np.meshgrid(y, x)\n",
    "    P = np.zeros_like(X)\n",
    "    for i, xi in enumerate(x):\n",
    "        for j, yj in enumerate(y):\n",
    "            P[i, j] = clf.decision_function(np.array([xi, yj]).reshape(1,-1))\n",
    "    # plot the margins\n",
    "    ax.contour(X, Y, P, colors='k',\n",
    "               levels=[-1, 0, 1], alpha=0.5,\n",
    "               linestyles=['--', '-', '--'])\n",
    "\n",
    "plt.scatter(X[:, 0], X[:, 1], c=y, s=50, cmap='copper')\n",
    "plot_svc_decision_function(clf);"
   ]
  },
  {
   "cell_type": "markdown",
   "metadata": {
    "slideshow": {
     "slide_type": "subslide"
    }
   },
   "source": [
    "Notice that the dashed lines touch a couple of the points: these points are the *support vectors*. In scikit-learn, these are stored in the ``support_vectors_`` attribute of the classifier:"
   ]
  },
  {
   "cell_type": "code",
   "execution_count": 7,
   "metadata": {
    "slideshow": {
     "slide_type": "fragment"
    }
   },
   "outputs": [
    {
     "data": {
      "image/png": "[encoded data removed]",
      "text/plain": [
       "<Figure size 432x288 with 1 Axes>"
      ]
     },
     "metadata": {
      "needs_background": "light"
     },
     "output_type": "display_data"
    }
   ],
   "source": [
    "plt.scatter(clf.support_vectors_[:, 0], clf.support_vectors_[:, 1],\n",
    "            s=200, marker='s');\n",
    "plt.scatter(X[:, 0], X[:, 1], c=y, s=50, cmap='copper')\n",
    "plot_svc_decision_function(clf)\n"
   ]
  },
  {
   "cell_type": "markdown",
   "metadata": {
    "slideshow": {
     "slide_type": "subslide"
    }
   },
   "source": [
    "Let's use IPython's interact functionality to explore how the distribution of points affects the support vectors and the discriminative fit."
   ]
  },
  {
   "cell_type": "code",
   "execution_count": 8,
   "metadata": {
    "slideshow": {
     "slide_type": "skip"
    }
   },
   "outputs": [
    {
     "data": {
      "application/vnd.jupyter.widget-view+json": {
       "model_id": "0edef8f036444ad8b1b59959565807d5",
       "version_major": 2,
       "version_minor": 0
      },
      "text/plain": [
       "interactive(children=(Dropdown(description='N', options=(10, 200), value=10), Output()), _dom_classes=('widget…"
      ]
     },
     "metadata": {},
     "output_type": "display_data"
    },
    {
     "data": {
      "text/plain": [
       "<function __main__.plot_svm(N=10)>"
      ]
     },
     "execution_count": 8,
     "metadata": {},
     "output_type": "execute_result"
    }
   ],
   "source": [
    "def plot_svm(N=10):\n",
    "    X, y = make_blobs(n_samples=200, centers=2,\n",
    "                      random_state=0, cluster_std=0.60)\n",
    "    X = X[:N]\n",
    "    y = y[:N]\n",
    "    clf = svm.SVC(kernel='linear')\n",
    "    clf.fit(X, y)\n",
    "    plt.scatter(X[:, 0], X[:, 1], c=y, s=50, cmap='copper')\n",
    "    plt.xlim(-1, 4)\n",
    "    plt.ylim(-1, 6)\n",
    "    plot_svc_decision_function(clf, plt.gca())\n",
    "    plt.scatter(clf.support_vectors_[:, 0], clf.support_vectors_[:, 1],\n",
    "                s=200, facecolors='none')\n",
    "    \n",
    "interact(plot_svm, N=[10, 200], kernel='linear')"
   ]
  },
  {
   "cell_type": "markdown",
   "metadata": {
    "slideshow": {
     "slide_type": "skip"
    }
   },
   "source": [
    "Notice the unique thing about SVM is that only the support vectors matter: that is, if you moved any of the other points without letting them cross the decision boundaries, they would have no effect on the classification results!"
   ]
  },
  {
   "cell_type": "markdown",
   "metadata": {
    "slideshow": {
     "slide_type": "slide"
    }
   },
   "source": [
    "## 5. Non-separable problems.\n",
    "\n",
    "<small> <font color=\"blue\"> [Source: adapted from [Wikipedia](https://en.wikipedia.org/wiki/Support_vector_machine)]</font> </small>\n",
    "         \n",
    "In 1995, Corinna Cortes and Vladimir N. Vapnik suggested a modified maximum margin idea that allows for mislabeled examples. If there exists no hyperplane that can split the `positive` and `negative` samples, the `Soft Margin`\n",
    " method will choose a hyperplane that splits the examples as cleanly as possible, while still maximizing the distance to the nearest cleanly split examples. The method introduces non-negative slack variables, $\\xi_k$, which measure the degree of misclassification of the data $\\mathbf{x}_k$\n",
    "\n",
    "$$y_k(\\mathbf{w}^\\top\\mathbf{x}_k - b) \\ge 1 - \\xi_k \\quad k=0,\\ldots, K-1.\n",
    "$$\n",
    "\n",
    "The objective function is then increased by a function which penalizes non-zero $\\xi_k$, and the optimization becomes a trade off between a large margin and a small error penalty. If the penalty function is linear, the optimization problem becomes:\n",
    "\n",
    "$$(\\mathbf{w}^*,\\mathbf{\\xi}^*, b^*) = \\arg\\min_{\\mathbf{w},\\mathbf{\\xi}, b } \\left\\{\\frac{1}{2} \\|\\mathbf{w}\\|^2 + C \\sum_{k=0}^{K-1} \\xi_k \\right\\} \\\\\n",
    "\\text{subject to: } \\quad y_k(\\mathbf{w}^\\intercal\\mathbf{x}_k - b) \\ge 1 - \\xi_k, \\quad \\xi_k \\ge 0, \\quad  k=0,\\ldots, K-1.\n",
    "$$\n"
   ]
  },
  {
   "cell_type": "markdown",
   "metadata": {
    "slideshow": {
     "slide_type": "subslide"
    }
   },
   "source": [
    "\n",
    "This constraint along with the objective of minimizing $\\|\\mathbf{w}\\|$ can be solved using KKT multipliers as done above. One then has to solve the following problem:\n",
    "\n",
    "$$\n",
    "\\arg\\min_{\\mathbf{w}, \\mathbf{\\xi}, b } \\max_{\\boldsymbol{\\alpha}, \\boldsymbol{\\beta} }\n",
    "\\left\\{ \\frac{1}{2}\\|\\mathbf{w}\\|^2 \n",
    "+ C \\sum_{k=0}^{K-1} \\xi_k\n",
    "- \\sum_{k=0}^{K-1} {\\alpha_k\\left[y_k(\\mathbf{w}^\\top \\mathbf{x}_k - b) -1 + \\xi_k\\right]}\n",
    "- \\sum_{k=0}^{K-1} \\beta_k \\xi_k \\right \\}\\\\\n",
    "\\text{subject to: } \\quad \n",
    "\\alpha_k, \\beta_k \\ge 0.\n",
    "$$\n",
    "\n",
    "A similar analysis to that in the separable case can be applied to show that the dual formulation of the optimization problem is\n",
    "\n",
    "$$\n",
    "        \\boldsymbol{\\alpha}^* = \\arg\\max_{0 \\leq \\alpha_k \\leq C} \\sum_{k=0}^{K-1} \\alpha_k - \n",
    "       \\frac12 \\sum_{k,j} \\alpha_k \\alpha_j y_k y_j \\;\\kappa(\\mathbf{x}_k, \\mathbf{x}_j)  \\\\\n",
    "\\text{subject to: } \\qquad \\sum_{k=0}^{K-1} \\alpha_k y_k = 0.\n",
    "$$\n",
    "Note that the only difference with the separable case is given by the constraints $\\alpha_k \\leq C$."
   ]
  },
  {
   "cell_type": "markdown",
   "metadata": {
    "slideshow": {
     "slide_type": "slide"
    }
   },
   "source": [
    "## 6. Nonlinear classification\n",
    "\n",
    "<small> <font color=\"blue\"> [Source: adapted from [Wikipedia](https://en.wikipedia.org/wiki/Support_vector_machine)]</font> </small>\n",
    "\n",
    "The original optimal hyperplane algorithm proposed by Vapnik in 1963 was a linear classifier. However, in 1992, Bernhard E. Boser, Isabelle M. Guyon and Vladimir N. Vapnik suggested a way to create nonlinear classifiers by applying the *kernel trick* to maximum-margin hyperplanes. The resulting algorithm is formally similar, except that every dot product is replaced by a nonlinear kernel function. This allows the algorithm to fit the maximum-margin hyperplane in a transformed feature space. The transformation may be nonlinear and the transformed space high dimensional; thus though the classifier is a hyperplane in the high-dimensional feature space, it may be nonlinear in the original input space.\n",
    "\n",
    "<img src=\"./figs/kernel.png\" width=\"400\">\n",
    "\n",
    "The kernel is related to the transform $\\phi(\\mathbf{x})$ by the equation $\\kappa(\\mathbf{x}, \\mathbf{x}') = \\phi(\\mathbf{x})^\\top \\phi(\\mathbf{x}')$. However, note that we do not need to explicitly compute $\\phi(\\mathbf{x})$, as long as we can express all necessary calculations in terms of the kernel function only, as it is the case for the optimization problem in the dual case.\n"
   ]
  },
  {
   "cell_type": "markdown",
   "metadata": {
    "slideshow": {
     "slide_type": "subslide"
    }
   },
   "source": [
    "The predictions of the SVM classifier can also be expressed in terms of kernels only, so that we never need to explicitely compute $\\phi(\\mathbf{x})$.\n",
    "\n",
    "$$\\begin{align}\\hat y({\\mathbf{x}}) & = {\\mathbf {w^\\ast}}^\\top \\phi(\\mathbf{x}) - b^\\ast \\\\ \\\\\n",
    "& = \\left[\\sum_{k \\in {\\cal{S}}_{SV}} \\alpha_k^* y_k \\phi(\\mathbf{x}_k)\\right]^\\top {\\phi(\\mathbf{x})} - b^\\ast  \\\\ \\\\\n",
    "& = - b^\\ast + \\sum_{k \\in {\\cal{S}}_{SV}} \\alpha_k^* y_k \\; \\kappa(\\mathbf{x}_k, {\\mathbf{x}})\n",
    "\\end{align}$$\n"
   ]
  },
  {
   "cell_type": "markdown",
   "metadata": {
    "slideshow": {
     "slide_type": "subslide"
    }
   },
   "source": [
    "Some common kernels include:\n",
    "\n",
    "* **Gaussian**: $\\kappa(\\mathbf{x},\\mathbf{x}')=\\exp(-\\gamma \\|\\mathbf{x} - \\mathbf{x}'\\|^2)$, for $\\gamma > 0$. Sometimes parametrized using $\\gamma=\\dfrac{1}{2 \\sigma^2}$. This is by far the most widely used kernel.\n",
    "* Polynomial (homogeneous): $\\kappa(\\mathbf{x},\\mathbf{x}')=(\\mathbf{x}^\\top \\mathbf{x}')^d$\n",
    "* Polynomial (inhomogeneous): $\\kappa(\\mathbf{x},\\mathbf{x}') = (\\mathbf{x}^\\top \\mathbf{x}' + 1)^d$\n",
    "* Hyperbolic tangent: $\\kappa(\\mathbf{x},\\mathbf{x}') = \\tanh(\\gamma \\mathbf{x}^\\top \\mathbf{x}'+c)$, for some (not every) $\\gamma > 0$ and $c < 0$.\n",
    "\n"
   ]
  },
  {
   "cell_type": "markdown",
   "metadata": {
    "slideshow": {
     "slide_type": "slide"
    }
   },
   "source": [
    "### 6.1. Example.\n",
    "\n",
    "<small> <font color=\"blue\"> [Source: A [notebook](https://github.com/jakevdp/sklearn_pycon2015/blob/master/notebooks/03.1-Classification-SVMs.ipynb) by [Jake Vanderplas](https://github.com/jakevdp>)] </font> </small>\n",
    "\n",
    "Where SVM gets incredibly exciting is when it is used in conjunction with *kernels*.\n",
    "To motivate the need for kernels, let's look at some data which is not linearly separable:"
   ]
  },
  {
   "cell_type": "code",
   "execution_count": 9,
   "metadata": {
    "slideshow": {
     "slide_type": "fragment"
    }
   },
   "outputs": [
    {
     "data": {
      "image/png": "[encoded data removed]",
      "text/plain": [
       "<Figure size 432x288 with 1 Axes>"
      ]
     },
     "metadata": {
      "needs_background": "light"
     },
     "output_type": "display_data"
    }
   ],
   "source": [
    "X, y = make_circles(100, factor=.1, noise=.1)\n",
    "\n",
    "clf = svm.SVC(kernel='linear').fit(X, y)\n",
    "plt.scatter(X[:, 0], X[:, 1], c=y, s=50, cmap='copper')\n",
    "plot_svc_decision_function(clf);"
   ]
  },
  {
   "cell_type": "markdown",
   "metadata": {
    "slideshow": {
     "slide_type": "subslide"
    }
   },
   "source": [
    "Clearly, no linear discrimination will ever separate these data.\n",
    "One way we can adjust this is to apply a **kernel**, which is some functional transformation of the input data.\n",
    "\n",
    "For example, one simple model we could use is a **radial basis function**"
   ]
  },
  {
   "cell_type": "code",
   "execution_count": 10,
   "metadata": {
    "slideshow": {
     "slide_type": "fragment"
    }
   },
   "outputs": [],
   "source": [
    "r = np.exp(-(X[:, 0] ** 2 + X[:, 1] ** 2))"
   ]
  },
  {
   "cell_type": "markdown",
   "metadata": {
    "slideshow": {
     "slide_type": "subslide"
    }
   },
   "source": [
    "If we plot this along with our data, we can see the effect of it:"
   ]
  },
  {
   "cell_type": "code",
   "execution_count": 11,
   "metadata": {
    "slideshow": {
     "slide_type": "fragment"
    }
   },
   "outputs": [
    {
     "data": {
      "application/vnd.jupyter.widget-view+json": {
       "model_id": "72a8f21d1dc744b88bf33a3274799f36",
       "version_major": 2,
       "version_minor": 0
      },
      "text/plain": [
       "interactive(children=(Dropdown(description='elev', options=(-90, 90), value=-90), IntSlider(value=30, descript…"
      ]
     },
     "metadata": {},
     "output_type": "display_data"
    }
   ],
   "source": [
    "def plot_3D(elev=30, azim=30):\n",
    "    ax = plt.subplot(projection='3d')\n",
    "    ax.scatter3D(X[:, 0], X[:, 1], r, c=y, s=50, cmap='spring')\n",
    "    ax.view_init(elev=elev, azim=azim)\n",
    "    ax.set_xlabel('x')\n",
    "    ax.set_ylabel('y')\n",
    "    ax.set_zlabel('r')\n",
    "\n",
    "interact(plot_3D, elev=[-90, 90], azip=(-180, 180));"
   ]
  },
  {
   "cell_type": "markdown",
   "metadata": {
    "slideshow": {
     "slide_type": "subslide"
    }
   },
   "source": [
    "We can see that with this additional dimension, the data becomes trivially linearly separable!\n",
    "This is a relatively simple kernel; SVM has a more sophisticated version of this kernel built-in to the process. This is accomplished by using the Gaussian kernel (``kernel='rbf'``), short for *radial basis function*:"
   ]
  },
  {
   "cell_type": "code",
   "execution_count": 12,
   "metadata": {
    "slideshow": {
     "slide_type": "fragment"
    }
   },
   "outputs": [
    {
     "data": {
      "image/png": "[encoded data removed]",
      "text/plain": [
       "<Figure size 432x288 with 1 Axes>"
      ]
     },
     "metadata": {
      "needs_background": "light"
     },
     "output_type": "display_data"
    }
   ],
   "source": [
    "clf = svm.SVC(kernel='rbf', C=10)\n",
    "clf.fit(X, y)\n",
    "\n",
    "plt.scatter(X[:, 0], X[:, 1], c=y, s=50, cmap='copper')\n",
    "plot_svc_decision_function(clf)\n",
    "plt.scatter(clf.support_vectors_[:, 0], clf.support_vectors_[:, 1],\n",
    "            s=200, facecolors='none');"
   ]
  },
  {
   "cell_type": "markdown",
   "metadata": {
    "slideshow": {
     "slide_type": "subslide"
    }
   },
   "source": [
    "Here there are effectively $K$ basis functions: one centered at each point! Through a clever mathematical trick, this computation proceeds very efficiently using the \"Kernel Trick\", without actually constructing the matrix of kernel evaluations."
   ]
  },
  {
   "cell_type": "markdown",
   "metadata": {
    "slideshow": {
     "slide_type": "subslide"
    }
   },
   "source": [
    "**Exercise**: Apply the linear SVM and the SVM with Gaussian kernel to the discrimination of classes `Versicolor` and `Virginica` in the Iris Dataset, using atributes $x_0$ and $x_1$ only. Plot the corresponding decision boundaries and the support vectors. "
   ]
  },
  {
   "cell_type": "markdown",
   "metadata": {
    "slideshow": {
     "slide_type": "slide"
    }
   },
   "source": [
    "## 7. Hyperparameters\n",
    "\n",
    "Note that the SVM formulation has several free parameters (hyperparameters) that must be selected out of the optimization problem:\n",
    "\n",
    "- The free parameter $C$ used to solve non-separable problems.\n",
    "- The kernel parameters (for instance, parameter $\\gamma$ for the Gaussian kernel).\n",
    "\n",
    "These parameters are usually adjusted using a cross-validation procedure."
   ]
  }
 ],
 "metadata": {
  "anaconda-cloud": {},
  "celltoolbar": "Slideshow",
  "kernelspec": {
   "display_name": "Python 3",
   "language": "python",
   "name": "python3"
  },
  "language_info": {
   "codemirror_mode": {
    "name": "ipython",
    "version": 3
   },
   "file_extension": ".py",
   "mimetype": "text/x-python",
   "name": "python",
   "nbconvert_exporter": "python",
   "pygments_lexer": "ipython3",
   "version": "3.7.0"
  }
 },
 "nbformat": 4,
 "nbformat_minor": 1
}
