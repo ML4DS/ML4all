{
 "cells": [
  {
   "cell_type": "markdown",
   "metadata": {
    "colab_type": "text",
    "id": "WR-uLP8RdPxB"
   },
   "source": [
    "# Laboratory Exercise. Estimation."
   ]
  },
  {
   "cell_type": "markdown",
   "metadata": {
    "colab_type": "text",
    "id": "7Of9braQdPxE",
    "slideshow": {
     "slide_type": "notes"
    }
   },
   "source": [
    "    Jesús Cid Sueiro, Jerónimo Arenas García, Óscar García Hinde\n",
    "    \n",
    "    Version 1.0 (Nov. 2018)"
   ]
  },
  {
   "cell_type": "code",
   "execution_count": 2,
   "metadata": {
    "colab": {},
    "colab_type": "code",
    "collapsed": false,
    "id": "4hWILp3TdPxE"
   },
   "outputs": [],
   "source": [
    "import numpy as np\n",
    "import matplotlib.pyplot as plt\n",
    "from IPython.display import display, Math, Latex, HTML\n",
    "from google.colab.output._publish import javascript\n",
    "url = \"https://cdnjs.cloudflare.com/ajax/libs/mathjax/2.7.3/latest.js?config=default\""
   ]
  },
  {
   "cell_type": "markdown",
   "metadata": {
    "colab_type": "text",
    "id": "SwekEAHkdPxH"
   },
   "source": [
    "The company *Like2Call* offers hosting services for call centers. In order to dimension the staff of operators optimally, the company has collected a lot of data about the activity of the service during 5 consecutive labour days.\n",
    "\n",
    "Specifically, they have stored an array `t` containing the ordered timestamps of all calls received during this period, in hours. This variable can be found in the file `dataset.npy`. Load this file and store its contents in a new variable."
   ]
  },
  {
   "cell_type": "code",
   "execution_count": null,
   "metadata": {
    "colab": {},
    "colab_type": "code",
    "collapsed": true,
    "id": "rQ2t63IAdPxI"
   },
   "outputs": [],
   "source": [
    "# <SOL>\n",

    "# </SOL>\n",
    "\n",
    "t = np.load('dataset.npy')"
   ]
  },
  {
   "cell_type": "markdown",
   "metadata": {
    "colab_type": "text",
    "id": "mYNRFpbHdPxM"
   },
   "source": [
    "### 1. Time between calls\n",
    "\n",
    "Let's look at the data to give us an idea of the typical activity for a given time period.\n",
    "\n",
    "* [1.1] Plot the histogram of the timestamps and look at the behaviour of the data."
   ]
  },
  {
   "cell_type": "code",
   "execution_count": null,
   "metadata": {
    "colab": {
     "base_uri": "https://localhost:8080/",
     "height": 361
    },
    "colab_type": "code",
    "collapsed": false,
    "executionInfo": {
     "elapsed": 2151,
     "status": "ok",
     "timestamp": 1542811115503,
     "user": {
      "displayName": "CARLOS SEVILLA SALCEDO",
      "photoUrl": "https://lh6.googleusercontent.com/-lVFKHwDNiwI/AAAAAAAAAAI/AAAAAAAAAAc/X7utDT5i-2s/s64/photo.jpg",
      "userId": "09068027342607188307"
     },
     "user_tz": -60
    },
    "id": "OdDHCUJJdPxN",
    "outputId": "af089364-1b14-4b70-9561-0fda46ae28c2"
   },
   "outputs": [],
   "source": [
    "# Histograms of call times\n",
    "# <SOL>\n",

    "# </SOL>"
   ]
  },
  {
   "cell_type": "markdown",
   "metadata": {
    "colab_type": "text",
    "id": "1WHmadG_dPxT"
   },
   "source": [
    " The company is interested in the time between incoming calls.\n",
    " \n",
    " * [1.2] Generate an array `x_all` containing the succesive time beween calls, and plot the corresponding histogram."
   ]
  },
  {
   "cell_type": "code",
   "execution_count": null,
   "metadata": {
    "colab": {
     "base_uri": "https://localhost:8080/",
     "height": 225
    },
    "colab_type": "code",
    "collapsed": false,
    "executionInfo": {
     "elapsed": 2383,
     "status": "ok",
     "timestamp": 1542811117169,
     "user": {
      "displayName": "CARLOS SEVILLA SALCEDO",
      "photoUrl": "https://lh6.googleusercontent.com/-lVFKHwDNiwI/AAAAAAAAAAI/AAAAAAAAAAc/X7utDT5i-2s/s64/photo.jpg",
      "userId": "09068027342607188307"
     },
     "user_tz": -60
    },
    "id": "JqXbLJgKdPxV",
    "outputId": "d48a03c5-9693-4cff-955d-1e1ad72f287d"
   },
   "outputs": [],
   "source": [
    "# <SOL>\n",

    "# </SOL>"
   ]
  },
  {
   "cell_type": "markdown",
   "metadata": {
    "colab_type": "text",
    "id": "PdJGswkUdPxa"
   },
   "source": [
    "### 2. Parameter estimation.\n",
    "\n",
    "The company has decided to build a statistical model to characterize the activity in the hosted call centers. Inspection of the histogram suggests that the time between incoming calls follows an exponential distribution:\n",
    "\n",
    "$$\n",
    "p_{X|S}(x|s) = s \\exp(−s x), \\qquad x > 0\n",
    "$$\n",
    "\n",
    "where random variable $X$ represents the time before a new call arrives, and $s$ is the parameter of the exponential distribution. Thus, we will use the dataset to estimate parameter $s$.\n",
    "\n"
   ]
  },
  {
   "cell_type": "markdown",
   "metadata": {
    "colab_type": "text",
    "id": "6PNMj2DPdPxc"
   },
   "source": [
    "#### 2.1. Maximum likelihood\n",
    "\n",
    "Our first approach will be to find a Maximum Likelihood estimation of $s$.\n",
    "\n",
    "* [2.1]. Obtain the maximum likelihood estimator or $S$ based on the observations in `x_all`, and save it in variable `sML`. You will need to compute two variables that will be used several times along this section:\n",
    "     - $K$: The number of observations in `x_all`\n",
    "     - $z = \\sum_{k=0}^{K-1} x^{(k)}$, where $x^{(k)}$ are the components of `x_all`."
   ]
  },
  {
   "cell_type": "code",
   "execution_count": 6,
   "metadata": {
    "colab": {
     "base_uri": "https://localhost:8080/",
     "height": 62
    },
    "colab_type": "code",
    "collapsed": false,
    "executionInfo": {
     "elapsed": 497,
     "status": "ok",
     "timestamp": 1542811117173,
     "user": {
      "displayName": "CARLOS SEVILLA SALCEDO",
      "photoUrl": "https://lh6.googleusercontent.com/-lVFKHwDNiwI/AAAAAAAAAAI/AAAAAAAAAAc/X7utDT5i-2s/s64/photo.jpg",
      "userId": "09068027342607188307"
     },
     "user_tz": -60
    },
    "id": "oLCk7IDCdPxd",
    "outputId": "51c6ca5c-44d0-4b20-970b-ac18e1245aad"
   },
   "outputs": [
    {
     "data": {
      "text/html": [
       "<script src='https://cdnjs.cloudflare.com/ajax/libs/mathjax/2.7.3/latest.js?config=default'></script>"
      ],
      "text/plain": [
       "<IPython.core.display.HTML object>"
      ]
     },
     "metadata": {
      "tags": []
     },
     "output_type": "display_data"
    },
    {
     "data": {
      "text/latex": [
       "$$\\hat{s}_\\text{ML} = 16.790720742446233$$"
      ],
      "text/plain": [
       "<IPython.core.display.Math object>"
      ]
     },
     "execution_count": 6,
     "metadata": {
      "tags": []
     },
     "output_type": "execute_result"
    }
   ],
   "source": [
    "# z = <FILL IN>\n",
    "# K = <FILL IN>\n",
    "# sML = <FILL IN>\n",
    "javascript(url=url)\n",
    "Math(r'\\hat{s}_\\text{ML} = ' + str(sML))"
   ]
  },
  {
   "cell_type": "markdown",
   "metadata": {
    "colab_type": "text",
    "id": "z68uDh4ldPxj"
   },
   "source": [
    " * [2.2]. Plot the log of the likelihood as a function of $s$ (in the appropriate range of $s$) and verify that the ML estimate reaches the maximum."
   ]
  },
  {
   "cell_type": "code",
   "execution_count": 7,
   "metadata": {
    "colab": {
     "base_uri": "https://localhost:8080/",
     "height": 361
    },
    "colab_type": "code",
    "collapsed": false,
    "executionInfo": {
     "elapsed": 1060,
     "status": "ok",
     "timestamp": 1542811118444,
     "user": {
      "displayName": "CARLOS SEVILLA SALCEDO",
      "photoUrl": "https://lh6.googleusercontent.com/-lVFKHwDNiwI/AAAAAAAAAAI/AAAAAAAAAAc/X7utDT5i-2s/s64/photo.jpg",
      "userId": "09068027342607188307"
     },
     "user_tz": -60
    },
    "id": "JOfIqjgJdPxl",
    "outputId": "6bba05fb-c3c7-4112-84af-1e68272bbbc2"
   },
   "outputs": [
    {
     "data": {
      "image/png": "iVBORw0KGgoAAAANSUhEUgAAAf0AAAFYCAYAAABZHSXVAAAABHNCSVQICAgIfAhkiAAAAAlwSFlz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\n",
      "text/plain": [
       "<matplotlib.figure.Figure at 0x7f06f1e2a5c0>"
      ]
     },
     "metadata": {
      "tags": []
     },
     "output_type": "display_data"
    }
   ],
   "source": [
    "# <SOL>\n",

    "# </SOL>\n",
    "\n",
    "# <FILL IN>"
" "
  },
  {
   "cell_type": "markdown",
   "metadata": {
    "colab_type": "text",
    "id": "ZWxDeu9LdPxq"
   },
   "source": [
    "#### 2.2. Bayesian estimation\n",
    "\n",
    "In order to apply Bayesian estimation methods, parameter $S$ is taken as a random variable with the following a priori model:\n",
    "\n",
    "$$\n",
    "p_S(s) = \\exp(−s), \\qquad s > 0.\n",
    "$$\n",
    "\n",
    "* [2.3.] Obtain the maximum a posteriori estimator of $S$ given $X$, and save it in variable `sMAP`."
   ]
  },
  {
   "cell_type": "code",
   "execution_count": 8,
   "metadata": {
    "colab": {
     "base_uri": "https://localhost:8080/",
     "height": 62
    },
    "colab_type": "code",
    "collapsed": false,
    "executionInfo": {
     "elapsed": 854,
     "status": "ok",
     "timestamp": 1542811118822,
     "user": {
      "displayName": "CARLOS SEVILLA SALCEDO",
      "photoUrl": "https://lh6.googleusercontent.com/-lVFKHwDNiwI/AAAAAAAAAAI/AAAAAAAAAAc/X7utDT5i-2s/s64/photo.jpg",
      "userId": "09068027342607188307"
     },
     "user_tz": -60
    },
    "id": "U-AI6jcxdPxs",
    "outputId": "1672e593-2c32-4ff5-a62a-6c3b0f9105c3"
   },
   "outputs": [
    {
     "data": {
      "text/html": [
       "<script src='https://cdnjs.cloudflare.com/ajax/libs/mathjax/2.7.3/latest.js?config=default'></script>"
      ],
      "text/plain": [
       "<IPython.core.display.HTML object>"
      ]
     },
     "metadata": {
      "tags": []
     },
     "output_type": "display_data"
    },
    {
     "data": {
      "text/latex": [
       "$$\\hat{s}_\\text{MAP} = 16.650860835289315$$"
      ],
      "text/plain": [
       "<IPython.core.display.Math object>"
      ]
     },
     "execution_count": 8,
     "metadata": {
      "tags": []
     },
     "output_type": "execute_result"
    }
   ],
   "source": [
    "# sMAP = <FILL IN>\n",
    "\n",
    "javascript(url=url)\n",
    "Math(r'\\hat{s}_\\text{MAP} = ' + str(sMAP))"
   ]
  },
  {
   "cell_type": "markdown",
   "metadata": {
    "colab_type": "text",
    "id": "tGiTt_9EdPxw"
   },
   "source": [
    " * [2.4]. Show, in the same plot, the prior and the posterior probability density functions of parameter $S$, as a function of $s$ (in the appropriate range of $s$) and verify that the MAP estimate reaches the maximum of the posterior."
   ]
  },
  {
   "cell_type": "code",
   "execution_count": 9,
   "metadata": {
    "colab": {
     "base_uri": "https://localhost:8080/",
     "height": 361
    },
    "colab_type": "code",
    "collapsed": false,
    "executionInfo": {
     "elapsed": 1365,
     "status": "ok",
     "timestamp": 1542811120904,
     "user": {
      "displayName": "CARLOS SEVILLA SALCEDO",
      "photoUrl": "https://lh6.googleusercontent.com/-lVFKHwDNiwI/AAAAAAAAAAI/AAAAAAAAAAc/X7utDT5i-2s/s64/photo.jpg",
      "userId": "09068027342607188307"
     },
     "user_tz": -60
    },
    "id": "h1abMv72dPxx",
    "outputId": "9091a94d-cc02-42d7-f3b7-9ccf527157ed"
   },
   "outputs": [
    {
     "data": {
      "image/png": "iVBORw0KGgoAAAANSUhEUgAAAecAAAFYCAYAAABpkTT0AAAABHNCSVQICAgIfAhkiAAAAAlwSFlz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\nYII=\n",
      "text/plain": [
       "<matplotlib.figure.Figure at 0x7f06ef521160>"
      ]
     },
     "metadata": {
      "tags": []
     },
     "output_type": "display_data"
    }
   ],
   "source": [
    "# <SOL>\n",

    "# </SOL>"
   ]
  },
  {
   "cell_type": "markdown",
   "metadata": {
    "colab_type": "text",
    "id": "cTJ_gv3jdPxz"
   },
   "source": [
    "The prior distribution describes the initial belief about $S$. The figure should show that, for the given prior, the true value of $S$ can be expected to be between 0 and 5. However, the data modifies our knowledge about $S$. After observing the data, we can expect that the true value of $S$ will be somewhere between 15 and 18."
   ]
  },
  {
   "cell_type": "markdown",
   "metadata": {
    "colab_type": "text",
    "id": "ast1ziGHdPx1"
   },
   "source": [
    " * [2.5.] Obtain the minimum mean square error estimator of $S$ given $\\mathbf{X}$ (i.e. given the data in `x_all`) and save it in variable `sMSE`."
   ]
  },
  {
   "cell_type": "code",
   "execution_count": 10,
   "metadata": {
    "colab": {
     "base_uri": "https://localhost:8080/",
     "height": 63
    },
    "colab_type": "code",
    "collapsed": false,
    "executionInfo": {
     "elapsed": 593,
     "status": "ok",
     "timestamp": 1542811121183,
     "user": {
      "displayName": "CARLOS SEVILLA SALCEDO",
      "photoUrl": "https://lh6.googleusercontent.com/-lVFKHwDNiwI/AAAAAAAAAAI/AAAAAAAAAAc/X7utDT5i-2s/s64/photo.jpg",
      "userId": "09068027342607188307"
     },
     "user_tz": -60
    },
    "id": "SmIxDIvKdPx3",
    "outputId": "616e108e-350f-4276-a884-ad2503294b07"
   },
   "outputs": [
    {
     "data": {
      "text/html": [
       "<script src='https://cdnjs.cloudflare.com/ajax/libs/mathjax/2.7.3/latest.js?config=default'></script>"
      ],
      "text/plain": [
       "<IPython.core.display.HTML object>"
      ]
     },
     "metadata": {
      "tags": []
     },
     "output_type": "display_data"
    },
    {
     "data": {
      "text/latex": [
       "$$\\hat{s}_\\text{MSE} = 16.659190430504566$$"
      ],
      "text/plain": [
       "<IPython.core.display.Math object>"
      ]
     },
     "execution_count": 10,
     "metadata": {
      "tags": []
     },
     "output_type": "execute_result"
    }
   ],
   "source": [
    "# sMSE = <FILL IN>\n",
    "\n",
    "javascript(url=url)\n",
    "Math(r'\\hat{s}_\\text{MSE} = ' + str(sMSE))"
   ]
  },
  {
   "cell_type": "markdown",
   "metadata": {
    "colab_type": "text",
    "id": "8ymMKuO6dPx7"
   },
   "source": [
    " Note the MAP and the MSE estimates are very similar because the posterior distribution is approximately (although not exactly) symmetric. Also, the MSE estimate is only slightly different from the ML estimate, because we have a large dataset and the influence of the prior distribution decreases when we have much empirical evidence.\n",
    " \n",
    "However, the Bayesian approach provides not only an estimate but a posterior \n",
    "distribution, that describes how much we know about the true value of parameter\n",
    "$S$ after the data observation. The variance of this distribution describes how far the true value of $S$ could be from the posterior mean. \n",
    "\n",
    "* [2.6.] Compute the mean square error given the data for the MSE estimator:\n",
    "$$\n",
    "   \\mathbb{E}\\left\\{(S-\\hat{s}_\\text{MSE})^2| {\\bf z}\\right\\}\n",
    "   $$\n",
    "and save it in variable `mMSE`. Note that this corresponds to the minimum MSE given the data.\n",
    "   \n"
   ]
  },
  {
   "cell_type": "markdown",
   "metadata": {
    "colab_type": "text",
    "id": "VE25kdKYxnR0"
   },
   "source": []
  },
  {
   "cell_type": "code",
   "execution_count": 11,
   "metadata": {
    "colab": {
     "base_uri": "https://localhost:8080/",
     "height": 104
    },
    "colab_type": "code",
    "collapsed": false,
    "executionInfo": {
     "elapsed": 583,
     "status": "ok",
     "timestamp": 1542811122759,
     "user": {
      "displayName": "CARLOS SEVILLA SALCEDO",
      "photoUrl": "https://lh6.googleusercontent.com/-lVFKHwDNiwI/AAAAAAAAAAI/AAAAAAAAAAc/X7utDT5i-2s/s64/photo.jpg",
      "userId": "09068027342607188307"
     },
     "user_tz": -60
    },
    "id": "3Ftmm46rdPx8",
    "outputId": "3dab202a-99e6-47c8-b34e-4a73d1bb1c50"
   },
   "outputs": [
    {
     "name": "stdout",
     "output_type": "stream",
     "text": [
      "The minimum MSE is given by \n"
     ]
    },
    {
     "data": {
      "text/html": [
       "<script src='https://cdnjs.cloudflare.com/ajax/libs/mathjax/2.7.3/latest.js?config=default'></script>"
      ],
      "text/plain": [
       "<IPython.core.display.HTML object>"
      ]
     },
     "metadata": {
      "tags": []
     },
     "output_type": "display_data"
    },
    {
     "data": {
      "text/latex": [
       "$$\\text{MSE} = \\frac{K+1}{(z +1)^2} = 0.13876431289990745$$"
      ],
      "text/plain": [
       "<IPython.core.display.Math object>"
      ]
     },
     "execution_count": 11,
     "metadata": {
      "tags": []
     },
     "output_type": "execute_result"
    }
   ],
   "source": [
    "print(\"The minimum MSE is given by \")\n",
    "# mMSE = <FILL IN>\n",
    "\n",
    "javascript(url=url)\n",
    "Math(r'\\text{MSE} = \\frac{K+1}{(z +1)^2} = ' + str(mMSE) )"
   ]
  },
  {
   "cell_type": "markdown",
   "metadata": {
    "colab_type": "text",
    "id": "ho5xL_mdwvgR"
   },
   "source": [
    "Incidentally, note that, since $\\hat{s}_\\text{MSE}$ is the posterior mean, the conditional MSE, which is given by,\n",
    "\n",
    "   $$\n",
    "   \\mathbb{E}\\left\\{(S-\\hat{s}_\\text{MSE})^2| {\\bf z}\\right\\}\n",
    "   $$\n",
    "\n",
    "is equal to the variance of the posterior distribution."
   ]
  },
  {
   "cell_type": "markdown",
   "metadata": {
    "colab_type": "text",
    "id": "SVEjlocYdPyC"
   },
   "source": [
    " * [2.7.] [**OPTIONAL**] Compute the probability that the true parameter was not further than two standard deviations from the posterior mean, that is\n",
    "\n",
    "   $$\n",
    "   P\\left\\{\\hat{s}_\\text{MSE} - 2 \\sqrt{v_\\text{MSE}} \\le S \\le\n",
    "           \\hat{s}_\\text{MSE} + 2 \\sqrt{v_\\text{MSE}}\\mid \\mathbf{z}\\right\\} \n",
    "   $$\n",
    "   Save it in variable `p`"
   ]
  },
  {
   "cell_type": "code",
   "execution_count": 12,
   "metadata": {
    "colab": {
     "base_uri": "https://localhost:8080/",
     "height": 68
    },
    "colab_type": "code",
    "collapsed": false,
    "executionInfo": {
     "elapsed": 385,
     "status": "ok",
     "timestamp": 1542811124397,
     "user": {
      "displayName": "CARLOS SEVILLA SALCEDO",
      "photoUrl": "https://lh6.googleusercontent.com/-lVFKHwDNiwI/AAAAAAAAAAI/AAAAAAAAAAc/X7utDT5i-2s/s64/photo.jpg",
      "userId": "09068027342607188307"
     },
     "user_tz": -60
    },
    "id": "Xnl_TSTtdPyD",
    "outputId": "d27baf6e-870d-4d5f-bf7e-68aa6fd6e4b3"
   },
   "outputs": [
    {
     "data": {
      "text/html": [
       "<script src='https://cdnjs.cloudflare.com/ajax/libs/mathjax/2.7.3/latest.js?config=default'></script>"
      ],
      "text/plain": [
       "<IPython.core.display.HTML object>"
      ]
     },
     "metadata": {
      "tags": []
     },
     "output_type": "display_data"
    },
    {
     "data": {
      "text/latex": [
       "$$P\\left\\{\\hat{s}_\\text{MSE} - 2 \\sqrt{v_\\text{MSE}} \\le S \\le \\hat{s}_\\text{MSE} + 2 \\sqrt{v_\\text{MSE}}\\right\\} = 0.04547329713165704$$"
      ],
      "text/plain": [
       "<IPython.core.display.Math object>"
      ]
     },
     "execution_count": 12,
     "metadata": {
      "tags": []
     },
     "output_type": "execute_result"
    }
   ],
   "source": [
    "from scipy.stats import gamma\n",
    "# <SOL>\n",

    "# </SOL>\n",
    "\n",
    "javascript(url=url)\n",
    "Math(r'P\\left\\{\\hat{s}_\\text{MSE} - 2 \\sqrt{v_\\text{MSE}} \\le S \\le ' +\n",
    "             r'\\hat{s}_\\text{MSE} + 2 \\sqrt{v_\\text{MSE}}\\right\\} = ' + str(p) )"
   ]
  },
  {
   "cell_type": "markdown",
   "metadata": {
    "colab_type": "text",
    "id": "pSRzRgh8dPyF"
   },
   "source": [
    "### 3. An improved data model.\n",
    "\n",
    "#### 3.1. Temporal dynamics\n",
    "\n",
    "The analysis in Section 2 is grounded on the assumption that the time between incoming calls follows an exponential distribution. The histogram obtained in exercise [1.2] provides some experimental evidence in support of this assumption. \n",
    "\n",
    "However, the histogram computed in exercise [1.1.] also shows that the activity of the call center varies with the time of the day. Therefore, we can expect that the time between calls also depends on the time of the day."
   ]
  },
  {
   "cell_type": "markdown",
   "metadata": {
    "colab_type": "text",
    "id": "SAe9yrwNdPyF"
   },
   "source": [
    "* [3.1] Plot the time between calls, as a function of time."
   ]
  },
  {
   "cell_type": "code",
   "execution_count": 13,
   "metadata": {
    "colab": {
     "base_uri": "https://localhost:8080/",
     "height": 225
    },
    "colab_type": "code",
    "collapsed": false,
    "executionInfo": {
     "elapsed": 763,
     "status": "ok",
     "timestamp": 1542811126737,
     "user": {
      "displayName": "CARLOS SEVILLA SALCEDO",
      "photoUrl": "https://lh6.googleusercontent.com/-lVFKHwDNiwI/AAAAAAAAAAI/AAAAAAAAAAc/X7utDT5i-2s/s64/photo.jpg",
      "userId": "09068027342607188307"
     },
     "user_tz": -60
    },
    "id": "bSD5Fv0kdPyH",
    "outputId": "48d3d1be-8844-4674-e73b-879617ea8075"
   },
   "outputs": [
    {
     "data": {
      "image/png": "iVBORw0KGgoAAAANSUhEUgAAAwYAAADQCAYAAAC9SXZ7AAAABHNCSVQICAgIfAhkiAAAAAlwSFlz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\nGgYUCoVCoVAoFAoFwP8H3StNWhJEB9EAAAAASUVORK5CYII=\n",
      "text/plain": [
       "<matplotlib.figure.Figure at 0x7f06eedf52e8>"
      ]
     },
     "metadata": {
      "tags": []
     },
     "output_type": "display_data"
    }
   ],
   "source": [
    "# <SOL>\n",

    "# </SOL>\n"
   ]
  },
  {
   "cell_type": "markdown",
   "metadata": {
    "colab_type": "text",
    "id": "C6vUwzYqdPyN"
   },
   "source": [
    "#### 3.1. Hour-dependent model\n",
    "\n",
    "According to this, we can make a different model for each time of the day. To do so, we will keep the asumption that the time between incoming calls follows an exponential distribution\n",
    "\n",
    "$$\n",
    "p_{X|S,}(x \\mid s) = s \\exp(−s x), \\qquad x > 0\n",
    "$$\n",
    "\n",
    "However, we will now assume that parameter $s$ can take a different value from hour to hour. Therefore, we must estimate a different parameter $S$ for every hour.\n",
    "\n",
    "To do so, we will need to split the data in 24 groups, one per hour, and compute specific variables $z$ and $K$ for each group.\n",
    "\n",
    " * [3.2] Split the dataset in 24 groups, assigning the data to each group depending on the hour of the starting time. Then, compute parameters $z$ and $K$ for each group, storing them in numpy arrays `z24` and `K24`."
   ]
  },
  {
   "cell_type": "code",
   "execution_count": 23,
   "metadata": {
    "colab": {
     "base_uri": "https://localhost:8080/",
     "height": 289
    },
    "colab_type": "code",
    "collapsed": false,
    "executionInfo": {
     "elapsed": 476,
     "status": "ok",
     "timestamp": 1542812619389,
     "user": {
      "displayName": "CARLOS SEVILLA SALCEDO",
      "photoUrl": "https://lh6.googleusercontent.com/-lVFKHwDNiwI/AAAAAAAAAAI/AAAAAAAAAAc/X7utDT5i-2s/s64/photo.jpg",
      "userId": "09068027342607188307"
     },
     "user_tz": -60
    },
    "id": "U-G-lU0PdPyP",
    "outputId": "9658145d-a9dc-4779-9193-19ba3134fcc0"
   },
   "outputs": [
    {
     "name": "stdout",
     "output_type": "stream",
     "text": [
      "[6.78684267 3.72392443 5.62891201 7.15205411 2.44439132 4.47142517\n",
      " 4.55136568 4.04037182 4.49281074 5.21403016 4.99107171 4.73106504\n",
      " 4.68125603 5.06348733 5.0306832  4.98573297 4.88229944 5.02016045\n",
      " 4.94164318 5.10313178 4.98841369 5.14365958 6.72435085 4.26076969]\n",
      "[  8   7   8   6   4   8  11  18  19  34  36  70  81 145 161 205 225 258\n",
      " 234 196 143  78  36   8]\n",
      "Test for variable K passed.\n",
      "Test for variable z passed.\n",
      "[6.78684267 3.72392443 5.62891201 7.15205411 2.44439132 4.47142517\n",
      " 4.55136568 4.04037182 4.49281074 5.21403016 4.99107171 4.73106504\n",
      " 4.68125603 5.06348733 5.0306832  4.98573297 4.88229944 5.02016045\n",
      " 4.94164318 5.10313178 4.98841369 5.14365958 6.72435085 4.26076969]\n",
      "[  8   7   8   6   4   8  11  18  19  34  36  70  81 145 161 205 225 258\n",
      " 234 196 143  78  36   8]\n",
      "Test for variable K passed.\n",
      "Test for variable z passed.\n"
     ]
    }
   ],
   "source": [
    "# <SOL>\n",

    "# </SOL>\n",
    "# Check if your variables are ok.\n",
    "# (Note that his is not a full test. Passing it does not \n",
    "# guarantee that variables have been correctly computed)\n",
    "if np.sum(K24) == len(x_all):\n",
    "    print(\"Test for variable K passed.\")\n",
    "else:\n",
    "    print(\"Error in variable K.\")\n",
    "if np.sum(z24) == np.sum(x_all):\n",
    "    print(\"Test for variable z passed.\")\n",
    "else:\n",
    "    print(\"Error in variable z.\")\n",
    "    \n",
    "for h in range(24):\n",
    "    x24 = x_all[h==h2[:-1]]\n",
    "    z24[h] = np.sum(x24)\n",
    "    K24[h] = x24.shape[0]\n",
    "\n",
    "# </SOL>\n",
    "# Check if your variables are ok.\n",
    "# (Note that his is not a full test. Passing it does not \n",
    "# guarantee that variables have been correctly computed)\n",
    "if np.sum(K24) == len(x_all):\n",
    "    print(\"Test for variable K passed.\")\n",
    "else:\n",
    "    print(\"Error in variable K.\")\n",
    "if np.sum(z24) == np.sum(x_all):\n",
    "    print(\"Test for variable z passed.\")\n",
    "else:\n",
    "    print(\"Error in variable z.\")"
   ]
  },
  {
   "cell_type": "markdown",
   "metadata": {
    "colab_type": "text",
    "id": "uxLnun0KdPyS"
   },
   "source": [
    " * [3.3] Compute the ML and the MSE estimates for each hour. Store them in vectors `sML24` and `sMSE24` and plot them as a function of the hour in the day."
   ]
  },
  {
   "cell_type": "code",
   "execution_count": 14,
   "metadata": {
    "colab": {
     "base_uri": "https://localhost:8080/",
     "height": 361
    },
    "colab_type": "code",
    "collapsed": false,
    "executionInfo": {
     "elapsed": 3776,
     "status": "ok",
     "timestamp": 1542795344227,
     "user": {
      "displayName": "CARLOS SEVILLA SALCEDO",
      "photoUrl": "https://lh6.googleusercontent.com/-lVFKHwDNiwI/AAAAAAAAAAI/AAAAAAAAAAc/X7utDT5i-2s/s64/photo.jpg",
      "userId": "09068027342607188307"
     },
     "user_tz": -60
    },
    "id": "GGy7xK6fdPyS",
    "outputId": "718b5179-7c0b-49ce-e5fe-3e3bda951fb6",
    "scrolled": true
   },
   "outputs": [
    {
     "data": {
      "image/png": "iVBORw0KGgoAAAANSUhEUgAAAe0AAAFYCAYAAAB+s6Q9AAAABHNCSVQICAgIfAhkiAAAAAlwSFlz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\nz1sn3pBijHsAAAAASUVORK5CYII=\n",
      "text/plain": [
       "<matplotlib.figure.Figure at 0x7fbbd4466860>"
      ]
     },
     "metadata": {
      "tags": []
     },
     "output_type": "display_data"
    }
   ],
   "source": [
    "# <SOL>\n",

    "# </SOL>"
   ]
  },
  {
   "cell_type": "markdown",
   "metadata": {
    "colab_type": "text",
    "id": "DSly1lchdPyW"
   },
   "source": [
    "* [3.4] One may wonder if spliting the data in segments provides a better model for the time between calls. The joint data likelihood is a useful way to get a first quantitative evaluation of the new model.\n",
    "\n",
    "    Compute the maximum log-likelihood for the joint model, and save it in variable `L24max`. Compare the result with the value of `Lmax` computed in [2.2].\n",
    "    \n",
    "    To compute the maximum log-likelihood of the joint model, take into account that the observations are independent, so that `L24max` is the sum of the values of the maximum log-likelihood computed for every hour.\n"
   ]
  },
  {
   "cell_type": "code",
   "execution_count": 15,
   "metadata": {
    "colab": {
     "base_uri": "https://localhost:8080/",
     "height": 51
    },
    "colab_type": "code",
    "collapsed": false,
    "executionInfo": {
     "elapsed": 3763,
     "status": "ok",
     "timestamp": 1542795344231,
     "user": {
      "displayName": "CARLOS SEVILLA SALCEDO",
      "photoUrl": "https://lh6.googleusercontent.com/-lVFKHwDNiwI/AAAAAAAAAAI/AAAAAAAAAAc/X7utDT5i-2s/s64/photo.jpg",
      "userId": "09068027342607188307"
     },
     "user_tz": -60
    },
    "id": "tI8Tj1fSdPyX",
    "outputId": "e6975970-ddb1-49c5-b9fc-b1f51019e6cb"
   },
   "outputs": [
    {
     "name": "stdout",
     "output_type": "stream",
     "text": [
      "Maximum log-likelihood of the simple model: 3639.8319677147865\n",
      "Maximum log-likelihood of the hour-dependent model: 4693.196860625254\n"
     ]
    }
   ],
   "source": [
    "# <SOL>\n",

    "# </SOL>\n",
    "\n",
    "print('Maximum log-likelihood of the simple model: {}'.format(Lmax))\n",
    "print('Maximum log-likelihood of the hour-dependent model: {}'.format(Lmax24))"
   ]
  },
  {
   "cell_type": "markdown",
   "metadata": {
    "colab_type": "text",
    "id": "uz6oLD7BdPyZ"
   },
   "source": [
    " #### 3.3. Posterior distributions\n",
    "\n",
    " * [3.5] Plot the posterior probabilities for each hour slot"
   ]
  },
  {
   "cell_type": "code",
   "execution_count": 82,
   "metadata": {
    "colab": {
     "base_uri": "https://localhost:8080/",
     "height": 347
    },
    "colab_type": "code",
    "collapsed": false,
    "executionInfo": {
     "elapsed": 887,
     "status": "ok",
     "timestamp": 1542799455628,
     "user": {
      "displayName": "CARLOS SEVILLA SALCEDO",
      "photoUrl": "https://lh6.googleusercontent.com/-lVFKHwDNiwI/AAAAAAAAAAI/AAAAAAAAAAc/X7utDT5i-2s/s64/photo.jpg",
      "userId": "09068027342607188307"
     },
     "user_tz": -60
    },
    "id": "aw-99voydPya",
    "outputId": "f4fd7bb7-78ba-4d56-9f9f-273a565362ac"
   },
   "outputs": [
    {
     "data": {
      "image/png": "iVBORw0KGgoAAAANSUhEUgAAAecAAAFKCAYAAAAnj5dkAAAABHNCSVQICAgIfAhkiAAAAAlwSFlz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\nrkJggg==\n",
      "text/plain": [
       "<matplotlib.figure.Figure at 0x7fbbd46a7128>"
      ]
     },
     "metadata": {
      "tags": []
     },
     "output_type": "display_data"
    }
   ],
   "source": [
    "# <SOL>\n",

    "# </SOL>"
   ]
  },
  {
   "cell_type": "markdown",
   "metadata": {
    "colab_type": "text",
    "id": "C4qxKTjVdPyg"
   },
   "source": [
    "You should observe that, as expected, each posterior distribution is centered around its respective estimate $\\hat{s}_\\text{MSE}$, (i.e. around `sMSE24[0]`, `sMSE24[8]` and `sMSE24[16]`."
   ]
  },
  {
   "cell_type": "code",
   "execution_count": 77,
   "metadata": {
    "colab": {
     "base_uri": "https://localhost:8080/",
     "height": 68
    },
    "colab_type": "code",
    "collapsed": false,
    "executionInfo": {
     "elapsed": 469,
     "status": "ok",
     "timestamp": 1542799347740,
     "user": {
      "displayName": "CARLOS SEVILLA SALCEDO",
      "photoUrl": "https://lh6.googleusercontent.com/-lVFKHwDNiwI/AAAAAAAAAAI/AAAAAAAAAAc/X7utDT5i-2s/s64/photo.jpg",
      "userId": "09068027342607188307"
     },
     "user_tz": -60
    },
    "id": "IinQeLuZdPyg",
    "outputId": "cf0aeeab-5a13-4b3f-f00f-de910c4dc4bb"
   },
   "outputs": [
    {
     "name": "stdout",
     "output_type": "stream",
     "text": [
      "sMSE24[0] = 1.1557957932427152\n",
      "sMSE24[8] = 3.6411230886136594\n",
      "sMSE24[16] = 38.42034943006026\n"
     ]
    }
   ],
   "source": [
    "print('sMSE24[0] = {}'.format(sMSE24[0]))\n",
    "print('sMSE24[8] = {}'.format(sMSE24[8]))\n",
    "print('sMSE24[16] = {}'.format(sMSE24[16]))"
   ]
  },
  {
   "cell_type": "markdown",
   "metadata": {
    "colab_type": "text",
    "id": "MrXv63c8dPyi"
   },
   "source": [
    "However, you can visually verify that the posterior distributions for $h=0$ and $h=8$ have less variance than that for $h=16$, why? This is because the prior distribution is in agreement with the data for $h=0$ and $h=8$ (in borth cases, $\\hat{s}_\\text{MSE}$ is smaller than 5). The larger variance for $h=16$ is a consequence of the higher uncertainty about $s$ created by the discrepancy between the prior and the observations.\n",
    "\n",
    "In any case, for any value of $h$, more data is always better than less data. We can observe that, for any value of $h$, the variance of the posterior distribution tends to decrease when more data are used."
   ]
  },
  {
   "cell_type": "markdown",
   "metadata": {
    "colab_type": "text",
    "id": "qlHKMo0ZdPyj"
   },
   "source": [
    " * [3.6] Take $h$=16. For $d=1,...,5$, compute the variance of the posterior distribution of $s$ given only the data at hour $h$ up to day $d$. Plot the minimum MSE as a function of $d$"
   ]
  },
  {
   "cell_type": "code",
   "execution_count": 18,
   "metadata": {
    "colab": {
     "base_uri": "https://localhost:8080/",
     "height": 349
    },
    "colab_type": "code",
    "collapsed": false,
    "executionInfo": {
     "elapsed": 4007,
     "status": "ok",
     "timestamp": 1542795344539,
     "user": {
      "displayName": "CARLOS SEVILLA SALCEDO",
      "photoUrl": "https://lh6.googleusercontent.com/-lVFKHwDNiwI/AAAAAAAAAAI/AAAAAAAAAAc/X7utDT5i-2s/s64/photo.jpg",
      "userId": "09068027342607188307"
     },
     "user_tz": -60
    },
    "id": "h2XaCKkhdPyj",
    "outputId": "f706faa0-8276-40a1-df89-89c5e1a50b4d"
   },
   "outputs": [
    {
     "data": {
      "image/png": "iVBORw0KGgoAAAANSUhEUgAAAd8AAAFMCAYAAACK8ra1AAAABHNCSVQICAgIfAhkiAAAAAlwSFlz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\nYII=\n",
      "text/plain": [
       "<matplotlib.figure.Figure at 0x7fbbd4461a58>"
      ]
     },
     "metadata": {
      "tags": []
     },
     "output_type": "display_data"
    }
   ],
   "source": [
    "# <SOL>\n",

    "# </SOL>\n"
   ]
  },
  {
   "cell_type": "markdown",
   "metadata": {
    "colab_type": "text",
    "id": "bDXFZ4WcdPym"
   },
   "source": [
    " * [3.7] [**OPTIONAL**] Show, in the same plot, the posterior distribution of parameter $s$ given only the data at hour $h$ and for all days up to $d$, for $d=1,\\ldots, 5$"
   ]
  },
  {
   "cell_type": "code",
   "execution_count": 19,
   "metadata": {
    "colab": {
     "base_uri": "https://localhost:8080/",
     "height": 347
    },
    "colab_type": "code",
    "collapsed": false,
    "executionInfo": {
     "elapsed": 4320,
     "status": "ok",
     "timestamp": 1542795344871,
     "user": {
      "displayName": "CARLOS SEVILLA SALCEDO",
      "photoUrl": "https://lh6.googleusercontent.com/-lVFKHwDNiwI/AAAAAAAAAAI/AAAAAAAAAAc/X7utDT5i-2s/s64/photo.jpg",
      "userId": "09068027342607188307"
     },
     "user_tz": -60
    },
    "id": "IuCr_VI8dPyn",
    "outputId": "d27008b8-89dd-461a-e45c-1d338c443fee"
   },
   "outputs": [
    {
     "data": {
      "image/png": "iVBORw0KGgoAAAANSUhEUgAAAe0AAAFKCAYAAAAwrQetAAAABHNCSVQICAgIfAhkiAAAAAlwSFlz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\nRBLBoU1ERCQRfwNgdFJwa/49JQAAAABJRU5ErkJggg==\n",
      "text/plain": [
       "<matplotlib.figure.Figure at 0x7fbbd73f9240>"
      ]
     },
     "metadata": {
      "tags": []
     },
     "output_type": "display_data"
    }
   ],
   "source": [
    "# <SOL>\n",

    "# </SOL>\n"
   ]
  }
 ],
 "metadata": {
  "anaconda-cloud": {},
  "colab": {
   "collapsed_sections": [],
   "name": "Pract_Estimation_professor_update.ipynb",
   "provenance": [],
   "version": "0.3.2"
  },
  "kernelspec": {
   "display_name": "Python [conda env:mypy36]",
   "language": "python",
   "name": "conda-env-mypy36-py"
  },
  "language_info": {
   "codemirror_mode": {
    "name": "ipython",
    "version": 3
   },
   "file_extension": ".py",
   "mimetype": "text/x-python",
   "name": "python",
   "nbconvert_exporter": "python",
   "pygments_lexer": "ipython3",
   "version": "3.6.5"
  }
 },
 "nbformat": 4,
 "nbformat_minor": 0
}
