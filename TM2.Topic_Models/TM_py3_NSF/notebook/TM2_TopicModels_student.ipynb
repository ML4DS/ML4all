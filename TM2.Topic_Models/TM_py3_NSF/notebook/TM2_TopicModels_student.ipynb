{
 "cells": [
  {
   "cell_type": "markdown",
   "metadata": {},
   "source": [
    "# Exploring and undertanding documental databases with topic models\n",
    "\n",
    "Version 1.0\n",
    "\n",
    "Date: Nov 23, 2017\n",
    "\n",
    "Authors: \n",
    "\n",
    "   * Jerónimo Arenas-García (jeronimo.arenas@uc3m.es)\n",
    "   * Jesús Cid-Sueiro (jcid@tsc.uc3m.es)"
   ]
  },
  {
   "cell_type": "code",
   "execution_count": null,
   "metadata": {},
   "outputs": [],
   "source": [
    "# Common imports \n",
    "\n",
    "%matplotlib inline\n",
    "import matplotlib.pyplot as plt\n",
    "import pylab\n",
    "\n",
    "import numpy as np\n",
    "# import pandas as pd\n",
    "# import os\n",
    "from os.path import isfile, join\n",
    "# import scipy.io as sio\n",
    "# import scipy\n",
    "import zipfile as zp\n",
    "# import shutil\n",
    "# import difflib\n",
    "\n",
    "import gensim"
   ]
  },
  {
   "cell_type": "markdown",
   "metadata": {},
   "source": [
    "## 1. Corpus acquisition\n",
    "\n",
    "In this block we will work with collections of text documents. The objectives will be:\n",
    "\n",
    "   * Find the most important topics in the collection and assign documents to topics\n",
    "   * Analyze the structure of the collection by means of graph analysis\n",
    "   \n",
    "We will work with a collection of research projects funded by the US National Science Foundation, that you can find under the `./data` directory. These files are publicly available from the NSF website."
   ]
  },
  {
   "cell_type": "markdown",
   "metadata": {},
   "source": [
    "### 1.1. Exploring file structure\n",
    "\n",
    "NSF project information is provided in XML files. Projects are yearly grouped in `.zip` files, and each project is saved in a different XML file. To explore the structure of such files, we will use the file `160057.xml`. Parsing XML files in python is rather easy using the `ElementTree` module. "
   ]
  },
  {
   "cell_type": "markdown",
   "metadata": {},
   "source": [
    "#### 1.1.1. File format\n",
    "\n",
    "To start with, you can have a look at the contents of the example file. We are interested on the following information of each project:\n",
    "\n",
    "   * Project identifier\n",
    "   * Project Title\n",
    "   * Project Abstract\n",
    "   * Budget\n",
    "   * Starting Year (we will ignore project duration)\n",
    "   * Institution (name, zipcode, and state)"
   ]
  },
  {
   "cell_type": "code",
   "execution_count": null,
   "metadata": {},
   "outputs": [],
   "source": [
    "xmlfile = '../data/1600057.xml'\n",
    "\n",
    "with open(xmlfile,'r') as fin:\n",
    "    print(fin.read())"
   ]
  },
  {
   "cell_type": "markdown",
   "metadata": {},
   "source": [
    "#### 1.1.2. Parsing XML\n",
    "\n",
    "XML is an inherently hierarchical data format, and the most natural way to represent it is with a tree. The `ElementTree` module has two classes for this purpose:\n",
    "\n",
    "   * `ElementTree` represents the whole XML document as a tree\n",
    "   * `Element` represents a single node in this tree\n",
    "\n",
    "We can import XML data by reading an XML file:"
   ]
  },
  {
   "cell_type": "code",
   "execution_count": null,
   "metadata": {},
   "outputs": [],
   "source": [
    "import xml.etree.ElementTree as ET\n",
    "root = ET.fromstring(open(xmlfile,'r').read())"
   ]
  },
  {
   "cell_type": "markdown",
   "metadata": {},
   "source": [
    "The code below implements a function that parses the XML files and provides as its output a dictionary with fields:\n",
    "\n",
    "    project_code      (string)\n",
    "    title             (string)\n",
    "    abstract          (string)\n",
    "    budget            (float)\n",
    "    year              (string)\n",
    "    institution       (tuple with elements: name, zipcode, and statecode)\n"
   ]
  },
  {
   "cell_type": "code",
   "execution_count": null,
   "metadata": {},
   "outputs": [],
   "source": [
    "def parse_xmlproject(xml_string):\n",
    "    \"\"\"This function processess the specified XML field,\n",
    "    and outputs a dictionary with the desired project information\n",
    "    \n",
    "    :xml_string: String with XML content\n",
    "    :Returns: Dictionary with indicated files\n",
    "    \"\"\"\n",
    "    \n",
    "    root = ET.fromstring(xml_string)\n",
    "    dictio = {}\n",
    "    \n",
    "    for child in root[0]:\n",
    "        if child.tag.lower() == 'awardtitle':\n",
    "            dictio['title'] = child.text\n",
    "        elif child.tag.lower() == 'awardeffectivedate':\n",
    "            dictio['year'] = str(child.text[-4:])\n",
    "        elif child.tag.lower() == 'awardamount':\n",
    "            dictio['budget'] = float(child.text)\n",
    "        elif child.tag.lower() == 'abstractnarration':\n",
    "            dictio['abstract'] = child.text\n",
    "        elif child.tag.lower() == 'awardid':\n",
    "            dictio['project_code'] = child.text\n",
    "        elif child.tag.lower() == 'institution':\n",
    "            #For the institution we have to access the children elements\n",
    "            #and search for the name, zipcode, and statecode only\n",
    "            name = ''\n",
    "            zipcode = ''\n",
    "            statecode = ''\n",
    "            for child2 in child:\n",
    "                if child2.tag.lower() == 'name':\n",
    "                    name = child2.text\n",
    "                elif child2.tag.lower() == 'zipcode':\n",
    "                    zipcode = child2.text\n",
    "                elif child2.tag.lower() == 'statecode':\n",
    "                    statecode = child2.text\n",
    "            dictio['institution'] = (name, zipcode, statecode)\n",
    "    \n",
    "    return dictio\n",
    "    \n",
    "parse_xmlproject(open(xmlfile,'r').read())"
   ]
  },
  {
   "cell_type": "markdown",
   "metadata": {},
   "source": [
    "### 1.2. Building the dataset\n",
    "\n",
    "Now, we will use the function you just implemented, to create a database that we will use throughout this module.\n",
    "\n",
    "For simplicity, and given that the dataset is not too large, we will keep all projects in the RAM. The dataset will consist of a list containing the dictionaries associated to each of the considered projects in a time interval."
   ]
  },
  {
   "cell_type": "code",
   "execution_count": null,
   "metadata": {},
   "outputs": [],
   "source": [
    "# Construct an iterator (or a list) for the years you want to work with\n",
    "years = [2015, 2016]\n",
    "datafiles_path = '../data/'\n",
    "NSF_data = []\n",
    "\n",
    "for year in years:\n",
    "    \n",
    "    zpobj = zp.ZipFile(join(datafiles_path, str(year)+'.zip'))\n",
    "    for fileinzip in zpobj.namelist():\n",
    "        if fileinzip.endswith('xml'):\n",
    "            \n",
    "            #Some files seem to be incorrectly parsed\n",
    "            try:\n",
    "                project_dictio = parse_xmlproject(zpobj.read(fileinzip))\n",
    "                if project_dictio['abstract']:\n",
    "                    NSF_data.append(project_dictio)\n",
    "            except:\n",
    "                pass"
   ]
  },
  {
   "cell_type": "markdown",
   "metadata": {},
   "source": [
    "We will extract some characteristics of the constructed dataset:"
   ]
  },
  {
   "cell_type": "code",
   "execution_count": null,
   "metadata": {},
   "outputs": [],
   "source": [
    "print('Number of projects in dataset:', len(NSF_data))\n",
    "\n",
    "# Budget\n",
    "budget_data = list(map(lambda x: x['budget'], NSF_data))\n",
    "print('Average budget of projects in dataset:', np.mean(budget_data))\n",
    "\n",
    "# Institutions\n",
    "insti_data = list(map(lambda x: x['institution'], NSF_data))\n",
    "print('Number of unique institutions in dataset:', len(set(insti_data)))\n",
    "\n",
    "# Counts per year\n",
    "counts = dict()\n",
    "for project in NSF_data:\n",
    "    counts[project['year']] = counts.get(project['year'],0) + 1\n",
    "\n",
    "print('Breakdown of projects by starting year:')\n",
    "for el in counts:\n",
    "    print(el, ':', counts[el])"
   ]
  },
  {
   "cell_type": "markdown",
   "metadata": {},
   "source": [
    "For the rest of this notebook, we will work with the abstracts only. The list of all abstract will be the corpus we will work with."
   ]
  },
  {
   "cell_type": "code",
   "execution_count": null,
   "metadata": {},
   "outputs": [],
   "source": [
    "corpus_raw = list(map(lambda x: x['abstract'], NSF_data))\n",
    "\n",
    "abstractlen_data = list(map(lambda x: len(x), corpus_raw))\n",
    "print('Average length of projects abstracts (in characters):', np.mean(abstractlen_data))"
   ]
  },
  {
   "cell_type": "markdown",
   "metadata": {},
   "source": [
    "## 2. Corpus Processing\n",
    "\n",
    "Topic modelling algorithms process vectorized data. In order to apply them, we need to transform the raw text input data into a vector representation. To do so, we will remove irrelevant information from the text data and preserve as much relevant information as possible to capture the semantic content in the document collection.\n",
    "\n",
    "Thus, we will proceed with the following steps:\n",
    "\n",
    "1. Tokenization\n",
    "2. Homogeneization, which includes:\n",
    "    1. Removing capitalization.\n",
    "    2. Removing non alphanumeric tokens (e.g. punktuation signs)\n",
    "    3. Stemming/Lemmatization.\n",
    "3. Cleaning\n",
    "4. Vectorization"
   ]
  },
  {
   "cell_type": "markdown",
   "metadata": {},
   "source": [
    "For the first steps, we will use some of the powerful methods available from the [Natural Language Toolkit](http://www.nltk.org). In order to use the `word_tokenize` method from nltk, you might need to get the appropriate libraries using `nltk.download()`. You must select option \"d) Download\", and identifier \"punkt\""
   ]
  },
  {
   "cell_type": "code",
   "execution_count": null,
   "metadata": {},
   "outputs": [],
   "source": [
    "from nltk import download\n",
    "# You should comment this code fragment if the package is already available.\n",
    "# download('punkt')\n",
    "# download('stopwords')"
   ]
  },
  {
   "cell_type": "markdown",
   "metadata": {},
   "source": [
    "### 2.1. Corpus Processing"
   ]
  },
  {
   "cell_type": "markdown",
   "metadata": {},
   "source": [
    "We will create a list that contains just the abstracts in the dataset. As the order of the elements in a list is fixed, it will be later straightforward to match the processed abstracts to metadata associated to their corresponding projects."
   ]
  },
  {
   "cell_type": "markdown",
   "metadata": {},
   "source": [
    "**Exercise 1**: Generate a corpus of processed documents. For each document in `corpus_raw` complete the following steps:\n",
    "1. Tokenize.\n",
    "2. Remove capitalization and non-alphanumeric tokens.\n",
    "3. Lemmatize\n",
    "4. Remove the stopwords using the NLTK stopwords list.\n"
   ]
  },
  {
   "cell_type": "code",
   "execution_count": null,
   "metadata": {},
   "outputs": [],
   "source": [
    "from nltk.tokenize import word_tokenize\n",
    "from nltk.stem import SnowballStemmer, WordNetLemmatizer\n",
    "from nltk.corpus import stopwords\n",
    "\n",
    "# Maybe you can try the stemmer too.\n",
    "# stemmer = SnowballStemmer('english')\n",
    "wnl = WordNetLemmatizer()\n",
    "\n",
    "stopwords_en = stopwords.words('english')\n",
    "\n",
    "# Initialize ouput corpus\n",
    "corpus_clean = []\n",
    "\n",
    "ndocs = len(corpus_raw)\n",
    "for n, text in enumerate(corpus_raw):\n",
    "    if not n%100:\n",
    "        print('\\rTokenizing document', n, 'out of', ndocs, end='', flush=True)\n",
    "\n",
    "    # Tokenize each text entry. \n",
    "    # tokens = <FILL IN>\n",
    "    # tokens_filtered = <FILL IN>\n",
    "    # tokens_lemmatized = <FILL IN>\n",
    "    # tokens_clean = <FILL IN>\n",
    "    \n",
    "    # Add the new token list as a new element to corpus_clean (that will be a list of lists)\n",
    "    # corpus_clean.<FILL IN>\n",
    "\n",
    "print('\\n\\n The corpus has been tokenized. Check the result for the first abstract:')\n",
    "print(corpus_raw[0])\n",
    "print(corpus_clean[0])"
   ]
  },
  {
   "cell_type": "markdown",
   "metadata": {},
   "source": [
    "### 2.4. Vectorization\n",
    "\n",
    "Up to this point, we have transformed the raw text collection in a list of documents, where each documen is a collection of the words that are most relevant for semantic analysis. Now, we need to convert these data (a list of token lists) into a numerical representation (a list of vectors, or a matrix). To do so, we will start using the tools provided by the `gensim` library. \n",
    "\n",
    "As a first step, we create a dictionary containing all tokens in our text corpus, and assigning an integer identifier to each one of them."
   ]
  },
  {
   "cell_type": "code",
   "execution_count": null,
   "metadata": {},
   "outputs": [],
   "source": [
    "# Create dictionary of tokens\n",
    "D = gensim.corpora.Dictionary(corpus_clean)\n",
    "n_tokens = len(D)\n",
    "\n",
    "print('The dictionary contains', n_tokens, 'terms')\n",
    "print('First terms in the dictionary:')\n",
    "for n in range(10):\n",
    "    print(str(n), ':', D[n])"
   ]
  },
  {
   "cell_type": "markdown",
   "metadata": {},
   "source": [
    "We can also filter out terms that appear in too few or too many of the documents in the dataset:"
   ]
  },
  {
   "cell_type": "code",
   "execution_count": null,
   "metadata": {},
   "outputs": [],
   "source": [
    "no_below = 5 #Minimum number of documents to keep a term in the dictionary\n",
    "no_above = .75 #Maximum proportion of documents in which a term can appear to be kept in the dictionary\n",
    "D.filter_extremes(no_below=no_below, no_above=no_above, keep_n=25000)\n",
    "n_tokens = len(D)\n",
    "\n",
    "print('The dictionary contains', n_tokens, 'terms')\n",
    "print('First terms in the dictionary:')\n",
    "for n in range(10):\n",
    "    print(str(n), ':', D[n])"
   ]
  },
  {
   "cell_type": "markdown",
   "metadata": {},
   "source": [
    "In the second step, let us create a numerical version of our corpus using the `doc2bow` method. In general, `D.doc2bow(token_list)` transforms any list of tokens into a list of tuples `(token_id, n)`, one per each token in `token_list`, where `token_id` is the token identifier (according to dictionary `D`) and `n` is the number of occurrences of such token in `token_list`. \n",
    "\n",
    "**Exercise 2**: Apply the `doc2bow` method from gensim dictionary `D`, to all tokens in every document in `clean_abstracts`. The result must be a new list named `corpus_bow` where each element is a list of tuples `(token_id, number_of_occurrences)`."
   ]
  },
  {
   "cell_type": "code",
   "execution_count": null,
   "metadata": {},
   "outputs": [],
   "source": [
    "# corpus_bow = <FILL IN>\n",
    " "
   ]
  },
  {
   "cell_type": "markdown",
   "metadata": {
    "collapsed": true
   },
   "source": [
    "At this point, it is good to make sure to understand what has happened. In `clean_abstracts` we had a list of token lists. With it, we have constructed a Dictionary, `D`, which assigns an integer identifier to each token in the corpus.\n",
    "After that, we have transformed each article (in `clean_abstracts`) in a list tuples `(id, n)`. "
   ]
  },
  {
   "cell_type": "code",
   "execution_count": null,
   "metadata": {},
   "outputs": [],
   "source": [
    "print('Original document (after cleaning):')\n",
    "print(corpus_clean[0])\n",
    "print('Sparse vector representation (first 10 components):')\n",
    "print(corpus_bow[0][:10])\n",
    "print('Word counts for the first project (first 10 components):')\n",
    "print(list(map(lambda x: (D[x[0]], x[1]), corpus_bow[0][:10])))"
   ]
  },
  {
   "cell_type": "markdown",
   "metadata": {},
   "source": [
    "Note that we can interpret each element of corpus_bow as a `sparse_vector`. For example, a list of tuples \n",
    "\n",
    "    [(0, 1), (3, 3), (5,2)] \n",
    "\n",
    "for a dictionary of 10 elements can be represented as a vector, where any tuple `(id, n)` states that position `id` must take value `n`. The rest of positions must be zero.\n",
    "\n",
    "    [1, 0, 0, 3, 0, 2, 0, 0, 0, 0]\n",
    "\n",
    "These sparse vectors will be the inputs to the topic modeling algorithms.\n",
    "\n",
    "As a summary, the following variables will be relevant for the next chapters:\n",
    "   * `D`: A gensim dictionary. Term strings can be accessed using the numeric identifiers. For instance, `D[0]` contains the string corresponding to the first position in the BoW representation.\n",
    "   * `corpus_bow`: BoW corpus. A list containing an entry per project in the dataset, and consisting of the (sparse) BoW representation for the abstract of that project.\n",
    "   * `NSF_data`: A list containing an entry per project in the dataset, and consisting of metadata for the projects in the dataset\n",
    "   \n",
    "The way we have constructed the `corpus_bow` variable guarantees that the order is preserved, so that the projects are listed in the same order in the lists `corpus_bow` and `NSF_data`."
   ]
  },
  {
   "cell_type": "markdown",
   "metadata": {},
   "source": [
    "Before starting with the semantic analyisis, it is interesting to observe the token distribution for the given corpus."
   ]
  },
  {
   "cell_type": "code",
   "execution_count": null,
   "metadata": {},
   "outputs": [],
   "source": [
    "# SORTED TOKEN FREQUENCIES (I):\n",
    "# Create a \"flat\" corpus with all tuples in a single list\n",
    "corpus_bow_flat = [item for sublist in corpus_bow for item in sublist]\n",
    "\n",
    "# Initialize a numpy array that we will use to count tokens.\n",
    "# token_count[n] should store the number of ocurrences of the n-th token, D[n]\n",
    "token_count = np.zeros(n_tokens)\n",
    "\n",
    "# Count the number of occurrences of each token.\n",
    "for x in corpus_bow_flat:\n",
    "    # Update the proper element in token_count\n",
    "    # scode: <FILL IN>\n",
    "\n",
    "# Sort by decreasing number of occurences\n",
    "ids_sorted = np.argsort(- token_count)\n",
    "tf_sorted = token_count[ids_sorted]"
   ]
  },
  {
   "cell_type": "markdown",
   "metadata": {},
   "source": [
    "`ids_sorted` is a list of all token ids, sorted by decreasing number of occurrences in the whole corpus. For instance, the most frequent term is "
   ]
  },
  {
   "cell_type": "code",
   "execution_count": null,
   "metadata": {},
   "outputs": [],
   "source": [
    "print(D[ids_sorted[0]])"
   ]
  },
  {
   "cell_type": "markdown",
   "metadata": {},
   "source": [
    "which appears"
   ]
  },
  {
   "cell_type": "code",
   "execution_count": null,
   "metadata": {},
   "outputs": [],
   "source": [
    "print(\"{0} times in the whole corpus\".format(tf_sorted[0]))"
   ]
  },
  {
   "cell_type": "markdown",
   "metadata": {},
   "source": [
    "In the following we plot the most frequent terms in the corpus."
   ]
  },
  {
   "cell_type": "code",
   "execution_count": null,
   "metadata": {},
   "outputs": [],
   "source": [
    "# SORTED TOKEN FREQUENCIES (II):\n",
    "plt.rcdefaults()\n",
    "\n",
    "# Example data\n",
    "n_art = len(NSF_data)\n",
    "n_bins = 25\n",
    "hot_tokens = [D[i] for i in ids_sorted[n_bins-1::-1]]\n",
    "y_pos = np.arange(len(hot_tokens))\n",
    "z = tf_sorted[n_bins-1::-1]/n_art\n",
    "\n",
    "plt.figure()\n",
    "plt.barh(y_pos, z, align='center', alpha=0.4)\n",
    "plt.yticks(y_pos, hot_tokens)\n",
    "plt.xlabel('Average number of occurrences per article')\n",
    "plt.title('Token distribution')\n",
    "plt.show()"
   ]
  },
  {
   "cell_type": "code",
   "execution_count": null,
   "metadata": {},
   "outputs": [],
   "source": [
    "# SORTED TOKEN FREQUENCIES:\n",
    "\n",
    "# Example data\n",
    "plt.figure()\n",
    "plt.semilogy(tf_sorted)\n",
    "plt.ylabel('Total number of occurrences')\n",
    "plt.xlabel('Token rank')\n",
    "plt.title('Token occurrences')\n",
    "plt.show()"
   ]
  },
  {
   "cell_type": "code",
   "execution_count": null,
   "metadata": {},
   "outputs": [],
   "source": [
    "# cold_tokens = <FILL IN>\n",
    "\n",
    "print(\"There are {0} cold tokens, which represent {1}% of the total number of tokens in the dictionary\".format(\n",
    "    len(cold_tokens), float(len(cold_tokens))/n_tokens*100))"
   ]
  },
  {
   "cell_type": "markdown",
   "metadata": {},
   "source": [
    "### 2.5. Dictionary properties\n",
    "\n",
    "As a final comment, note that gensim dictionaries contain a method `dfs` to compute the word counts automatically. In the code below we build a list `all_counts` that contains tuples (terms, document_counts). "
   ]
  },
  {
   "cell_type": "code",
   "execution_count": null,
   "metadata": {},
   "outputs": [],
   "source": [
    "all_counts = [(D[el], D.dfs[el]) for el in D.dfs]\n",
    "all_counts = sorted(all_counts, key=lambda x: x[1])"
   ]
  },
  {
   "cell_type": "markdown",
   "metadata": {},
   "source": [
    "## 3. Topic Modeling\n",
    "\n",
    "There are several implementations of the LDA topic model in python:\n",
    "\n",
    "* Python library `lda`.\n",
    "* Gensim module: `gensim.models.ldamodel.LdaModel`\n",
    "* Sci-kit Learn module: `sklearn.decomposition`\n",
    "\n",
    "In the following sections we explore the use of `gensim`\n",
    "\n",
    "### 3.1. Training a topic model using Gensim LDA\n",
    "\n",
    "Since we already have computed the dictionary and documents BoW representation using Gensim, computing the topic model is straightforward using the `LdaModel()` function. Please, refer to Gensim API documentation for more information on the different parameters accepted by the function:"
   ]
  },
  {
   "cell_type": "markdown",
   "metadata": {},
   "source": [
    "**Exercise 3**: Create an LDA model with the 50 topics using `corpus_bow` and the dictionary, `D`."
   ]
  },
  {
   "cell_type": "code",
   "execution_count": null,
   "metadata": {},
   "outputs": [],
   "source": [
    "num_topics = 50\n",
    "\n",
    "# This might take some time...\n",
    "# ldag = gensim.models.ldamodel.LdaModel(<FILL IN>)\n",
    " "
   ]
  },
  {
   "cell_type": "markdown",
   "metadata": {},
   "source": [
    "### 3.2. LDA model visualization\n",
    "\n",
    "Gensim provides a basic visualization of the obtained topics:"
   ]
  },
  {
   "cell_type": "code",
   "execution_count": null,
   "metadata": {},
   "outputs": [],
   "source": [
    "ldag.print_topics(num_topics=-1, num_words=10)"
   ]
  },
  {
   "cell_type": "markdown",
   "metadata": {},
   "source": [
    "A more useful visualization is provided by the python LDA visualization library, pyLDAvis.\n",
    "\n",
    "Before executing the next code fragment you might need to install pyLDAvis:\n",
    "\n",
    "    >> pip install (--user) pyLDAvis"
   ]
  },
  {
   "cell_type": "code",
   "execution_count": null,
   "metadata": {},
   "outputs": [],
   "source": [
    "import pyLDAvis.gensim as gensimvis\n",
    "import pyLDAvis\n",
    "\n",
    "vis_data = gensimvis.prepare(ldag, corpus_bow, D)\n",
    "pyLDAvis.display(vis_data)"
   ]
  },
  {
   "cell_type": "markdown",
   "metadata": {},
   "source": [
    "### 3.3. Gensim utility functions\n",
    "\n",
    "In addition to visualization purposes, topic models are useful to obtain a semantic representation of documents that can later be used with some other purpose:\n",
    "\n",
    "   * In document classification problems\n",
    "   * In content-based recommendations systems\n",
    "\n",
    "Essentially, the idea is that the topic model provides a (semantic) vector representation of documents, and use probability divergences to measure document similarity. The following functions of the `LdaModel` class will be useful in this context:\n",
    "\n",
    "   * `get_topic_terms(topic_id)`: Gets vector of the probability distribution among words for the indicated topic\n",
    "   * `get_document_topics(bow_vector)`: Gets (sparse) vector with the probability distribution among topics for the provided document\n",
    "   "
   ]
  },
  {
   "cell_type": "markdown",
   "metadata": {},
   "source": [
    "**Exercise 4**: Show the probability distribution over words for topic 0."
   ]
  },
  {
   "cell_type": "code",
   "execution_count": null,
   "metadata": {},
   "outputs": [],
   "source": [
    "# <SOL>\n",
    "# </SOL>"
   ]
  },
  {
   "cell_type": "markdown",
   "metadata": {},
   "source": [
    "**Exercise 5**: Show the probability distribution over topics for document 0."
   ]
  },
  {
   "cell_type": "code",
   "execution_count": null,
   "metadata": {},
   "outputs": [],
   "source": [
    "print(ldag.get_document_topics(corpus_bow[0]))"
   ]
  },
  {
   "cell_type": "markdown",
   "metadata": {},
   "source": [
    "An alternative to the use of the `get_document_topics()` function is to directly transform a dataset using the `ldag` object as follows. You can apply this transformation to several documents at once, but then the result is an iterator from which you can build the corresponding list if necessary"
   ]
  },
  {
   "cell_type": "code",
   "execution_count": null,
   "metadata": {},
   "outputs": [],
   "source": [
    "print(ldag[corpus_bow[0]])\n",
    "\n",
    "print('When applied to a dataset it will provide an iterator')\n",
    "print(ldag[corpus_bow[:3]])\n",
    "\n",
    "print('We can rebuild the list from the iterator with a one liner')\n",
    "print([el for el in ldag[corpus_bow[:3]]])"
   ]
  },
  {
   "cell_type": "markdown",
   "metadata": {},
   "source": [
    "Finally, Gensim provides some useful functions to convert between formats, and to simplify interaction with numpy and scipy. The following code fragment converts a corpus in sparse format to a full numpy matrix"
   ]
  },
  {
   "cell_type": "code",
   "execution_count": null,
   "metadata": {},
   "outputs": [],
   "source": [
    "reduced_corpus = [el for el in ldag[corpus_bow[:3]]]\n",
    "reduced_corpus = gensim.matutils.corpus2dense(reduced_corpus, num_topics).T\n",
    "print(reduced_corpus)"
   ]
  },
  {
   "cell_type": "markdown",
   "metadata": {},
   "source": [
    "**Exercise 6**: Build a function that returns the most relevant projects for a given topic"
   ]
  },
  {
   "cell_type": "code",
   "execution_count": null,
   "metadata": {},
   "outputs": [],
   "source": [
    "def most_relevant_projects(ldag, topicid, corpus_bow, nprojects=10):\n",
    "    \"\"\"This function returns the most relevant projects in corpus_bow\n",
    "    \n",
    "    : ldag: The trained topic model object provided by gensim\n",
    "    : topicid: The topic for which we want to find the most relevant documents\n",
    "    : corpus_bow: The BoW representation of documents in Gensim format\n",
    "    : nprojects: Number of most relevant projects to identify\n",
    "    \n",
    "    : Returns: A list with the identifiers of the most relevant projects\n",
    "    \"\"\"\n",
    "\n",
    "    print('Computing most relevant projects for Topic', topicid)\n",
    "    print('Topic composition is:')\n",
    "    print(ldag.show_topic(topicid))\n",
    "    \n",
    "    #<SOL>\n",
    "    #</SOL>\n",
    "    \n",
    "#To test the function we will find the most relevant projects for a subset of the NSF dataset\n",
    "project_id = most_relevant_projects(ldag, 17, corpus_bow[:10000])\n",
    "\n",
    "#Print titles of selected projects\n",
    "for idproject in project_id:\n",
    "    print(NSF_data[idproject]['title'])"
   ]
  },
  {
   "cell_type": "markdown",
   "metadata": {},
   "source": [
    "**Exercise 7**: Build a function that computes the semantic distance between two documents. For this, you can use the functions (or code fragments) provided in the library `dist_utils.py`."
   ]
  },
  {
   "cell_type": "code",
   "execution_count": null,
   "metadata": {},
   "outputs": [],
   "source": [
    "def pairwase_dist(doc1, doc2):\n",
    "    \"\"\"This function returns the Jensen-Shannon\n",
    "    distance between the corresponding vectors of the documents\n",
    "    \n",
    "    : doc1: Semantic representation for the doc1 (a vector of length ntopics)\n",
    "    : doc2: Semantic representation for the doc2 (a vector of length ntopics)\n",
    "\n",
    "    : Returns: The JS distance between doc1 and doc2 (a number)\n",
    "    \"\"\"\n",
    "    #<SOL>\n",
    "    #</SOL>"
   ]
  },
  {
   "cell_type": "code",
   "execution_count": null,
   "metadata": {},
   "outputs": [],
   "source": []
  },
  {
   "cell_type": "markdown",
   "metadata": {},
   "source": [
    "**Exercise 8**: Explore the influence of the concentration parameters, $alpha$ and $eta$. In particular observe how do topic and document distributions change as these parameters increase."
   ]
  },
  {
   "cell_type": "code",
   "execution_count": null,
   "metadata": {},
   "outputs": [],
   "source": []
  },
  {
   "cell_type": "markdown",
   "metadata": {},
   "source": [
    "** Exercise 9**: Note that we have not used the terms in the article titles, though the can be expected to contain relevant words for the topic modeling. Include the title words in the analyisis. In order to give them a special relevante, insert them in the corpus several times, so as to make their words more significant.\n",
    "\n"
   ]
  },
  {
   "cell_type": "code",
   "execution_count": null,
   "metadata": {},
   "outputs": [],
   "source": []
  },
  {
   "cell_type": "markdown",
   "metadata": {},
   "source": [
    "## 4. Saving data.\n",
    "\n",
    "The following function creates the Node CSV file that could be usefult for further processing. In particular, the output files could be used to visualize the document corpus as a graph using a visualization software like Gephi."
   ]
  },
  {
   "cell_type": "code",
   "execution_count": null,
   "metadata": {},
   "outputs": [],
   "source": [
    "#print(NSF_data[0].keys())\n",
    "#print(NSF_data[0]['institution'])\n",
    "\n",
    "def strNone(str_to_convert):\n",
    "    if str_to_convert is None:\n",
    "        return ''\n",
    "    else:\n",
    "        return str_to_convert\n",
    "\n",
    "with open('NSF_nodes.csv','w') as fout:\n",
    "    fout.write('Id;Title;Year;Budget;UnivName;UnivZIP;State\\n')\n",
    "    for project in NSF_data:\n",
    "        fout.write(project['project_code']+';'+project['title']+';')\n",
    "        fout.write(project['year']+';'+str(project['budget'])+';')\n",
    "        fout.write(project['institution'][0]+';')\n",
    "        fout.write(strNone(project['institution'][1])+';')\n",
    "        fout.write(strNone(project['institution'][2])+'\\n')"
   ]
  },
  {
   "cell_type": "code",
   "execution_count": null,
   "metadata": {},
   "outputs": [],
   "source": []
  }
 ],
 "metadata": {
  "anaconda-cloud": {},
  "kernelspec": {
   "display_name": "Python 3",
   "language": "python",
   "name": "python3"
  },
  "language_info": {
   "codemirror_mode": {
    "name": "ipython",
    "version": 3
   },
   "file_extension": ".py",
   "mimetype": "text/x-python",
   "name": "python",
   "nbconvert_exporter": "python",
   "pygments_lexer": "ipython3",
   "version": "3.7.2"
  }
 },
 "nbformat": 4,
 "nbformat_minor": 2
}
